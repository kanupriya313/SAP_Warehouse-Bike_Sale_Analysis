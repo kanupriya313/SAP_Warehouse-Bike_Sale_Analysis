{
  "nbformat": 4,
  "nbformat_minor": 0,
  "metadata": {
    "colab": {
      "provenance": [],
      "collapsed_sections": [
        "K1kQML4CDBK2",
        "MXiTW7aBma0t",
        "wQCohRoleNHu",
        "RUhjvUppgVh2"
      ]
    },
    "kernelspec": {
      "name": "python3",
      "display_name": "Python 3"
    },
    "language_info": {
      "name": "python"
    }
  },
  "cells": [
    {
      "cell_type": "markdown",
      "metadata": {
        "id": "K1kQML4CDBK2"
      },
      "source": [
        "## E-Commerce Sales Analysis\n",
        "\n"
      ]
    },
    {
      "cell_type": "markdown",
      "metadata": {
        "id": "MXiTW7aBma0t"
      },
      "source": [
        "# TABLE OF CONTENT\n",
        "1. [PROJECT DESCRIPTION](#prob)\n",
        "2. [ABOUT DATA](#about)\n",
        "    1. [Main Data](#main)\n",
        "    2. [Supplimental Data](#supplimental)\n",
        "3. [READING DATA FILES](#reading) \n",
        "4. [DATA PREPARATION](#data)\n",
        "    1. [Sales Order](#so)\n",
        "\n",
        "      a. [Data Information](#di_so)\n",
        "\n",
        "      b. [Data Formatting](#df_so)\n",
        "\n",
        "      c. [Data Cleaning](#dc_so)\n",
        "\n",
        "      d. [Renaming Columns](#rc_so)\n",
        "\n",
        "    2. [Sales Order Item](#soi)\n",
        "      \n",
        "      a. [Data Selection](#ds_soi)\n",
        "\n",
        "      b. [Data Cleaning](#dc_soi)\n",
        "\n",
        "      c. [Checking Duplicate](#cd_soi)\n",
        "\n",
        "      d. [Data Formatting](#df_soi)\n",
        "\n",
        "    3. [Employees](#e)\n",
        "     \n",
        "      a. [Data Information](#di_e)\n",
        "\n",
        "      b. [Data Cleaning](#dc_e)\n",
        "\n",
        "      c. [Checking Duplicate](#cd_e)\n",
        "\n",
        "      d. [Data Formatting](#df_e)\n",
        "\n",
        "    4. [Business Partners](#b)\n",
        "     \n",
        "      a. [Data Selection](#ds_b)\n",
        "\n",
        "      b. [Data Cleaning](#dc_b)\n",
        "\n",
        "      c. [Data Formatting](#df_b)\n",
        "\n",
        "    5. [Addresses](#a)\n",
        "     \n",
        "      a. [Data Selection](#ds_a)\n",
        "\n",
        "      b. [Data Cleaning](#dc_a)\n",
        "\n",
        "      c. [Creating Column](#cc_a)\n",
        "\n",
        "    6. [Product Text](#pt)\n",
        "     \n",
        "      a. [Data Information](#di_pt)\n",
        "\n",
        "      b. [Data Formatting](#di_pt)\n",
        "\n",
        "      c. [Data Cleaning](#di_pt)\n",
        "\n",
        "      d. [Data Conversion](#di_pt)\n",
        "\n",
        "    7. [Product](#p)\n",
        "     \n",
        "      a. [Data Selection](#ds_p)\n",
        "\n",
        "      b. [Data Cleaning](#dc_p)\n",
        "\n",
        "      c. [Data Formatting](#df_p)\n",
        "\n",
        "    8. [Product Categories Text](#pct)\n",
        "     \n",
        "      a. [Data Selection](#ds_pct)\n",
        "\n",
        "      b. [Data Cleaning](#dc_pct)\n",
        "\n",
        "      c. [Data Formatting](#df_pct)\n",
        "\n",
        "    9. [Product Categories](#pc)\n",
        "     \n",
        "      a. [Data Selection](#ds_pc)\n",
        "\n",
        "      b. [Data Cleaning](#dc_pc)\n",
        "\n",
        "      c. [Data Formatting](#df_pc)\n",
        "\n",
        "5. [Merging Dataframe](#merge)\n",
        "6. [Descriptive Analysis](#descriptive)\n",
        "7. [Finding Correlation](#correlation)\n",
        "8. [Summary](#summary)"
      ]
    },
    {
      "cell_type": "markdown",
      "source": [
        "# PROJECT DESCRIPTION<a id='prob'></a>"
      ],
      "metadata": {
        "id": "A_euzxiHO5by"
      }
    },
    {
      "cell_type": "markdown",
      "metadata": {
        "id": "ZgQsIBXGHsXG"
      },
      "source": [
        "\n",
        "It's incredibly rare in real-world data research to start with a perfect data set. Instead, data must typically be gathered from several sources and cleaned thoroughly before any analysis or modelling can be carried out. We'll walk over the first step of a data science project, which is acquiring raw data. The collecting, preparation, cleaning, and aggregation of data, as well as exploratory data analysis, will be the main focus of this project. Bikes Sale Sample data, which is a part of the SAP warehouse cloud content master data, will be used for this project. Also, we'll combine numerous messed datasets into a single clean dataset, before starting analysing."
      ]
    },
    {
      "cell_type": "markdown",
      "source": [
        "# ABOUT DATA<a id='about'></a>"
      ],
      "metadata": {
        "id": "GSP1LTlNOkhJ"
      }
    },
    {
      "cell_type": "markdown",
      "metadata": {
        "id": "6ArDrF5DNd9a"
      },
      "source": [
        "\n",
        "To explore SAP Data Warehouse Cloud, a \"Bike Sales\" sample data is provided. Analysing Bikes Sales dataset will provide the benefits to maximize the sales capacity, and meet customer needs. Also, the analysis will be beneficial in refining product offerings, forecasting accurate sales, and evaluating employees' performance.\n",
        "The 'Bike Sales' sample data is made available by SAP Data Warehouse Cloud on Kaggle. The data is divided into nine files, two of which are in.xlsx format, four in.csv format, two in.txt format, and one in.json format.\n",
        "\n",
        "**Main Data** <a id='main'></a>\n",
        "\n",
        "Among the 9 files, there are two main data files, whose descriptions are given below:\n",
        "* SalesOrders.csv - List of sales orders\n",
        "* BusinessPartners.csv - Customers' information (business partners in SAP refer to customers only)\n",
        "\n",
        "**Supplimental Data** <a id='supplimental'></a>\n",
        "\n",
        "The same Kaggle website has supplimental datasets that provide information about products' categories, employees, and addresses. The following are the descriptions of all supplimental datasets:\n",
        "* Employees.csv - Sales employees' master data\n",
        "* SalesOrderItems.csv - List of sales orders with details like items\n",
        "* ProductCategories.txt - List of products' categories\n",
        "* ProductCategoryText.txt - Description of products Category\n",
        "* ProductTexts.csv - Description of products\n",
        "* Products.txt - List of products and spare parts\n",
        "* Addresses.json - Details of Addresses \n",
        "\n",
        "\n",
        "\n",
        "\n",
        "\n"
      ]
    },
    {
      "cell_type": "markdown",
      "source": [
        "# READING DATA FILES<a id='reading'></a>"
      ],
      "metadata": {
        "id": "wdSctL7ZO-0n"
      }
    },
    {
      "cell_type": "markdown",
      "metadata": {
        "id": "HV-OcgdjZDPD"
      },
      "source": [
        "\n",
        "We are provided with nine files, which are not all in the same format. So, to begin with the project, we will read each file and name them according to our convenience, using the following codes:"
      ]
    },
    {
      "cell_type": "code",
      "metadata": {
        "id": "mLY8WO4cDN8o"
      },
      "source": [
        "import numpy as np \n",
        "import pandas as pd \n",
        "import matplotlib.pyplot as plt\n",
        "import seaborn as sns\n",
        "%matplotlib inline"
      ],
      "execution_count": null,
      "outputs": []
    },
    {
      "cell_type": "code",
      "metadata": {
        "id": "thnU5TABL4xg",
        "colab": {
          "base_uri": "https://localhost:8080/"
        },
        "outputId": "f1ce7c91-fdf5-4f31-fe8f-36af24333477"
      },
      "source": [
        "from google.colab import drive \n",
        "drive.mount('/content/gdrive')"
      ],
      "execution_count": null,
      "outputs": [
        {
          "output_type": "stream",
          "name": "stdout",
          "text": [
            "Mounted at /content/gdrive\n"
          ]
        }
      ]
    },
    {
      "cell_type": "markdown",
      "metadata": {
        "id": "KTjPh9JMZZa5"
      },
      "source": [
        "**Reading Excel Files**"
      ]
    },
    {
      "cell_type": "code",
      "metadata": {
        "id": "JQRvSkGIZlt5"
      },
      "source": [
        "Employees=pd.read_excel('gdrive/My Drive/CPSC-4810/Uncleandata/Employees.xlsx')\n",
        "B_Partners=pd.read_excel(\"gdrive/My Drive/CPSC-4810/Uncleandata/BusinessPartners.xlsx\")"
      ],
      "execution_count": null,
      "outputs": []
    },
    {
      "cell_type": "markdown",
      "metadata": {
        "id": "0whH6pcwZqib"
      },
      "source": [
        "**Reading Text Files**\n",
        "\n",
        "For reading text files, delimiters are specified. "
      ]
    },
    {
      "cell_type": "code",
      "metadata": {
        "id": "5r9bjiEeZwq1"
      },
      "source": [
        "Products= pd.read_table('gdrive/My Drive/CPSC-4810/Uncleandata/Products.txt',delimiter='\\t')\n",
        "Product_category_text= pd.read_table('gdrive/My Drive/CPSC-4810/Uncleandata/ProductCategoryText.txt',delimiter='\\t')\n",
        "Product_category= pd.read_table('gdrive/My Drive/CPSC-4810/Uncleandata/ProductCategories.txt',delimiter='\\t')\n",
        "Product_texts= pd.read_table('gdrive/My Drive/CPSC-4810/Uncleandata/ProductTexts.txt',delimiter='\\t')"
      ],
      "execution_count": null,
      "outputs": []
    },
    {
      "cell_type": "markdown",
      "metadata": {
        "id": "L2UqxVkBZ4u2"
      },
      "source": [
        "**Reading CSV Files**"
      ]
    },
    {
      "cell_type": "code",
      "metadata": {
        "id": "7bvTF_DwZ8E2"
      },
      "source": [
        "sales_orders=pd.read_csv('gdrive/My Drive/CPSC-4810/Uncleandata/SalesOrders.csv')\n",
        "sales_order_Item=pd.read_csv('gdrive/My Drive/CPSC-4810/Uncleandata/SalesOrderItems.csv')"
      ],
      "execution_count": null,
      "outputs": []
    },
    {
      "cell_type": "markdown",
      "metadata": {
        "id": "sZpZ3TrEZ_5k"
      },
      "source": [
        "**Reading Json File**"
      ]
    },
    {
      "cell_type": "code",
      "metadata": {
        "id": "bOfa6AdLaKJ4"
      },
      "source": [
        "import json\n",
        "Address=pd.read_json('gdrive/My Drive/CPSC-4810/Uncleandata/Addresses.json')"
      ],
      "execution_count": null,
      "outputs": []
    },
    {
      "cell_type": "markdown",
      "metadata": {
        "id": "i416x_huaW6J"
      },
      "source": [
        "##GETTING TO KNOW THE DATA\n",
        "To explore the datasets, we will closely examine the columns associated with each dataset."
      ]
    },
    {
      "cell_type": "code",
      "metadata": {
        "colab": {
          "base_uri": "https://localhost:8080/",
          "height": 1000
        },
        "id": "rfni5uzyaYzt",
        "outputId": "d4747b23-fe22-488b-ef13-507f98ff64d4"
      },
      "source": [
        "datasets={\"Employees\":Employees,\"B_Partners\":B_Partners,\"Products\":Products,\"Product_category_text\":Product_category_text,\"Product_category\":Product_category,\"Product_texts\":Product_texts,\"sales_orders\":sales_orders,\"sales_order_Item\":sales_order_Item,\"Address\":Address}\n",
        "for key, value in datasets.items():\n",
        "    print(\"\\n\\033[1m\", key, \"\\033[0m\")\n",
        "    display(value.head(3))"
      ],
      "execution_count": null,
      "outputs": [
        {
          "output_type": "stream",
          "name": "stdout",
          "text": [
            "\n",
            "\u001b[1m Employees \u001b[0m\n"
          ]
        },
        {
          "output_type": "display_data",
          "data": {
            "text/html": [
              "<div>\n",
              "<style scoped>\n",
              "    .dataframe tbody tr th:only-of-type {\n",
              "        vertical-align: middle;\n",
              "    }\n",
              "\n",
              "    .dataframe tbody tr th {\n",
              "        vertical-align: top;\n",
              "    }\n",
              "\n",
              "    .dataframe thead th {\n",
              "        text-align: right;\n",
              "    }\n",
              "</style>\n",
              "<table border=\"1\" class=\"dataframe\">\n",
              "  <thead>\n",
              "    <tr style=\"text-align: right;\">\n",
              "      <th></th>\n",
              "      <th>EMPLOYEEID</th>\n",
              "      <th>NAME_FIRST</th>\n",
              "      <th>NAME_MIDDLE</th>\n",
              "      <th>NAME_LAST</th>\n",
              "      <th>NAME_INITIALS</th>\n",
              "      <th>SEX</th>\n",
              "      <th>LANGUAGE</th>\n",
              "      <th>PHONENUMBER</th>\n",
              "      <th>EMAILADDRESS</th>\n",
              "      <th>LOGINNAME</th>\n",
              "      <th>ADDRESSID</th>\n",
              "      <th>VALIDITY_STARTDATE</th>\n",
              "      <th>VALIDITY_ENDDATE</th>\n",
              "    </tr>\n",
              "  </thead>\n",
              "  <tbody>\n",
              "    <tr>\n",
              "      <th>0</th>\n",
              "      <td>1</td>\n",
              "      <td>Derrick</td>\n",
              "      <td>L</td>\n",
              "      <td>Magill</td>\n",
              "      <td>NaN</td>\n",
              "      <td>M</td>\n",
              "      <td>E</td>\n",
              "      <td>630-374-0306</td>\n",
              "      <td>derrick.magill@itelo.info</td>\n",
              "      <td>derrickm</td>\n",
              "      <td>1000000001</td>\n",
              "      <td>20000101</td>\n",
              "      <td>99991231</td>\n",
              "    </tr>\n",
              "    <tr>\n",
              "      <th>1</th>\n",
              "      <td>2</td>\n",
              "      <td>Philipp</td>\n",
              "      <td>T</td>\n",
              "      <td>Egger</td>\n",
              "      <td>NaN</td>\n",
              "      <td>M</td>\n",
              "      <td>E</td>\n",
              "      <td>09603 61 24 64</td>\n",
              "      <td>philipp.egger@</td>\n",
              "      <td>philippm</td>\n",
              "      <td>1000000002</td>\n",
              "      <td>20000101</td>\n",
              "      <td>99991231</td>\n",
              "    </tr>\n",
              "    <tr>\n",
              "      <th>2</th>\n",
              "      <td>3</td>\n",
              "      <td>Ellis</td>\n",
              "      <td>K</td>\n",
              "      <td>Robertson</td>\n",
              "      <td>NaN</td>\n",
              "      <td>M</td>\n",
              "      <td>E</td>\n",
              "      <td>070 8691 2288</td>\n",
              "      <td>ellis.robertson@itelo.info</td>\n",
              "      <td>ellism</td>\n",
              "      <td>1000000003</td>\n",
              "      <td>20000101</td>\n",
              "      <td>99991231</td>\n",
              "    </tr>\n",
              "  </tbody>\n",
              "</table>\n",
              "</div>"
            ],
            "text/plain": [
              "   EMPLOYEEID NAME_FIRST  ... VALIDITY_STARTDATE VALIDITY_ENDDATE\n",
              "0           1    Derrick  ...           20000101         99991231\n",
              "1           2    Philipp  ...           20000101         99991231\n",
              "2           3      Ellis  ...           20000101         99991231\n",
              "\n",
              "[3 rows x 13 columns]"
            ]
          },
          "metadata": {}
        },
        {
          "output_type": "stream",
          "name": "stdout",
          "text": [
            "\n",
            "\u001b[1m B_Partners \u001b[0m\n"
          ]
        },
        {
          "output_type": "display_data",
          "data": {
            "text/html": [
              "<div>\n",
              "<style scoped>\n",
              "    .dataframe tbody tr th:only-of-type {\n",
              "        vertical-align: middle;\n",
              "    }\n",
              "\n",
              "    .dataframe tbody tr th {\n",
              "        vertical-align: top;\n",
              "    }\n",
              "\n",
              "    .dataframe thead th {\n",
              "        text-align: right;\n",
              "    }\n",
              "</style>\n",
              "<table border=\"1\" class=\"dataframe\">\n",
              "  <thead>\n",
              "    <tr style=\"text-align: right;\">\n",
              "      <th></th>\n",
              "      <th>PARTNERID</th>\n",
              "      <th>PARTNERROLE</th>\n",
              "      <th>EMAILADDRESS</th>\n",
              "      <th>PHONENUMBER</th>\n",
              "      <th>FAXNUMBER</th>\n",
              "      <th>WEBADDRESS</th>\n",
              "      <th>ADDRESSID</th>\n",
              "      <th>COMPANYNAME</th>\n",
              "      <th>LEGALFORM</th>\n",
              "      <th>CREATEDBY</th>\n",
              "      <th>CREATEDAT</th>\n",
              "      <th>CHANGEDBY</th>\n",
              "      <th>CHANGEDAT</th>\n",
              "      <th>CURRENCY</th>\n",
              "    </tr>\n",
              "  </thead>\n",
              "  <tbody>\n",
              "    <tr>\n",
              "      <th>0</th>\n",
              "      <td>100000000</td>\n",
              "      <td>2</td>\n",
              "      <td>maria.brown@all4bikes.com</td>\n",
              "      <td>622734567</td>\n",
              "      <td>NaN</td>\n",
              "      <td>http://www.all4bikes.com</td>\n",
              "      <td>1000000034</td>\n",
              "      <td>All For Bikes</td>\n",
              "      <td>Inc.</td>\n",
              "      <td>10</td>\n",
              "      <td>20181003</td>\n",
              "      <td>10</td>\n",
              "      <td>20181003</td>\n",
              "      <td>USD</td>\n",
              "    </tr>\n",
              "    <tr>\n",
              "      <th>1</th>\n",
              "      <td>100000001</td>\n",
              "      <td>2</td>\n",
              "      <td>bob.buyer@amazebikes.com</td>\n",
              "      <td>3088530</td>\n",
              "      <td>NaN</td>\n",
              "      <td>http://www.amazebikes.com</td>\n",
              "      <td>1000000035</td>\n",
              "      <td>Amaze Bikes Inc</td>\n",
              "      <td>Inc.</td>\n",
              "      <td>13</td>\n",
              "      <td>20181003</td>\n",
              "      <td>13</td>\n",
              "      <td>20181003</td>\n",
              "      <td>USD</td>\n",
              "    </tr>\n",
              "    <tr>\n",
              "      <th>2</th>\n",
              "      <td>100000002</td>\n",
              "      <td>2</td>\n",
              "      <td>victor.sanchez@arenasportusa.com</td>\n",
              "      <td>3023352668</td>\n",
              "      <td>NaN</td>\n",
              "      <td>http://www.arenasportusa.com</td>\n",
              "      <td>1000000036</td>\n",
              "      <td>Arena Sports Inc</td>\n",
              "      <td>Inc.</td>\n",
              "      <td>14</td>\n",
              "      <td>20181003</td>\n",
              "      <td>14</td>\n",
              "      <td>20181003</td>\n",
              "      <td>USD</td>\n",
              "    </tr>\n",
              "  </tbody>\n",
              "</table>\n",
              "</div>"
            ],
            "text/plain": [
              "   PARTNERID  PARTNERROLE  ... CHANGEDAT  CURRENCY\n",
              "0  100000000            2  ...  20181003       USD\n",
              "1  100000001            2  ...  20181003       USD\n",
              "2  100000002            2  ...  20181003       USD\n",
              "\n",
              "[3 rows x 14 columns]"
            ]
          },
          "metadata": {}
        },
        {
          "output_type": "stream",
          "name": "stdout",
          "text": [
            "\n",
            "\u001b[1m Products \u001b[0m\n"
          ]
        },
        {
          "output_type": "display_data",
          "data": {
            "text/html": [
              "<div>\n",
              "<style scoped>\n",
              "    .dataframe tbody tr th:only-of-type {\n",
              "        vertical-align: middle;\n",
              "    }\n",
              "\n",
              "    .dataframe tbody tr th {\n",
              "        vertical-align: top;\n",
              "    }\n",
              "\n",
              "    .dataframe thead th {\n",
              "        text-align: right;\n",
              "    }\n",
              "</style>\n",
              "<table border=\"1\" class=\"dataframe\">\n",
              "  <thead>\n",
              "    <tr style=\"text-align: right;\">\n",
              "      <th></th>\n",
              "      <th>PRODUCTID</th>\n",
              "      <th>TYPECODE</th>\n",
              "      <th>PRODCATEGORYID</th>\n",
              "      <th>CREATEDBY</th>\n",
              "      <th>CREATEDAT</th>\n",
              "      <th>CHANGEDBY</th>\n",
              "      <th>CHANGEDAT</th>\n",
              "      <th>SUPPLIER_PARTNERID</th>\n",
              "      <th>TAXTARIFFCODE</th>\n",
              "      <th>QUANTITYUNIT</th>\n",
              "      <th>WEIGHTMEASURE</th>\n",
              "      <th>WEIGHTUNIT</th>\n",
              "      <th>CURRENCY</th>\n",
              "      <th>PRICE</th>\n",
              "      <th>WIDTH</th>\n",
              "      <th>DEPTH</th>\n",
              "      <th>HEIGHT</th>\n",
              "      <th>DIMENSIONUNIT</th>\n",
              "      <th>PRODUCTPICURL</th>\n",
              "    </tr>\n",
              "  </thead>\n",
              "  <tbody>\n",
              "    <tr>\n",
              "      <th>0</th>\n",
              "      <td>RO-1001</td>\n",
              "      <td>PR</td>\n",
              "      <td>RO</td>\n",
              "      <td>9</td>\n",
              "      <td>20181003</td>\n",
              "      <td>9</td>\n",
              "      <td>20181003</td>\n",
              "      <td>100000000</td>\n",
              "      <td>1</td>\n",
              "      <td>EA</td>\n",
              "      <td>7.7</td>\n",
              "      <td>KG</td>\n",
              "      <td>USD</td>\n",
              "      <td>525</td>\n",
              "      <td>NaN</td>\n",
              "      <td>NaN</td>\n",
              "      <td>NaN</td>\n",
              "      <td>NaN</td>\n",
              "      <td>NaN</td>\n",
              "    </tr>\n",
              "    <tr>\n",
              "      <th>1</th>\n",
              "      <td>RO-1002</td>\n",
              "      <td>PR</td>\n",
              "      <td>RO</td>\n",
              "      <td>9</td>\n",
              "      <td>20181003</td>\n",
              "      <td>9</td>\n",
              "      <td>20181003</td>\n",
              "      <td>100000001</td>\n",
              "      <td>1</td>\n",
              "      <td>EA</td>\n",
              "      <td>8.0</td>\n",
              "      <td>KG</td>\n",
              "      <td>USD</td>\n",
              "      <td>689</td>\n",
              "      <td>NaN</td>\n",
              "      <td>NaN</td>\n",
              "      <td>NaN</td>\n",
              "      <td>NaN</td>\n",
              "      <td>NaN</td>\n",
              "    </tr>\n",
              "    <tr>\n",
              "      <th>2</th>\n",
              "      <td>RO-1003</td>\n",
              "      <td>PR</td>\n",
              "      <td>RO</td>\n",
              "      <td>12</td>\n",
              "      <td>20181003</td>\n",
              "      <td>12</td>\n",
              "      <td>20181003</td>\n",
              "      <td>100000002</td>\n",
              "      <td>1</td>\n",
              "      <td>EA</td>\n",
              "      <td>9.1</td>\n",
              "      <td>KG</td>\n",
              "      <td>USD</td>\n",
              "      <td>721</td>\n",
              "      <td>NaN</td>\n",
              "      <td>NaN</td>\n",
              "      <td>NaN</td>\n",
              "      <td>NaN</td>\n",
              "      <td>NaN</td>\n",
              "    </tr>\n",
              "  </tbody>\n",
              "</table>\n",
              "</div>"
            ],
            "text/plain": [
              "  PRODUCTID TYPECODE PRODCATEGORYID  ...  HEIGHT  DIMENSIONUNIT  PRODUCTPICURL\n",
              "0   RO-1001       PR             RO  ...     NaN            NaN            NaN\n",
              "1   RO-1002       PR             RO  ...     NaN            NaN            NaN\n",
              "2   RO-1003       PR             RO  ...     NaN            NaN            NaN\n",
              "\n",
              "[3 rows x 19 columns]"
            ]
          },
          "metadata": {}
        },
        {
          "output_type": "stream",
          "name": "stdout",
          "text": [
            "\n",
            "\u001b[1m Product_category_text \u001b[0m\n"
          ]
        },
        {
          "output_type": "display_data",
          "data": {
            "text/html": [
              "<div>\n",
              "<style scoped>\n",
              "    .dataframe tbody tr th:only-of-type {\n",
              "        vertical-align: middle;\n",
              "    }\n",
              "\n",
              "    .dataframe tbody tr th {\n",
              "        vertical-align: top;\n",
              "    }\n",
              "\n",
              "    .dataframe thead th {\n",
              "        text-align: right;\n",
              "    }\n",
              "</style>\n",
              "<table border=\"1\" class=\"dataframe\">\n",
              "  <thead>\n",
              "    <tr style=\"text-align: right;\">\n",
              "      <th></th>\n",
              "      <th>PRODCATEGORYID</th>\n",
              "      <th>LANGUAGE</th>\n",
              "      <th>SHORT_DESCR</th>\n",
              "      <th>MEDIUM_DESCR</th>\n",
              "      <th>LONG_DESCR</th>\n",
              "    </tr>\n",
              "  </thead>\n",
              "  <tbody>\n",
              "    <tr>\n",
              "      <th>0</th>\n",
              "      <td>RO</td>\n",
              "      <td>EN</td>\n",
              "      <td>Road Bike</td>\n",
              "      <td>NaN</td>\n",
              "      <td>NaN</td>\n",
              "    </tr>\n",
              "    <tr>\n",
              "      <th>1</th>\n",
              "      <td>BX</td>\n",
              "      <td>EN</td>\n",
              "      <td>BMX</td>\n",
              "      <td>NaN</td>\n",
              "      <td>NaN</td>\n",
              "    </tr>\n",
              "    <tr>\n",
              "      <th>2</th>\n",
              "      <td>CC</td>\n",
              "      <td>EN</td>\n",
              "      <td>Cyclo-cross Bike</td>\n",
              "      <td>NaN</td>\n",
              "      <td>NaN</td>\n",
              "    </tr>\n",
              "  </tbody>\n",
              "</table>\n",
              "</div>"
            ],
            "text/plain": [
              "  PRODCATEGORYID LANGUAGE       SHORT_DESCR  MEDIUM_DESCR  LONG_DESCR\n",
              "0             RO       EN         Road Bike           NaN         NaN\n",
              "1             BX       EN               BMX           NaN         NaN\n",
              "2             CC       EN  Cyclo-cross Bike           NaN         NaN"
            ]
          },
          "metadata": {}
        },
        {
          "output_type": "stream",
          "name": "stdout",
          "text": [
            "\n",
            "\u001b[1m Product_category \u001b[0m\n"
          ]
        },
        {
          "output_type": "display_data",
          "data": {
            "text/html": [
              "<div>\n",
              "<style scoped>\n",
              "    .dataframe tbody tr th:only-of-type {\n",
              "        vertical-align: middle;\n",
              "    }\n",
              "\n",
              "    .dataframe tbody tr th {\n",
              "        vertical-align: top;\n",
              "    }\n",
              "\n",
              "    .dataframe thead th {\n",
              "        text-align: right;\n",
              "    }\n",
              "</style>\n",
              "<table border=\"1\" class=\"dataframe\">\n",
              "  <thead>\n",
              "    <tr style=\"text-align: right;\">\n",
              "      <th></th>\n",
              "      <th>PRODCATEGORYID</th>\n",
              "      <th>CREATEDBY</th>\n",
              "      <th>CREATEDAT</th>\n",
              "    </tr>\n",
              "  </thead>\n",
              "  <tbody>\n",
              "    <tr>\n",
              "      <th>0</th>\n",
              "      <td>RO</td>\n",
              "      <td>12</td>\n",
              "      <td>20181003</td>\n",
              "    </tr>\n",
              "    <tr>\n",
              "      <th>1</th>\n",
              "      <td>BX</td>\n",
              "      <td>4</td>\n",
              "      <td>20181003</td>\n",
              "    </tr>\n",
              "    <tr>\n",
              "      <th>2</th>\n",
              "      <td>CC</td>\n",
              "      <td>7</td>\n",
              "      <td>20181003</td>\n",
              "    </tr>\n",
              "  </tbody>\n",
              "</table>\n",
              "</div>"
            ],
            "text/plain": [
              "  PRODCATEGORYID  CREATEDBY  CREATEDAT\n",
              "0             RO         12   20181003\n",
              "1             BX          4   20181003\n",
              "2             CC          7   20181003"
            ]
          },
          "metadata": {}
        },
        {
          "output_type": "stream",
          "name": "stdout",
          "text": [
            "\n",
            "\u001b[1m Product_texts \u001b[0m\n"
          ]
        },
        {
          "output_type": "display_data",
          "data": {
            "text/html": [
              "<div>\n",
              "<style scoped>\n",
              "    .dataframe tbody tr th:only-of-type {\n",
              "        vertical-align: middle;\n",
              "    }\n",
              "\n",
              "    .dataframe tbody tr th {\n",
              "        vertical-align: top;\n",
              "    }\n",
              "\n",
              "    .dataframe thead th {\n",
              "        text-align: right;\n",
              "    }\n",
              "</style>\n",
              "<table border=\"1\" class=\"dataframe\">\n",
              "  <thead>\n",
              "    <tr style=\"text-align: right;\">\n",
              "      <th></th>\n",
              "      <th>PRODUCTID</th>\n",
              "      <th>LANGUAGE</th>\n",
              "      <th>SHORT_DESCR</th>\n",
              "      <th>MEDIUM_DESCR</th>\n",
              "      <th>LONG_DESCR</th>\n",
              "    </tr>\n",
              "  </thead>\n",
              "  <tbody>\n",
              "    <tr>\n",
              "      <th>0</th>\n",
              "      <td>RO-1001</td>\n",
              "      <td>EN</td>\n",
              "      <td>Roady-1001</td>\n",
              "      <td>NaN</td>\n",
              "      <td>NaN</td>\n",
              "    </tr>\n",
              "    <tr>\n",
              "      <th>1</th>\n",
              "      <td>RO-1002</td>\n",
              "      <td>EN</td>\n",
              "      <td>Roady-1002</td>\n",
              "      <td>NaN</td>\n",
              "      <td>NaN</td>\n",
              "    </tr>\n",
              "    <tr>\n",
              "      <th>2</th>\n",
              "      <td>RO-1003</td>\n",
              "      <td>EN</td>\n",
              "      <td>Roady-1003</td>\n",
              "      <td>NaN</td>\n",
              "      <td>NaN</td>\n",
              "    </tr>\n",
              "  </tbody>\n",
              "</table>\n",
              "</div>"
            ],
            "text/plain": [
              "  PRODUCTID LANGUAGE SHORT_DESCR MEDIUM_DESCR  LONG_DESCR\n",
              "0   RO-1001       EN  Roady-1001          NaN         NaN\n",
              "1   RO-1002       EN  Roady-1002          NaN         NaN\n",
              "2   RO-1003       EN  Roady-1003          NaN         NaN"
            ]
          },
          "metadata": {}
        },
        {
          "output_type": "stream",
          "name": "stdout",
          "text": [
            "\n",
            "\u001b[1m sales_orders \u001b[0m\n"
          ]
        },
        {
          "output_type": "display_data",
          "data": {
            "text/html": [
              "<div>\n",
              "<style scoped>\n",
              "    .dataframe tbody tr th:only-of-type {\n",
              "        vertical-align: middle;\n",
              "    }\n",
              "\n",
              "    .dataframe tbody tr th {\n",
              "        vertical-align: top;\n",
              "    }\n",
              "\n",
              "    .dataframe thead th {\n",
              "        text-align: right;\n",
              "    }\n",
              "</style>\n",
              "<table border=\"1\" class=\"dataframe\">\n",
              "  <thead>\n",
              "    <tr style=\"text-align: right;\">\n",
              "      <th></th>\n",
              "      <th>SALESORDERID</th>\n",
              "      <th>CREATEDBY</th>\n",
              "      <th>CREATED_AT</th>\n",
              "      <th>CHANGEDBY</th>\n",
              "      <th>CHANGED_AT</th>\n",
              "      <th>FISCVARIANT</th>\n",
              "      <th>FISCALYEARPERIOD</th>\n",
              "      <th>NOTEID</th>\n",
              "      <th>PARTNER_ID</th>\n",
              "      <th>SALESORG</th>\n",
              "      <th>CURRENCY</th>\n",
              "      <th>GROSS_AMOUNT</th>\n",
              "      <th>NETAMOUNT</th>\n",
              "      <th>TAXAMOUNT</th>\n",
              "      <th>LIFECYCLESTATUS</th>\n",
              "      <th>BILLINGSTATUS</th>\n",
              "      <th>DELIVERYSTATUS</th>\n",
              "    </tr>\n",
              "  </thead>\n",
              "  <tbody>\n",
              "    <tr>\n",
              "      <th>0</th>\n",
              "      <td>500000049</td>\n",
              "      <td>8</td>\n",
              "      <td>20180321</td>\n",
              "      <td>8</td>\n",
              "      <td>20180325</td>\n",
              "      <td>K4</td>\n",
              "      <td>2018003</td>\n",
              "      <td>NaN</td>\n",
              "      <td>100000009</td>\n",
              "      <td>EMEA</td>\n",
              "      <td>USD</td>\n",
              "      <td>-9889.0</td>\n",
              "      <td>66190.250</td>\n",
              "      <td>9455.750</td>\n",
              "      <td>C</td>\n",
              "      <td>C</td>\n",
              "      <td>C</td>\n",
              "    </tr>\n",
              "    <tr>\n",
              "      <th>1</th>\n",
              "      <td>500000040</td>\n",
              "      <td>8</td>\n",
              "      <td>20180306</td>\n",
              "      <td>8</td>\n",
              "      <td>20180311</td>\n",
              "      <td>K4</td>\n",
              "      <td>2018003</td>\n",
              "      <td>NaN</td>\n",
              "      <td>100000005</td>\n",
              "      <td>EMEA</td>\n",
              "      <td>USD</td>\n",
              "      <td>-888.0</td>\n",
              "      <td>38183.250</td>\n",
              "      <td>5454.750</td>\n",
              "      <td>C</td>\n",
              "      <td>C</td>\n",
              "      <td>C</td>\n",
              "    </tr>\n",
              "    <tr>\n",
              "      <th>2</th>\n",
              "      <td>500000021</td>\n",
              "      <td>7</td>\n",
              "      <td>20180209</td>\n",
              "      <td>7</td>\n",
              "      <td>20180212</td>\n",
              "      <td>K4</td>\n",
              "      <td>2018002</td>\n",
              "      <td>NaN</td>\n",
              "      <td>100000001</td>\n",
              "      <td>AMER</td>\n",
              "      <td>USD</td>\n",
              "      <td>379.0</td>\n",
              "      <td>331.625</td>\n",
              "      <td>47.375</td>\n",
              "      <td>C</td>\n",
              "      <td>C</td>\n",
              "      <td>C</td>\n",
              "    </tr>\n",
              "  </tbody>\n",
              "</table>\n",
              "</div>"
            ],
            "text/plain": [
              "   SALESORDERID      CREATEDBY     ...  BILLINGSTATUS  DELIVERYSTATUS\n",
              "0         500000049             8  ...              C               C\n",
              "1         500000040             8  ...              C               C\n",
              "2         500000021             7  ...              C               C\n",
              "\n",
              "[3 rows x 17 columns]"
            ]
          },
          "metadata": {}
        },
        {
          "output_type": "stream",
          "name": "stdout",
          "text": [
            "\n",
            "\u001b[1m sales_order_Item \u001b[0m\n"
          ]
        },
        {
          "output_type": "display_data",
          "data": {
            "text/html": [
              "<div>\n",
              "<style scoped>\n",
              "    .dataframe tbody tr th:only-of-type {\n",
              "        vertical-align: middle;\n",
              "    }\n",
              "\n",
              "    .dataframe tbody tr th {\n",
              "        vertical-align: top;\n",
              "    }\n",
              "\n",
              "    .dataframe thead th {\n",
              "        text-align: right;\n",
              "    }\n",
              "</style>\n",
              "<table border=\"1\" class=\"dataframe\">\n",
              "  <thead>\n",
              "    <tr style=\"text-align: right;\">\n",
              "      <th></th>\n",
              "      <th>SALESORDERID</th>\n",
              "      <th>SALESORDERITEM</th>\n",
              "      <th>PRODUCTID</th>\n",
              "      <th>NOTEID</th>\n",
              "      <th>CURRENCY</th>\n",
              "      <th>GROSSAMOUNT</th>\n",
              "      <th>NETAMOUNT</th>\n",
              "      <th>TAXAMOUNT</th>\n",
              "      <th>ITEMATPSTATUS</th>\n",
              "      <th>OPITEMPOS</th>\n",
              "      <th>QUANTITY</th>\n",
              "      <th>QUANTITYUNIT</th>\n",
              "      <th>DELIVERYDATE</th>\n",
              "    </tr>\n",
              "  </thead>\n",
              "  <tbody>\n",
              "    <tr>\n",
              "      <th>0</th>\n",
              "      <td>500000000</td>\n",
              "      <td>10</td>\n",
              "      <td>MB-1034</td>\n",
              "      <td></td>\n",
              "      <td>USD</td>\n",
              "      <td>2499.0</td>\n",
              "      <td>2186.625</td>\n",
              "      <td>312.375</td>\n",
              "      <td>I</td>\n",
              "      <td>NaN</td>\n",
              "      <td>4</td>\n",
              "      <td>EA</td>\n",
              "      <td>20180311</td>\n",
              "    </tr>\n",
              "    <tr>\n",
              "      <th>1</th>\n",
              "      <td>500000000</td>\n",
              "      <td>20</td>\n",
              "      <td>CB-1161</td>\n",
              "      <td></td>\n",
              "      <td>USD</td>\n",
              "      <td>399.0</td>\n",
              "      <td>349.125</td>\n",
              "      <td>49.875</td>\n",
              "      <td>I</td>\n",
              "      <td>NaN</td>\n",
              "      <td>9</td>\n",
              "      <td>EA</td>\n",
              "      <td>20180311</td>\n",
              "    </tr>\n",
              "    <tr>\n",
              "      <th>2</th>\n",
              "      <td>500000001</td>\n",
              "      <td>10</td>\n",
              "      <td>HB-1175</td>\n",
              "      <td></td>\n",
              "      <td>USD</td>\n",
              "      <td>899.0</td>\n",
              "      <td>786.625</td>\n",
              "      <td>112.375</td>\n",
              "      <td>I</td>\n",
              "      <td>NaN</td>\n",
              "      <td>2</td>\n",
              "      <td>EA</td>\n",
              "      <td>20180228</td>\n",
              "    </tr>\n",
              "  </tbody>\n",
              "</table>\n",
              "</div>"
            ],
            "text/plain": [
              "   SALESORDERID  SALESORDERITEM PRODUCTID  ... QUANTITY QUANTITYUNIT  DELIVERYDATE\n",
              "0     500000000              10   MB-1034  ...        4           EA      20180311\n",
              "1     500000000              20   CB-1161  ...        9           EA      20180311\n",
              "2     500000001              10   HB-1175  ...        2           EA      20180228\n",
              "\n",
              "[3 rows x 13 columns]"
            ]
          },
          "metadata": {}
        },
        {
          "output_type": "stream",
          "name": "stdout",
          "text": [
            "\n",
            "\u001b[1m Address \u001b[0m\n"
          ]
        },
        {
          "output_type": "display_data",
          "data": {
            "text/html": [
              "<div>\n",
              "<style scoped>\n",
              "    .dataframe tbody tr th:only-of-type {\n",
              "        vertical-align: middle;\n",
              "    }\n",
              "\n",
              "    .dataframe tbody tr th {\n",
              "        vertical-align: top;\n",
              "    }\n",
              "\n",
              "    .dataframe thead th {\n",
              "        text-align: right;\n",
              "    }\n",
              "</style>\n",
              "<table border=\"1\" class=\"dataframe\">\n",
              "  <thead>\n",
              "    <tr style=\"text-align: right;\">\n",
              "      <th></th>\n",
              "      <th>ADDRESSID</th>\n",
              "      <th>CITY</th>\n",
              "      <th>POSTALCODE</th>\n",
              "      <th>STREET</th>\n",
              "      <th>BUILDING</th>\n",
              "      <th>COUNTRY</th>\n",
              "      <th>REGION</th>\n",
              "      <th>ADDRESSTYPE</th>\n",
              "      <th>VALIDITY_STARTDATE</th>\n",
              "      <th>VALIDITY_ENDDATE</th>\n",
              "      <th>LOCATION</th>\n",
              "    </tr>\n",
              "  </thead>\n",
              "  <tbody>\n",
              "    <tr>\n",
              "      <th>0</th>\n",
              "      <td>1000000034</td>\n",
              "      <td>West Nyack</td>\n",
              "      <td>10994</td>\n",
              "      <td>Settlers Lane</td>\n",
              "      <td>5027.0</td>\n",
              "      <td>US</td>\n",
              "      <td>AMER</td>\n",
              "      <td>2</td>\n",
              "      <td>20000101</td>\n",
              "      <td>99991231</td>\n",
              "      <td>41.100057,-73.973562</td>\n",
              "    </tr>\n",
              "    <tr>\n",
              "      <th>1</th>\n",
              "      <td>1000000035</td>\n",
              "      <td>Fair Oaks</td>\n",
              "      <td>95628</td>\n",
              "      <td>Woodland Terrace</td>\n",
              "      <td>4467.0</td>\n",
              "      <td>US</td>\n",
              "      <td>AMER</td>\n",
              "      <td>2</td>\n",
              "      <td>20000101</td>\n",
              "      <td>99991231</td>\n",
              "      <td>38.638355,-121.286683</td>\n",
              "    </tr>\n",
              "    <tr>\n",
              "      <th>2</th>\n",
              "      <td>1000000036</td>\n",
              "      <td>Dunn</td>\n",
              "      <td>28334</td>\n",
              "      <td>Layman Avenue</td>\n",
              "      <td>2250.0</td>\n",
              "      <td>US</td>\n",
              "      <td>AMER</td>\n",
              "      <td>2</td>\n",
              "      <td>20000101</td>\n",
              "      <td>99991231</td>\n",
              "      <td>35.312013,-78.60995</td>\n",
              "    </tr>\n",
              "  </tbody>\n",
              "</table>\n",
              "</div>"
            ],
            "text/plain": [
              "    ADDRESSID        CITY  ... VALIDITY_ENDDATE               LOCATION\n",
              "0  1000000034  West Nyack  ...         99991231   41.100057,-73.973562\n",
              "1  1000000035   Fair Oaks  ...         99991231  38.638355,-121.286683\n",
              "2  1000000036        Dunn  ...         99991231    35.312013,-78.60995\n",
              "\n",
              "[3 rows x 11 columns]"
            ]
          },
          "metadata": {}
        }
      ]
    },
    {
      "cell_type": "markdown",
      "source": [
        "By looking at the metafile of Employees, B_Partners, Products, Product_category_text, Product_category,Product_texts, sales_orders,sales_order_Item and Address \n",
        "we can observe that \"EMPLOYEEID\", \"PARTNERID\", \"PRODUCTID\", \"PRODCATEGORYID\", \"PRODCATEGORYID\", \"PRODUCTID\", \"SALESORDERID\", \"SALESORDERID\",and \"ADDRESSID\" respectively can be unique ID for each table. \n",
        "To verify Unique Key below described key_finder function is used.\n"
      ],
      "metadata": {
        "id": "aSalvHul6S5B"
      }
    },
    {
      "cell_type": "code",
      "source": [
        "def key_finder(df1,df2):\n",
        "    keys=[]\n",
        "    for x in (df1.columns):\n",
        "        for y in (df2.columns):\n",
        "            if np.isin(df1[x].values, df2[y].values).any() == True:\n",
        "                keys+=(df1[x].name,df2[y].name)\n",
        "                return(keys)"
      ],
      "metadata": {
        "id": "bEye0cRZY27_"
      },
      "execution_count": null,
      "outputs": []
    },
    {
      "cell_type": "code",
      "source": [
        "key_finder(Product_texts,Products)"
      ],
      "metadata": {
        "colab": {
          "base_uri": "https://localhost:8080/"
        },
        "id": "qX9Fgb0TZNPj",
        "outputId": "21627f8c-2fde-4832-a612-5d0f8535b41c"
      },
      "execution_count": null,
      "outputs": [
        {
          "output_type": "execute_result",
          "data": {
            "text/plain": [
              "['PRODUCTID', 'PRODUCTID']"
            ]
          },
          "metadata": {},
          "execution_count": 9
        }
      ]
    },
    {
      "cell_type": "code",
      "source": [
        "key_finder(sales_orders,sales_order_Item)"
      ],
      "metadata": {
        "colab": {
          "base_uri": "https://localhost:8080/"
        },
        "id": "wTK2PkyyZPzn",
        "outputId": "4dd1c313-c784-461b-f852-5af440231410"
      },
      "execution_count": null,
      "outputs": [
        {
          "output_type": "execute_result",
          "data": {
            "text/plain": [
              "['SALESORDERID    ', 'SALESORDERID']"
            ]
          },
          "metadata": {},
          "execution_count": 10
        }
      ]
    },
    {
      "cell_type": "code",
      "source": [
        "key_finder(Product_category_text,Product_category)"
      ],
      "metadata": {
        "colab": {
          "base_uri": "https://localhost:8080/"
        },
        "id": "VoWLS2oTZP2u",
        "outputId": "91626fb1-2c8a-4623-9539-dc51f56c8695"
      },
      "execution_count": null,
      "outputs": [
        {
          "output_type": "execute_result",
          "data": {
            "text/plain": [
              "['PRODCATEGORYID', 'PRODCATEGORYID']"
            ]
          },
          "metadata": {},
          "execution_count": 11
        }
      ]
    },
    {
      "cell_type": "code",
      "source": [
        "key_finder(Address, B_Partners) "
      ],
      "metadata": {
        "colab": {
          "base_uri": "https://localhost:8080/"
        },
        "id": "Nw2JnX8TZP6V",
        "outputId": "7ca6b60f-cd6d-4948-a945-bdddae896834"
      },
      "execution_count": null,
      "outputs": [
        {
          "output_type": "stream",
          "name": "stderr",
          "text": [
            "/usr/local/lib/python3.7/dist-packages/numpy/lib/arraysetops.py:580: FutureWarning: elementwise comparison failed; returning scalar instead, but in the future will perform elementwise comparison\n",
            "  mask |= (ar1 == a)\n"
          ]
        },
        {
          "output_type": "execute_result",
          "data": {
            "text/plain": [
              "['ADDRESSID', 'ADDRESSID']"
            ]
          },
          "metadata": {},
          "execution_count": 12
        }
      ]
    },
    {
      "cell_type": "markdown",
      "source": [
        "# DATA PREPARATION<a id='data'></a>\n",
        "\n",
        "\n",
        "\n",
        "\n"
      ],
      "metadata": {
        "id": "Ft7ANTp3PHOw"
      }
    },
    {
      "cell_type": "markdown",
      "metadata": {
        "id": "PvSwKRkjbfkQ"
      },
      "source": [
        "\n",
        "Now we will look at one dataset at a time. Before combining the datsets, data selection, conversion, cleaning, formatting, and renaming columns must be completed."
      ]
    },
    {
      "cell_type": "markdown",
      "source": [
        "# sales orders<a id='so'></a>"
      ],
      "metadata": {
        "id": "6NwSUGJ9PRiu"
      }
    },
    {
      "cell_type": "markdown",
      "source": [
        "**Data Information**<a id='df_so'></a>"
      ],
      "metadata": {
        "id": "pQurT2cTQaHV"
      }
    },
    {
      "cell_type": "markdown",
      "metadata": {
        "id": "O7uqsZC3bkRE"
      },
      "source": [
        "\n",
        "First, we will define a function to get some information about dataset."
      ]
    },
    {
      "cell_type": "code",
      "metadata": {
        "id": "pyO1UNsJbrQN"
      },
      "source": [
        "def data_info(data):\n",
        "    rows=len(data)\n",
        "    cols=len(data.columns)\n",
        "    cols_name=data.columns\n",
        "    print(\"Number of rows in dataset: {}\\nNumber of columns in dataset: {}\\nColumns in dataset:\\n{}\".format(rows,cols,cols_name))\n",
        "    return data.head(10)"
      ],
      "execution_count": null,
      "outputs": []
    },
    {
      "cell_type": "code",
      "metadata": {
        "colab": {
          "base_uri": "https://localhost:8080/",
          "height": 522
        },
        "id": "mOuVdETUcJQy",
        "outputId": "cba491de-ad94-46f6-f8a0-1a967afe9da4"
      },
      "source": [
        "data_info(sales_orders)"
      ],
      "execution_count": null,
      "outputs": [
        {
          "output_type": "stream",
          "name": "stdout",
          "text": [
            "Number of rows in dataset: 334\n",
            "Number of columns in dataset: 17\n",
            "Columns in dataset:\n",
            "Index(['SALESORDERID    ', 'CREATEDBY   ', '   CREATED_AT', 'CHANGEDBY',\n",
            "       'CHANGED_AT', 'FISCVARIANT', 'FISCALYEARPERIOD', 'NOTEID',\n",
            "       'PARTNER_ID  ', 'SALESORG', ' CURRENCY', 'GROSS_AMOUNT', 'NETAMOUNT',\n",
            "       'TAXAMOUNT', 'LIFECYCLESTATUS', 'BILLINGSTATUS', 'DELIVERYSTATUS'],\n",
            "      dtype='object')\n"
          ]
        },
        {
          "output_type": "execute_result",
          "data": {
            "text/html": [
              "<div>\n",
              "<style scoped>\n",
              "    .dataframe tbody tr th:only-of-type {\n",
              "        vertical-align: middle;\n",
              "    }\n",
              "\n",
              "    .dataframe tbody tr th {\n",
              "        vertical-align: top;\n",
              "    }\n",
              "\n",
              "    .dataframe thead th {\n",
              "        text-align: right;\n",
              "    }\n",
              "</style>\n",
              "<table border=\"1\" class=\"dataframe\">\n",
              "  <thead>\n",
              "    <tr style=\"text-align: right;\">\n",
              "      <th></th>\n",
              "      <th>SALESORDERID</th>\n",
              "      <th>CREATEDBY</th>\n",
              "      <th>CREATED_AT</th>\n",
              "      <th>CHANGEDBY</th>\n",
              "      <th>CHANGED_AT</th>\n",
              "      <th>FISCVARIANT</th>\n",
              "      <th>FISCALYEARPERIOD</th>\n",
              "      <th>NOTEID</th>\n",
              "      <th>PARTNER_ID</th>\n",
              "      <th>SALESORG</th>\n",
              "      <th>CURRENCY</th>\n",
              "      <th>GROSS_AMOUNT</th>\n",
              "      <th>NETAMOUNT</th>\n",
              "      <th>TAXAMOUNT</th>\n",
              "      <th>LIFECYCLESTATUS</th>\n",
              "      <th>BILLINGSTATUS</th>\n",
              "      <th>DELIVERYSTATUS</th>\n",
              "    </tr>\n",
              "  </thead>\n",
              "  <tbody>\n",
              "    <tr>\n",
              "      <th>0</th>\n",
              "      <td>500000049</td>\n",
              "      <td>8</td>\n",
              "      <td>20180321</td>\n",
              "      <td>8</td>\n",
              "      <td>20180325</td>\n",
              "      <td>K4</td>\n",
              "      <td>2018003</td>\n",
              "      <td>NaN</td>\n",
              "      <td>100000009</td>\n",
              "      <td>EMEA</td>\n",
              "      <td>USD</td>\n",
              "      <td>-9889.0</td>\n",
              "      <td>66190.250</td>\n",
              "      <td>9455.750</td>\n",
              "      <td>C</td>\n",
              "      <td>C</td>\n",
              "      <td>C</td>\n",
              "    </tr>\n",
              "    <tr>\n",
              "      <th>1</th>\n",
              "      <td>500000040</td>\n",
              "      <td>8</td>\n",
              "      <td>20180306</td>\n",
              "      <td>8</td>\n",
              "      <td>20180311</td>\n",
              "      <td>K4</td>\n",
              "      <td>2018003</td>\n",
              "      <td>NaN</td>\n",
              "      <td>100000005</td>\n",
              "      <td>EMEA</td>\n",
              "      <td>USD</td>\n",
              "      <td>-888.0</td>\n",
              "      <td>38183.250</td>\n",
              "      <td>5454.750</td>\n",
              "      <td>C</td>\n",
              "      <td>C</td>\n",
              "      <td>C</td>\n",
              "    </tr>\n",
              "    <tr>\n",
              "      <th>2</th>\n",
              "      <td>500000021</td>\n",
              "      <td>7</td>\n",
              "      <td>20180209</td>\n",
              "      <td>7</td>\n",
              "      <td>20180212</td>\n",
              "      <td>K4</td>\n",
              "      <td>2018002</td>\n",
              "      <td>NaN</td>\n",
              "      <td>100000001</td>\n",
              "      <td>AMER</td>\n",
              "      <td>USD</td>\n",
              "      <td>379.0</td>\n",
              "      <td>331.625</td>\n",
              "      <td>47.375</td>\n",
              "      <td>C</td>\n",
              "      <td>C</td>\n",
              "      <td>C</td>\n",
              "    </tr>\n",
              "    <tr>\n",
              "      <th>3</th>\n",
              "      <td>500000044</td>\n",
              "      <td>4</td>\n",
              "      <td>20180314</td>\n",
              "      <td>4</td>\n",
              "      <td>20180317</td>\n",
              "      <td>K4</td>\n",
              "      <td>2018003</td>\n",
              "      <td>NaN</td>\n",
              "      <td>100000021</td>\n",
              "      <td>APJ</td>\n",
              "      <td>USD</td>\n",
              "      <td>1266.0</td>\n",
              "      <td>1107.750</td>\n",
              "      <td>158.250</td>\n",
              "      <td>C</td>\n",
              "      <td>C</td>\n",
              "      <td>C</td>\n",
              "    </tr>\n",
              "    <tr>\n",
              "      <th>4</th>\n",
              "      <td>500000229</td>\n",
              "      <td>4</td>\n",
              "      <td>20181225</td>\n",
              "      <td>4</td>\n",
              "      <td>20181226</td>\n",
              "      <td>K4</td>\n",
              "      <td>2018012</td>\n",
              "      <td>NaN</td>\n",
              "      <td>100000017</td>\n",
              "      <td>APJ</td>\n",
              "      <td>USD</td>\n",
              "      <td>1356.0</td>\n",
              "      <td>1186.500</td>\n",
              "      <td>169.500</td>\n",
              "      <td>C</td>\n",
              "      <td>C</td>\n",
              "      <td>C</td>\n",
              "    </tr>\n",
              "    <tr>\n",
              "      <th>5</th>\n",
              "      <td>500000007</td>\n",
              "      <td>4</td>\n",
              "      <td>20180119</td>\n",
              "      <td>4</td>\n",
              "      <td>20180121</td>\n",
              "      <td>K4</td>\n",
              "      <td>2018001</td>\n",
              "      <td>NaN</td>\n",
              "      <td>100000020</td>\n",
              "      <td>APJ</td>\n",
              "      <td>USD</td>\n",
              "      <td>1398.0</td>\n",
              "      <td>-6745.000</td>\n",
              "      <td>174.750</td>\n",
              "      <td>c</td>\n",
              "      <td>c</td>\n",
              "      <td>c</td>\n",
              "    </tr>\n",
              "    <tr>\n",
              "      <th>6</th>\n",
              "      <td>500000254</td>\n",
              "      <td>8</td>\n",
              "      <td>20190207</td>\n",
              "      <td>8</td>\n",
              "      <td>20190211</td>\n",
              "      <td>K4</td>\n",
              "      <td>2019002</td>\n",
              "      <td>NaN</td>\n",
              "      <td>100000011</td>\n",
              "      <td>EMEA</td>\n",
              "      <td>USD</td>\n",
              "      <td>1596.0</td>\n",
              "      <td>1396.500</td>\n",
              "      <td>199.500</td>\n",
              "      <td>C</td>\n",
              "      <td>C</td>\n",
              "      <td>C</td>\n",
              "    </tr>\n",
              "    <tr>\n",
              "      <th>7</th>\n",
              "      <td>500000062</td>\n",
              "      <td>11</td>\n",
              "      <td>20180416</td>\n",
              "      <td>11</td>\n",
              "      <td>20180419</td>\n",
              "      <td>K4</td>\n",
              "      <td>2018004</td>\n",
              "      <td>NaN</td>\n",
              "      <td>100000003</td>\n",
              "      <td>AMER</td>\n",
              "      <td>USD</td>\n",
              "      <td>1598.0</td>\n",
              "      <td>1398.250</td>\n",
              "      <td>-199.000</td>\n",
              "      <td>C</td>\n",
              "      <td>C</td>\n",
              "      <td>C</td>\n",
              "    </tr>\n",
              "    <tr>\n",
              "      <th>8</th>\n",
              "      <td>500000220</td>\n",
              "      <td>11</td>\n",
              "      <td>20181210</td>\n",
              "      <td>11</td>\n",
              "      <td>20181211</td>\n",
              "      <td>K4</td>\n",
              "      <td>2018012</td>\n",
              "      <td>NaN</td>\n",
              "      <td>100000002</td>\n",
              "      <td>AMER</td>\n",
              "      <td>USD</td>\n",
              "      <td>2241.0</td>\n",
              "      <td>1960.875</td>\n",
              "      <td>280.125</td>\n",
              "      <td>C</td>\n",
              "      <td>C</td>\n",
              "      <td>C</td>\n",
              "    </tr>\n",
              "    <tr>\n",
              "      <th>9</th>\n",
              "      <td>500000047</td>\n",
              "      <td>8</td>\n",
              "      <td>20180320</td>\n",
              "      <td>8</td>\n",
              "      <td>20180322</td>\n",
              "      <td>K4</td>\n",
              "      <td>2018003</td>\n",
              "      <td>NaN</td>\n",
              "      <td>100000038</td>\n",
              "      <td>EMEA</td>\n",
              "      <td>USD</td>\n",
              "      <td>2288.0</td>\n",
              "      <td>2002.000</td>\n",
              "      <td>286.000</td>\n",
              "      <td>C</td>\n",
              "      <td>C</td>\n",
              "      <td>C</td>\n",
              "    </tr>\n",
              "  </tbody>\n",
              "</table>\n",
              "</div>"
            ],
            "text/plain": [
              "   SALESORDERID      CREATEDBY     ...  BILLINGSTATUS  DELIVERYSTATUS\n",
              "0         500000049             8  ...              C               C\n",
              "1         500000040             8  ...              C               C\n",
              "2         500000021             7  ...              C               C\n",
              "3         500000044             4  ...              C               C\n",
              "4         500000229             4  ...              C               C\n",
              "5         500000007             4  ...              c               c\n",
              "6         500000254             8  ...              C               C\n",
              "7         500000062            11  ...              C               C\n",
              "8         500000220            11  ...              C               C\n",
              "9         500000047             8  ...              C               C\n",
              "\n",
              "[10 rows x 17 columns]"
            ]
          },
          "metadata": {},
          "execution_count": 14
        }
      ]
    },
    {
      "cell_type": "code",
      "source": [
        "def col_info(data, col_ids=None, truncate=False):\n",
        "    if col_ids is None:\n",
        "        col_ids = range(0, data.shape[1])\n",
        "    if type(col_ids[0]) == str:\n",
        "        col_indices = [] \n",
        "        for col in col_ids: \n",
        "            index = data.columns.get_loc(col)\n",
        "            col_indices.append(index)\n",
        "    else: \n",
        "        col_indices = col_ids\n",
        "    col_indices_to_use = col_indices\n",
        "    if truncate == True:\n",
        "        col_indices_to_use = col_indices[:5] \n",
        "    for col in col_indices_to_use: \n",
        "        uniques_arr = data.iloc[:,col].unique()\n",
        "        nb_uniques = len(data.iloc[:,col].unique())\n",
        "        if nb_uniques < 2:\n",
        "            print(\"\\033[1m\", data.columns[col], \"\\033[0m:\", data.iloc[:,col].dtype, \":\", nb_uniques, \"level\")\n",
        "        else:\n",
        "            print(\"\\033[1m\", data.columns[col], \"\\033[0m:\", data.iloc[:,col].dtype, \":\", nb_uniques, \"levels\")\n",
        "        values_list = []\n",
        "        total_length = len(str(uniques_arr[0]))\n",
        "        total_values = 0\n",
        "        for value in range(0, nb_uniques):\n",
        "            if ((total_length < 50) & (total_values < 12)):\n",
        "                values_list.append(uniques_arr[value])\n",
        "                total_length += len(str(uniques_arr[value]))\n",
        "                total_values += 1\n",
        "            else:\n",
        "                print(values_list, \"...\\n\")\n",
        "                break\n",
        "        if ((total_length < 50) & (total_values < 12)):\n",
        "            print(values_list, \"\\n\")\n",
        "    if ((truncate == True) & (len(col_indices) > len(col_indices_to_use))):\n",
        "        print(\"... OUTPUT TRUNCATED ... remove truncate=True to display info about all columns\")"
      ],
      "metadata": {
        "id": "oHf34HQLDzha"
      },
      "execution_count": null,
      "outputs": []
    },
    {
      "cell_type": "code",
      "source": [
        "col_info(sales_orders)"
      ],
      "metadata": {
        "colab": {
          "base_uri": "https://localhost:8080/"
        },
        "id": "QGSUKAnxEP0S",
        "outputId": "c8a88937-5cfa-41e2-ad5f-d1ba0a527f96"
      },
      "execution_count": null,
      "outputs": [
        {
          "output_type": "stream",
          "name": "stdout",
          "text": [
            "\u001b[1m SALESORDERID     \u001b[0m: int64 : 334 levels\n",
            "[500000049, 500000040, 500000021, 500000044, 500000229] ...\n",
            "\n",
            "\u001b[1m CREATEDBY    \u001b[0m: int64 : 14 levels\n",
            "[8, 7, 4, 11, 1, 2, 13, 3, 5, 6, 12, 10] ...\n",
            "\n",
            "\u001b[1m    CREATED_AT \u001b[0m: int64 : 264 levels\n",
            "[20180321, 20180306, 20180209, 20180314, 20181225, 20180119] ...\n",
            "\n",
            "\u001b[1m CHANGEDBY \u001b[0m: int64 : 14 levels\n",
            "[8, 7, 4, 11, 1, 2, 13, 3, 5, 6, 12, 10] ...\n",
            "\n",
            "\u001b[1m CHANGED_AT \u001b[0m: int64 : 255 levels\n",
            "[20180325, 20180311, 20180212, 20180317, 20181226, 20180121] ...\n",
            "\n",
            "\u001b[1m FISCVARIANT \u001b[0m: object : 1 level\n",
            "['K4'] \n",
            "\n",
            "\u001b[1m FISCALYEARPERIOD \u001b[0m: int64 : 18 levels\n",
            "[2018003, 2018002, 2018012, 2018001, 2019002, 2018004, 2019006] ...\n",
            "\n",
            "\u001b[1m NOTEID \u001b[0m: float64 : 1 level\n",
            "[nan] \n",
            "\n",
            "\u001b[1m PARTNER_ID   \u001b[0m: int64 : 40 levels\n",
            "[100000009, 100000005, 100000001, 100000021, 100000017] ...\n",
            "\n",
            "\u001b[1m SALESORG \u001b[0m: object : 3 levels\n",
            "['EMEA', 'AMER', 'APJ'] \n",
            "\n",
            "\u001b[1m  CURRENCY \u001b[0m: object : 6 levels\n",
            "['USD', 'Usd', '$', 'US', 'usd', 'Us'] \n",
            "\n",
            "\u001b[1m GROSS_AMOUNT \u001b[0m: float64 : 303 levels\n",
            "[-9889.0, -888.0, 379.0, 1266.0, 1356.0, 1398.0, 1596.0, 1598.0] ...\n",
            "\n",
            "\u001b[1m NETAMOUNT \u001b[0m: float64 : 334 levels\n",
            "[66190.25, 38183.25, 331.625, 1107.75, 1186.5, -6745.0] ...\n",
            "\n",
            "\u001b[1m TAXAMOUNT \u001b[0m: float64 : 298 levels\n",
            "[9455.75, 5454.75, 47.375, 158.25, 169.5, 174.75, 199.5, -199.0] ...\n",
            "\n",
            "\u001b[1m LIFECYCLESTATUS \u001b[0m: object : 4 levels\n",
            "['C', 'c', 'I', 'X'] \n",
            "\n",
            "\u001b[1m BILLINGSTATUS \u001b[0m: object : 4 levels\n",
            "['C', 'c', 'I', 'X'] \n",
            "\n",
            "\u001b[1m DELIVERYSTATUS \u001b[0m: object : 4 levels\n",
            "['C', 'c', 'I', 'X'] \n",
            "\n"
          ]
        }
      ]
    },
    {
      "cell_type": "markdown",
      "metadata": {
        "id": "eZIyr-tZe0EO"
      },
      "source": [
        "We can examine from above dataset that columns like \"FISCVARIANT\", \"FISCALYEARPEROD\", \"LIFECYCLESTATUS\", \"BILLINGSTATUS\", \"DELIVERYSTATUS\", and \"NOTEID\" are not important. so, we drop these columns."
      ]
    },
    {
      "cell_type": "code",
      "metadata": {
        "id": "sE73HrSmfOyB"
      },
      "source": [
        "\n",
        "sales_orders.drop(['NOTEID','LIFECYCLESTATUS','BILLINGSTATUS','DELIVERYSTATUS','FISCVARIANT','FISCALYEARPERIOD'], axis = 1,inplace=True)\n"
      ],
      "execution_count": null,
      "outputs": []
    },
    {
      "cell_type": "markdown",
      "metadata": {
        "id": "BAhNnfTIgvDg"
      },
      "source": [
        "**Data Formatting**<a id='df_so'></a>\n",
        "\n",
        "\n",
        "Two columns in sales_order dataset, named 'CHANGED_AT' and 'CREATED_AT' are in numeric format, but they actually represent dates. So, we will convert them into Date format."
      ]
    },
    {
      "cell_type": "code",
      "source": [
        "# Checking for spaces in column name before processing further\n",
        "sales_orders.columns = sales_orders.columns.str.rstrip()\n",
        "sales_orders.columns = sales_orders.columns.str.lstrip()"
      ],
      "metadata": {
        "id": "C60pLLls9yat"
      },
      "execution_count": null,
      "outputs": []
    },
    {
      "cell_type": "code",
      "metadata": {
        "id": "GCMVP5E7g3t3"
      },
      "source": [
        "import datetime\n",
        "\n",
        "sales_orders['CREATED_AT'] = sales_orders['CREATED_AT'].apply(lambda x: datetime.datetime.strptime(str(x), '%Y%m%d'))\n",
        "sales_orders['CHANGED_AT'] = sales_orders['CHANGED_AT'].apply(lambda x: datetime.datetime.strptime(str(x), '%Y%m%d'))\n"
      ],
      "execution_count": null,
      "outputs": []
    },
    {
      "cell_type": "code",
      "metadata": {
        "colab": {
          "base_uri": "https://localhost:8080/",
          "height": 206
        },
        "id": "CzgiFaHuJ4nl",
        "outputId": "a877ee8e-810f-4630-b0a3-1e4b83e8ebdc"
      },
      "source": [
        "sales_orders.head()"
      ],
      "execution_count": null,
      "outputs": [
        {
          "output_type": "execute_result",
          "data": {
            "text/html": [
              "<div>\n",
              "<style scoped>\n",
              "    .dataframe tbody tr th:only-of-type {\n",
              "        vertical-align: middle;\n",
              "    }\n",
              "\n",
              "    .dataframe tbody tr th {\n",
              "        vertical-align: top;\n",
              "    }\n",
              "\n",
              "    .dataframe thead th {\n",
              "        text-align: right;\n",
              "    }\n",
              "</style>\n",
              "<table border=\"1\" class=\"dataframe\">\n",
              "  <thead>\n",
              "    <tr style=\"text-align: right;\">\n",
              "      <th></th>\n",
              "      <th>SALESORDERID</th>\n",
              "      <th>CREATEDBY</th>\n",
              "      <th>CREATED_AT</th>\n",
              "      <th>CHANGEDBY</th>\n",
              "      <th>CHANGED_AT</th>\n",
              "      <th>PARTNER_ID</th>\n",
              "      <th>SALESORG</th>\n",
              "      <th>CURRENCY</th>\n",
              "      <th>GROSS_AMOUNT</th>\n",
              "      <th>NETAMOUNT</th>\n",
              "      <th>TAXAMOUNT</th>\n",
              "    </tr>\n",
              "  </thead>\n",
              "  <tbody>\n",
              "    <tr>\n",
              "      <th>0</th>\n",
              "      <td>500000049</td>\n",
              "      <td>8</td>\n",
              "      <td>2018-03-21</td>\n",
              "      <td>8</td>\n",
              "      <td>2018-03-25</td>\n",
              "      <td>100000009</td>\n",
              "      <td>EMEA</td>\n",
              "      <td>USD</td>\n",
              "      <td>-9889.0</td>\n",
              "      <td>66190.250</td>\n",
              "      <td>9455.750</td>\n",
              "    </tr>\n",
              "    <tr>\n",
              "      <th>1</th>\n",
              "      <td>500000040</td>\n",
              "      <td>8</td>\n",
              "      <td>2018-03-06</td>\n",
              "      <td>8</td>\n",
              "      <td>2018-03-11</td>\n",
              "      <td>100000005</td>\n",
              "      <td>EMEA</td>\n",
              "      <td>USD</td>\n",
              "      <td>-888.0</td>\n",
              "      <td>38183.250</td>\n",
              "      <td>5454.750</td>\n",
              "    </tr>\n",
              "    <tr>\n",
              "      <th>2</th>\n",
              "      <td>500000021</td>\n",
              "      <td>7</td>\n",
              "      <td>2018-02-09</td>\n",
              "      <td>7</td>\n",
              "      <td>2018-02-12</td>\n",
              "      <td>100000001</td>\n",
              "      <td>AMER</td>\n",
              "      <td>USD</td>\n",
              "      <td>379.0</td>\n",
              "      <td>331.625</td>\n",
              "      <td>47.375</td>\n",
              "    </tr>\n",
              "    <tr>\n",
              "      <th>3</th>\n",
              "      <td>500000044</td>\n",
              "      <td>4</td>\n",
              "      <td>2018-03-14</td>\n",
              "      <td>4</td>\n",
              "      <td>2018-03-17</td>\n",
              "      <td>100000021</td>\n",
              "      <td>APJ</td>\n",
              "      <td>USD</td>\n",
              "      <td>1266.0</td>\n",
              "      <td>1107.750</td>\n",
              "      <td>158.250</td>\n",
              "    </tr>\n",
              "    <tr>\n",
              "      <th>4</th>\n",
              "      <td>500000229</td>\n",
              "      <td>4</td>\n",
              "      <td>2018-12-25</td>\n",
              "      <td>4</td>\n",
              "      <td>2018-12-26</td>\n",
              "      <td>100000017</td>\n",
              "      <td>APJ</td>\n",
              "      <td>USD</td>\n",
              "      <td>1356.0</td>\n",
              "      <td>1186.500</td>\n",
              "      <td>169.500</td>\n",
              "    </tr>\n",
              "  </tbody>\n",
              "</table>\n",
              "</div>"
            ],
            "text/plain": [
              "   SALESORDERID  CREATEDBY CREATED_AT  ...  GROSS_AMOUNT  NETAMOUNT  TAXAMOUNT\n",
              "0     500000049          8 2018-03-21  ...       -9889.0  66190.250   9455.750\n",
              "1     500000040          8 2018-03-06  ...        -888.0  38183.250   5454.750\n",
              "2     500000021          7 2018-02-09  ...         379.0    331.625     47.375\n",
              "3     500000044          4 2018-03-14  ...        1266.0   1107.750    158.250\n",
              "4     500000229          4 2018-12-25  ...        1356.0   1186.500    169.500\n",
              "\n",
              "[5 rows x 11 columns]"
            ]
          },
          "metadata": {},
          "execution_count": 20
        }
      ]
    },
    {
      "cell_type": "markdown",
      "metadata": {
        "id": "4ftFiH4Llx6O"
      },
      "source": [
        "**Data Cleaning**<a id='dc_so'></a>\n",
        "\n",
        "To clean the need, we need to check missing values as well as inaccurate values."
      ]
    },
    {
      "cell_type": "markdown",
      "metadata": {
        "id": "SI0x2Ga8l9dg"
      },
      "source": [
        "**Missing Data**"
      ]
    },
    {
      "cell_type": "code",
      "metadata": {
        "colab": {
          "base_uri": "https://localhost:8080/"
        },
        "id": "AFOuPVnrmE5F",
        "outputId": "e5a6ff4c-5c3b-4c30-e4e3-021eeab188e6"
      },
      "source": [
        "pd.isnull(sales_orders).sum()"
      ],
      "execution_count": null,
      "outputs": [
        {
          "output_type": "execute_result",
          "data": {
            "text/plain": [
              "SALESORDERID     0\n",
              "CREATEDBY        0\n",
              "CREATED_AT       0\n",
              "CHANGEDBY        0\n",
              "CHANGED_AT       0\n",
              "PARTNER_ID       0\n",
              "SALESORG         0\n",
              "CURRENCY         0\n",
              "GROSS_AMOUNT    32\n",
              "NETAMOUNT        0\n",
              "TAXAMOUNT       32\n",
              "dtype: int64"
            ]
          },
          "metadata": {},
          "execution_count": 21
        }
      ]
    },
    {
      "cell_type": "markdown",
      "metadata": {
        "id": "swTUE__smQGj"
      },
      "source": [
        "We can observe that 'GROSS_AMOUNT' AND 'TAXAMOUNT' has missing values. Before filling the missing values, we checked the missing observations."
      ]
    },
    {
      "cell_type": "code",
      "metadata": {
        "colab": {
          "base_uri": "https://localhost:8080/",
          "height": 424
        },
        "id": "BhyxksgDnB6S",
        "outputId": "4bd33e81-616b-4881-d40f-26f9ce309515"
      },
      "source": [
        "sales_orders.loc[(sales_orders['GROSS_AMOUNT'].isnull()) | (sales_orders['TAXAMOUNT'].isnull())]\n"
      ],
      "execution_count": null,
      "outputs": [
        {
          "output_type": "execute_result",
          "data": {
            "text/html": [
              "<div>\n",
              "<style scoped>\n",
              "    .dataframe tbody tr th:only-of-type {\n",
              "        vertical-align: middle;\n",
              "    }\n",
              "\n",
              "    .dataframe tbody tr th {\n",
              "        vertical-align: top;\n",
              "    }\n",
              "\n",
              "    .dataframe thead th {\n",
              "        text-align: right;\n",
              "    }\n",
              "</style>\n",
              "<table border=\"1\" class=\"dataframe\">\n",
              "  <thead>\n",
              "    <tr style=\"text-align: right;\">\n",
              "      <th></th>\n",
              "      <th>SALESORDERID</th>\n",
              "      <th>CREATEDBY</th>\n",
              "      <th>CREATED_AT</th>\n",
              "      <th>CHANGEDBY</th>\n",
              "      <th>CHANGED_AT</th>\n",
              "      <th>PARTNER_ID</th>\n",
              "      <th>SALESORG</th>\n",
              "      <th>CURRENCY</th>\n",
              "      <th>GROSS_AMOUNT</th>\n",
              "      <th>NETAMOUNT</th>\n",
              "      <th>TAXAMOUNT</th>\n",
              "    </tr>\n",
              "  </thead>\n",
              "  <tbody>\n",
              "    <tr>\n",
              "      <th>21</th>\n",
              "      <td>500000022</td>\n",
              "      <td>3</td>\n",
              "      <td>2018-02-10</td>\n",
              "      <td>3</td>\n",
              "      <td>2018-02-14</td>\n",
              "      <td>100000011</td>\n",
              "      <td>EMEA</td>\n",
              "      <td>USD</td>\n",
              "      <td>6950.0</td>\n",
              "      <td>6081.250</td>\n",
              "      <td>NaN</td>\n",
              "    </tr>\n",
              "    <tr>\n",
              "      <th>35</th>\n",
              "      <td>500000266</td>\n",
              "      <td>1</td>\n",
              "      <td>2019-02-28</td>\n",
              "      <td>1</td>\n",
              "      <td>2019-03-05</td>\n",
              "      <td>100000001</td>\n",
              "      <td>AMER</td>\n",
              "      <td>$</td>\n",
              "      <td>10998.0</td>\n",
              "      <td>9623.250</td>\n",
              "      <td>NaN</td>\n",
              "    </tr>\n",
              "    <tr>\n",
              "      <th>44</th>\n",
              "      <td>500000298</td>\n",
              "      <td>2</td>\n",
              "      <td>2019-05-02</td>\n",
              "      <td>2</td>\n",
              "      <td>2019-05-07</td>\n",
              "      <td>100000028</td>\n",
              "      <td>EMEA</td>\n",
              "      <td>USD</td>\n",
              "      <td>13345.0</td>\n",
              "      <td>11676.875</td>\n",
              "      <td>NaN</td>\n",
              "    </tr>\n",
              "    <tr>\n",
              "      <th>46</th>\n",
              "      <td>500000324</td>\n",
              "      <td>6</td>\n",
              "      <td>2019-06-16</td>\n",
              "      <td>6</td>\n",
              "      <td>2019-06-17</td>\n",
              "      <td>100000013</td>\n",
              "      <td>EMEA</td>\n",
              "      <td>USD</td>\n",
              "      <td>13777.0</td>\n",
              "      <td>12054.875</td>\n",
              "      <td>NaN</td>\n",
              "    </tr>\n",
              "    <tr>\n",
              "      <th>68</th>\n",
              "      <td>500000253</td>\n",
              "      <td>6</td>\n",
              "      <td>2019-02-05</td>\n",
              "      <td>6</td>\n",
              "      <td>2019-02-06</td>\n",
              "      <td>100000010</td>\n",
              "      <td>EMEA</td>\n",
              "      <td>US</td>\n",
              "      <td>23683.0</td>\n",
              "      <td>20722.625</td>\n",
              "      <td>NaN</td>\n",
              "    </tr>\n",
              "    <tr>\n",
              "      <th>...</th>\n",
              "      <td>...</td>\n",
              "      <td>...</td>\n",
              "      <td>...</td>\n",
              "      <td>...</td>\n",
              "      <td>...</td>\n",
              "      <td>...</td>\n",
              "      <td>...</td>\n",
              "      <td>...</td>\n",
              "      <td>...</td>\n",
              "      <td>...</td>\n",
              "      <td>...</td>\n",
              "    </tr>\n",
              "    <tr>\n",
              "      <th>329</th>\n",
              "      <td>500000058</td>\n",
              "      <td>7</td>\n",
              "      <td>2018-04-07</td>\n",
              "      <td>7</td>\n",
              "      <td>2018-04-09</td>\n",
              "      <td>100000000</td>\n",
              "      <td>AMER</td>\n",
              "      <td>USD</td>\n",
              "      <td>NaN</td>\n",
              "      <td>72375.625</td>\n",
              "      <td>10339.375</td>\n",
              "    </tr>\n",
              "    <tr>\n",
              "      <th>330</th>\n",
              "      <td>500000076</td>\n",
              "      <td>1</td>\n",
              "      <td>2018-05-06</td>\n",
              "      <td>1</td>\n",
              "      <td>2018-05-11</td>\n",
              "      <td>100000033</td>\n",
              "      <td>AMER</td>\n",
              "      <td>USD</td>\n",
              "      <td>NaN</td>\n",
              "      <td>89762.750</td>\n",
              "      <td>12823.250</td>\n",
              "    </tr>\n",
              "    <tr>\n",
              "      <th>331</th>\n",
              "      <td>500000168</td>\n",
              "      <td>6</td>\n",
              "      <td>2018-10-02</td>\n",
              "      <td>6</td>\n",
              "      <td>2018-10-05</td>\n",
              "      <td>100000025</td>\n",
              "      <td>EMEA</td>\n",
              "      <td>USD</td>\n",
              "      <td>NaN</td>\n",
              "      <td>110444.250</td>\n",
              "      <td>15777.750</td>\n",
              "    </tr>\n",
              "    <tr>\n",
              "      <th>332</th>\n",
              "      <td>500000171</td>\n",
              "      <td>4</td>\n",
              "      <td>2018-10-07</td>\n",
              "      <td>4</td>\n",
              "      <td>2018-10-12</td>\n",
              "      <td>100000021</td>\n",
              "      <td>APJ</td>\n",
              "      <td>USD</td>\n",
              "      <td>NaN</td>\n",
              "      <td>134724.625</td>\n",
              "      <td>19246.375</td>\n",
              "    </tr>\n",
              "    <tr>\n",
              "      <th>333</th>\n",
              "      <td>500000244</td>\n",
              "      <td>9</td>\n",
              "      <td>2019-01-22</td>\n",
              "      <td>9</td>\n",
              "      <td>2019-01-27</td>\n",
              "      <td>100000030</td>\n",
              "      <td>AMER</td>\n",
              "      <td>USD</td>\n",
              "      <td>NaN</td>\n",
              "      <td>145037.375</td>\n",
              "      <td>20719.625</td>\n",
              "    </tr>\n",
              "  </tbody>\n",
              "</table>\n",
              "<p>64 rows × 11 columns</p>\n",
              "</div>"
            ],
            "text/plain": [
              "     SALESORDERID  CREATEDBY CREATED_AT  ...  GROSS_AMOUNT   NETAMOUNT  TAXAMOUNT\n",
              "21      500000022          3 2018-02-10  ...        6950.0    6081.250        NaN\n",
              "35      500000266          1 2019-02-28  ...       10998.0    9623.250        NaN\n",
              "44      500000298          2 2019-05-02  ...       13345.0   11676.875        NaN\n",
              "46      500000324          6 2019-06-16  ...       13777.0   12054.875        NaN\n",
              "68      500000253          6 2019-02-05  ...       23683.0   20722.625        NaN\n",
              "..            ...        ...        ...  ...           ...         ...        ...\n",
              "329     500000058          7 2018-04-07  ...           NaN   72375.625  10339.375\n",
              "330     500000076          1 2018-05-06  ...           NaN   89762.750  12823.250\n",
              "331     500000168          6 2018-10-02  ...           NaN  110444.250  15777.750\n",
              "332     500000171          4 2018-10-07  ...           NaN  134724.625  19246.375\n",
              "333     500000244          9 2019-01-22  ...           NaN  145037.375  20719.625\n",
              "\n",
              "[64 rows x 11 columns]"
            ]
          },
          "metadata": {},
          "execution_count": 22
        }
      ]
    },
    {
      "cell_type": "markdown",
      "metadata": {
        "id": "tB_X81bcqHsQ"
      },
      "source": [
        "From above analysis, we found that observations where gross amount is missing, tax amount is not null and vice versa. So, we can fill the gross amount by adding tax amount and net amount, and we can fill the missing values of tax amount by subtracting net amount from gross amount."
      ]
    },
    {
      "cell_type": "code",
      "metadata": {
        "id": "lS7fJNxsq65m"
      },
      "source": [
        "sales_orders['GROSS_AMOUNT'].fillna(sales_orders['NETAMOUNT']+sales_orders['TAXAMOUNT'],inplace=True)\n",
        "sales_orders['TAXAMOUNT'].fillna( sales_orders['GROSS_AMOUNT'] - sales_orders['NETAMOUNT'],inplace=True)\n"
      ],
      "execution_count": null,
      "outputs": []
    },
    {
      "cell_type": "code",
      "metadata": {
        "colab": {
          "base_uri": "https://localhost:8080/"
        },
        "id": "o2L81Txtrrku",
        "outputId": "8d86037f-17b4-4fc3-ca69-1ab71b14e201"
      },
      "source": [
        "sales_orders.isnull().sum().sum()"
      ],
      "execution_count": null,
      "outputs": [
        {
          "output_type": "execute_result",
          "data": {
            "text/plain": [
              "0"
            ]
          },
          "metadata": {},
          "execution_count": 24
        }
      ]
    },
    {
      "cell_type": "markdown",
      "metadata": {
        "id": "Cm2RBOvGts8m"
      },
      "source": [
        "**Inaccurate Data**\n",
        "\n",
        "It has been observed that 'sales_orders' dataset has the following inaccuracy issues:\n",
        "* Column 'Currency' is showing inconsistency in the values.\n",
        "* Columns 'GROSS_AMOUNT', 'TAXAMOUNT', and 'NETAMOUNT' have invalid negative values.\n",
        "\n",
        "To remove the inaccuracy issues, we first replace inaccurate currency values with 'USD'. Also, we replace the negative values in aboved mentioned columns with the correct amount.\n"
      ]
    },
    {
      "cell_type": "code",
      "metadata": {
        "id": "qt1NmtVkukw0"
      },
      "source": [
        "sales_orders['CURRENCY']='USD'"
      ],
      "execution_count": null,
      "outputs": []
    },
    {
      "cell_type": "code",
      "metadata": {
        "colab": {
          "base_uri": "https://localhost:8080/",
          "height": 206
        },
        "id": "2MRSzAsOuv92",
        "outputId": "df2b21df-e103-4da5-ca73-59eaece00f5c"
      },
      "source": [
        "sales_orders[(sales_orders['GROSS_AMOUNT']<0) | (sales_orders['NETAMOUNT']<0)|(sales_orders['TAXAMOUNT']<0)].head()"
      ],
      "execution_count": null,
      "outputs": [
        {
          "output_type": "execute_result",
          "data": {
            "text/html": [
              "<div>\n",
              "<style scoped>\n",
              "    .dataframe tbody tr th:only-of-type {\n",
              "        vertical-align: middle;\n",
              "    }\n",
              "\n",
              "    .dataframe tbody tr th {\n",
              "        vertical-align: top;\n",
              "    }\n",
              "\n",
              "    .dataframe thead th {\n",
              "        text-align: right;\n",
              "    }\n",
              "</style>\n",
              "<table border=\"1\" class=\"dataframe\">\n",
              "  <thead>\n",
              "    <tr style=\"text-align: right;\">\n",
              "      <th></th>\n",
              "      <th>SALESORDERID</th>\n",
              "      <th>CREATEDBY</th>\n",
              "      <th>CREATED_AT</th>\n",
              "      <th>CHANGEDBY</th>\n",
              "      <th>CHANGED_AT</th>\n",
              "      <th>PARTNER_ID</th>\n",
              "      <th>SALESORG</th>\n",
              "      <th>CURRENCY</th>\n",
              "      <th>GROSS_AMOUNT</th>\n",
              "      <th>NETAMOUNT</th>\n",
              "      <th>TAXAMOUNT</th>\n",
              "    </tr>\n",
              "  </thead>\n",
              "  <tbody>\n",
              "    <tr>\n",
              "      <th>0</th>\n",
              "      <td>500000049</td>\n",
              "      <td>8</td>\n",
              "      <td>2018-03-21</td>\n",
              "      <td>8</td>\n",
              "      <td>2018-03-25</td>\n",
              "      <td>100000009</td>\n",
              "      <td>EMEA</td>\n",
              "      <td>USD</td>\n",
              "      <td>-9889.0</td>\n",
              "      <td>66190.25</td>\n",
              "      <td>9455.750</td>\n",
              "    </tr>\n",
              "    <tr>\n",
              "      <th>1</th>\n",
              "      <td>500000040</td>\n",
              "      <td>8</td>\n",
              "      <td>2018-03-06</td>\n",
              "      <td>8</td>\n",
              "      <td>2018-03-11</td>\n",
              "      <td>100000005</td>\n",
              "      <td>EMEA</td>\n",
              "      <td>USD</td>\n",
              "      <td>-888.0</td>\n",
              "      <td>38183.25</td>\n",
              "      <td>5454.750</td>\n",
              "    </tr>\n",
              "    <tr>\n",
              "      <th>5</th>\n",
              "      <td>500000007</td>\n",
              "      <td>4</td>\n",
              "      <td>2018-01-19</td>\n",
              "      <td>4</td>\n",
              "      <td>2018-01-21</td>\n",
              "      <td>100000020</td>\n",
              "      <td>APJ</td>\n",
              "      <td>USD</td>\n",
              "      <td>1398.0</td>\n",
              "      <td>-6745.00</td>\n",
              "      <td>174.750</td>\n",
              "    </tr>\n",
              "    <tr>\n",
              "      <th>7</th>\n",
              "      <td>500000062</td>\n",
              "      <td>11</td>\n",
              "      <td>2018-04-16</td>\n",
              "      <td>11</td>\n",
              "      <td>2018-04-19</td>\n",
              "      <td>100000003</td>\n",
              "      <td>AMER</td>\n",
              "      <td>USD</td>\n",
              "      <td>1598.0</td>\n",
              "      <td>1398.25</td>\n",
              "      <td>-199.000</td>\n",
              "    </tr>\n",
              "    <tr>\n",
              "      <th>10</th>\n",
              "      <td>500000018</td>\n",
              "      <td>1</td>\n",
              "      <td>2018-02-06</td>\n",
              "      <td>1</td>\n",
              "      <td>2018-02-07</td>\n",
              "      <td>100000034</td>\n",
              "      <td>AMER</td>\n",
              "      <td>USD</td>\n",
              "      <td>2871.0</td>\n",
              "      <td>-887.00</td>\n",
              "      <td>358.875</td>\n",
              "    </tr>\n",
              "  </tbody>\n",
              "</table>\n",
              "</div>"
            ],
            "text/plain": [
              "    SALESORDERID  CREATEDBY CREATED_AT  ...  GROSS_AMOUNT NETAMOUNT  TAXAMOUNT\n",
              "0      500000049          8 2018-03-21  ...       -9889.0  66190.25   9455.750\n",
              "1      500000040          8 2018-03-06  ...        -888.0  38183.25   5454.750\n",
              "5      500000007          4 2018-01-19  ...        1398.0  -6745.00    174.750\n",
              "7      500000062         11 2018-04-16  ...        1598.0   1398.25   -199.000\n",
              "10     500000018          1 2018-02-06  ...        2871.0   -887.00    358.875\n",
              "\n",
              "[5 rows x 11 columns]"
            ]
          },
          "metadata": {},
          "execution_count": 26
        }
      ]
    },
    {
      "cell_type": "code",
      "metadata": {
        "id": "V-h1VdXSu5tx"
      },
      "source": [
        "sales_orders['GROSS_AMOUNT']=np.where(sales_orders['GROSS_AMOUNT']<0,(sales_orders['NETAMOUNT']+sales_orders['TAXAMOUNT']),sales_orders['GROSS_AMOUNT'])\n",
        "sales_orders['NETAMOUNT']=np.where(sales_orders['NETAMOUNT']<0,(sales_orders['GROSS_AMOUNT'] - sales_orders['TAXAMOUNT']),sales_orders['NETAMOUNT'])\n",
        "sales_orders['TAXAMOUNT']=np.where(sales_orders['TAXAMOUNT']<0,( sales_orders['GROSS_AMOUNT'] - sales_orders['NETAMOUNT']),sales_orders['TAXAMOUNT'])"
      ],
      "execution_count": null,
      "outputs": []
    },
    {
      "cell_type": "markdown",
      "metadata": {
        "id": "M8ZMe4vYvbHQ"
      },
      "source": [
        "To check the inaccuracies in amounts, we again run the code for amount<0."
      ]
    },
    {
      "cell_type": "code",
      "metadata": {
        "colab": {
          "base_uri": "https://localhost:8080/",
          "height": 49
        },
        "id": "VcsVqK6jviuV",
        "outputId": "79517e53-63e7-419d-da51-11639d3fe0bd"
      },
      "source": [
        "sales_orders[(sales_orders['GROSS_AMOUNT']<0) | (sales_orders['NETAMOUNT']<0)|(sales_orders['TAXAMOUNT']<0)].head()"
      ],
      "execution_count": null,
      "outputs": [
        {
          "output_type": "execute_result",
          "data": {
            "text/html": [
              "<div>\n",
              "<style scoped>\n",
              "    .dataframe tbody tr th:only-of-type {\n",
              "        vertical-align: middle;\n",
              "    }\n",
              "\n",
              "    .dataframe tbody tr th {\n",
              "        vertical-align: top;\n",
              "    }\n",
              "\n",
              "    .dataframe thead th {\n",
              "        text-align: right;\n",
              "    }\n",
              "</style>\n",
              "<table border=\"1\" class=\"dataframe\">\n",
              "  <thead>\n",
              "    <tr style=\"text-align: right;\">\n",
              "      <th></th>\n",
              "      <th>SALESORDERID</th>\n",
              "      <th>CREATEDBY</th>\n",
              "      <th>CREATED_AT</th>\n",
              "      <th>CHANGEDBY</th>\n",
              "      <th>CHANGED_AT</th>\n",
              "      <th>PARTNER_ID</th>\n",
              "      <th>SALESORG</th>\n",
              "      <th>CURRENCY</th>\n",
              "      <th>GROSS_AMOUNT</th>\n",
              "      <th>NETAMOUNT</th>\n",
              "      <th>TAXAMOUNT</th>\n",
              "    </tr>\n",
              "  </thead>\n",
              "  <tbody>\n",
              "  </tbody>\n",
              "</table>\n",
              "</div>"
            ],
            "text/plain": [
              "Empty DataFrame\n",
              "Columns: [SALESORDERID, CREATEDBY, CREATED_AT, CHANGEDBY, CHANGED_AT, PARTNER_ID, SALESORG, CURRENCY, GROSS_AMOUNT, NETAMOUNT, TAXAMOUNT]\n",
              "Index: []"
            ]
          },
          "metadata": {},
          "execution_count": 28
        }
      ]
    },
    {
      "cell_type": "markdown",
      "metadata": {
        "id": "EdBZv96IwIwJ"
      },
      "source": [
        "Thus, we can observe that no observation has inaccurate (negative) amount."
      ]
    },
    {
      "cell_type": "markdown",
      "metadata": {
        "id": "uH_TE9XEwsIc"
      },
      "source": [
        "**Renaming Columns**<a id='rc_so'></a>\n",
        "\n",
        "Some columns has unwanted spacing. To keep the format of all column names same, we rename columns by removing extra spacing and '_' symbol:"
      ]
    },
    {
      "cell_type": "code",
      "metadata": {
        "colab": {
          "base_uri": "https://localhost:8080/"
        },
        "id": "T8M_LBgExHpX",
        "outputId": "5409c258-07ea-4924-cdf6-7cc9314b8257"
      },
      "source": [
        "sales_orders.columns=sales_orders.columns.str.strip()\n",
        "sales_orders.rename(columns=lambda x: x.replace('_', ''), inplace=True)\n",
        "sales_orders.columns\n"
      ],
      "execution_count": null,
      "outputs": [
        {
          "output_type": "execute_result",
          "data": {
            "text/plain": [
              "Index(['SALESORDERID', 'CREATEDBY', 'CREATEDAT', 'CHANGEDBY', 'CHANGEDAT',\n",
              "       'PARTNERID', 'SALESORG', 'CURRENCY', 'GROSSAMOUNT', 'NETAMOUNT',\n",
              "       'TAXAMOUNT'],\n",
              "      dtype='object')"
            ]
          },
          "metadata": {},
          "execution_count": 29
        }
      ]
    },
    {
      "cell_type": "markdown",
      "metadata": {
        "id": "wQCohRoleNHu"
      },
      "source": [
        "# Sales Order Items<a id='soi'></a>\n"
      ]
    },
    {
      "cell_type": "markdown",
      "metadata": {
        "id": "xhbmQsv7SqA4"
      },
      "source": [
        "**Data Selection**<a id='ds_soi'></a>"
      ]
    },
    {
      "cell_type": "code",
      "metadata": {
        "colab": {
          "base_uri": "https://localhost:8080/",
          "height": 484
        },
        "id": "-k_s6iQDStr6",
        "outputId": "7d56d367-9428-4921-cc0c-9cbe162df98b"
      },
      "source": [
        "data_info(sales_order_Item)"
      ],
      "execution_count": null,
      "outputs": [
        {
          "output_type": "stream",
          "name": "stdout",
          "text": [
            "Number of rows in dataset: 1934\n",
            "Number of columns in dataset: 13\n",
            "Columns in dataset:\n",
            "Index(['SALESORDERID', 'SALESORDERITEM', 'PRODUCTID', 'NOTEID', 'CURRENCY',\n",
            "       'GROSSAMOUNT', 'NETAMOUNT', 'TAXAMOUNT', 'ITEMATPSTATUS', 'OPITEMPOS',\n",
            "       'QUANTITY', 'QUANTITYUNIT', 'DELIVERYDATE'],\n",
            "      dtype='object')\n"
          ]
        },
        {
          "output_type": "execute_result",
          "data": {
            "text/html": [
              "<div>\n",
              "<style scoped>\n",
              "    .dataframe tbody tr th:only-of-type {\n",
              "        vertical-align: middle;\n",
              "    }\n",
              "\n",
              "    .dataframe tbody tr th {\n",
              "        vertical-align: top;\n",
              "    }\n",
              "\n",
              "    .dataframe thead th {\n",
              "        text-align: right;\n",
              "    }\n",
              "</style>\n",
              "<table border=\"1\" class=\"dataframe\">\n",
              "  <thead>\n",
              "    <tr style=\"text-align: right;\">\n",
              "      <th></th>\n",
              "      <th>SALESORDERID</th>\n",
              "      <th>SALESORDERITEM</th>\n",
              "      <th>PRODUCTID</th>\n",
              "      <th>NOTEID</th>\n",
              "      <th>CURRENCY</th>\n",
              "      <th>GROSSAMOUNT</th>\n",
              "      <th>NETAMOUNT</th>\n",
              "      <th>TAXAMOUNT</th>\n",
              "      <th>ITEMATPSTATUS</th>\n",
              "      <th>OPITEMPOS</th>\n",
              "      <th>QUANTITY</th>\n",
              "      <th>QUANTITYUNIT</th>\n",
              "      <th>DELIVERYDATE</th>\n",
              "    </tr>\n",
              "  </thead>\n",
              "  <tbody>\n",
              "    <tr>\n",
              "      <th>0</th>\n",
              "      <td>500000000</td>\n",
              "      <td>10</td>\n",
              "      <td>MB-1034</td>\n",
              "      <td></td>\n",
              "      <td>USD</td>\n",
              "      <td>2499.0</td>\n",
              "      <td>2186.625</td>\n",
              "      <td>312.375</td>\n",
              "      <td>I</td>\n",
              "      <td>NaN</td>\n",
              "      <td>4</td>\n",
              "      <td>EA</td>\n",
              "      <td>20180311</td>\n",
              "    </tr>\n",
              "    <tr>\n",
              "      <th>1</th>\n",
              "      <td>500000000</td>\n",
              "      <td>20</td>\n",
              "      <td>CB-1161</td>\n",
              "      <td></td>\n",
              "      <td>USD</td>\n",
              "      <td>399.0</td>\n",
              "      <td>349.125</td>\n",
              "      <td>49.875</td>\n",
              "      <td>I</td>\n",
              "      <td>NaN</td>\n",
              "      <td>9</td>\n",
              "      <td>EA</td>\n",
              "      <td>20180311</td>\n",
              "    </tr>\n",
              "    <tr>\n",
              "      <th>2</th>\n",
              "      <td>500000001</td>\n",
              "      <td>10</td>\n",
              "      <td>HB-1175</td>\n",
              "      <td></td>\n",
              "      <td>USD</td>\n",
              "      <td>899.0</td>\n",
              "      <td>786.625</td>\n",
              "      <td>112.375</td>\n",
              "      <td>I</td>\n",
              "      <td>NaN</td>\n",
              "      <td>2</td>\n",
              "      <td>EA</td>\n",
              "      <td>20180228</td>\n",
              "    </tr>\n",
              "    <tr>\n",
              "      <th>3</th>\n",
              "      <td>500000001</td>\n",
              "      <td>20</td>\n",
              "      <td>RC-1056</td>\n",
              "      <td></td>\n",
              "      <td>USD</td>\n",
              "      <td>NaN</td>\n",
              "      <td>2186.625</td>\n",
              "      <td>312.375</td>\n",
              "      <td>I</td>\n",
              "      <td>NaN</td>\n",
              "      <td>2</td>\n",
              "      <td>EA</td>\n",
              "      <td>20180228</td>\n",
              "    </tr>\n",
              "    <tr>\n",
              "      <th>4</th>\n",
              "      <td>500000001</td>\n",
              "      <td>30</td>\n",
              "      <td>CC-1021</td>\n",
              "      <td></td>\n",
              "      <td>USD</td>\n",
              "      <td>1144.0</td>\n",
              "      <td>1001.000</td>\n",
              "      <td>143.000</td>\n",
              "      <td>I</td>\n",
              "      <td>NaN</td>\n",
              "      <td>3</td>\n",
              "      <td>EA</td>\n",
              "      <td>20180228</td>\n",
              "    </tr>\n",
              "    <tr>\n",
              "      <th>5</th>\n",
              "      <td>500000001</td>\n",
              "      <td>40</td>\n",
              "      <td>CB-1161</td>\n",
              "      <td></td>\n",
              "      <td>USD</td>\n",
              "      <td>399.0</td>\n",
              "      <td>349.125</td>\n",
              "      <td>49.875</td>\n",
              "      <td>I</td>\n",
              "      <td>NaN</td>\n",
              "      <td>6</td>\n",
              "      <td>EA</td>\n",
              "      <td>20180228</td>\n",
              "    </tr>\n",
              "    <tr>\n",
              "      <th>6</th>\n",
              "      <td>500000002</td>\n",
              "      <td>10</td>\n",
              "      <td>HB-1175</td>\n",
              "      <td></td>\n",
              "      <td>USD</td>\n",
              "      <td>899.0</td>\n",
              "      <td>786.625</td>\n",
              "      <td>112.375</td>\n",
              "      <td>I</td>\n",
              "      <td>NaN</td>\n",
              "      <td>6</td>\n",
              "      <td>EA</td>\n",
              "      <td>20180309</td>\n",
              "    </tr>\n",
              "    <tr>\n",
              "      <th>7</th>\n",
              "      <td>500000002</td>\n",
              "      <td>20</td>\n",
              "      <td>RC-1055</td>\n",
              "      <td></td>\n",
              "      <td>USD</td>\n",
              "      <td>1999.0</td>\n",
              "      <td>1749.125</td>\n",
              "      <td>249.875</td>\n",
              "      <td>I</td>\n",
              "      <td>NaN</td>\n",
              "      <td>3</td>\n",
              "      <td>EA</td>\n",
              "      <td>20180309</td>\n",
              "    </tr>\n",
              "    <tr>\n",
              "      <th>8</th>\n",
              "      <td>500000002</td>\n",
              "      <td>30</td>\n",
              "      <td>DB-1081</td>\n",
              "      <td></td>\n",
              "      <td>USD</td>\n",
              "      <td>1499.0</td>\n",
              "      <td>1311.625</td>\n",
              "      <td>187.375</td>\n",
              "      <td>I</td>\n",
              "      <td>NaN</td>\n",
              "      <td>3</td>\n",
              "      <td>EA</td>\n",
              "      <td>20180309</td>\n",
              "    </tr>\n",
              "    <tr>\n",
              "      <th>9</th>\n",
              "      <td>500000002</td>\n",
              "      <td>40</td>\n",
              "      <td>EB-1133</td>\n",
              "      <td></td>\n",
              "      <td>NaN</td>\n",
              "      <td>2250.0</td>\n",
              "      <td>1968.750</td>\n",
              "      <td>281.250</td>\n",
              "      <td>I</td>\n",
              "      <td>NaN</td>\n",
              "      <td>10</td>\n",
              "      <td>EA</td>\n",
              "      <td>20180309</td>\n",
              "    </tr>\n",
              "  </tbody>\n",
              "</table>\n",
              "</div>"
            ],
            "text/plain": [
              "   SALESORDERID  SALESORDERITEM PRODUCTID  ... QUANTITY QUANTITYUNIT  DELIVERYDATE\n",
              "0     500000000              10   MB-1034  ...        4           EA      20180311\n",
              "1     500000000              20   CB-1161  ...        9           EA      20180311\n",
              "2     500000001              10   HB-1175  ...        2           EA      20180228\n",
              "3     500000001              20   RC-1056  ...        2           EA      20180228\n",
              "4     500000001              30   CC-1021  ...        3           EA      20180228\n",
              "5     500000001              40   CB-1161  ...        6           EA      20180228\n",
              "6     500000002              10   HB-1175  ...        6           EA      20180309\n",
              "7     500000002              20   RC-1055  ...        3           EA      20180309\n",
              "8     500000002              30   DB-1081  ...        3           EA      20180309\n",
              "9     500000002              40   EB-1133  ...       10           EA      20180309\n",
              "\n",
              "[10 rows x 13 columns]"
            ]
          },
          "metadata": {},
          "execution_count": 30
        }
      ]
    },
    {
      "cell_type": "code",
      "source": [
        "col_info(sales_order_Item)"
      ],
      "metadata": {
        "colab": {
          "base_uri": "https://localhost:8080/"
        },
        "id": "BBjPbFdCE828",
        "outputId": "7a35a1aa-fc84-47e8-f263-95ed7387b7dd"
      },
      "execution_count": null,
      "outputs": [
        {
          "output_type": "stream",
          "name": "stdout",
          "text": [
            "\u001b[1m SALESORDERID \u001b[0m: int64 : 334 levels\n",
            "[500000000, 500000001, 500000002, 500000003, 500000004] ...\n",
            "\n",
            "\u001b[1m SALESORDERITEM \u001b[0m: int64 : 10 levels\n",
            "[10, 20, 30, 40, 50, 60, 70, 80, 90, 100] \n",
            "\n",
            "\u001b[1m PRODUCTID \u001b[0m: object : 42 levels\n",
            "['MB-1034', 'CB-1161', 'HB-1175', 'RC-1056', 'CC-1021', 'RC-1055', 'DB-1081'] ...\n",
            "\n",
            "\u001b[1m NOTEID \u001b[0m: object : 1 level\n",
            "[' '] \n",
            "\n",
            "\u001b[1m CURRENCY \u001b[0m: object : 2 levels\n",
            "['USD', nan] \n",
            "\n",
            "\u001b[1m GROSSAMOUNT \u001b[0m: float64 : 36 levels\n",
            "[2499.0, 399.0, 899.0, nan, 1144.0, 1999.0, 1499.0, 2250.0, 299.0] ...\n",
            "\n",
            "\u001b[1m NETAMOUNT \u001b[0m: float64 : 36 levels\n",
            "[2186.625, 349.125, 786.625, 1001.0, 1749.125, 1311.625] ...\n",
            "\n",
            "\u001b[1m TAXAMOUNT \u001b[0m: float64 : 36 levels\n",
            "[312.375, 49.875, 112.375, 143.0, 249.875, 187.375, 281.25] ...\n",
            "\n",
            "\u001b[1m ITEMATPSTATUS \u001b[0m: object : 1 level\n",
            "['I'] \n",
            "\n",
            "\u001b[1m OPITEMPOS \u001b[0m: float64 : 1 level\n",
            "[nan] \n",
            "\n",
            "\u001b[1m QUANTITY \u001b[0m: int64 : 10 levels\n",
            "[4, 9, 2, 3, 6, 10, 5, 1, 8, 7] \n",
            "\n",
            "\u001b[1m QUANTITYUNIT \u001b[0m: object : 1 level\n",
            "['EA'] \n",
            "\n",
            "\u001b[1m DELIVERYDATE \u001b[0m: int64 : 239 levels\n",
            "[20180311, 20180228, 20180309, 20180223, 20180305, 20180301] ...\n",
            "\n"
          ]
        }
      ]
    },
    {
      "cell_type": "markdown",
      "source": [
        "We observed that 'NOTEID' and 'OPITEMPOS' columns are not of use. so, we drop these columns."
      ],
      "metadata": {
        "id": "Ttnn210ZH5pU"
      }
    },
    {
      "cell_type": "code",
      "metadata": {
        "id": "CsHAyxvxUmx5"
      },
      "source": [
        "cols_to_drop=['NOTEID','OPITEMPOS']\n",
        "sales_order_Item.drop(cols_to_drop,axis=1,inplace=True)"
      ],
      "execution_count": null,
      "outputs": []
    },
    {
      "cell_type": "code",
      "metadata": {
        "colab": {
          "base_uri": "https://localhost:8080/"
        },
        "id": "I3s3MgU0VHLt",
        "outputId": "e28e3ae9-0996-4b7d-aa2e-d0eb640940fd"
      },
      "source": [
        "sales_order_Item.columns"
      ],
      "execution_count": null,
      "outputs": [
        {
          "output_type": "execute_result",
          "data": {
            "text/plain": [
              "Index(['SALESORDERID', 'SALESORDERITEM', 'PRODUCTID', 'CURRENCY',\n",
              "       'GROSSAMOUNT', 'NETAMOUNT', 'TAXAMOUNT', 'ITEMATPSTATUS', 'QUANTITY',\n",
              "       'QUANTITYUNIT', 'DELIVERYDATE'],\n",
              "      dtype='object')"
            ]
          },
          "metadata": {},
          "execution_count": 33
        }
      ]
    },
    {
      "cell_type": "markdown",
      "metadata": {
        "id": "KbudTwhMSt-2"
      },
      "source": [
        "**Data Cleaning**<a id='dc_soi'></a>\n",
        "\n",
        "**Missing Data**"
      ]
    },
    {
      "cell_type": "markdown",
      "metadata": {
        "id": "PoVdr_Z9frZe"
      },
      "source": [
        "Let's have a look at the null values in the sales_order_Item dataset:"
      ]
    },
    {
      "cell_type": "code",
      "metadata": {
        "colab": {
          "base_uri": "https://localhost:8080/"
        },
        "id": "MroEWyImSyuP",
        "outputId": "5913cd42-ba5f-4890-fbb4-d21340406a4f"
      },
      "source": [
        "sales_order_Item.isnull().sum()"
      ],
      "execution_count": null,
      "outputs": [
        {
          "output_type": "execute_result",
          "data": {
            "text/plain": [
              "SALESORDERID       0\n",
              "SALESORDERITEM     0\n",
              "PRODUCTID          0\n",
              "CURRENCY          13\n",
              "GROSSAMOUNT        2\n",
              "NETAMOUNT          4\n",
              "TAXAMOUNT          2\n",
              "ITEMATPSTATUS      0\n",
              "QUANTITY           0\n",
              "QUANTITYUNIT       0\n",
              "DELIVERYDATE       0\n",
              "dtype: int64"
            ]
          },
          "metadata": {},
          "execution_count": 34
        }
      ]
    },
    {
      "cell_type": "code",
      "metadata": {
        "colab": {
          "base_uri": "https://localhost:8080/"
        },
        "id": "wDEpXVBPS_TV",
        "outputId": "57e516ad-f68b-4610-aa20-79db25dceefe"
      },
      "source": [
        "sales_order_Item['CURRENCY'].value_counts()\n"
      ],
      "execution_count": null,
      "outputs": [
        {
          "output_type": "execute_result",
          "data": {
            "text/plain": [
              "USD    1921\n",
              "Name: CURRENCY, dtype: int64"
            ]
          },
          "metadata": {},
          "execution_count": 35
        }
      ]
    },
    {
      "cell_type": "markdown",
      "source": [
        "From above code, the currency has only one unique value that is USD. so, we can fill the null values for this column."
      ],
      "metadata": {
        "id": "8pjyw3uymoag"
      }
    },
    {
      "cell_type": "code",
      "metadata": {
        "id": "pKJ-rnb5Wo6t"
      },
      "source": [
        "sales_order_Item['CURRENCY'].fillna('USD',inplace=True)"
      ],
      "execution_count": null,
      "outputs": []
    },
    {
      "cell_type": "markdown",
      "source": [
        "Before filling the missing values, we checked the missing observations."
      ],
      "metadata": {
        "id": "22fcQcbElZM9"
      }
    },
    {
      "cell_type": "code",
      "source": [
        "sales_order_Item.loc[(sales_order_Item['GROSSAMOUNT'].isnull()) | (sales_order_Item['TAXAMOUNT'].isnull()) | (sales_order_Item['NETAMOUNT'].isnull())]\n"
      ],
      "metadata": {
        "colab": {
          "base_uri": "https://localhost:8080/",
          "height": 300
        },
        "id": "aBh7n3S3lAq3",
        "outputId": "5af9ea69-b44a-4628-ede8-120c03d8fcb5"
      },
      "execution_count": null,
      "outputs": [
        {
          "output_type": "execute_result",
          "data": {
            "text/html": [
              "<div>\n",
              "<style scoped>\n",
              "    .dataframe tbody tr th:only-of-type {\n",
              "        vertical-align: middle;\n",
              "    }\n",
              "\n",
              "    .dataframe tbody tr th {\n",
              "        vertical-align: top;\n",
              "    }\n",
              "\n",
              "    .dataframe thead th {\n",
              "        text-align: right;\n",
              "    }\n",
              "</style>\n",
              "<table border=\"1\" class=\"dataframe\">\n",
              "  <thead>\n",
              "    <tr style=\"text-align: right;\">\n",
              "      <th></th>\n",
              "      <th>SALESORDERID</th>\n",
              "      <th>SALESORDERITEM</th>\n",
              "      <th>PRODUCTID</th>\n",
              "      <th>CURRENCY</th>\n",
              "      <th>GROSSAMOUNT</th>\n",
              "      <th>NETAMOUNT</th>\n",
              "      <th>TAXAMOUNT</th>\n",
              "      <th>ITEMATPSTATUS</th>\n",
              "      <th>QUANTITY</th>\n",
              "      <th>QUANTITYUNIT</th>\n",
              "      <th>DELIVERYDATE</th>\n",
              "    </tr>\n",
              "  </thead>\n",
              "  <tbody>\n",
              "    <tr>\n",
              "      <th>3</th>\n",
              "      <td>500000001</td>\n",
              "      <td>20</td>\n",
              "      <td>RC-1056</td>\n",
              "      <td>USD</td>\n",
              "      <td>NaN</td>\n",
              "      <td>2186.625</td>\n",
              "      <td>312.375</td>\n",
              "      <td>I</td>\n",
              "      <td>2</td>\n",
              "      <td>EA</td>\n",
              "      <td>20180228</td>\n",
              "    </tr>\n",
              "    <tr>\n",
              "      <th>35</th>\n",
              "      <td>500000006</td>\n",
              "      <td>20</td>\n",
              "      <td>CB-1163</td>\n",
              "      <td>USD</td>\n",
              "      <td>288.0</td>\n",
              "      <td>NaN</td>\n",
              "      <td>36.000</td>\n",
              "      <td>I</td>\n",
              "      <td>8</td>\n",
              "      <td>EA</td>\n",
              "      <td>20180314</td>\n",
              "    </tr>\n",
              "    <tr>\n",
              "      <th>55</th>\n",
              "      <td>500000009</td>\n",
              "      <td>100</td>\n",
              "      <td>HB-1175</td>\n",
              "      <td>USD</td>\n",
              "      <td>899.0</td>\n",
              "      <td>786.625</td>\n",
              "      <td>NaN</td>\n",
              "      <td>I</td>\n",
              "      <td>2</td>\n",
              "      <td>EA</td>\n",
              "      <td>20180309</td>\n",
              "    </tr>\n",
              "    <tr>\n",
              "      <th>88</th>\n",
              "      <td>500000016</td>\n",
              "      <td>40</td>\n",
              "      <td>EB-1133</td>\n",
              "      <td>USD</td>\n",
              "      <td>2250.0</td>\n",
              "      <td>NaN</td>\n",
              "      <td>281.250</td>\n",
              "      <td>I</td>\n",
              "      <td>2</td>\n",
              "      <td>EA</td>\n",
              "      <td>20180307</td>\n",
              "    </tr>\n",
              "    <tr>\n",
              "      <th>168</th>\n",
              "      <td>500000030</td>\n",
              "      <td>60</td>\n",
              "      <td>HB-1174</td>\n",
              "      <td>USD</td>\n",
              "      <td>379.0</td>\n",
              "      <td>NaN</td>\n",
              "      <td>47.375</td>\n",
              "      <td>I</td>\n",
              "      <td>7</td>\n",
              "      <td>EA</td>\n",
              "      <td>20180325</td>\n",
              "    </tr>\n",
              "    <tr>\n",
              "      <th>188</th>\n",
              "      <td>500000033</td>\n",
              "      <td>40</td>\n",
              "      <td>RC-1052</td>\n",
              "      <td>USD</td>\n",
              "      <td>NaN</td>\n",
              "      <td>3499.125</td>\n",
              "      <td>499.875</td>\n",
              "      <td>I</td>\n",
              "      <td>10</td>\n",
              "      <td>EA</td>\n",
              "      <td>20180401</td>\n",
              "    </tr>\n",
              "    <tr>\n",
              "      <th>216</th>\n",
              "      <td>500000040</td>\n",
              "      <td>30</td>\n",
              "      <td>EB-1134</td>\n",
              "      <td>USD</td>\n",
              "      <td>4800.0</td>\n",
              "      <td>4200.000</td>\n",
              "      <td>NaN</td>\n",
              "      <td>I</td>\n",
              "      <td>3</td>\n",
              "      <td>EA</td>\n",
              "      <td>20180505</td>\n",
              "    </tr>\n",
              "    <tr>\n",
              "      <th>244</th>\n",
              "      <td>500000046</td>\n",
              "      <td>30</td>\n",
              "      <td>RC-1054</td>\n",
              "      <td>USD</td>\n",
              "      <td>5499.0</td>\n",
              "      <td>NaN</td>\n",
              "      <td>687.375</td>\n",
              "      <td>I</td>\n",
              "      <td>9</td>\n",
              "      <td>EA</td>\n",
              "      <td>20180508</td>\n",
              "    </tr>\n",
              "  </tbody>\n",
              "</table>\n",
              "</div>"
            ],
            "text/plain": [
              "     SALESORDERID  SALESORDERITEM  ... QUANTITYUNIT DELIVERYDATE\n",
              "3       500000001              20  ...           EA     20180228\n",
              "35      500000006              20  ...           EA     20180314\n",
              "55      500000009             100  ...           EA     20180309\n",
              "88      500000016              40  ...           EA     20180307\n",
              "168     500000030              60  ...           EA     20180325\n",
              "188     500000033              40  ...           EA     20180401\n",
              "216     500000040              30  ...           EA     20180505\n",
              "244     500000046              30  ...           EA     20180508\n",
              "\n",
              "[8 rows x 11 columns]"
            ]
          },
          "metadata": {},
          "execution_count": 37
        }
      ]
    },
    {
      "cell_type": "markdown",
      "source": [
        "As, the gross amount, tax amount and net amount are missing in different rows, so we can fill them using following codes:"
      ],
      "metadata": {
        "id": "CHqXl--0lxw1"
      }
    },
    {
      "cell_type": "code",
      "metadata": {
        "id": "CKhyj96TW9df"
      },
      "source": [
        "sales_order_Item['GROSSAMOUNT'].fillna(sales_order_Item['NETAMOUNT']+sales_order_Item['TAXAMOUNT'],inplace = True)\n",
        "sales_order_Item['NETAMOUNT'].fillna(sales_order_Item['GROSSAMOUNT']-sales_order_Item['TAXAMOUNT'],inplace=True)\n",
        "sales_order_Item['TAXAMOUNT'].fillna(sales_order_Item['GROSSAMOUNT']-sales_order_Item['NETAMOUNT'],inplace = True)\n"
      ],
      "execution_count": null,
      "outputs": []
    },
    {
      "cell_type": "code",
      "metadata": {
        "colab": {
          "base_uri": "https://localhost:8080/"
        },
        "id": "AikJFG95ipQW",
        "outputId": "e39c514e-ea48-4b0a-df68-6ec10d02a195"
      },
      "source": [
        "sales_order_Item.isnull().sum().sum()"
      ],
      "execution_count": null,
      "outputs": [
        {
          "output_type": "execute_result",
          "data": {
            "text/plain": [
              "0"
            ]
          },
          "metadata": {},
          "execution_count": 39
        }
      ]
    },
    {
      "cell_type": "markdown",
      "source": [
        "**Checking Duplicates**<a id='cd_soi'></a>"
      ],
      "metadata": {
        "id": "ZAVEU4_om12y"
      }
    },
    {
      "cell_type": "code",
      "metadata": {
        "colab": {
          "base_uri": "https://localhost:8080/",
          "height": 175
        },
        "id": "4TcE0Cp4iypR",
        "outputId": "2378b8ff-abb2-49b9-8c8f-72bdbd9362b9"
      },
      "source": [
        "sales_order_Item[sales_order_Item.duplicated()]"
      ],
      "execution_count": null,
      "outputs": [
        {
          "output_type": "execute_result",
          "data": {
            "text/html": [
              "<div>\n",
              "<style scoped>\n",
              "    .dataframe tbody tr th:only-of-type {\n",
              "        vertical-align: middle;\n",
              "    }\n",
              "\n",
              "    .dataframe tbody tr th {\n",
              "        vertical-align: top;\n",
              "    }\n",
              "\n",
              "    .dataframe thead th {\n",
              "        text-align: right;\n",
              "    }\n",
              "</style>\n",
              "<table border=\"1\" class=\"dataframe\">\n",
              "  <thead>\n",
              "    <tr style=\"text-align: right;\">\n",
              "      <th></th>\n",
              "      <th>SALESORDERID</th>\n",
              "      <th>SALESORDERITEM</th>\n",
              "      <th>PRODUCTID</th>\n",
              "      <th>CURRENCY</th>\n",
              "      <th>GROSSAMOUNT</th>\n",
              "      <th>NETAMOUNT</th>\n",
              "      <th>TAXAMOUNT</th>\n",
              "      <th>ITEMATPSTATUS</th>\n",
              "      <th>QUANTITY</th>\n",
              "      <th>QUANTITYUNIT</th>\n",
              "      <th>DELIVERYDATE</th>\n",
              "    </tr>\n",
              "  </thead>\n",
              "  <tbody>\n",
              "    <tr>\n",
              "      <th>1930</th>\n",
              "      <td>500000329</td>\n",
              "      <td>40</td>\n",
              "      <td>RC-1053</td>\n",
              "      <td>USD</td>\n",
              "      <td>4599.0</td>\n",
              "      <td>4024.125</td>\n",
              "      <td>574.875</td>\n",
              "      <td>I</td>\n",
              "      <td>3</td>\n",
              "      <td>EA</td>\n",
              "      <td>20190613</td>\n",
              "    </tr>\n",
              "    <tr>\n",
              "      <th>1931</th>\n",
              "      <td>500000329</td>\n",
              "      <td>50</td>\n",
              "      <td>CC-1023</td>\n",
              "      <td>USD</td>\n",
              "      <td>1361.0</td>\n",
              "      <td>1190.875</td>\n",
              "      <td>170.125</td>\n",
              "      <td>I</td>\n",
              "      <td>9</td>\n",
              "      <td>EA</td>\n",
              "      <td>20190613</td>\n",
              "    </tr>\n",
              "    <tr>\n",
              "      <th>1932</th>\n",
              "      <td>500000200</td>\n",
              "      <td>30</td>\n",
              "      <td>MB-1033</td>\n",
              "      <td>USD</td>\n",
              "      <td>3999.0</td>\n",
              "      <td>3499.125</td>\n",
              "      <td>499.875</td>\n",
              "      <td>I</td>\n",
              "      <td>7</td>\n",
              "      <td>EA</td>\n",
              "      <td>20190108</td>\n",
              "    </tr>\n",
              "    <tr>\n",
              "      <th>1933</th>\n",
              "      <td>500000201</td>\n",
              "      <td>10</td>\n",
              "      <td>RC-1054</td>\n",
              "      <td>USD</td>\n",
              "      <td>5499.0</td>\n",
              "      <td>4811.625</td>\n",
              "      <td>687.375</td>\n",
              "      <td>I</td>\n",
              "      <td>4</td>\n",
              "      <td>EA</td>\n",
              "      <td>20190121</td>\n",
              "    </tr>\n",
              "  </tbody>\n",
              "</table>\n",
              "</div>"
            ],
            "text/plain": [
              "      SALESORDERID  SALESORDERITEM  ... QUANTITYUNIT DELIVERYDATE\n",
              "1930     500000329              40  ...           EA     20190613\n",
              "1931     500000329              50  ...           EA     20190613\n",
              "1932     500000200              30  ...           EA     20190108\n",
              "1933     500000201              10  ...           EA     20190121\n",
              "\n",
              "[4 rows x 11 columns]"
            ]
          },
          "metadata": {},
          "execution_count": 40
        }
      ]
    },
    {
      "cell_type": "markdown",
      "source": [
        "To verify and check the row numbers for duplicated values, we use following code:"
      ],
      "metadata": {
        "id": "gfljeY_fm-EL"
      }
    },
    {
      "cell_type": "code",
      "metadata": {
        "colab": {
          "base_uri": "https://localhost:8080/"
        },
        "id": "eEpDZPBbi3Ug",
        "outputId": "334d10af-9236-4a03-dbb8-11ab58e6522e"
      },
      "source": [
        "saleslist = [500000329,500000329,500000200,500000201]\n",
        "productlist = ['RC-1053','CC-1023','MB-1033','RC-1054']\n",
        "for i,j in zip(saleslist,productlist):\n",
        "  print(sales_order_Item[(sales_order_Item['SALESORDERID']==i) & (sales_order_Item['PRODUCTID']==j)])"
      ],
      "execution_count": null,
      "outputs": [
        {
          "output_type": "stream",
          "name": "stdout",
          "text": [
            "      SALESORDERID  SALESORDERITEM  ... QUANTITYUNIT DELIVERYDATE\n",
            "1901     500000329              10  ...           EA     20190613\n",
            "1904     500000329              40  ...           EA     20190613\n",
            "1930     500000329              40  ...           EA     20190613\n",
            "\n",
            "[3 rows x 11 columns]\n",
            "      SALESORDERID  SALESORDERITEM  ... QUANTITYUNIT DELIVERYDATE\n",
            "1905     500000329              50  ...           EA     20190613\n",
            "1931     500000329              50  ...           EA     20190613\n",
            "\n",
            "[2 rows x 11 columns]\n",
            "      SALESORDERID  SALESORDERITEM  ... QUANTITYUNIT DELIVERYDATE\n",
            "1132     500000200              30  ...           EA     20190108\n",
            "1932     500000200              30  ...           EA     20190108\n",
            "\n",
            "[2 rows x 11 columns]\n",
            "      SALESORDERID  SALESORDERITEM  ... QUANTITYUNIT DELIVERYDATE\n",
            "1133     500000201              10  ...           EA     20190121\n",
            "1933     500000201              10  ...           EA     20190121\n",
            "\n",
            "[2 rows x 11 columns]\n"
          ]
        }
      ]
    },
    {
      "cell_type": "code",
      "metadata": {
        "colab": {
          "base_uri": "https://localhost:8080/",
          "height": 49
        },
        "id": "HeORZh7_mV5S",
        "outputId": "6dc1caf6-409b-4601-f7df-86d61ed77c84"
      },
      "source": [
        "#Remove Duplicates\n",
        "indexes = [1933,1932,1931,1930]\n",
        "for i in indexes:\n",
        "   sales_order_Item.drop(sales_order_Item.index[i],inplace=True)\n",
        "sales_order_Item[sales_order_Item.duplicated()]"
      ],
      "execution_count": null,
      "outputs": [
        {
          "output_type": "execute_result",
          "data": {
            "text/html": [
              "<div>\n",
              "<style scoped>\n",
              "    .dataframe tbody tr th:only-of-type {\n",
              "        vertical-align: middle;\n",
              "    }\n",
              "\n",
              "    .dataframe tbody tr th {\n",
              "        vertical-align: top;\n",
              "    }\n",
              "\n",
              "    .dataframe thead th {\n",
              "        text-align: right;\n",
              "    }\n",
              "</style>\n",
              "<table border=\"1\" class=\"dataframe\">\n",
              "  <thead>\n",
              "    <tr style=\"text-align: right;\">\n",
              "      <th></th>\n",
              "      <th>SALESORDERID</th>\n",
              "      <th>SALESORDERITEM</th>\n",
              "      <th>PRODUCTID</th>\n",
              "      <th>CURRENCY</th>\n",
              "      <th>GROSSAMOUNT</th>\n",
              "      <th>NETAMOUNT</th>\n",
              "      <th>TAXAMOUNT</th>\n",
              "      <th>ITEMATPSTATUS</th>\n",
              "      <th>QUANTITY</th>\n",
              "      <th>QUANTITYUNIT</th>\n",
              "      <th>DELIVERYDATE</th>\n",
              "    </tr>\n",
              "  </thead>\n",
              "  <tbody>\n",
              "  </tbody>\n",
              "</table>\n",
              "</div>"
            ],
            "text/plain": [
              "Empty DataFrame\n",
              "Columns: [SALESORDERID, SALESORDERITEM, PRODUCTID, CURRENCY, GROSSAMOUNT, NETAMOUNT, TAXAMOUNT, ITEMATPSTATUS, QUANTITY, QUANTITYUNIT, DELIVERYDATE]\n",
              "Index: []"
            ]
          },
          "metadata": {},
          "execution_count": 42
        }
      ]
    },
    {
      "cell_type": "code",
      "metadata": {
        "colab": {
          "base_uri": "https://localhost:8080/"
        },
        "id": "jOiguqAFqktm",
        "outputId": "3015d0ba-7e9b-4b5c-96a0-cec7384b7561"
      },
      "source": [
        "print(\"Number of rows after cleaning:\", len(sales_order_Item))\n",
        "print(\"Number of columns after cleaning:\", len(sales_order_Item.columns))"
      ],
      "execution_count": null,
      "outputs": [
        {
          "output_type": "stream",
          "name": "stdout",
          "text": [
            "Number of rows after cleaning: 1930\n",
            "Number of columns after cleaning: 11\n"
          ]
        }
      ]
    },
    {
      "cell_type": "markdown",
      "metadata": {
        "id": "Dv0Bfj4jSzrC"
      },
      "source": [
        "**Data Formatting**<a id='df_soi'></a>\n",
        "\n",
        "DELIVERYDATE column is not in date format. So, we format it."
      ]
    },
    {
      "cell_type": "code",
      "metadata": {
        "id": "DUcqsnKDrnO_"
      },
      "source": [
        "import datetime\n",
        "sales_order_Item['DELIVERYDATE']=pd.to_datetime(sales_order_Item['DELIVERYDATE'])"
      ],
      "execution_count": null,
      "outputs": []
    },
    {
      "cell_type": "code",
      "metadata": {
        "colab": {
          "base_uri": "https://localhost:8080/"
        },
        "id": "xOK5zQHrBNba",
        "outputId": "510d9b8b-9f12-4230-899b-85f0bea23596"
      },
      "source": [
        "sales_order_Item[['DELIVERYDATE']].dtypes"
      ],
      "execution_count": null,
      "outputs": [
        {
          "output_type": "execute_result",
          "data": {
            "text/plain": [
              "DELIVERYDATE    datetime64[ns]\n",
              "dtype: object"
            ]
          },
          "metadata": {},
          "execution_count": 45
        }
      ]
    },
    {
      "cell_type": "markdown",
      "metadata": {
        "id": "RUhjvUppgVh2"
      },
      "source": [
        "# Employees<a id='e'></a>\n"
      ]
    },
    {
      "cell_type": "code",
      "metadata": {
        "colab": {
          "base_uri": "https://localhost:8080/",
          "height": 504
        },
        "id": "iT_yfbXPgZrr",
        "outputId": "ea2ebe3f-4ff6-4a94-d86e-87ad76d45657"
      },
      "source": [
        "data_info(Employees)"
      ],
      "execution_count": null,
      "outputs": [
        {
          "output_type": "stream",
          "name": "stdout",
          "text": [
            "Number of rows in dataset: 15\n",
            "Number of columns in dataset: 13\n",
            "Columns in dataset:\n",
            "Index(['EMPLOYEEID', 'NAME_FIRST', 'NAME_MIDDLE', 'NAME_LAST', 'NAME_INITIALS',\n",
            "       'SEX', 'LANGUAGE', 'PHONENUMBER', 'EMAILADDRESS', 'LOGINNAME',\n",
            "       'ADDRESSID', 'VALIDITY_STARTDATE', 'VALIDITY_ENDDATE'],\n",
            "      dtype='object')\n"
          ]
        },
        {
          "output_type": "execute_result",
          "data": {
            "text/html": [
              "<div>\n",
              "<style scoped>\n",
              "    .dataframe tbody tr th:only-of-type {\n",
              "        vertical-align: middle;\n",
              "    }\n",
              "\n",
              "    .dataframe tbody tr th {\n",
              "        vertical-align: top;\n",
              "    }\n",
              "\n",
              "    .dataframe thead th {\n",
              "        text-align: right;\n",
              "    }\n",
              "</style>\n",
              "<table border=\"1\" class=\"dataframe\">\n",
              "  <thead>\n",
              "    <tr style=\"text-align: right;\">\n",
              "      <th></th>\n",
              "      <th>EMPLOYEEID</th>\n",
              "      <th>NAME_FIRST</th>\n",
              "      <th>NAME_MIDDLE</th>\n",
              "      <th>NAME_LAST</th>\n",
              "      <th>NAME_INITIALS</th>\n",
              "      <th>SEX</th>\n",
              "      <th>LANGUAGE</th>\n",
              "      <th>PHONENUMBER</th>\n",
              "      <th>EMAILADDRESS</th>\n",
              "      <th>LOGINNAME</th>\n",
              "      <th>ADDRESSID</th>\n",
              "      <th>VALIDITY_STARTDATE</th>\n",
              "      <th>VALIDITY_ENDDATE</th>\n",
              "    </tr>\n",
              "  </thead>\n",
              "  <tbody>\n",
              "    <tr>\n",
              "      <th>0</th>\n",
              "      <td>1</td>\n",
              "      <td>Derrick</td>\n",
              "      <td>L</td>\n",
              "      <td>Magill</td>\n",
              "      <td>NaN</td>\n",
              "      <td>M</td>\n",
              "      <td>E</td>\n",
              "      <td>630-374-0306</td>\n",
              "      <td>derrick.magill@itelo.info</td>\n",
              "      <td>derrickm</td>\n",
              "      <td>1000000001</td>\n",
              "      <td>20000101</td>\n",
              "      <td>99991231</td>\n",
              "    </tr>\n",
              "    <tr>\n",
              "      <th>1</th>\n",
              "      <td>2</td>\n",
              "      <td>Philipp</td>\n",
              "      <td>T</td>\n",
              "      <td>Egger</td>\n",
              "      <td>NaN</td>\n",
              "      <td>M</td>\n",
              "      <td>E</td>\n",
              "      <td>09603 61 24 64</td>\n",
              "      <td>philipp.egger@</td>\n",
              "      <td>philippm</td>\n",
              "      <td>1000000002</td>\n",
              "      <td>20000101</td>\n",
              "      <td>99991231</td>\n",
              "    </tr>\n",
              "    <tr>\n",
              "      <th>2</th>\n",
              "      <td>3</td>\n",
              "      <td>Ellis</td>\n",
              "      <td>K</td>\n",
              "      <td>Robertson</td>\n",
              "      <td>NaN</td>\n",
              "      <td>M</td>\n",
              "      <td>E</td>\n",
              "      <td>070 8691 2288</td>\n",
              "      <td>ellis.robertson@itelo.info</td>\n",
              "      <td>ellism</td>\n",
              "      <td>1000000003</td>\n",
              "      <td>20000101</td>\n",
              "      <td>99991231</td>\n",
              "    </tr>\n",
              "    <tr>\n",
              "      <th>3</th>\n",
              "      <td>4</td>\n",
              "      <td>William</td>\n",
              "      <td>M</td>\n",
              "      <td>Mussen</td>\n",
              "      <td>NaN</td>\n",
              "      <td>M</td>\n",
              "      <td>E</td>\n",
              "      <td>026734 4556</td>\n",
              "      <td>NaN</td>\n",
              "      <td>NaN</td>\n",
              "      <td>1000000004</td>\n",
              "      <td>20000101</td>\n",
              "      <td>99991231</td>\n",
              "    </tr>\n",
              "    <tr>\n",
              "      <th>4</th>\n",
              "      <td>5</td>\n",
              "      <td>Javas</td>\n",
              "      <td>NaN</td>\n",
              "      <td>Hegde</td>\n",
              "      <td>NaN</td>\n",
              "      <td>M</td>\n",
              "      <td>E</td>\n",
              "      <td>2224135120</td>\n",
              "      <td>javas.hegde@itelo.info</td>\n",
              "      <td>javasm</td>\n",
              "      <td>1000000005</td>\n",
              "      <td>20000101</td>\n",
              "      <td>99991231</td>\n",
              "    </tr>\n",
              "    <tr>\n",
              "      <th>5</th>\n",
              "      <td>6</td>\n",
              "      <td>Haseena al</td>\n",
              "      <td>NaN</td>\n",
              "      <td>Yousuf</td>\n",
              "      <td>NaN</td>\n",
              "      <td>F</td>\n",
              "      <td>E</td>\n",
              "      <td>2288340</td>\n",
              "      <td>alhaseena.yousuf@itelo.info</td>\n",
              "      <td>haseena alf</td>\n",
              "      <td>1000000006</td>\n",
              "      <td>20000101</td>\n",
              "      <td>99991231</td>\n",
              "    </tr>\n",
              "    <tr>\n",
              "      <th>6</th>\n",
              "      <td>6</td>\n",
              "      <td>Haseena al</td>\n",
              "      <td>NaN</td>\n",
              "      <td>Yousuf</td>\n",
              "      <td>NaN</td>\n",
              "      <td>F</td>\n",
              "      <td>E</td>\n",
              "      <td>2288340</td>\n",
              "      <td>alhaseena.yousuf@itelo.info</td>\n",
              "      <td>haseena alf</td>\n",
              "      <td>1000000006</td>\n",
              "      <td>20000101</td>\n",
              "      <td>99991231</td>\n",
              "    </tr>\n",
              "    <tr>\n",
              "      <th>7</th>\n",
              "      <td>7</td>\n",
              "      <td>Roberta</td>\n",
              "      <td>M</td>\n",
              "      <td>Holloway</td>\n",
              "      <td>NaN</td>\n",
              "      <td>F</td>\n",
              "      <td>E</td>\n",
              "      <td>306-598-7404</td>\n",
              "      <td>NaN</td>\n",
              "      <td>NaN</td>\n",
              "      <td>1000000007</td>\n",
              "      <td>20000101</td>\n",
              "      <td>99991231</td>\n",
              "    </tr>\n",
              "    <tr>\n",
              "      <th>8</th>\n",
              "      <td>8</td>\n",
              "      <td>Pénélope</td>\n",
              "      <td>G</td>\n",
              "      <td>Duperré</td>\n",
              "      <td>NaN</td>\n",
              "      <td>F</td>\n",
              "      <td>E</td>\n",
              "      <td>03.23.46.10404</td>\n",
              "      <td>penelope.duperre@itelo.info</td>\n",
              "      <td>penelopef</td>\n",
              "      <td>1000000008</td>\n",
              "      <td>20000101</td>\n",
              "      <td>99991231</td>\n",
              "    </tr>\n",
              "    <tr>\n",
              "      <th>9</th>\n",
              "      <td>9</td>\n",
              "      <td>Kirk</td>\n",
              "      <td>J</td>\n",
              "      <td>Lee</td>\n",
              "      <td>NaN</td>\n",
              "      <td>M</td>\n",
              "      <td>E</td>\n",
              "      <td>805-756-6064</td>\n",
              "      <td>kirk.lee@itelo.info</td>\n",
              "      <td>kirkm</td>\n",
              "      <td>1000000009</td>\n",
              "      <td>20000101</td>\n",
              "      <td>99991231</td>\n",
              "    </tr>\n",
              "  </tbody>\n",
              "</table>\n",
              "</div>"
            ],
            "text/plain": [
              "   EMPLOYEEID  NAME_FIRST  ... VALIDITY_STARTDATE VALIDITY_ENDDATE\n",
              "0           1     Derrick  ...           20000101         99991231\n",
              "1           2     Philipp  ...           20000101         99991231\n",
              "2           3       Ellis  ...           20000101         99991231\n",
              "3           4     William  ...           20000101         99991231\n",
              "4           5       Javas  ...           20000101         99991231\n",
              "5           6  Haseena al  ...           20000101         99991231\n",
              "6           6  Haseena al  ...           20000101         99991231\n",
              "7           7     Roberta  ...           20000101         99991231\n",
              "8           8    Pénélope  ...           20000101         99991231\n",
              "9           9        Kirk  ...           20000101         99991231\n",
              "\n",
              "[10 rows x 13 columns]"
            ]
          },
          "metadata": {},
          "execution_count": 46
        }
      ]
    },
    {
      "cell_type": "code",
      "source": [
        "col_info(Employees)"
      ],
      "metadata": {
        "colab": {
          "base_uri": "https://localhost:8080/"
        },
        "id": "tisKsDA8W2Cf",
        "outputId": "1fda6c13-56d2-4b42-ec4e-2a205158c01d"
      },
      "execution_count": null,
      "outputs": [
        {
          "output_type": "stream",
          "name": "stdout",
          "text": [
            "\u001b[1m EMPLOYEEID \u001b[0m: int64 : 14 levels\n",
            "[1, 2, 3, 4, 5, 6, 7, 8, 9, 10, 11, 12] ...\n",
            "\n",
            "\u001b[1m NAME_FIRST \u001b[0m: object : 14 levels\n",
            "['Derrick', 'Philipp', 'Ellis', 'William', 'Javas', 'Haseena\\xa0al', 'Roberta'] ...\n",
            "\n",
            "\u001b[1m NAME_MIDDLE \u001b[0m: object : 10 levels\n",
            "['L', 'T', 'K', 'M', nan, 'G', 'J', 'R', 'S', 'H'] \n",
            "\n",
            "\u001b[1m NAME_LAST \u001b[0m: object : 14 levels\n",
            "['Magill', 'Egger', 'Robertson', 'Mussen', 'Hegde', 'Yousuf', 'Holloway'] ...\n",
            "\n",
            "\u001b[1m NAME_INITIALS \u001b[0m: float64 : 1 level\n",
            "[nan] \n",
            "\n",
            "\u001b[1m SEX \u001b[0m: object : 2 levels\n",
            "['M', 'F'] \n",
            "\n",
            "\u001b[1m LANGUAGE \u001b[0m: object : 1 level\n",
            "['E'] \n",
            "\n",
            "\u001b[1m PHONENUMBER \u001b[0m: object : 14 levels\n",
            "['630-374-0306', '09603 61 24 64', '070 8691 2288'] ...\n",
            "\n",
            "\u001b[1m EMAILADDRESS \u001b[0m: object : 12 levels\n",
            "['derrick.magill@itelo.info'] ...\n",
            "\n",
            "\u001b[1m LOGINNAME \u001b[0m: object : 12 levels\n",
            "['derrickm', 'philippm', 'ellism', nan, 'javasm', 'haseena\\xa0alf'] ...\n",
            "\n",
            "\u001b[1m ADDRESSID \u001b[0m: int64 : 14 levels\n",
            "[1000000001, 1000000002, 1000000003, 1000000004] ...\n",
            "\n",
            "\u001b[1m VALIDITY_STARTDATE \u001b[0m: int64 : 1 level\n",
            "[20000101] \n",
            "\n",
            "\u001b[1m VALIDITY_ENDDATE \u001b[0m: int64 : 1 level\n",
            "[99991231] \n",
            "\n"
          ]
        }
      ]
    },
    {
      "cell_type": "markdown",
      "metadata": {
        "id": "uhlUr1MAhgHc"
      },
      "source": [
        "**Data Selection**<a id='ds_e'></a>\n",
        "\n",
        "We analyzed that 'NAME_INITIALS', 'LANGUAGE', 'VALIDITY_STARTDATE', 'VALIDITY_ENDDATE' columns are of no use. So, we drop them."
      ]
    },
    {
      "cell_type": "code",
      "metadata": {
        "id": "9CqnEBCThdQN"
      },
      "source": [
        "cols_to_drop=['NAME_INITIALS','LANGUAGE','VALIDITY_STARTDATE', 'VALIDITY_ENDDATE']\n",
        "Employees.drop(cols_to_drop,axis=1,inplace=True)"
      ],
      "execution_count": null,
      "outputs": []
    },
    {
      "cell_type": "code",
      "metadata": {
        "colab": {
          "base_uri": "https://localhost:8080/"
        },
        "id": "md5C15GmhdTl",
        "outputId": "95bf5f3d-9b62-4fa9-dd36-9b7c9c843553"
      },
      "source": [
        "Employees.columns"
      ],
      "execution_count": null,
      "outputs": [
        {
          "output_type": "execute_result",
          "data": {
            "text/plain": [
              "Index(['EMPLOYEEID', 'NAME_FIRST', 'NAME_MIDDLE', 'NAME_LAST', 'SEX',\n",
              "       'PHONENUMBER', 'EMAILADDRESS', 'LOGINNAME', 'ADDRESSID'],\n",
              "      dtype='object')"
            ]
          },
          "metadata": {},
          "execution_count": 49
        }
      ]
    },
    {
      "cell_type": "markdown",
      "metadata": {
        "id": "8U0cfSxAh16m"
      },
      "source": [
        "**Data Cleaning**<a id='dc_e'></a>\n",
        "\n",
        "***Missing Data***"
      ]
    },
    {
      "cell_type": "code",
      "metadata": {
        "colab": {
          "base_uri": "https://localhost:8080/"
        },
        "id": "nWeeP0XVhyls",
        "outputId": "88d56bb4-0c4f-45d0-c3ca-902be8787437"
      },
      "source": [
        "Employees.isnull().sum()"
      ],
      "execution_count": null,
      "outputs": [
        {
          "output_type": "execute_result",
          "data": {
            "text/plain": [
              "EMPLOYEEID      0\n",
              "NAME_FIRST      0\n",
              "NAME_MIDDLE     3\n",
              "NAME_LAST       0\n",
              "SEX             0\n",
              "PHONENUMBER     0\n",
              "EMAILADDRESS    3\n",
              "LOGINNAME       3\n",
              "ADDRESSID       0\n",
              "dtype: int64"
            ]
          },
          "metadata": {},
          "execution_count": 50
        }
      ]
    },
    {
      "cell_type": "markdown",
      "source": [
        "For filling missing values for 'Loginname', the following code is used:"
      ],
      "metadata": {
        "id": "oC_L8V6GzO7D"
      }
    },
    {
      "cell_type": "code",
      "metadata": {
        "colab": {
          "base_uri": "https://localhost:8080/"
        },
        "id": "DmH08Txehyn-",
        "outputId": "4f7774cb-c21c-452e-bbad-438afd4834f7"
      },
      "source": [
        "Employees['LOGINNAME'].fillna(Employees['NAME_FIRST'].str.lower()+Employees['SEX'].str.lower(),inplace=True)\n",
        "Employees['LOGINNAME'] = Employees['LOGINNAME'].str.replace('\\xa0','')\n",
        "Employees['LOGINNAME']"
      ],
      "execution_count": null,
      "outputs": [
        {
          "output_type": "execute_result",
          "data": {
            "text/plain": [
              "0       derrickm\n",
              "1       philippm\n",
              "2         ellism\n",
              "3       williamm\n",
              "4         javasm\n",
              "5     haseenaalf\n",
              "6     haseenaalf\n",
              "7       robertaf\n",
              "8      penelopef\n",
              "9          kirkm\n",
              "10        janetf\n",
              "11       nelsonm\n",
              "12      willardm\n",
              "13      carrollm\n",
              "14      kennethm\n",
              "Name: LOGINNAME, dtype: object"
            ]
          },
          "metadata": {},
          "execution_count": 51
        }
      ]
    },
    {
      "cell_type": "markdown",
      "source": [
        "Now, we fill null values of Emailaddress:"
      ],
      "metadata": {
        "id": "WrLQwynWzYOP"
      }
    },
    {
      "cell_type": "code",
      "metadata": {
        "colab": {
          "base_uri": "https://localhost:8080/",
          "height": 520
        },
        "id": "6tGfIFxvhyrP",
        "outputId": "02200abf-aa4e-4a8f-da4c-8daa0677e86a"
      },
      "source": [
        "Employees['EMAILADDRESS'].fillna(Employees['NAME_FIRST'].str.lower()+'.'+Employees['NAME_LAST'].str.lower()+'@itelo.info',inplace=True)\n",
        "Employees"
      ],
      "execution_count": null,
      "outputs": [
        {
          "output_type": "execute_result",
          "data": {
            "text/html": [
              "<div>\n",
              "<style scoped>\n",
              "    .dataframe tbody tr th:only-of-type {\n",
              "        vertical-align: middle;\n",
              "    }\n",
              "\n",
              "    .dataframe tbody tr th {\n",
              "        vertical-align: top;\n",
              "    }\n",
              "\n",
              "    .dataframe thead th {\n",
              "        text-align: right;\n",
              "    }\n",
              "</style>\n",
              "<table border=\"1\" class=\"dataframe\">\n",
              "  <thead>\n",
              "    <tr style=\"text-align: right;\">\n",
              "      <th></th>\n",
              "      <th>EMPLOYEEID</th>\n",
              "      <th>NAME_FIRST</th>\n",
              "      <th>NAME_MIDDLE</th>\n",
              "      <th>NAME_LAST</th>\n",
              "      <th>SEX</th>\n",
              "      <th>PHONENUMBER</th>\n",
              "      <th>EMAILADDRESS</th>\n",
              "      <th>LOGINNAME</th>\n",
              "      <th>ADDRESSID</th>\n",
              "    </tr>\n",
              "  </thead>\n",
              "  <tbody>\n",
              "    <tr>\n",
              "      <th>0</th>\n",
              "      <td>1</td>\n",
              "      <td>Derrick</td>\n",
              "      <td>L</td>\n",
              "      <td>Magill</td>\n",
              "      <td>M</td>\n",
              "      <td>630-374-0306</td>\n",
              "      <td>derrick.magill@itelo.info</td>\n",
              "      <td>derrickm</td>\n",
              "      <td>1000000001</td>\n",
              "    </tr>\n",
              "    <tr>\n",
              "      <th>1</th>\n",
              "      <td>2</td>\n",
              "      <td>Philipp</td>\n",
              "      <td>T</td>\n",
              "      <td>Egger</td>\n",
              "      <td>M</td>\n",
              "      <td>09603 61 24 64</td>\n",
              "      <td>philipp.egger@</td>\n",
              "      <td>philippm</td>\n",
              "      <td>1000000002</td>\n",
              "    </tr>\n",
              "    <tr>\n",
              "      <th>2</th>\n",
              "      <td>3</td>\n",
              "      <td>Ellis</td>\n",
              "      <td>K</td>\n",
              "      <td>Robertson</td>\n",
              "      <td>M</td>\n",
              "      <td>070 8691 2288</td>\n",
              "      <td>ellis.robertson@itelo.info</td>\n",
              "      <td>ellism</td>\n",
              "      <td>1000000003</td>\n",
              "    </tr>\n",
              "    <tr>\n",
              "      <th>3</th>\n",
              "      <td>4</td>\n",
              "      <td>William</td>\n",
              "      <td>M</td>\n",
              "      <td>Mussen</td>\n",
              "      <td>M</td>\n",
              "      <td>026734 4556</td>\n",
              "      <td>william.mussen@itelo.info</td>\n",
              "      <td>williamm</td>\n",
              "      <td>1000000004</td>\n",
              "    </tr>\n",
              "    <tr>\n",
              "      <th>4</th>\n",
              "      <td>5</td>\n",
              "      <td>Javas</td>\n",
              "      <td>NaN</td>\n",
              "      <td>Hegde</td>\n",
              "      <td>M</td>\n",
              "      <td>2224135120</td>\n",
              "      <td>javas.hegde@itelo.info</td>\n",
              "      <td>javasm</td>\n",
              "      <td>1000000005</td>\n",
              "    </tr>\n",
              "    <tr>\n",
              "      <th>5</th>\n",
              "      <td>6</td>\n",
              "      <td>Haseena al</td>\n",
              "      <td>NaN</td>\n",
              "      <td>Yousuf</td>\n",
              "      <td>F</td>\n",
              "      <td>2288340</td>\n",
              "      <td>alhaseena.yousuf@itelo.info</td>\n",
              "      <td>haseenaalf</td>\n",
              "      <td>1000000006</td>\n",
              "    </tr>\n",
              "    <tr>\n",
              "      <th>6</th>\n",
              "      <td>6</td>\n",
              "      <td>Haseena al</td>\n",
              "      <td>NaN</td>\n",
              "      <td>Yousuf</td>\n",
              "      <td>F</td>\n",
              "      <td>2288340</td>\n",
              "      <td>alhaseena.yousuf@itelo.info</td>\n",
              "      <td>haseenaalf</td>\n",
              "      <td>1000000006</td>\n",
              "    </tr>\n",
              "    <tr>\n",
              "      <th>7</th>\n",
              "      <td>7</td>\n",
              "      <td>Roberta</td>\n",
              "      <td>M</td>\n",
              "      <td>Holloway</td>\n",
              "      <td>F</td>\n",
              "      <td>306-598-7404</td>\n",
              "      <td>roberta.holloway@itelo.info</td>\n",
              "      <td>robertaf</td>\n",
              "      <td>1000000007</td>\n",
              "    </tr>\n",
              "    <tr>\n",
              "      <th>8</th>\n",
              "      <td>8</td>\n",
              "      <td>Pénélope</td>\n",
              "      <td>G</td>\n",
              "      <td>Duperré</td>\n",
              "      <td>F</td>\n",
              "      <td>03.23.46.10404</td>\n",
              "      <td>penelope.duperre@itelo.info</td>\n",
              "      <td>penelopef</td>\n",
              "      <td>1000000008</td>\n",
              "    </tr>\n",
              "    <tr>\n",
              "      <th>9</th>\n",
              "      <td>9</td>\n",
              "      <td>Kirk</td>\n",
              "      <td>J</td>\n",
              "      <td>Lee</td>\n",
              "      <td>M</td>\n",
              "      <td>805-756-6064</td>\n",
              "      <td>kirk.lee@itelo.info</td>\n",
              "      <td>kirkm</td>\n",
              "      <td>1000000009</td>\n",
              "    </tr>\n",
              "    <tr>\n",
              "      <th>10</th>\n",
              "      <td>10</td>\n",
              "      <td>Janet</td>\n",
              "      <td>R</td>\n",
              "      <td>Gray</td>\n",
              "      <td>F</td>\n",
              "      <td>201-849-2465</td>\n",
              "      <td>janet.gray@itelo.info</td>\n",
              "      <td>janetf</td>\n",
              "      <td>1000000010</td>\n",
              "    </tr>\n",
              "    <tr>\n",
              "      <th>11</th>\n",
              "      <td>11</td>\n",
              "      <td>Nelson</td>\n",
              "      <td>J</td>\n",
              "      <td>Wilkens</td>\n",
              "      <td>M</td>\n",
              "      <td>916-223-7055</td>\n",
              "      <td>nelson.wilkens</td>\n",
              "      <td>nelsonm</td>\n",
              "      <td>1000000011</td>\n",
              "    </tr>\n",
              "    <tr>\n",
              "      <th>12</th>\n",
              "      <td>12</td>\n",
              "      <td>Willard</td>\n",
              "      <td>R</td>\n",
              "      <td>Chatman</td>\n",
              "      <td>M</td>\n",
              "      <td>416-794-6633</td>\n",
              "      <td>willard.chatman@itelo.info</td>\n",
              "      <td>willardm</td>\n",
              "      <td>1000000012</td>\n",
              "    </tr>\n",
              "    <tr>\n",
              "      <th>13</th>\n",
              "      <td>13</td>\n",
              "      <td>Carroll</td>\n",
              "      <td>S</td>\n",
              "      <td>Pewitt</td>\n",
              "      <td>M</td>\n",
              "      <td>780-682-9921</td>\n",
              "      <td>carroll.pewitt@itelo.info</td>\n",
              "      <td>carrollm</td>\n",
              "      <td>1000000013</td>\n",
              "    </tr>\n",
              "    <tr>\n",
              "      <th>14</th>\n",
              "      <td>14</td>\n",
              "      <td>Kenneth</td>\n",
              "      <td>H</td>\n",
              "      <td>Weise</td>\n",
              "      <td>M</td>\n",
              "      <td>416-609-5608</td>\n",
              "      <td>kenneth.weise@itelo.info</td>\n",
              "      <td>kennethm</td>\n",
              "      <td>1000000014</td>\n",
              "    </tr>\n",
              "  </tbody>\n",
              "</table>\n",
              "</div>"
            ],
            "text/plain": [
              "    EMPLOYEEID  NAME_FIRST  ...   LOGINNAME   ADDRESSID\n",
              "0            1     Derrick  ...    derrickm  1000000001\n",
              "1            2     Philipp  ...    philippm  1000000002\n",
              "2            3       Ellis  ...      ellism  1000000003\n",
              "3            4     William  ...    williamm  1000000004\n",
              "4            5       Javas  ...      javasm  1000000005\n",
              "5            6  Haseena al  ...  haseenaalf  1000000006\n",
              "6            6  Haseena al  ...  haseenaalf  1000000006\n",
              "7            7     Roberta  ...    robertaf  1000000007\n",
              "8            8    Pénélope  ...   penelopef  1000000008\n",
              "9            9        Kirk  ...       kirkm  1000000009\n",
              "10          10       Janet  ...      janetf  1000000010\n",
              "11          11      Nelson  ...     nelsonm  1000000011\n",
              "12          12     Willard  ...    willardm  1000000012\n",
              "13          13     Carroll  ...    carrollm  1000000013\n",
              "14          14     Kenneth  ...    kennethm  1000000014\n",
              "\n",
              "[15 rows x 9 columns]"
            ]
          },
          "metadata": {},
          "execution_count": 52
        }
      ]
    },
    {
      "cell_type": "markdown",
      "source": [
        "The null values of middle name are filled with 'NA' which means 'Not Applicable' as:"
      ],
      "metadata": {
        "id": "W4LXl5cwzo3T"
      }
    },
    {
      "cell_type": "code",
      "metadata": {
        "colab": {
          "base_uri": "https://localhost:8080/",
          "height": 520
        },
        "id": "lZx6RumUiULt",
        "outputId": "0402489f-f4cf-4968-81ab-86fcbeaac086"
      },
      "source": [
        "Employees['NAME_MIDDLE'].fillna('NA',inplace=True)\n",
        "Employees"
      ],
      "execution_count": null,
      "outputs": [
        {
          "output_type": "execute_result",
          "data": {
            "text/html": [
              "<div>\n",
              "<style scoped>\n",
              "    .dataframe tbody tr th:only-of-type {\n",
              "        vertical-align: middle;\n",
              "    }\n",
              "\n",
              "    .dataframe tbody tr th {\n",
              "        vertical-align: top;\n",
              "    }\n",
              "\n",
              "    .dataframe thead th {\n",
              "        text-align: right;\n",
              "    }\n",
              "</style>\n",
              "<table border=\"1\" class=\"dataframe\">\n",
              "  <thead>\n",
              "    <tr style=\"text-align: right;\">\n",
              "      <th></th>\n",
              "      <th>EMPLOYEEID</th>\n",
              "      <th>NAME_FIRST</th>\n",
              "      <th>NAME_MIDDLE</th>\n",
              "      <th>NAME_LAST</th>\n",
              "      <th>SEX</th>\n",
              "      <th>PHONENUMBER</th>\n",
              "      <th>EMAILADDRESS</th>\n",
              "      <th>LOGINNAME</th>\n",
              "      <th>ADDRESSID</th>\n",
              "    </tr>\n",
              "  </thead>\n",
              "  <tbody>\n",
              "    <tr>\n",
              "      <th>0</th>\n",
              "      <td>1</td>\n",
              "      <td>Derrick</td>\n",
              "      <td>L</td>\n",
              "      <td>Magill</td>\n",
              "      <td>M</td>\n",
              "      <td>630-374-0306</td>\n",
              "      <td>derrick.magill@itelo.info</td>\n",
              "      <td>derrickm</td>\n",
              "      <td>1000000001</td>\n",
              "    </tr>\n",
              "    <tr>\n",
              "      <th>1</th>\n",
              "      <td>2</td>\n",
              "      <td>Philipp</td>\n",
              "      <td>T</td>\n",
              "      <td>Egger</td>\n",
              "      <td>M</td>\n",
              "      <td>09603 61 24 64</td>\n",
              "      <td>philipp.egger@</td>\n",
              "      <td>philippm</td>\n",
              "      <td>1000000002</td>\n",
              "    </tr>\n",
              "    <tr>\n",
              "      <th>2</th>\n",
              "      <td>3</td>\n",
              "      <td>Ellis</td>\n",
              "      <td>K</td>\n",
              "      <td>Robertson</td>\n",
              "      <td>M</td>\n",
              "      <td>070 8691 2288</td>\n",
              "      <td>ellis.robertson@itelo.info</td>\n",
              "      <td>ellism</td>\n",
              "      <td>1000000003</td>\n",
              "    </tr>\n",
              "    <tr>\n",
              "      <th>3</th>\n",
              "      <td>4</td>\n",
              "      <td>William</td>\n",
              "      <td>M</td>\n",
              "      <td>Mussen</td>\n",
              "      <td>M</td>\n",
              "      <td>026734 4556</td>\n",
              "      <td>william.mussen@itelo.info</td>\n",
              "      <td>williamm</td>\n",
              "      <td>1000000004</td>\n",
              "    </tr>\n",
              "    <tr>\n",
              "      <th>4</th>\n",
              "      <td>5</td>\n",
              "      <td>Javas</td>\n",
              "      <td>NA</td>\n",
              "      <td>Hegde</td>\n",
              "      <td>M</td>\n",
              "      <td>2224135120</td>\n",
              "      <td>javas.hegde@itelo.info</td>\n",
              "      <td>javasm</td>\n",
              "      <td>1000000005</td>\n",
              "    </tr>\n",
              "    <tr>\n",
              "      <th>5</th>\n",
              "      <td>6</td>\n",
              "      <td>Haseena al</td>\n",
              "      <td>NA</td>\n",
              "      <td>Yousuf</td>\n",
              "      <td>F</td>\n",
              "      <td>2288340</td>\n",
              "      <td>alhaseena.yousuf@itelo.info</td>\n",
              "      <td>haseenaalf</td>\n",
              "      <td>1000000006</td>\n",
              "    </tr>\n",
              "    <tr>\n",
              "      <th>6</th>\n",
              "      <td>6</td>\n",
              "      <td>Haseena al</td>\n",
              "      <td>NA</td>\n",
              "      <td>Yousuf</td>\n",
              "      <td>F</td>\n",
              "      <td>2288340</td>\n",
              "      <td>alhaseena.yousuf@itelo.info</td>\n",
              "      <td>haseenaalf</td>\n",
              "      <td>1000000006</td>\n",
              "    </tr>\n",
              "    <tr>\n",
              "      <th>7</th>\n",
              "      <td>7</td>\n",
              "      <td>Roberta</td>\n",
              "      <td>M</td>\n",
              "      <td>Holloway</td>\n",
              "      <td>F</td>\n",
              "      <td>306-598-7404</td>\n",
              "      <td>roberta.holloway@itelo.info</td>\n",
              "      <td>robertaf</td>\n",
              "      <td>1000000007</td>\n",
              "    </tr>\n",
              "    <tr>\n",
              "      <th>8</th>\n",
              "      <td>8</td>\n",
              "      <td>Pénélope</td>\n",
              "      <td>G</td>\n",
              "      <td>Duperré</td>\n",
              "      <td>F</td>\n",
              "      <td>03.23.46.10404</td>\n",
              "      <td>penelope.duperre@itelo.info</td>\n",
              "      <td>penelopef</td>\n",
              "      <td>1000000008</td>\n",
              "    </tr>\n",
              "    <tr>\n",
              "      <th>9</th>\n",
              "      <td>9</td>\n",
              "      <td>Kirk</td>\n",
              "      <td>J</td>\n",
              "      <td>Lee</td>\n",
              "      <td>M</td>\n",
              "      <td>805-756-6064</td>\n",
              "      <td>kirk.lee@itelo.info</td>\n",
              "      <td>kirkm</td>\n",
              "      <td>1000000009</td>\n",
              "    </tr>\n",
              "    <tr>\n",
              "      <th>10</th>\n",
              "      <td>10</td>\n",
              "      <td>Janet</td>\n",
              "      <td>R</td>\n",
              "      <td>Gray</td>\n",
              "      <td>F</td>\n",
              "      <td>201-849-2465</td>\n",
              "      <td>janet.gray@itelo.info</td>\n",
              "      <td>janetf</td>\n",
              "      <td>1000000010</td>\n",
              "    </tr>\n",
              "    <tr>\n",
              "      <th>11</th>\n",
              "      <td>11</td>\n",
              "      <td>Nelson</td>\n",
              "      <td>J</td>\n",
              "      <td>Wilkens</td>\n",
              "      <td>M</td>\n",
              "      <td>916-223-7055</td>\n",
              "      <td>nelson.wilkens</td>\n",
              "      <td>nelsonm</td>\n",
              "      <td>1000000011</td>\n",
              "    </tr>\n",
              "    <tr>\n",
              "      <th>12</th>\n",
              "      <td>12</td>\n",
              "      <td>Willard</td>\n",
              "      <td>R</td>\n",
              "      <td>Chatman</td>\n",
              "      <td>M</td>\n",
              "      <td>416-794-6633</td>\n",
              "      <td>willard.chatman@itelo.info</td>\n",
              "      <td>willardm</td>\n",
              "      <td>1000000012</td>\n",
              "    </tr>\n",
              "    <tr>\n",
              "      <th>13</th>\n",
              "      <td>13</td>\n",
              "      <td>Carroll</td>\n",
              "      <td>S</td>\n",
              "      <td>Pewitt</td>\n",
              "      <td>M</td>\n",
              "      <td>780-682-9921</td>\n",
              "      <td>carroll.pewitt@itelo.info</td>\n",
              "      <td>carrollm</td>\n",
              "      <td>1000000013</td>\n",
              "    </tr>\n",
              "    <tr>\n",
              "      <th>14</th>\n",
              "      <td>14</td>\n",
              "      <td>Kenneth</td>\n",
              "      <td>H</td>\n",
              "      <td>Weise</td>\n",
              "      <td>M</td>\n",
              "      <td>416-609-5608</td>\n",
              "      <td>kenneth.weise@itelo.info</td>\n",
              "      <td>kennethm</td>\n",
              "      <td>1000000014</td>\n",
              "    </tr>\n",
              "  </tbody>\n",
              "</table>\n",
              "</div>"
            ],
            "text/plain": [
              "    EMPLOYEEID  NAME_FIRST  ...   LOGINNAME   ADDRESSID\n",
              "0            1     Derrick  ...    derrickm  1000000001\n",
              "1            2     Philipp  ...    philippm  1000000002\n",
              "2            3       Ellis  ...      ellism  1000000003\n",
              "3            4     William  ...    williamm  1000000004\n",
              "4            5       Javas  ...      javasm  1000000005\n",
              "5            6  Haseena al  ...  haseenaalf  1000000006\n",
              "6            6  Haseena al  ...  haseenaalf  1000000006\n",
              "7            7     Roberta  ...    robertaf  1000000007\n",
              "8            8    Pénélope  ...   penelopef  1000000008\n",
              "9            9        Kirk  ...       kirkm  1000000009\n",
              "10          10       Janet  ...      janetf  1000000010\n",
              "11          11      Nelson  ...     nelsonm  1000000011\n",
              "12          12     Willard  ...    willardm  1000000012\n",
              "13          13     Carroll  ...    carrollm  1000000013\n",
              "14          14     Kenneth  ...    kennethm  1000000014\n",
              "\n",
              "[15 rows x 9 columns]"
            ]
          },
          "metadata": {},
          "execution_count": 53
        }
      ]
    },
    {
      "cell_type": "code",
      "source": [
        "Employees.isnull().sum().sum()"
      ],
      "metadata": {
        "colab": {
          "base_uri": "https://localhost:8080/"
        },
        "id": "eIiqdW9m0oPU",
        "outputId": "c5278e98-ee7b-47de-99d7-6e5adc4e3df1"
      },
      "execution_count": null,
      "outputs": [
        {
          "output_type": "execute_result",
          "data": {
            "text/plain": [
              "0"
            ]
          },
          "metadata": {},
          "execution_count": 54
        }
      ]
    },
    {
      "cell_type": "markdown",
      "source": [
        "**Inaccurate Data**\n",
        "\n",
        "First, the pattern of email address is checked as from above analysis it can be seen that some rows ahve invalid or email addresses."
      ],
      "metadata": {
        "id": "hul61Jb_zxtD"
      }
    },
    {
      "cell_type": "code",
      "metadata": {
        "colab": {
          "base_uri": "https://localhost:8080/"
        },
        "id": "U-drOevaiUNl",
        "outputId": "bc5f33ba-3544-44aa-edbe-c03339ecc524"
      },
      "source": [
        "import re\n",
        "count = 0\n",
        "email_pattern = r'\\b[A-Za-z0-9._%+-]+@[A-Za-z0-9.-]+\\.[A-Z|a-z]{2,}\\b'\n",
        "for i in Employees['EMAILADDRESS']:\n",
        "  if (re.fullmatch(email_pattern, i)):\n",
        "        count = count\n",
        "  else:\n",
        "        print(i)\n",
        "        print(\"Index value is:\",Employees.index[Employees['EMAILADDRESS']==i].tolist())\n",
        "        count = count + 1\n",
        "print(\"No of invalid email address:\",count)"
      ],
      "execution_count": null,
      "outputs": [
        {
          "output_type": "stream",
          "name": "stdout",
          "text": [
            "philipp.egger@\n",
            "Index value is: [1]\n",
            "nelson.wilkens\n",
            "Index value is: [11]\n",
            "No of invalid email address: 2\n"
          ]
        }
      ]
    },
    {
      "cell_type": "markdown",
      "source": [
        "Now, we replace the invalid email addresses."
      ],
      "metadata": {
        "id": "8Nnc7Yc-0TZI"
      }
    },
    {
      "cell_type": "code",
      "metadata": {
        "colab": {
          "base_uri": "https://localhost:8080/",
          "height": 520
        },
        "id": "i6bPl5mNiUPy",
        "outputId": "efd0c3ac-675e-4bd6-9a17-5ce635c4970b"
      },
      "source": [
        "Employees.loc[1,'EMAILADDRESS']= Employees.loc[1,'NAME_FIRST'].lower()+'.'+Employees.loc[1,'NAME_LAST'].lower()+'@itelo.info'\n",
        "Employees.loc[11,'EMAILADDRESS'] = Employees.loc[11,'NAME_FIRST'].lower()+'.'+Employees.loc[11,'NAME_LAST'].lower()+'@itelo.info'\n",
        "Employees\n"
      ],
      "execution_count": null,
      "outputs": [
        {
          "output_type": "execute_result",
          "data": {
            "text/html": [
              "<div>\n",
              "<style scoped>\n",
              "    .dataframe tbody tr th:only-of-type {\n",
              "        vertical-align: middle;\n",
              "    }\n",
              "\n",
              "    .dataframe tbody tr th {\n",
              "        vertical-align: top;\n",
              "    }\n",
              "\n",
              "    .dataframe thead th {\n",
              "        text-align: right;\n",
              "    }\n",
              "</style>\n",
              "<table border=\"1\" class=\"dataframe\">\n",
              "  <thead>\n",
              "    <tr style=\"text-align: right;\">\n",
              "      <th></th>\n",
              "      <th>EMPLOYEEID</th>\n",
              "      <th>NAME_FIRST</th>\n",
              "      <th>NAME_MIDDLE</th>\n",
              "      <th>NAME_LAST</th>\n",
              "      <th>SEX</th>\n",
              "      <th>PHONENUMBER</th>\n",
              "      <th>EMAILADDRESS</th>\n",
              "      <th>LOGINNAME</th>\n",
              "      <th>ADDRESSID</th>\n",
              "    </tr>\n",
              "  </thead>\n",
              "  <tbody>\n",
              "    <tr>\n",
              "      <th>0</th>\n",
              "      <td>1</td>\n",
              "      <td>Derrick</td>\n",
              "      <td>L</td>\n",
              "      <td>Magill</td>\n",
              "      <td>M</td>\n",
              "      <td>630-374-0306</td>\n",
              "      <td>derrick.magill@itelo.info</td>\n",
              "      <td>derrickm</td>\n",
              "      <td>1000000001</td>\n",
              "    </tr>\n",
              "    <tr>\n",
              "      <th>1</th>\n",
              "      <td>2</td>\n",
              "      <td>Philipp</td>\n",
              "      <td>T</td>\n",
              "      <td>Egger</td>\n",
              "      <td>M</td>\n",
              "      <td>09603 61 24 64</td>\n",
              "      <td>philipp.egger@itelo.info</td>\n",
              "      <td>philippm</td>\n",
              "      <td>1000000002</td>\n",
              "    </tr>\n",
              "    <tr>\n",
              "      <th>2</th>\n",
              "      <td>3</td>\n",
              "      <td>Ellis</td>\n",
              "      <td>K</td>\n",
              "      <td>Robertson</td>\n",
              "      <td>M</td>\n",
              "      <td>070 8691 2288</td>\n",
              "      <td>ellis.robertson@itelo.info</td>\n",
              "      <td>ellism</td>\n",
              "      <td>1000000003</td>\n",
              "    </tr>\n",
              "    <tr>\n",
              "      <th>3</th>\n",
              "      <td>4</td>\n",
              "      <td>William</td>\n",
              "      <td>M</td>\n",
              "      <td>Mussen</td>\n",
              "      <td>M</td>\n",
              "      <td>026734 4556</td>\n",
              "      <td>william.mussen@itelo.info</td>\n",
              "      <td>williamm</td>\n",
              "      <td>1000000004</td>\n",
              "    </tr>\n",
              "    <tr>\n",
              "      <th>4</th>\n",
              "      <td>5</td>\n",
              "      <td>Javas</td>\n",
              "      <td>NA</td>\n",
              "      <td>Hegde</td>\n",
              "      <td>M</td>\n",
              "      <td>2224135120</td>\n",
              "      <td>javas.hegde@itelo.info</td>\n",
              "      <td>javasm</td>\n",
              "      <td>1000000005</td>\n",
              "    </tr>\n",
              "    <tr>\n",
              "      <th>5</th>\n",
              "      <td>6</td>\n",
              "      <td>Haseena al</td>\n",
              "      <td>NA</td>\n",
              "      <td>Yousuf</td>\n",
              "      <td>F</td>\n",
              "      <td>2288340</td>\n",
              "      <td>alhaseena.yousuf@itelo.info</td>\n",
              "      <td>haseenaalf</td>\n",
              "      <td>1000000006</td>\n",
              "    </tr>\n",
              "    <tr>\n",
              "      <th>6</th>\n",
              "      <td>6</td>\n",
              "      <td>Haseena al</td>\n",
              "      <td>NA</td>\n",
              "      <td>Yousuf</td>\n",
              "      <td>F</td>\n",
              "      <td>2288340</td>\n",
              "      <td>alhaseena.yousuf@itelo.info</td>\n",
              "      <td>haseenaalf</td>\n",
              "      <td>1000000006</td>\n",
              "    </tr>\n",
              "    <tr>\n",
              "      <th>7</th>\n",
              "      <td>7</td>\n",
              "      <td>Roberta</td>\n",
              "      <td>M</td>\n",
              "      <td>Holloway</td>\n",
              "      <td>F</td>\n",
              "      <td>306-598-7404</td>\n",
              "      <td>roberta.holloway@itelo.info</td>\n",
              "      <td>robertaf</td>\n",
              "      <td>1000000007</td>\n",
              "    </tr>\n",
              "    <tr>\n",
              "      <th>8</th>\n",
              "      <td>8</td>\n",
              "      <td>Pénélope</td>\n",
              "      <td>G</td>\n",
              "      <td>Duperré</td>\n",
              "      <td>F</td>\n",
              "      <td>03.23.46.10404</td>\n",
              "      <td>penelope.duperre@itelo.info</td>\n",
              "      <td>penelopef</td>\n",
              "      <td>1000000008</td>\n",
              "    </tr>\n",
              "    <tr>\n",
              "      <th>9</th>\n",
              "      <td>9</td>\n",
              "      <td>Kirk</td>\n",
              "      <td>J</td>\n",
              "      <td>Lee</td>\n",
              "      <td>M</td>\n",
              "      <td>805-756-6064</td>\n",
              "      <td>kirk.lee@itelo.info</td>\n",
              "      <td>kirkm</td>\n",
              "      <td>1000000009</td>\n",
              "    </tr>\n",
              "    <tr>\n",
              "      <th>10</th>\n",
              "      <td>10</td>\n",
              "      <td>Janet</td>\n",
              "      <td>R</td>\n",
              "      <td>Gray</td>\n",
              "      <td>F</td>\n",
              "      <td>201-849-2465</td>\n",
              "      <td>janet.gray@itelo.info</td>\n",
              "      <td>janetf</td>\n",
              "      <td>1000000010</td>\n",
              "    </tr>\n",
              "    <tr>\n",
              "      <th>11</th>\n",
              "      <td>11</td>\n",
              "      <td>Nelson</td>\n",
              "      <td>J</td>\n",
              "      <td>Wilkens</td>\n",
              "      <td>M</td>\n",
              "      <td>916-223-7055</td>\n",
              "      <td>nelson.wilkens@itelo.info</td>\n",
              "      <td>nelsonm</td>\n",
              "      <td>1000000011</td>\n",
              "    </tr>\n",
              "    <tr>\n",
              "      <th>12</th>\n",
              "      <td>12</td>\n",
              "      <td>Willard</td>\n",
              "      <td>R</td>\n",
              "      <td>Chatman</td>\n",
              "      <td>M</td>\n",
              "      <td>416-794-6633</td>\n",
              "      <td>willard.chatman@itelo.info</td>\n",
              "      <td>willardm</td>\n",
              "      <td>1000000012</td>\n",
              "    </tr>\n",
              "    <tr>\n",
              "      <th>13</th>\n",
              "      <td>13</td>\n",
              "      <td>Carroll</td>\n",
              "      <td>S</td>\n",
              "      <td>Pewitt</td>\n",
              "      <td>M</td>\n",
              "      <td>780-682-9921</td>\n",
              "      <td>carroll.pewitt@itelo.info</td>\n",
              "      <td>carrollm</td>\n",
              "      <td>1000000013</td>\n",
              "    </tr>\n",
              "    <tr>\n",
              "      <th>14</th>\n",
              "      <td>14</td>\n",
              "      <td>Kenneth</td>\n",
              "      <td>H</td>\n",
              "      <td>Weise</td>\n",
              "      <td>M</td>\n",
              "      <td>416-609-5608</td>\n",
              "      <td>kenneth.weise@itelo.info</td>\n",
              "      <td>kennethm</td>\n",
              "      <td>1000000014</td>\n",
              "    </tr>\n",
              "  </tbody>\n",
              "</table>\n",
              "</div>"
            ],
            "text/plain": [
              "    EMPLOYEEID  NAME_FIRST  ...   LOGINNAME   ADDRESSID\n",
              "0            1     Derrick  ...    derrickm  1000000001\n",
              "1            2     Philipp  ...    philippm  1000000002\n",
              "2            3       Ellis  ...      ellism  1000000003\n",
              "3            4     William  ...    williamm  1000000004\n",
              "4            5       Javas  ...      javasm  1000000005\n",
              "5            6  Haseena al  ...  haseenaalf  1000000006\n",
              "6            6  Haseena al  ...  haseenaalf  1000000006\n",
              "7            7     Roberta  ...    robertaf  1000000007\n",
              "8            8    Pénélope  ...   penelopef  1000000008\n",
              "9            9        Kirk  ...       kirkm  1000000009\n",
              "10          10       Janet  ...      janetf  1000000010\n",
              "11          11      Nelson  ...     nelsonm  1000000011\n",
              "12          12     Willard  ...    willardm  1000000012\n",
              "13          13     Carroll  ...    carrollm  1000000013\n",
              "14          14     Kenneth  ...    kennethm  1000000014\n",
              "\n",
              "[15 rows x 9 columns]"
            ]
          },
          "metadata": {},
          "execution_count": 56
        }
      ]
    },
    {
      "cell_type": "markdown",
      "source": [
        "**Checking Duplicates** <a id='cd_e'></a>"
      ],
      "metadata": {
        "id": "DDb77RGG0vJy"
      }
    },
    {
      "cell_type": "code",
      "metadata": {
        "colab": {
          "base_uri": "https://localhost:8080/",
          "height": 81
        },
        "id": "NlItVNFYiUTF",
        "outputId": "13929773-6710-4fa3-8a07-85beb4124e30"
      },
      "source": [
        "Employees[Employees.duplicated()]"
      ],
      "execution_count": null,
      "outputs": [
        {
          "output_type": "execute_result",
          "data": {
            "text/html": [
              "<div>\n",
              "<style scoped>\n",
              "    .dataframe tbody tr th:only-of-type {\n",
              "        vertical-align: middle;\n",
              "    }\n",
              "\n",
              "    .dataframe tbody tr th {\n",
              "        vertical-align: top;\n",
              "    }\n",
              "\n",
              "    .dataframe thead th {\n",
              "        text-align: right;\n",
              "    }\n",
              "</style>\n",
              "<table border=\"1\" class=\"dataframe\">\n",
              "  <thead>\n",
              "    <tr style=\"text-align: right;\">\n",
              "      <th></th>\n",
              "      <th>EMPLOYEEID</th>\n",
              "      <th>NAME_FIRST</th>\n",
              "      <th>NAME_MIDDLE</th>\n",
              "      <th>NAME_LAST</th>\n",
              "      <th>SEX</th>\n",
              "      <th>PHONENUMBER</th>\n",
              "      <th>EMAILADDRESS</th>\n",
              "      <th>LOGINNAME</th>\n",
              "      <th>ADDRESSID</th>\n",
              "    </tr>\n",
              "  </thead>\n",
              "  <tbody>\n",
              "    <tr>\n",
              "      <th>6</th>\n",
              "      <td>6</td>\n",
              "      <td>Haseena al</td>\n",
              "      <td>NA</td>\n",
              "      <td>Yousuf</td>\n",
              "      <td>F</td>\n",
              "      <td>2288340</td>\n",
              "      <td>alhaseena.yousuf@itelo.info</td>\n",
              "      <td>haseenaalf</td>\n",
              "      <td>1000000006</td>\n",
              "    </tr>\n",
              "  </tbody>\n",
              "</table>\n",
              "</div>"
            ],
            "text/plain": [
              "   EMPLOYEEID  NAME_FIRST  ...   LOGINNAME   ADDRESSID\n",
              "6           6  Haseena al  ...  haseenaalf  1000000006\n",
              "\n",
              "[1 rows x 9 columns]"
            ]
          },
          "metadata": {},
          "execution_count": 57
        }
      ]
    },
    {
      "cell_type": "markdown",
      "source": [
        "Let's verify and check the row numbers for duplicated values."
      ],
      "metadata": {
        "id": "YZUCX3uw076L"
      }
    },
    {
      "cell_type": "code",
      "metadata": {
        "colab": {
          "base_uri": "https://localhost:8080/",
          "height": 112
        },
        "id": "Gjwc8izWkAzc",
        "outputId": "878ae1cd-4cc1-4058-b9af-684a02e8dd91"
      },
      "source": [
        "Employees[Employees['EMPLOYEEID']==6]"
      ],
      "execution_count": null,
      "outputs": [
        {
          "output_type": "execute_result",
          "data": {
            "text/html": [
              "<div>\n",
              "<style scoped>\n",
              "    .dataframe tbody tr th:only-of-type {\n",
              "        vertical-align: middle;\n",
              "    }\n",
              "\n",
              "    .dataframe tbody tr th {\n",
              "        vertical-align: top;\n",
              "    }\n",
              "\n",
              "    .dataframe thead th {\n",
              "        text-align: right;\n",
              "    }\n",
              "</style>\n",
              "<table border=\"1\" class=\"dataframe\">\n",
              "  <thead>\n",
              "    <tr style=\"text-align: right;\">\n",
              "      <th></th>\n",
              "      <th>EMPLOYEEID</th>\n",
              "      <th>NAME_FIRST</th>\n",
              "      <th>NAME_MIDDLE</th>\n",
              "      <th>NAME_LAST</th>\n",
              "      <th>SEX</th>\n",
              "      <th>PHONENUMBER</th>\n",
              "      <th>EMAILADDRESS</th>\n",
              "      <th>LOGINNAME</th>\n",
              "      <th>ADDRESSID</th>\n",
              "    </tr>\n",
              "  </thead>\n",
              "  <tbody>\n",
              "    <tr>\n",
              "      <th>5</th>\n",
              "      <td>6</td>\n",
              "      <td>Haseena al</td>\n",
              "      <td>NA</td>\n",
              "      <td>Yousuf</td>\n",
              "      <td>F</td>\n",
              "      <td>2288340</td>\n",
              "      <td>alhaseena.yousuf@itelo.info</td>\n",
              "      <td>haseenaalf</td>\n",
              "      <td>1000000006</td>\n",
              "    </tr>\n",
              "    <tr>\n",
              "      <th>6</th>\n",
              "      <td>6</td>\n",
              "      <td>Haseena al</td>\n",
              "      <td>NA</td>\n",
              "      <td>Yousuf</td>\n",
              "      <td>F</td>\n",
              "      <td>2288340</td>\n",
              "      <td>alhaseena.yousuf@itelo.info</td>\n",
              "      <td>haseenaalf</td>\n",
              "      <td>1000000006</td>\n",
              "    </tr>\n",
              "  </tbody>\n",
              "</table>\n",
              "</div>"
            ],
            "text/plain": [
              "   EMPLOYEEID  NAME_FIRST  ...   LOGINNAME   ADDRESSID\n",
              "5           6  Haseena al  ...  haseenaalf  1000000006\n",
              "6           6  Haseena al  ...  haseenaalf  1000000006\n",
              "\n",
              "[2 rows x 9 columns]"
            ]
          },
          "metadata": {},
          "execution_count": 58
        }
      ]
    },
    {
      "cell_type": "markdown",
      "source": [
        "Now, we remove the duplicates."
      ],
      "metadata": {
        "id": "YsLHTtAq1Buj"
      }
    },
    {
      "cell_type": "code",
      "metadata": {
        "colab": {
          "base_uri": "https://localhost:8080/",
          "height": 488
        },
        "id": "5t8mh1whkA16",
        "outputId": "bd460096-7e71-4fa5-a95c-6ac9ee2e1317"
      },
      "source": [
        "Employees.drop(Employees.index[6],inplace=True)\n",
        "Employees"
      ],
      "execution_count": null,
      "outputs": [
        {
          "output_type": "execute_result",
          "data": {
            "text/html": [
              "<div>\n",
              "<style scoped>\n",
              "    .dataframe tbody tr th:only-of-type {\n",
              "        vertical-align: middle;\n",
              "    }\n",
              "\n",
              "    .dataframe tbody tr th {\n",
              "        vertical-align: top;\n",
              "    }\n",
              "\n",
              "    .dataframe thead th {\n",
              "        text-align: right;\n",
              "    }\n",
              "</style>\n",
              "<table border=\"1\" class=\"dataframe\">\n",
              "  <thead>\n",
              "    <tr style=\"text-align: right;\">\n",
              "      <th></th>\n",
              "      <th>EMPLOYEEID</th>\n",
              "      <th>NAME_FIRST</th>\n",
              "      <th>NAME_MIDDLE</th>\n",
              "      <th>NAME_LAST</th>\n",
              "      <th>SEX</th>\n",
              "      <th>PHONENUMBER</th>\n",
              "      <th>EMAILADDRESS</th>\n",
              "      <th>LOGINNAME</th>\n",
              "      <th>ADDRESSID</th>\n",
              "    </tr>\n",
              "  </thead>\n",
              "  <tbody>\n",
              "    <tr>\n",
              "      <th>0</th>\n",
              "      <td>1</td>\n",
              "      <td>Derrick</td>\n",
              "      <td>L</td>\n",
              "      <td>Magill</td>\n",
              "      <td>M</td>\n",
              "      <td>630-374-0306</td>\n",
              "      <td>derrick.magill@itelo.info</td>\n",
              "      <td>derrickm</td>\n",
              "      <td>1000000001</td>\n",
              "    </tr>\n",
              "    <tr>\n",
              "      <th>1</th>\n",
              "      <td>2</td>\n",
              "      <td>Philipp</td>\n",
              "      <td>T</td>\n",
              "      <td>Egger</td>\n",
              "      <td>M</td>\n",
              "      <td>09603 61 24 64</td>\n",
              "      <td>philipp.egger@itelo.info</td>\n",
              "      <td>philippm</td>\n",
              "      <td>1000000002</td>\n",
              "    </tr>\n",
              "    <tr>\n",
              "      <th>2</th>\n",
              "      <td>3</td>\n",
              "      <td>Ellis</td>\n",
              "      <td>K</td>\n",
              "      <td>Robertson</td>\n",
              "      <td>M</td>\n",
              "      <td>070 8691 2288</td>\n",
              "      <td>ellis.robertson@itelo.info</td>\n",
              "      <td>ellism</td>\n",
              "      <td>1000000003</td>\n",
              "    </tr>\n",
              "    <tr>\n",
              "      <th>3</th>\n",
              "      <td>4</td>\n",
              "      <td>William</td>\n",
              "      <td>M</td>\n",
              "      <td>Mussen</td>\n",
              "      <td>M</td>\n",
              "      <td>026734 4556</td>\n",
              "      <td>william.mussen@itelo.info</td>\n",
              "      <td>williamm</td>\n",
              "      <td>1000000004</td>\n",
              "    </tr>\n",
              "    <tr>\n",
              "      <th>4</th>\n",
              "      <td>5</td>\n",
              "      <td>Javas</td>\n",
              "      <td>NA</td>\n",
              "      <td>Hegde</td>\n",
              "      <td>M</td>\n",
              "      <td>2224135120</td>\n",
              "      <td>javas.hegde@itelo.info</td>\n",
              "      <td>javasm</td>\n",
              "      <td>1000000005</td>\n",
              "    </tr>\n",
              "    <tr>\n",
              "      <th>5</th>\n",
              "      <td>6</td>\n",
              "      <td>Haseena al</td>\n",
              "      <td>NA</td>\n",
              "      <td>Yousuf</td>\n",
              "      <td>F</td>\n",
              "      <td>2288340</td>\n",
              "      <td>alhaseena.yousuf@itelo.info</td>\n",
              "      <td>haseenaalf</td>\n",
              "      <td>1000000006</td>\n",
              "    </tr>\n",
              "    <tr>\n",
              "      <th>7</th>\n",
              "      <td>7</td>\n",
              "      <td>Roberta</td>\n",
              "      <td>M</td>\n",
              "      <td>Holloway</td>\n",
              "      <td>F</td>\n",
              "      <td>306-598-7404</td>\n",
              "      <td>roberta.holloway@itelo.info</td>\n",
              "      <td>robertaf</td>\n",
              "      <td>1000000007</td>\n",
              "    </tr>\n",
              "    <tr>\n",
              "      <th>8</th>\n",
              "      <td>8</td>\n",
              "      <td>Pénélope</td>\n",
              "      <td>G</td>\n",
              "      <td>Duperré</td>\n",
              "      <td>F</td>\n",
              "      <td>03.23.46.10404</td>\n",
              "      <td>penelope.duperre@itelo.info</td>\n",
              "      <td>penelopef</td>\n",
              "      <td>1000000008</td>\n",
              "    </tr>\n",
              "    <tr>\n",
              "      <th>9</th>\n",
              "      <td>9</td>\n",
              "      <td>Kirk</td>\n",
              "      <td>J</td>\n",
              "      <td>Lee</td>\n",
              "      <td>M</td>\n",
              "      <td>805-756-6064</td>\n",
              "      <td>kirk.lee@itelo.info</td>\n",
              "      <td>kirkm</td>\n",
              "      <td>1000000009</td>\n",
              "    </tr>\n",
              "    <tr>\n",
              "      <th>10</th>\n",
              "      <td>10</td>\n",
              "      <td>Janet</td>\n",
              "      <td>R</td>\n",
              "      <td>Gray</td>\n",
              "      <td>F</td>\n",
              "      <td>201-849-2465</td>\n",
              "      <td>janet.gray@itelo.info</td>\n",
              "      <td>janetf</td>\n",
              "      <td>1000000010</td>\n",
              "    </tr>\n",
              "    <tr>\n",
              "      <th>11</th>\n",
              "      <td>11</td>\n",
              "      <td>Nelson</td>\n",
              "      <td>J</td>\n",
              "      <td>Wilkens</td>\n",
              "      <td>M</td>\n",
              "      <td>916-223-7055</td>\n",
              "      <td>nelson.wilkens@itelo.info</td>\n",
              "      <td>nelsonm</td>\n",
              "      <td>1000000011</td>\n",
              "    </tr>\n",
              "    <tr>\n",
              "      <th>12</th>\n",
              "      <td>12</td>\n",
              "      <td>Willard</td>\n",
              "      <td>R</td>\n",
              "      <td>Chatman</td>\n",
              "      <td>M</td>\n",
              "      <td>416-794-6633</td>\n",
              "      <td>willard.chatman@itelo.info</td>\n",
              "      <td>willardm</td>\n",
              "      <td>1000000012</td>\n",
              "    </tr>\n",
              "    <tr>\n",
              "      <th>13</th>\n",
              "      <td>13</td>\n",
              "      <td>Carroll</td>\n",
              "      <td>S</td>\n",
              "      <td>Pewitt</td>\n",
              "      <td>M</td>\n",
              "      <td>780-682-9921</td>\n",
              "      <td>carroll.pewitt@itelo.info</td>\n",
              "      <td>carrollm</td>\n",
              "      <td>1000000013</td>\n",
              "    </tr>\n",
              "    <tr>\n",
              "      <th>14</th>\n",
              "      <td>14</td>\n",
              "      <td>Kenneth</td>\n",
              "      <td>H</td>\n",
              "      <td>Weise</td>\n",
              "      <td>M</td>\n",
              "      <td>416-609-5608</td>\n",
              "      <td>kenneth.weise@itelo.info</td>\n",
              "      <td>kennethm</td>\n",
              "      <td>1000000014</td>\n",
              "    </tr>\n",
              "  </tbody>\n",
              "</table>\n",
              "</div>"
            ],
            "text/plain": [
              "    EMPLOYEEID  NAME_FIRST  ...   LOGINNAME   ADDRESSID\n",
              "0            1     Derrick  ...    derrickm  1000000001\n",
              "1            2     Philipp  ...    philippm  1000000002\n",
              "2            3       Ellis  ...      ellism  1000000003\n",
              "3            4     William  ...    williamm  1000000004\n",
              "4            5       Javas  ...      javasm  1000000005\n",
              "5            6  Haseena al  ...  haseenaalf  1000000006\n",
              "7            7     Roberta  ...    robertaf  1000000007\n",
              "8            8    Pénélope  ...   penelopef  1000000008\n",
              "9            9        Kirk  ...       kirkm  1000000009\n",
              "10          10       Janet  ...      janetf  1000000010\n",
              "11          11      Nelson  ...     nelsonm  1000000011\n",
              "12          12     Willard  ...    willardm  1000000012\n",
              "13          13     Carroll  ...    carrollm  1000000013\n",
              "14          14     Kenneth  ...    kennethm  1000000014\n",
              "\n",
              "[14 rows x 9 columns]"
            ]
          },
          "metadata": {},
          "execution_count": 59
        }
      ]
    },
    {
      "cell_type": "markdown",
      "metadata": {
        "id": "Z9X616OcMevm"
      },
      "source": [
        "**Data Formatting**<a id='df_e'></a>"
      ]
    },
    {
      "cell_type": "code",
      "metadata": {
        "colab": {
          "base_uri": "https://localhost:8080/",
          "height": 363
        },
        "id": "0N9HNtCdMpsk",
        "outputId": "2bde8b20-0f37-454b-8d38-721015b4fb79"
      },
      "source": [
        "Employees.head(10)"
      ],
      "execution_count": null,
      "outputs": [
        {
          "output_type": "execute_result",
          "data": {
            "text/html": [
              "<div>\n",
              "<style scoped>\n",
              "    .dataframe tbody tr th:only-of-type {\n",
              "        vertical-align: middle;\n",
              "    }\n",
              "\n",
              "    .dataframe tbody tr th {\n",
              "        vertical-align: top;\n",
              "    }\n",
              "\n",
              "    .dataframe thead th {\n",
              "        text-align: right;\n",
              "    }\n",
              "</style>\n",
              "<table border=\"1\" class=\"dataframe\">\n",
              "  <thead>\n",
              "    <tr style=\"text-align: right;\">\n",
              "      <th></th>\n",
              "      <th>EMPLOYEEID</th>\n",
              "      <th>NAME_FIRST</th>\n",
              "      <th>NAME_MIDDLE</th>\n",
              "      <th>NAME_LAST</th>\n",
              "      <th>SEX</th>\n",
              "      <th>PHONENUMBER</th>\n",
              "      <th>EMAILADDRESS</th>\n",
              "      <th>LOGINNAME</th>\n",
              "      <th>ADDRESSID</th>\n",
              "    </tr>\n",
              "  </thead>\n",
              "  <tbody>\n",
              "    <tr>\n",
              "      <th>0</th>\n",
              "      <td>1</td>\n",
              "      <td>Derrick</td>\n",
              "      <td>L</td>\n",
              "      <td>Magill</td>\n",
              "      <td>M</td>\n",
              "      <td>630-374-0306</td>\n",
              "      <td>derrick.magill@itelo.info</td>\n",
              "      <td>derrickm</td>\n",
              "      <td>1000000001</td>\n",
              "    </tr>\n",
              "    <tr>\n",
              "      <th>1</th>\n",
              "      <td>2</td>\n",
              "      <td>Philipp</td>\n",
              "      <td>T</td>\n",
              "      <td>Egger</td>\n",
              "      <td>M</td>\n",
              "      <td>09603 61 24 64</td>\n",
              "      <td>philipp.egger@itelo.info</td>\n",
              "      <td>philippm</td>\n",
              "      <td>1000000002</td>\n",
              "    </tr>\n",
              "    <tr>\n",
              "      <th>2</th>\n",
              "      <td>3</td>\n",
              "      <td>Ellis</td>\n",
              "      <td>K</td>\n",
              "      <td>Robertson</td>\n",
              "      <td>M</td>\n",
              "      <td>070 8691 2288</td>\n",
              "      <td>ellis.robertson@itelo.info</td>\n",
              "      <td>ellism</td>\n",
              "      <td>1000000003</td>\n",
              "    </tr>\n",
              "    <tr>\n",
              "      <th>3</th>\n",
              "      <td>4</td>\n",
              "      <td>William</td>\n",
              "      <td>M</td>\n",
              "      <td>Mussen</td>\n",
              "      <td>M</td>\n",
              "      <td>026734 4556</td>\n",
              "      <td>william.mussen@itelo.info</td>\n",
              "      <td>williamm</td>\n",
              "      <td>1000000004</td>\n",
              "    </tr>\n",
              "    <tr>\n",
              "      <th>4</th>\n",
              "      <td>5</td>\n",
              "      <td>Javas</td>\n",
              "      <td>NA</td>\n",
              "      <td>Hegde</td>\n",
              "      <td>M</td>\n",
              "      <td>2224135120</td>\n",
              "      <td>javas.hegde@itelo.info</td>\n",
              "      <td>javasm</td>\n",
              "      <td>1000000005</td>\n",
              "    </tr>\n",
              "    <tr>\n",
              "      <th>5</th>\n",
              "      <td>6</td>\n",
              "      <td>Haseena al</td>\n",
              "      <td>NA</td>\n",
              "      <td>Yousuf</td>\n",
              "      <td>F</td>\n",
              "      <td>2288340</td>\n",
              "      <td>alhaseena.yousuf@itelo.info</td>\n",
              "      <td>haseenaalf</td>\n",
              "      <td>1000000006</td>\n",
              "    </tr>\n",
              "    <tr>\n",
              "      <th>7</th>\n",
              "      <td>7</td>\n",
              "      <td>Roberta</td>\n",
              "      <td>M</td>\n",
              "      <td>Holloway</td>\n",
              "      <td>F</td>\n",
              "      <td>306-598-7404</td>\n",
              "      <td>roberta.holloway@itelo.info</td>\n",
              "      <td>robertaf</td>\n",
              "      <td>1000000007</td>\n",
              "    </tr>\n",
              "    <tr>\n",
              "      <th>8</th>\n",
              "      <td>8</td>\n",
              "      <td>Pénélope</td>\n",
              "      <td>G</td>\n",
              "      <td>Duperré</td>\n",
              "      <td>F</td>\n",
              "      <td>03.23.46.10404</td>\n",
              "      <td>penelope.duperre@itelo.info</td>\n",
              "      <td>penelopef</td>\n",
              "      <td>1000000008</td>\n",
              "    </tr>\n",
              "    <tr>\n",
              "      <th>9</th>\n",
              "      <td>9</td>\n",
              "      <td>Kirk</td>\n",
              "      <td>J</td>\n",
              "      <td>Lee</td>\n",
              "      <td>M</td>\n",
              "      <td>805-756-6064</td>\n",
              "      <td>kirk.lee@itelo.info</td>\n",
              "      <td>kirkm</td>\n",
              "      <td>1000000009</td>\n",
              "    </tr>\n",
              "    <tr>\n",
              "      <th>10</th>\n",
              "      <td>10</td>\n",
              "      <td>Janet</td>\n",
              "      <td>R</td>\n",
              "      <td>Gray</td>\n",
              "      <td>F</td>\n",
              "      <td>201-849-2465</td>\n",
              "      <td>janet.gray@itelo.info</td>\n",
              "      <td>janetf</td>\n",
              "      <td>1000000010</td>\n",
              "    </tr>\n",
              "  </tbody>\n",
              "</table>\n",
              "</div>"
            ],
            "text/plain": [
              "    EMPLOYEEID  NAME_FIRST  ...   LOGINNAME   ADDRESSID\n",
              "0            1     Derrick  ...    derrickm  1000000001\n",
              "1            2     Philipp  ...    philippm  1000000002\n",
              "2            3       Ellis  ...      ellism  1000000003\n",
              "3            4     William  ...    williamm  1000000004\n",
              "4            5       Javas  ...      javasm  1000000005\n",
              "5            6  Haseena al  ...  haseenaalf  1000000006\n",
              "7            7     Roberta  ...    robertaf  1000000007\n",
              "8            8    Pénélope  ...   penelopef  1000000008\n",
              "9            9        Kirk  ...       kirkm  1000000009\n",
              "10          10       Janet  ...      janetf  1000000010\n",
              "\n",
              "[10 rows x 9 columns]"
            ]
          },
          "metadata": {},
          "execution_count": 60
        }
      ]
    },
    {
      "cell_type": "markdown",
      "source": [
        "Phone numbers are not in same format.So, the following code is used to correct them: "
      ],
      "metadata": {
        "id": "l3oRJvB0Ydq9"
      }
    },
    {
      "cell_type": "code",
      "metadata": {
        "colab": {
          "base_uri": "https://localhost:8080/"
        },
        "id": "Ai7y7d84Md_r",
        "outputId": "5aaf7f4a-1cfc-460f-bced-21923aad4883"
      },
      "source": [
        "Employees['PHONENUMBER']=Employees['PHONENUMBER'].apply(lambda x: re.sub(r\"[^a-zA-Z0-9]\",\"\",str(x)))\n",
        "Employees['PHONENUMBER'].astype(int)\n",
        "Employees['PHONENUMBER']=Employees['PHONENUMBER'].apply(lambda x:format(int(x[:-1]), \",\").replace(\",\", \"-\") + x[-1])\n",
        "Employees['PHONENUMBER']"
      ],
      "execution_count": null,
      "outputs": [
        {
          "output_type": "execute_result",
          "data": {
            "text/plain": [
              "0     630-374-0306\n",
              "1     960-361-2464\n",
              "2     708-691-2288\n",
              "3      26-734-4556\n",
              "4     222-413-5120\n",
              "5         228-8340\n",
              "7     306-598-7404\n",
              "8     323-461-0404\n",
              "9     805-756-6064\n",
              "10    201-849-2465\n",
              "11    916-223-7055\n",
              "12    416-794-6633\n",
              "13    780-682-9921\n",
              "14    416-609-5608\n",
              "Name: PHONENUMBER, dtype: object"
            ]
          },
          "metadata": {},
          "execution_count": 61
        }
      ]
    },
    {
      "cell_type": "code",
      "metadata": {
        "colab": {
          "base_uri": "https://localhost:8080/"
        },
        "id": "xbULxx0YkA4L",
        "outputId": "c6da5fcf-2878-4ad1-bcc3-42211f1d07b7"
      },
      "source": [
        "print(\"Number of rows after cleaning:\", len(Employees))\n",
        "print(\"Number of columns after cleaning:\", len(Employees.columns))"
      ],
      "execution_count": null,
      "outputs": [
        {
          "output_type": "stream",
          "name": "stdout",
          "text": [
            "Number of rows after cleaning: 14\n",
            "Number of columns after cleaning: 9\n"
          ]
        }
      ]
    },
    {
      "cell_type": "markdown",
      "metadata": {
        "id": "21GenvGalVp3"
      },
      "source": [
        "# Business Partners<a id='b'></a>"
      ]
    },
    {
      "cell_type": "code",
      "metadata": {
        "colab": {
          "base_uri": "https://localhost:8080/",
          "height": 574
        },
        "id": "ucnWaBaEkA7M",
        "outputId": "0315a42f-b7d1-4403-e511-5d540b716a70"
      },
      "source": [
        "data_info(B_Partners)"
      ],
      "execution_count": null,
      "outputs": [
        {
          "output_type": "stream",
          "name": "stdout",
          "text": [
            "Number of rows in dataset: 40\n",
            "Number of columns in dataset: 14\n",
            "Columns in dataset:\n",
            "Index(['PARTNERID', 'PARTNERROLE', 'EMAILADDRESS', 'PHONENUMBER', 'FAXNUMBER',\n",
            "       'WEBADDRESS', 'ADDRESSID', 'COMPANYNAME', 'LEGALFORM', 'CREATEDBY',\n",
            "       'CREATEDAT', 'CHANGEDBY', 'CHANGEDAT', 'CURRENCY'],\n",
            "      dtype='object')\n"
          ]
        },
        {
          "output_type": "execute_result",
          "data": {
            "text/html": [
              "<div>\n",
              "<style scoped>\n",
              "    .dataframe tbody tr th:only-of-type {\n",
              "        vertical-align: middle;\n",
              "    }\n",
              "\n",
              "    .dataframe tbody tr th {\n",
              "        vertical-align: top;\n",
              "    }\n",
              "\n",
              "    .dataframe thead th {\n",
              "        text-align: right;\n",
              "    }\n",
              "</style>\n",
              "<table border=\"1\" class=\"dataframe\">\n",
              "  <thead>\n",
              "    <tr style=\"text-align: right;\">\n",
              "      <th></th>\n",
              "      <th>PARTNERID</th>\n",
              "      <th>PARTNERROLE</th>\n",
              "      <th>EMAILADDRESS</th>\n",
              "      <th>PHONENUMBER</th>\n",
              "      <th>FAXNUMBER</th>\n",
              "      <th>WEBADDRESS</th>\n",
              "      <th>ADDRESSID</th>\n",
              "      <th>COMPANYNAME</th>\n",
              "      <th>LEGALFORM</th>\n",
              "      <th>CREATEDBY</th>\n",
              "      <th>CREATEDAT</th>\n",
              "      <th>CHANGEDBY</th>\n",
              "      <th>CHANGEDAT</th>\n",
              "      <th>CURRENCY</th>\n",
              "    </tr>\n",
              "  </thead>\n",
              "  <tbody>\n",
              "    <tr>\n",
              "      <th>0</th>\n",
              "      <td>100000000</td>\n",
              "      <td>2</td>\n",
              "      <td>maria.brown@all4bikes.com</td>\n",
              "      <td>622734567</td>\n",
              "      <td>NaN</td>\n",
              "      <td>http://www.all4bikes.com</td>\n",
              "      <td>1000000034</td>\n",
              "      <td>All For Bikes</td>\n",
              "      <td>Inc.</td>\n",
              "      <td>10</td>\n",
              "      <td>20181003</td>\n",
              "      <td>10</td>\n",
              "      <td>20181003</td>\n",
              "      <td>USD</td>\n",
              "    </tr>\n",
              "    <tr>\n",
              "      <th>1</th>\n",
              "      <td>100000001</td>\n",
              "      <td>2</td>\n",
              "      <td>bob.buyer@amazebikes.com</td>\n",
              "      <td>3088530</td>\n",
              "      <td>NaN</td>\n",
              "      <td>http://www.amazebikes.com</td>\n",
              "      <td>1000000035</td>\n",
              "      <td>Amaze Bikes Inc</td>\n",
              "      <td>Inc.</td>\n",
              "      <td>13</td>\n",
              "      <td>20181003</td>\n",
              "      <td>13</td>\n",
              "      <td>20181003</td>\n",
              "      <td>USD</td>\n",
              "    </tr>\n",
              "    <tr>\n",
              "      <th>2</th>\n",
              "      <td>100000002</td>\n",
              "      <td>2</td>\n",
              "      <td>victor.sanchez@arenasportusa.com</td>\n",
              "      <td>3023352668</td>\n",
              "      <td>NaN</td>\n",
              "      <td>http://www.arenasportusa.com</td>\n",
              "      <td>1000000036</td>\n",
              "      <td>Arena Sports Inc</td>\n",
              "      <td>Inc.</td>\n",
              "      <td>14</td>\n",
              "      <td>20181003</td>\n",
              "      <td>14</td>\n",
              "      <td>20181003</td>\n",
              "      <td>USD</td>\n",
              "    </tr>\n",
              "    <tr>\n",
              "      <th>3</th>\n",
              "      <td>100000003</td>\n",
              "      <td>2</td>\n",
              "      <td>franklin.jones@atlantausa.com</td>\n",
              "      <td>511403266</td>\n",
              "      <td>NaN</td>\n",
              "      <td>http://www.atlantausa.com</td>\n",
              "      <td>1000000037</td>\n",
              "      <td>Atlanta Corp Inc</td>\n",
              "      <td>Inc.</td>\n",
              "      <td>10</td>\n",
              "      <td>20181003</td>\n",
              "      <td>10</td>\n",
              "      <td>20181003</td>\n",
              "      <td>USD</td>\n",
              "    </tr>\n",
              "    <tr>\n",
              "      <th>4</th>\n",
              "      <td>100000004</td>\n",
              "      <td>2</td>\n",
              "      <td>robert_brown@bikeworlds.com</td>\n",
              "      <td>2244668800</td>\n",
              "      <td>NaN</td>\n",
              "      <td>bikeworlds.com</td>\n",
              "      <td>1000000038</td>\n",
              "      <td>Bike World Inc</td>\n",
              "      <td>Inc.</td>\n",
              "      <td>4</td>\n",
              "      <td>20181003</td>\n",
              "      <td>4</td>\n",
              "      <td>20181003</td>\n",
              "      <td>USD</td>\n",
              "    </tr>\n",
              "    <tr>\n",
              "      <th>5</th>\n",
              "      <td>100000005</td>\n",
              "      <td>1</td>\n",
              "      <td>bart.koenig@alphabikes.de</td>\n",
              "      <td>2511415</td>\n",
              "      <td>NaN</td>\n",
              "      <td>http://www.alphabikes.de</td>\n",
              "      <td>1000000039</td>\n",
              "      <td>Alpha AG</td>\n",
              "      <td>AG</td>\n",
              "      <td>6</td>\n",
              "      <td>20181003</td>\n",
              "      <td>6</td>\n",
              "      <td>20181003</td>\n",
              "      <td>EUR</td>\n",
              "    </tr>\n",
              "    <tr>\n",
              "      <th>6</th>\n",
              "      <td>100000006</td>\n",
              "      <td>1</td>\n",
              "      <td>sarah.schwind@buchungkreis-gmbh.de</td>\n",
              "      <td>9078563412</td>\n",
              "      <td>NaN</td>\n",
              "      <td>http://www.buchungkreis-gmbh.de</td>\n",
              "      <td>1000000040</td>\n",
              "      <td>BuchungsKreis 1010</td>\n",
              "      <td>GmbH</td>\n",
              "      <td>1</td>\n",
              "      <td>20181003</td>\n",
              "      <td>1</td>\n",
              "      <td>20181003</td>\n",
              "      <td>EUR</td>\n",
              "    </tr>\n",
              "    <tr>\n",
              "      <th>7</th>\n",
              "      <td>100000007</td>\n",
              "      <td>1</td>\n",
              "      <td>mirjam.schmidt@trekcycle-berlin.de</td>\n",
              "      <td>149744423</td>\n",
              "      <td>NaN</td>\n",
              "      <td>http://www.trekcycle-berlin.de</td>\n",
              "      <td>1000000041</td>\n",
              "      <td>Trek Cycle AG</td>\n",
              "      <td>AG</td>\n",
              "      <td>8</td>\n",
              "      <td>20181003</td>\n",
              "      <td>8</td>\n",
              "      <td>20181003</td>\n",
              "      <td>EUR</td>\n",
              "    </tr>\n",
              "    <tr>\n",
              "      <th>8</th>\n",
              "      <td>100000008</td>\n",
              "      <td>2</td>\n",
              "      <td>saskia.sommer@tonabikes-ag.de</td>\n",
              "      <td>7257716</td>\n",
              "      <td>NaN</td>\n",
              "      <td>http://www.tonabikes-ag.de</td>\n",
              "      <td>1000000042</td>\n",
              "      <td>Tona Bikes AG</td>\n",
              "      <td>AG</td>\n",
              "      <td>8</td>\n",
              "      <td>20181003</td>\n",
              "      <td>8</td>\n",
              "      <td>20181003</td>\n",
              "      <td>EUR</td>\n",
              "    </tr>\n",
              "    <tr>\n",
              "      <th>9</th>\n",
              "      <td>100000009</td>\n",
              "      <td>2</td>\n",
              "      <td>dagmar.schulze@meinebicyclebayern.de</td>\n",
              "      <td>1133557799</td>\n",
              "      <td>NaN</td>\n",
              "      <td>http://www.meinebicyclebayern.de</td>\n",
              "      <td>1000000043</td>\n",
              "      <td>Meine Bicycle</td>\n",
              "      <td>GmbH</td>\n",
              "      <td>13</td>\n",
              "      <td>20181003</td>\n",
              "      <td>13</td>\n",
              "      <td>20181003</td>\n",
              "      <td>EUR</td>\n",
              "    </tr>\n",
              "  </tbody>\n",
              "</table>\n",
              "</div>"
            ],
            "text/plain": [
              "   PARTNERID  PARTNERROLE  ... CHANGEDAT  CURRENCY\n",
              "0  100000000            2  ...  20181003       USD\n",
              "1  100000001            2  ...  20181003       USD\n",
              "2  100000002            2  ...  20181003       USD\n",
              "3  100000003            2  ...  20181003       USD\n",
              "4  100000004            2  ...  20181003       USD\n",
              "5  100000005            1  ...  20181003       EUR\n",
              "6  100000006            1  ...  20181003       EUR\n",
              "7  100000007            1  ...  20181003       EUR\n",
              "8  100000008            2  ...  20181003       EUR\n",
              "9  100000009            2  ...  20181003       EUR\n",
              "\n",
              "[10 rows x 14 columns]"
            ]
          },
          "metadata": {},
          "execution_count": 63
        }
      ]
    },
    {
      "cell_type": "code",
      "source": [
        "col_info(B_Partners)"
      ],
      "metadata": {
        "colab": {
          "base_uri": "https://localhost:8080/"
        },
        "id": "MxJ7jZhvFXFZ",
        "outputId": "272b3c66-c5d7-473a-f5a5-0769f37a81b0"
      },
      "execution_count": null,
      "outputs": [
        {
          "output_type": "stream",
          "name": "stdout",
          "text": [
            "\u001b[1m PARTNERID \u001b[0m: int64 : 40 levels\n",
            "[100000000, 100000001, 100000002, 100000003, 100000004] ...\n",
            "\n",
            "\u001b[1m PARTNERROLE \u001b[0m: int64 : 2 levels\n",
            "[2, 1] \n",
            "\n",
            "\u001b[1m EMAILADDRESS \u001b[0m: object : 40 levels\n",
            "['maria.brown@all4bikes.com'] ...\n",
            "\n",
            "\u001b[1m PHONENUMBER \u001b[0m: int64 : 40 levels\n",
            "[622734567, 3088530, 3023352668, 511403266, 2244668800] ...\n",
            "\n",
            "\u001b[1m FAXNUMBER \u001b[0m: float64 : 1 level\n",
            "[nan] \n",
            "\n",
            "\u001b[1m WEBADDRESS \u001b[0m: object : 40 levels\n",
            "['http://www.all4bikes.com', 'http://www.amazebikes.com'] ...\n",
            "\n",
            "\u001b[1m ADDRESSID \u001b[0m: int64 : 40 levels\n",
            "[1000000034, 1000000035, 1000000036, 1000000037] ...\n",
            "\n",
            "\u001b[1m COMPANYNAME \u001b[0m: object : 40 levels\n",
            "['All For Bikes', 'Amaze Bikes Inc', 'Arena Sports Inc'] ...\n",
            "\n",
            "\u001b[1m LEGALFORM \u001b[0m: object : 5 levels\n",
            "['Inc.', 'AG', 'GmbH', 'Ltd.', 'S.A.R.L.'] \n",
            "\n",
            "\u001b[1m CREATEDBY \u001b[0m: int64 : 12 levels\n",
            "\u001b[1m CREATEDAT \u001b[0m: int64 : 1 level\n",
            "[20181003] \n",
            "\n",
            "\u001b[1m CHANGEDBY \u001b[0m: int64 : 12 levels\n",
            "\u001b[1m CHANGEDAT \u001b[0m: int64 : 1 level\n",
            "[20181003] \n",
            "\n",
            "\u001b[1m CURRENCY \u001b[0m: object : 7 levels\n",
            "['USD', 'EUR', 'GBP', 'AUD', 'INR', 'AED', 'CAD'] \n",
            "\n"
          ]
        }
      ]
    },
    {
      "cell_type": "markdown",
      "metadata": {
        "id": "izJK1e0NmK38"
      },
      "source": [
        "**Data Selection**<a id='ds_b'></a>\n",
        "\n",
        "We found that some columns are of no use, so, we drop them."
      ]
    },
    {
      "cell_type": "code",
      "metadata": {
        "colab": {
          "base_uri": "https://localhost:8080/"
        },
        "id": "7kKYNiCgl1xS",
        "outputId": "63a986f1-1cef-4036-89d5-b2305eb5f7d3"
      },
      "source": [
        "cols_to_drop=['FAXNUMBER','CHANGEDBY', 'CHANGEDAT']\n",
        "B_Partners.drop(cols_to_drop,axis=1,inplace=True)\n",
        "B_Partners.columns"
      ],
      "execution_count": null,
      "outputs": [
        {
          "output_type": "execute_result",
          "data": {
            "text/plain": [
              "Index(['PARTNERID', 'PARTNERROLE', 'EMAILADDRESS', 'PHONENUMBER', 'WEBADDRESS',\n",
              "       'ADDRESSID', 'COMPANYNAME', 'LEGALFORM', 'CREATEDBY', 'CREATEDAT',\n",
              "       'CURRENCY'],\n",
              "      dtype='object')"
            ]
          },
          "metadata": {},
          "execution_count": 65
        }
      ]
    },
    {
      "cell_type": "markdown",
      "metadata": {
        "id": "LZu993pMmSmj"
      },
      "source": [
        "**Data Cleaning**<a id='dc_b'></a>\n",
        "\n",
        "***Missing Values***"
      ]
    },
    {
      "cell_type": "code",
      "metadata": {
        "colab": {
          "base_uri": "https://localhost:8080/"
        },
        "id": "GTF1Syq8l10V",
        "outputId": "e9d59e0b-95b6-4673-dc94-837e400070d6"
      },
      "source": [
        "B_Partners.isnull().sum()"
      ],
      "execution_count": null,
      "outputs": [
        {
          "output_type": "execute_result",
          "data": {
            "text/plain": [
              "PARTNERID       0\n",
              "PARTNERROLE     0\n",
              "EMAILADDRESS    0\n",
              "PHONENUMBER     0\n",
              "WEBADDRESS      0\n",
              "ADDRESSID       0\n",
              "COMPANYNAME     0\n",
              "LEGALFORM       0\n",
              "CREATEDBY       0\n",
              "CREATEDAT       0\n",
              "CURRENCY        0\n",
              "dtype: int64"
            ]
          },
          "metadata": {},
          "execution_count": 66
        }
      ]
    },
    {
      "cell_type": "markdown",
      "source": [
        "Thus, no column has missing values."
      ],
      "metadata": {
        "id": "NfM2oXVviVzs"
      }
    },
    {
      "cell_type": "markdown",
      "metadata": {
        "id": "RfTz_eOamcWj"
      },
      "source": [
        "***Inaccurate Data***\n",
        "\n",
        "Some email addresses are invalid or inaccuate. So, we first check those email addresses."
      ]
    },
    {
      "cell_type": "code",
      "metadata": {
        "colab": {
          "base_uri": "https://localhost:8080/"
        },
        "id": "AM9hX-DSl13g",
        "outputId": "0124218f-bec6-453c-9d7f-ab0cd7605717"
      },
      "source": [
        "import re\n",
        "count = 0\n",
        "email_pattern = r'\\b[A-Za-z0-9._%+-]+@[A-Za-z0-9.-]+\\.[A-Z|a-z]{2,}\\b'\n",
        "for i in B_Partners['EMAILADDRESS']:\n",
        "  if ( re.fullmatch(email_pattern, i) ):\n",
        "        count = count\n",
        "  else:\n",
        "        print(i)\n",
        "        print(\"Index value is:\",B_Partners.index[B_Partners['EMAILADDRESS']==i].tolist())\n",
        "        count = count + 1\n",
        "print(\"No of invalid email address:\",count)"
      ],
      "execution_count": null,
      "outputs": [
        {
          "output_type": "stream",
          "name": "stdout",
          "text": [
            "jorgemontalban@\n",
            "Index value is: [10]\n",
            "madhu.kumar@\n",
            "Index value is: [21]\n",
            "jorge.velez@\n",
            "Index value is: [36]\n",
            "theodor.monathy@\n",
            "Index value is: [39]\n",
            "No of invalid email address: 4\n"
          ]
        }
      ]
    },
    {
      "cell_type": "markdown",
      "source": [
        "Now, to keep all inaccurate email addresses into same format, the following code is used:"
      ],
      "metadata": {
        "id": "bYY2fYnwjHxK"
      }
    },
    {
      "cell_type": "code",
      "metadata": {
        "id": "rzhICpH_mvhj"
      },
      "source": [
        "indexvalues = [10,21,36,39]\n",
        "for i in indexvalues:\n",
        "  B_Partners.loc[i,'EMAILADDRESS']= B_Partners.loc[i,'EMAILADDRESS'].lower()+B_Partners.loc[i,'WEBADDRESS'].split('www.')[1] "
      ],
      "execution_count": null,
      "outputs": []
    },
    {
      "cell_type": "markdown",
      "source": [
        "Similarly, some wepage addresses are inaccurate. The following code is used to check them:"
      ],
      "metadata": {
        "id": "fGN8fVkgjUsL"
      }
    },
    {
      "cell_type": "code",
      "metadata": {
        "colab": {
          "base_uri": "https://localhost:8080/"
        },
        "id": "MnSdW8yjmvk7",
        "outputId": "00eb2e13-06d8-4b79-b5e2-6ab141f6dbb4"
      },
      "source": [
        "\n",
        "count =0 \n",
        "for i in B_Partners['WEBADDRESS']:\n",
        "    Web_pattern = r\"(?i)\\b((?:https?://|www\\d{0,3}[.]|[a-z0-9.\\-]+[.][a-z]{2,4}/)(?:[^\\s()<>]+|\\(([^\\s()<>]+|(\\([^\\s()<>]+\\)))*\\))+(?:\\(([^\\s()<>]+|(\\([^\\s()<>]+\\)))*\\)|[^\\s`!()\\[\\]{};:'\\\".,<>?«»“”‘’]))\"\n",
        "    if (re.fullmatch(Web_pattern, i)):\n",
        "        count = count\n",
        "    else:\n",
        "        print(\"Index value is:\",B_Partners.index[B_Partners['WEBADDRESS']==i].tolist())\n",
        "        count = count +1 \n",
        "        print(i)\n",
        "print(\"No of invalid website\", count)"
      ],
      "execution_count": null,
      "outputs": [
        {
          "output_type": "stream",
          "name": "stdout",
          "text": [
            "Index value is: [4]\n",
            "bikeworlds.com\n",
            "Index value is: [13]\n",
            "gnmbikes.co.uk/\n",
            "Index value is: [38]\n",
            "thecyclefactor.fr\n",
            "No of invalid website 3\n"
          ]
        }
      ]
    },
    {
      "cell_type": "markdown",
      "source": [
        "As, we found some inaccuracies in webpage addresses, we, now, correct them."
      ],
      "metadata": {
        "id": "L47F0lDEjjFP"
      }
    },
    {
      "cell_type": "code",
      "metadata": {
        "id": "FMocccZhm7mM"
      },
      "source": [
        "listvalues = [4,13,38]\n",
        "for i in listvalues:\n",
        "  B_Partners.loc[i,'WEBADDRESS'] =  B_Partners.loc[i,'WEBADDRESS'].replace(\"/\", \"\") \n",
        "  B_Partners.loc[i,'WEBADDRESS'] = \"http://www.\" + B_Partners.loc[i,'WEBADDRESS'].lower()\n"
      ],
      "execution_count": null,
      "outputs": []
    },
    {
      "cell_type": "markdown",
      "source": [
        "**Data Formatting**<a id='df_b'></a>\n",
        "\n",
        "The columns with phone numbers is not in correct format. So, we format the phone numbers using following code:"
      ],
      "metadata": {
        "id": "4M7cmfINj1Xs"
      }
    },
    {
      "cell_type": "code",
      "metadata": {
        "id": "Z3rYw0gWm7oU",
        "colab": {
          "base_uri": "https://localhost:8080/"
        },
        "outputId": "169f7121-809b-418c-ea2e-73e528b5c925"
      },
      "source": [
        "B_Partners['PHONENUMBER']=B_Partners['PHONENUMBER'].apply(lambda x: re.sub(r\"[^a-zA-Z0-9]\",\"\",str(x)))\n",
        "B_Partners['PHONENUMBER'].astype(int)\n",
        "B_Partners['PHONENUMBER']=B_Partners['PHONENUMBER'].apply(lambda x:format(int(x[:-1]), \",\").replace(\",\", \"-\") + x[-1])\n",
        "B_Partners['PHONENUMBER'][1:5]"
      ],
      "execution_count": null,
      "outputs": [
        {
          "output_type": "execute_result",
          "data": {
            "text/plain": [
              "1        308-8530\n",
              "2    302-335-2668\n",
              "3     51-140-3266\n",
              "4    224-466-8800\n",
              "Name: PHONENUMBER, dtype: object"
            ]
          },
          "metadata": {},
          "execution_count": 71
        }
      ]
    },
    {
      "cell_type": "code",
      "metadata": {
        "id": "0PQLYW1wm7rr",
        "colab": {
          "base_uri": "https://localhost:8080/"
        },
        "outputId": "e62b948e-1ef8-475c-a800-8e4518a46577"
      },
      "source": [
        "print(\"Number of rows after cleaning:\", len(B_Partners))\n",
        "print(\"Number of columns after cleaning:\", len(B_Partners.columns))"
      ],
      "execution_count": null,
      "outputs": [
        {
          "output_type": "stream",
          "name": "stdout",
          "text": [
            "Number of rows after cleaning: 40\n",
            "Number of columns after cleaning: 11\n"
          ]
        }
      ]
    },
    {
      "cell_type": "markdown",
      "metadata": {
        "id": "UH04WX17OdRZ"
      },
      "source": [
        "# Addresses<a id='a'></a>"
      ]
    },
    {
      "cell_type": "code",
      "metadata": {
        "id": "8c-b8bVoznPS",
        "colab": {
          "base_uri": "https://localhost:8080/",
          "height": 502
        },
        "outputId": "886123a5-ef16-4de8-c22f-8875b4bfcdb5"
      },
      "source": [
        "data_info(Address)\n"
      ],
      "execution_count": null,
      "outputs": [
        {
          "output_type": "stream",
          "name": "stdout",
          "text": [
            "Number of rows in dataset: 54\n",
            "Number of columns in dataset: 11\n",
            "Columns in dataset:\n",
            "Index(['ADDRESSID', 'CITY', 'POSTALCODE', 'STREET', 'BUILDING', 'COUNTRY',\n",
            "       'REGION', 'ADDRESSTYPE', 'VALIDITY_STARTDATE', 'VALIDITY_ENDDATE',\n",
            "       'LOCATION'],\n",
            "      dtype='object')\n"
          ]
        },
        {
          "output_type": "execute_result",
          "data": {
            "text/html": [
              "<div>\n",
              "<style scoped>\n",
              "    .dataframe tbody tr th:only-of-type {\n",
              "        vertical-align: middle;\n",
              "    }\n",
              "\n",
              "    .dataframe tbody tr th {\n",
              "        vertical-align: top;\n",
              "    }\n",
              "\n",
              "    .dataframe thead th {\n",
              "        text-align: right;\n",
              "    }\n",
              "</style>\n",
              "<table border=\"1\" class=\"dataframe\">\n",
              "  <thead>\n",
              "    <tr style=\"text-align: right;\">\n",
              "      <th></th>\n",
              "      <th>ADDRESSID</th>\n",
              "      <th>CITY</th>\n",
              "      <th>POSTALCODE</th>\n",
              "      <th>STREET</th>\n",
              "      <th>BUILDING</th>\n",
              "      <th>COUNTRY</th>\n",
              "      <th>REGION</th>\n",
              "      <th>ADDRESSTYPE</th>\n",
              "      <th>VALIDITY_STARTDATE</th>\n",
              "      <th>VALIDITY_ENDDATE</th>\n",
              "      <th>LOCATION</th>\n",
              "    </tr>\n",
              "  </thead>\n",
              "  <tbody>\n",
              "    <tr>\n",
              "      <th>0</th>\n",
              "      <td>1000000034</td>\n",
              "      <td>West Nyack</td>\n",
              "      <td>10994</td>\n",
              "      <td>Settlers Lane</td>\n",
              "      <td>5027.0</td>\n",
              "      <td>US</td>\n",
              "      <td>AMER</td>\n",
              "      <td>2</td>\n",
              "      <td>20000101</td>\n",
              "      <td>99991231</td>\n",
              "      <td>41.100057,-73.973562</td>\n",
              "    </tr>\n",
              "    <tr>\n",
              "      <th>1</th>\n",
              "      <td>1000000035</td>\n",
              "      <td>Fair Oaks</td>\n",
              "      <td>95628</td>\n",
              "      <td>Woodland Terrace</td>\n",
              "      <td>4467.0</td>\n",
              "      <td>US</td>\n",
              "      <td>AMER</td>\n",
              "      <td>2</td>\n",
              "      <td>20000101</td>\n",
              "      <td>99991231</td>\n",
              "      <td>38.638355,-121.286683</td>\n",
              "    </tr>\n",
              "    <tr>\n",
              "      <th>2</th>\n",
              "      <td>1000000036</td>\n",
              "      <td>Dunn</td>\n",
              "      <td>28334</td>\n",
              "      <td>Layman Avenue</td>\n",
              "      <td>2250.0</td>\n",
              "      <td>US</td>\n",
              "      <td>AMER</td>\n",
              "      <td>2</td>\n",
              "      <td>20000101</td>\n",
              "      <td>99991231</td>\n",
              "      <td>35.312013,-78.60995</td>\n",
              "    </tr>\n",
              "    <tr>\n",
              "      <th>3</th>\n",
              "      <td>1000000037</td>\n",
              "      <td>Chicago</td>\n",
              "      <td>60605</td>\n",
              "      <td>University Drive</td>\n",
              "      <td>4697.0</td>\n",
              "      <td>US</td>\n",
              "      <td>AMER</td>\n",
              "      <td>2</td>\n",
              "      <td>20000101</td>\n",
              "      <td>99991231</td>\n",
              "      <td>41.874591,-87.627303</td>\n",
              "    </tr>\n",
              "    <tr>\n",
              "      <th>4</th>\n",
              "      <td>1000000038</td>\n",
              "      <td>Ocala</td>\n",
              "      <td>34471</td>\n",
              "      <td>Bagwell Avenue</td>\n",
              "      <td>1565.0</td>\n",
              "      <td>US</td>\n",
              "      <td>AMER</td>\n",
              "      <td>2</td>\n",
              "      <td>20000101</td>\n",
              "      <td>99991231</td>\n",
              "      <td>29.183977,-82.118413</td>\n",
              "    </tr>\n",
              "    <tr>\n",
              "      <th>5</th>\n",
              "      <td>1000000039</td>\n",
              "      <td>Callenberg</td>\n",
              "      <td>2681</td>\n",
              "      <td>Kantstraße</td>\n",
              "      <td>56.0</td>\n",
              "      <td>DE</td>\n",
              "      <td>EMEA</td>\n",
              "      <td>2</td>\n",
              "      <td>20000101</td>\n",
              "      <td>99991231</td>\n",
              "      <td>51.096588,14.433772</td>\n",
              "    </tr>\n",
              "    <tr>\n",
              "      <th>6</th>\n",
              "      <td>1000000040</td>\n",
              "      <td>Trimport</td>\n",
              "      <td>54636</td>\n",
              "      <td>Luetzowplatz</td>\n",
              "      <td>74.0</td>\n",
              "      <td>DE</td>\n",
              "      <td>EMEA</td>\n",
              "      <td>2</td>\n",
              "      <td>20000101</td>\n",
              "      <td>99991231</td>\n",
              "      <td>49.908759,6.578609</td>\n",
              "    </tr>\n",
              "    <tr>\n",
              "      <th>7</th>\n",
              "      <td>1000000041</td>\n",
              "      <td>Berlin Mariendorf</td>\n",
              "      <td>12107</td>\n",
              "      <td>Brandenburgische Straße</td>\n",
              "      <td>10.0</td>\n",
              "      <td>DE</td>\n",
              "      <td>EMEA</td>\n",
              "      <td>2</td>\n",
              "      <td>20000101</td>\n",
              "      <td>99991231</td>\n",
              "      <td>52.492245,13.310903</td>\n",
              "    </tr>\n",
              "    <tr>\n",
              "      <th>8</th>\n",
              "      <td>1000000042</td>\n",
              "      <td>Marne</td>\n",
              "      <td>25705</td>\n",
              "      <td>An Der Urania</td>\n",
              "      <td>30.0</td>\n",
              "      <td>DE</td>\n",
              "      <td>EMEA</td>\n",
              "      <td>2</td>\n",
              "      <td>20000101</td>\n",
              "      <td>99991231</td>\n",
              "      <td>53.952609,9.018139</td>\n",
              "    </tr>\n",
              "    <tr>\n",
              "      <th>9</th>\n",
              "      <td>1000000043</td>\n",
              "      <td>Augsburg</td>\n",
              "      <td>86045</td>\n",
              "      <td>Sonnenallee</td>\n",
              "      <td>43.0</td>\n",
              "      <td>DE</td>\n",
              "      <td>EMEA</td>\n",
              "      <td>2</td>\n",
              "      <td>20000101</td>\n",
              "      <td>99991231</td>\n",
              "      <td>48.370625,10.893961</td>\n",
              "    </tr>\n",
              "  </tbody>\n",
              "</table>\n",
              "</div>"
            ],
            "text/plain": [
              "    ADDRESSID               CITY  ... VALIDITY_ENDDATE               LOCATION\n",
              "0  1000000034         West Nyack  ...         99991231   41.100057,-73.973562\n",
              "1  1000000035          Fair Oaks  ...         99991231  38.638355,-121.286683\n",
              "2  1000000036               Dunn  ...         99991231    35.312013,-78.60995\n",
              "3  1000000037            Chicago  ...         99991231   41.874591,-87.627303\n",
              "4  1000000038              Ocala  ...         99991231   29.183977,-82.118413\n",
              "5  1000000039         Callenberg  ...         99991231    51.096588,14.433772\n",
              "6  1000000040           Trimport  ...         99991231     49.908759,6.578609\n",
              "7  1000000041  Berlin Mariendorf  ...         99991231    52.492245,13.310903\n",
              "8  1000000042              Marne  ...         99991231     53.952609,9.018139\n",
              "9  1000000043           Augsburg  ...         99991231    48.370625,10.893961\n",
              "\n",
              "[10 rows x 11 columns]"
            ]
          },
          "metadata": {},
          "execution_count": 73
        }
      ]
    },
    {
      "cell_type": "code",
      "metadata": {
        "colab": {
          "base_uri": "https://localhost:8080/"
        },
        "id": "SyZtB_UY1Eew",
        "outputId": "f61ff07e-6664-4bbd-b724-74622b8cb6c4"
      },
      "source": [
        "col_info(Address)"
      ],
      "execution_count": null,
      "outputs": [
        {
          "output_type": "stream",
          "name": "stdout",
          "text": [
            "\u001b[1m ADDRESSID \u001b[0m: int64 : 54 levels\n",
            "[1000000034, 1000000035, 1000000036, 1000000037] ...\n",
            "\n",
            "\u001b[1m CITY \u001b[0m: object : 43 levels\n",
            "['West Nyack', 'Fair Oaks', 'Dunn', 'Chicago', 'Ocala', 'Callenberg'] ...\n",
            "\n",
            "\u001b[1m POSTALCODE \u001b[0m: object : 51 levels\n",
            "['10994', '95628', '28334', '60605', '34471', '2681', '54636', '12107', '25705', '86045'] ...\n",
            "\n",
            "\u001b[1m STREET \u001b[0m: object : 52 levels\n",
            "['Settlers Lane', 'Woodland Terrace', 'Layman Avenue'] ...\n",
            "\n",
            "\u001b[1m BUILDING \u001b[0m: float64 : 44 levels\n",
            "[5027.0, 4467.0, 2250.0, 4697.0, 1565.0, 56.0, 74.0, 10.0, 30.0] ...\n",
            "\n",
            "\u001b[1m COUNTRY \u001b[0m: object : 8 levels\n",
            "['US', 'DE', 'GB', 'AU', 'IN', 'DU', 'CA', 'FR'] \n",
            "\n",
            "\u001b[1m REGION \u001b[0m: object : 3 levels\n",
            "['AMER', 'EMEA', 'APJ'] \n",
            "\n",
            "\u001b[1m ADDRESSTYPE \u001b[0m: int64 : 2 levels\n",
            "[2, 1] \n",
            "\n",
            "\u001b[1m VALIDITY_STARTDATE \u001b[0m: int64 : 1 level\n",
            "[20000101] \n",
            "\n",
            "\u001b[1m VALIDITY_ENDDATE \u001b[0m: int64 : 1 level\n",
            "[99991231] \n",
            "\n",
            "\u001b[1m LOCATION \u001b[0m: object : 54 levels\n",
            "['41.100057,-73.973562', '38.638355,-121.286683'] ...\n",
            "\n"
          ]
        }
      ]
    },
    {
      "cell_type": "code",
      "metadata": {
        "colab": {
          "base_uri": "https://localhost:8080/"
        },
        "id": "dKIIEghE1KyP",
        "outputId": "720977ca-69c9-4054-f80b-e05ba56610f1"
      },
      "source": [
        "type(Address)"
      ],
      "execution_count": null,
      "outputs": [
        {
          "output_type": "execute_result",
          "data": {
            "text/plain": [
              "pandas.core.frame.DataFrame"
            ]
          },
          "metadata": {},
          "execution_count": 75
        }
      ]
    },
    {
      "cell_type": "markdown",
      "metadata": {
        "id": "AjN-ucGlz3qw"
      },
      "source": [
        "**Data Selection**<a id='ds_a'></a>\n",
        "\n",
        "As analyzed above, some unimportant columns will be dropped from this dataset:"
      ]
    },
    {
      "cell_type": "code",
      "metadata": {
        "id": "HcLz3H6H2SeD"
      },
      "source": [
        "cols_to_drop=['VALIDITY_STARTDATE', 'VALIDITY_ENDDATE']\n",
        "Address.drop(cols_to_drop,axis=1,inplace=True)"
      ],
      "execution_count": null,
      "outputs": []
    },
    {
      "cell_type": "code",
      "metadata": {
        "colab": {
          "base_uri": "https://localhost:8080/"
        },
        "id": "8L59DaU_2dVf",
        "outputId": "e1131b0a-c15c-45fd-a0eb-1e9932c3edc4"
      },
      "source": [
        "Address.columns"
      ],
      "execution_count": null,
      "outputs": [
        {
          "output_type": "execute_result",
          "data": {
            "text/plain": [
              "Index(['ADDRESSID', 'CITY', 'POSTALCODE', 'STREET', 'BUILDING', 'COUNTRY',\n",
              "       'REGION', 'ADDRESSTYPE', 'LOCATION'],\n",
              "      dtype='object')"
            ]
          },
          "metadata": {},
          "execution_count": 77
        }
      ]
    },
    {
      "cell_type": "markdown",
      "metadata": {
        "id": "kPlzI6NXz8q_"
      },
      "source": [
        "**Data Cleaning**<a id='dc_a'></a>\n",
        "\n",
        "**Missing Data**"
      ]
    },
    {
      "cell_type": "code",
      "metadata": {
        "colab": {
          "base_uri": "https://localhost:8080/"
        },
        "id": "rK_owwXM0Evj",
        "outputId": "c2970078-927a-4a8d-f161-363c0e5cda37"
      },
      "source": [
        "Address.isnull().sum()"
      ],
      "execution_count": null,
      "outputs": [
        {
          "output_type": "execute_result",
          "data": {
            "text/plain": [
              "ADDRESSID      0\n",
              "CITY           0\n",
              "POSTALCODE     0\n",
              "STREET         0\n",
              "BUILDING       6\n",
              "COUNTRY        0\n",
              "REGION         0\n",
              "ADDRESSTYPE    0\n",
              "LOCATION       0\n",
              "dtype: int64"
            ]
          },
          "metadata": {},
          "execution_count": 78
        }
      ]
    },
    {
      "cell_type": "markdown",
      "source": [
        "No missing data is present in this dataset."
      ],
      "metadata": {
        "id": "1JHiQisCYsOJ"
      }
    },
    {
      "cell_type": "markdown",
      "metadata": {
        "id": "TXvQhqIt3X1Q"
      },
      "source": [
        "**Column Creation**<a id='cc_a'></a>\n"
      ]
    },
    {
      "cell_type": "code",
      "metadata": {
        "colab": {
          "base_uri": "https://localhost:8080/",
          "height": 206
        },
        "id": "6kcpjjKc2xJh",
        "outputId": "46be14bc-e79d-44cd-bb70-f2e90711c36c"
      },
      "source": [
        "Address.head()"
      ],
      "execution_count": null,
      "outputs": [
        {
          "output_type": "execute_result",
          "data": {
            "text/html": [
              "<div>\n",
              "<style scoped>\n",
              "    .dataframe tbody tr th:only-of-type {\n",
              "        vertical-align: middle;\n",
              "    }\n",
              "\n",
              "    .dataframe tbody tr th {\n",
              "        vertical-align: top;\n",
              "    }\n",
              "\n",
              "    .dataframe thead th {\n",
              "        text-align: right;\n",
              "    }\n",
              "</style>\n",
              "<table border=\"1\" class=\"dataframe\">\n",
              "  <thead>\n",
              "    <tr style=\"text-align: right;\">\n",
              "      <th></th>\n",
              "      <th>ADDRESSID</th>\n",
              "      <th>CITY</th>\n",
              "      <th>POSTALCODE</th>\n",
              "      <th>STREET</th>\n",
              "      <th>BUILDING</th>\n",
              "      <th>COUNTRY</th>\n",
              "      <th>REGION</th>\n",
              "      <th>ADDRESSTYPE</th>\n",
              "      <th>LOCATION</th>\n",
              "    </tr>\n",
              "  </thead>\n",
              "  <tbody>\n",
              "    <tr>\n",
              "      <th>0</th>\n",
              "      <td>1000000034</td>\n",
              "      <td>West Nyack</td>\n",
              "      <td>10994</td>\n",
              "      <td>Settlers Lane</td>\n",
              "      <td>5027.0</td>\n",
              "      <td>US</td>\n",
              "      <td>AMER</td>\n",
              "      <td>2</td>\n",
              "      <td>41.100057,-73.973562</td>\n",
              "    </tr>\n",
              "    <tr>\n",
              "      <th>1</th>\n",
              "      <td>1000000035</td>\n",
              "      <td>Fair Oaks</td>\n",
              "      <td>95628</td>\n",
              "      <td>Woodland Terrace</td>\n",
              "      <td>4467.0</td>\n",
              "      <td>US</td>\n",
              "      <td>AMER</td>\n",
              "      <td>2</td>\n",
              "      <td>38.638355,-121.286683</td>\n",
              "    </tr>\n",
              "    <tr>\n",
              "      <th>2</th>\n",
              "      <td>1000000036</td>\n",
              "      <td>Dunn</td>\n",
              "      <td>28334</td>\n",
              "      <td>Layman Avenue</td>\n",
              "      <td>2250.0</td>\n",
              "      <td>US</td>\n",
              "      <td>AMER</td>\n",
              "      <td>2</td>\n",
              "      <td>35.312013,-78.60995</td>\n",
              "    </tr>\n",
              "    <tr>\n",
              "      <th>3</th>\n",
              "      <td>1000000037</td>\n",
              "      <td>Chicago</td>\n",
              "      <td>60605</td>\n",
              "      <td>University Drive</td>\n",
              "      <td>4697.0</td>\n",
              "      <td>US</td>\n",
              "      <td>AMER</td>\n",
              "      <td>2</td>\n",
              "      <td>41.874591,-87.627303</td>\n",
              "    </tr>\n",
              "    <tr>\n",
              "      <th>4</th>\n",
              "      <td>1000000038</td>\n",
              "      <td>Ocala</td>\n",
              "      <td>34471</td>\n",
              "      <td>Bagwell Avenue</td>\n",
              "      <td>1565.0</td>\n",
              "      <td>US</td>\n",
              "      <td>AMER</td>\n",
              "      <td>2</td>\n",
              "      <td>29.183977,-82.118413</td>\n",
              "    </tr>\n",
              "  </tbody>\n",
              "</table>\n",
              "</div>"
            ],
            "text/plain": [
              "    ADDRESSID        CITY POSTALCODE  ... REGION  ADDRESSTYPE               LOCATION\n",
              "0  1000000034  West Nyack      10994  ...   AMER            2   41.100057,-73.973562\n",
              "1  1000000035   Fair Oaks      95628  ...   AMER            2  38.638355,-121.286683\n",
              "2  1000000036        Dunn      28334  ...   AMER            2    35.312013,-78.60995\n",
              "3  1000000037     Chicago      60605  ...   AMER            2   41.874591,-87.627303\n",
              "4  1000000038       Ocala      34471  ...   AMER            2   29.183977,-82.118413\n",
              "\n",
              "[5 rows x 9 columns]"
            ]
          },
          "metadata": {},
          "execution_count": 79
        }
      ]
    },
    {
      "cell_type": "code",
      "metadata": {
        "colab": {
          "base_uri": "https://localhost:8080/",
          "height": 35
        },
        "id": "a7Fe8aLJ3gKT",
        "outputId": "65e37e26-a101-4a4a-b736-c6f9d6c11617"
      },
      "source": [
        "Address[\"LOCATION\"][0]"
      ],
      "execution_count": null,
      "outputs": [
        {
          "output_type": "execute_result",
          "data": {
            "application/vnd.google.colaboratory.intrinsic+json": {
              "type": "string"
            },
            "text/plain": [
              "'41.100057,-73.973562'"
            ]
          },
          "metadata": {},
          "execution_count": 80
        }
      ]
    },
    {
      "cell_type": "markdown",
      "source": [
        "We can observe that column 'LOCATION' consist of two values that represent longitude and latitude. So, we create two separate columns named longitude and latitude to store these values separately."
      ],
      "metadata": {
        "id": "nxmbY0l-ZBOR"
      }
    },
    {
      "cell_type": "code",
      "metadata": {
        "id": "qFNsdnaH3vY0"
      },
      "source": [
        "import re\n",
        "\n",
        "def find_lat(loc):\n",
        "    lat = loc.split(\",\")\n",
        "    lat = lat[0]\n",
        "    return lat\n",
        "\n",
        "def find_lon(loc):\n",
        "    lon = loc.split(\",\")\n",
        "    lon = lon[1]\n",
        "    return lon\n",
        "\n",
        "Address['LATITUDE'] = Address['LOCATION'].apply(find_lat)\n",
        "Address['LONGITUDE'] = Address['LOCATION'].apply(find_lon)\n"
      ],
      "execution_count": null,
      "outputs": []
    },
    {
      "cell_type": "code",
      "metadata": {
        "id": "pYtyitsBbGJO"
      },
      "source": [
        "del Address['LOCATION']"
      ],
      "execution_count": null,
      "outputs": []
    },
    {
      "cell_type": "code",
      "metadata": {
        "colab": {
          "base_uri": "https://localhost:8080/",
          "height": 206
        },
        "id": "aDeq4gP-6Ioo",
        "outputId": "746fc109-115f-46f5-ad93-19af2e9aee58"
      },
      "source": [
        "Address.head()"
      ],
      "execution_count": null,
      "outputs": [
        {
          "output_type": "execute_result",
          "data": {
            "text/html": [
              "<div>\n",
              "<style scoped>\n",
              "    .dataframe tbody tr th:only-of-type {\n",
              "        vertical-align: middle;\n",
              "    }\n",
              "\n",
              "    .dataframe tbody tr th {\n",
              "        vertical-align: top;\n",
              "    }\n",
              "\n",
              "    .dataframe thead th {\n",
              "        text-align: right;\n",
              "    }\n",
              "</style>\n",
              "<table border=\"1\" class=\"dataframe\">\n",
              "  <thead>\n",
              "    <tr style=\"text-align: right;\">\n",
              "      <th></th>\n",
              "      <th>ADDRESSID</th>\n",
              "      <th>CITY</th>\n",
              "      <th>POSTALCODE</th>\n",
              "      <th>STREET</th>\n",
              "      <th>BUILDING</th>\n",
              "      <th>COUNTRY</th>\n",
              "      <th>REGION</th>\n",
              "      <th>ADDRESSTYPE</th>\n",
              "      <th>LATITUDE</th>\n",
              "      <th>LONGITUDE</th>\n",
              "    </tr>\n",
              "  </thead>\n",
              "  <tbody>\n",
              "    <tr>\n",
              "      <th>0</th>\n",
              "      <td>1000000034</td>\n",
              "      <td>West Nyack</td>\n",
              "      <td>10994</td>\n",
              "      <td>Settlers Lane</td>\n",
              "      <td>5027.0</td>\n",
              "      <td>US</td>\n",
              "      <td>AMER</td>\n",
              "      <td>2</td>\n",
              "      <td>41.100057</td>\n",
              "      <td>-73.973562</td>\n",
              "    </tr>\n",
              "    <tr>\n",
              "      <th>1</th>\n",
              "      <td>1000000035</td>\n",
              "      <td>Fair Oaks</td>\n",
              "      <td>95628</td>\n",
              "      <td>Woodland Terrace</td>\n",
              "      <td>4467.0</td>\n",
              "      <td>US</td>\n",
              "      <td>AMER</td>\n",
              "      <td>2</td>\n",
              "      <td>38.638355</td>\n",
              "      <td>-121.286683</td>\n",
              "    </tr>\n",
              "    <tr>\n",
              "      <th>2</th>\n",
              "      <td>1000000036</td>\n",
              "      <td>Dunn</td>\n",
              "      <td>28334</td>\n",
              "      <td>Layman Avenue</td>\n",
              "      <td>2250.0</td>\n",
              "      <td>US</td>\n",
              "      <td>AMER</td>\n",
              "      <td>2</td>\n",
              "      <td>35.312013</td>\n",
              "      <td>-78.60995</td>\n",
              "    </tr>\n",
              "    <tr>\n",
              "      <th>3</th>\n",
              "      <td>1000000037</td>\n",
              "      <td>Chicago</td>\n",
              "      <td>60605</td>\n",
              "      <td>University Drive</td>\n",
              "      <td>4697.0</td>\n",
              "      <td>US</td>\n",
              "      <td>AMER</td>\n",
              "      <td>2</td>\n",
              "      <td>41.874591</td>\n",
              "      <td>-87.627303</td>\n",
              "    </tr>\n",
              "    <tr>\n",
              "      <th>4</th>\n",
              "      <td>1000000038</td>\n",
              "      <td>Ocala</td>\n",
              "      <td>34471</td>\n",
              "      <td>Bagwell Avenue</td>\n",
              "      <td>1565.0</td>\n",
              "      <td>US</td>\n",
              "      <td>AMER</td>\n",
              "      <td>2</td>\n",
              "      <td>29.183977</td>\n",
              "      <td>-82.118413</td>\n",
              "    </tr>\n",
              "  </tbody>\n",
              "</table>\n",
              "</div>"
            ],
            "text/plain": [
              "    ADDRESSID        CITY POSTALCODE  ... ADDRESSTYPE   LATITUDE    LONGITUDE\n",
              "0  1000000034  West Nyack      10994  ...           2  41.100057   -73.973562\n",
              "1  1000000035   Fair Oaks      95628  ...           2  38.638355  -121.286683\n",
              "2  1000000036        Dunn      28334  ...           2  35.312013    -78.60995\n",
              "3  1000000037     Chicago      60605  ...           2  41.874591   -87.627303\n",
              "4  1000000038       Ocala      34471  ...           2  29.183977   -82.118413\n",
              "\n",
              "[5 rows x 10 columns]"
            ]
          },
          "metadata": {},
          "execution_count": 83
        }
      ]
    },
    {
      "cell_type": "markdown",
      "metadata": {
        "id": "xwo0eysB0FRH"
      },
      "source": [
        "# Product Texts <a id='pt'></a>"
      ]
    },
    {
      "cell_type": "code",
      "metadata": {
        "colab": {
          "base_uri": "https://localhost:8080/",
          "height": 432
        },
        "id": "OmPXLEWpcZ7f",
        "outputId": "154e1e93-cfef-4a8e-cd49-65b058cefaae"
      },
      "source": [
        "data_info(Product_texts)"
      ],
      "execution_count": null,
      "outputs": [
        {
          "output_type": "stream",
          "name": "stdout",
          "text": [
            "Number of rows in dataset: 44\n",
            "Number of columns in dataset: 5\n",
            "Columns in dataset:\n",
            "Index(['PRODUCTID', 'LANGUAGE', 'SHORT_DESCR', 'MEDIUM_DESCR', 'LONG_DESCR'], dtype='object')\n"
          ]
        },
        {
          "output_type": "execute_result",
          "data": {
            "text/html": [
              "<div>\n",
              "<style scoped>\n",
              "    .dataframe tbody tr th:only-of-type {\n",
              "        vertical-align: middle;\n",
              "    }\n",
              "\n",
              "    .dataframe tbody tr th {\n",
              "        vertical-align: top;\n",
              "    }\n",
              "\n",
              "    .dataframe thead th {\n",
              "        text-align: right;\n",
              "    }\n",
              "</style>\n",
              "<table border=\"1\" class=\"dataframe\">\n",
              "  <thead>\n",
              "    <tr style=\"text-align: right;\">\n",
              "      <th></th>\n",
              "      <th>PRODUCTID</th>\n",
              "      <th>LANGUAGE</th>\n",
              "      <th>SHORT_DESCR</th>\n",
              "      <th>MEDIUM_DESCR</th>\n",
              "      <th>LONG_DESCR</th>\n",
              "    </tr>\n",
              "  </thead>\n",
              "  <tbody>\n",
              "    <tr>\n",
              "      <th>0</th>\n",
              "      <td>RO-1001</td>\n",
              "      <td>EN</td>\n",
              "      <td>Roady-1001</td>\n",
              "      <td>NaN</td>\n",
              "      <td>NaN</td>\n",
              "    </tr>\n",
              "    <tr>\n",
              "      <th>1</th>\n",
              "      <td>RO-1002</td>\n",
              "      <td>EN</td>\n",
              "      <td>Roady-1002</td>\n",
              "      <td>NaN</td>\n",
              "      <td>NaN</td>\n",
              "    </tr>\n",
              "    <tr>\n",
              "      <th>2</th>\n",
              "      <td>RO-1003</td>\n",
              "      <td>EN</td>\n",
              "      <td>Roady-1003</td>\n",
              "      <td>NaN</td>\n",
              "      <td>NaN</td>\n",
              "    </tr>\n",
              "    <tr>\n",
              "      <th>3</th>\n",
              "      <td>BX-1011</td>\n",
              "      <td>EN</td>\n",
              "      <td>BMX-Vintage-1011</td>\n",
              "      <td>NaN</td>\n",
              "      <td>NaN</td>\n",
              "    </tr>\n",
              "    <tr>\n",
              "      <th>4</th>\n",
              "      <td>BX-1012</td>\n",
              "      <td>EN</td>\n",
              "      <td>BMX-Jump-1012</td>\n",
              "      <td>NaN</td>\n",
              "      <td>NaN</td>\n",
              "    </tr>\n",
              "    <tr>\n",
              "      <th>5</th>\n",
              "      <td>BX-1013</td>\n",
              "      <td>EN</td>\n",
              "      <td>BMX-Jump-Lux-I</td>\n",
              "      <td>BWM-Jump-Luxury-I</td>\n",
              "      <td>NaN</td>\n",
              "    </tr>\n",
              "    <tr>\n",
              "      <th>6</th>\n",
              "      <td>BX-1014</td>\n",
              "      <td>EN</td>\n",
              "      <td>BMX-Jump-Lux-II</td>\n",
              "      <td>BWM-Jump-Luxury-II</td>\n",
              "      <td>NaN</td>\n",
              "    </tr>\n",
              "    <tr>\n",
              "      <th>7</th>\n",
              "      <td>BX-1015</td>\n",
              "      <td>EN</td>\n",
              "      <td>BMX-Optima</td>\n",
              "      <td>BMX-Optima</td>\n",
              "      <td>NaN</td>\n",
              "    </tr>\n",
              "    <tr>\n",
              "      <th>8</th>\n",
              "      <td>BX-1016</td>\n",
              "      <td>EN</td>\n",
              "      <td>BMX-Optima-II</td>\n",
              "      <td>BMX-Optima-II</td>\n",
              "      <td>NaN</td>\n",
              "    </tr>\n",
              "    <tr>\n",
              "      <th>9</th>\n",
              "      <td>CC-1021</td>\n",
              "      <td>EN</td>\n",
              "      <td>Cyclone-Basic</td>\n",
              "      <td>NaN</td>\n",
              "      <td>NaN</td>\n",
              "    </tr>\n",
              "  </tbody>\n",
              "</table>\n",
              "</div>"
            ],
            "text/plain": [
              "  PRODUCTID LANGUAGE       SHORT_DESCR        MEDIUM_DESCR  LONG_DESCR\n",
              "0   RO-1001       EN        Roady-1001                 NaN         NaN\n",
              "1   RO-1002       EN        Roady-1002                 NaN         NaN\n",
              "2   RO-1003       EN        Roady-1003                 NaN         NaN\n",
              "3   BX-1011       EN  BMX-Vintage-1011                 NaN         NaN\n",
              "4   BX-1012       EN     BMX-Jump-1012                 NaN         NaN\n",
              "5   BX-1013       EN    BMX-Jump-Lux-I   BWM-Jump-Luxury-I         NaN\n",
              "6   BX-1014       EN   BMX-Jump-Lux-II  BWM-Jump-Luxury-II         NaN\n",
              "7   BX-1015       EN        BMX-Optima          BMX-Optima         NaN\n",
              "8   BX-1016       EN     BMX-Optima-II       BMX-Optima-II         NaN\n",
              "9   CC-1021       EN     Cyclone-Basic                 NaN         NaN"
            ]
          },
          "metadata": {},
          "execution_count": 84
        }
      ]
    },
    {
      "cell_type": "code",
      "source": [
        "col_info(Product_texts)"
      ],
      "metadata": {
        "colab": {
          "base_uri": "https://localhost:8080/"
        },
        "id": "UllxX0dYZuZZ",
        "outputId": "32fcd88d-8671-4cf8-d1bb-7ef3e2a4f179"
      },
      "execution_count": null,
      "outputs": [
        {
          "output_type": "stream",
          "name": "stdout",
          "text": [
            "\u001b[1m PRODUCTID \u001b[0m: object : 42 levels\n",
            "['RO-1001', 'RO-1002', 'RO-1003', 'BX-1011', 'BX-1012', 'BX-1013', 'BX-1014'] ...\n",
            "\n",
            "\u001b[1m LANGUAGE \u001b[0m: object : 2 levels\n",
            "['EN', 'DE'] \n",
            "\n",
            "\u001b[1m SHORT_DESCR \u001b[0m: object : 44 levels\n",
            "['Roady-1001', 'Roady-1002', 'Roady-1003', 'BMX-Vintage-1011'] ...\n",
            "\n",
            "\u001b[1m MEDIUM_DESCR \u001b[0m: object : 37 levels\n",
            "[nan, 'BWM-Jump-Luxury-I', 'BWM-Jump-Luxury-II', 'BMX-Optima'] ...\n",
            "\n",
            "\u001b[1m LONG_DESCR \u001b[0m: float64 : 1 level\n",
            "[nan] \n",
            "\n"
          ]
        }
      ]
    },
    {
      "cell_type": "markdown",
      "metadata": {
        "id": "Kh09cpH1siGw"
      },
      "source": [
        "**Data Selection**<a id='ds_pt'></a>\n",
        "\n",
        "Short and Long description both represent same things. So, we drop one among them."
      ]
    },
    {
      "cell_type": "code",
      "source": [
        "del Product_texts['LONG_DESCR']"
      ],
      "metadata": {
        "id": "Z59eNzxJ0Aq6"
      },
      "execution_count": null,
      "outputs": []
    },
    {
      "cell_type": "code",
      "source": [
        "Product_texts.columns"
      ],
      "metadata": {
        "colab": {
          "base_uri": "https://localhost:8080/"
        },
        "id": "UCR-I-bu_xuD",
        "outputId": "ef67ac1b-f541-41a8-9de1-28dcb76ab4a7"
      },
      "execution_count": null,
      "outputs": [
        {
          "output_type": "execute_result",
          "data": {
            "text/plain": [
              "Index(['PRODUCTID', 'LANGUAGE', 'SHORT_DESCR', 'MEDIUM_DESCR'], dtype='object')"
            ]
          },
          "metadata": {},
          "execution_count": 87
        }
      ]
    },
    {
      "cell_type": "markdown",
      "metadata": {
        "id": "sRaE0muGssa5"
      },
      "source": [
        "**Data Cleaning**<a id='dc_pt'></a>\n",
        "\n",
        "***Missing Data***"
      ]
    },
    {
      "cell_type": "code",
      "metadata": {
        "colab": {
          "base_uri": "https://localhost:8080/"
        },
        "id": "uXDUjTEts3-p",
        "outputId": "7269e922-3c8f-4e60-e853-f6b19546ca23"
      },
      "source": [
        "Product_texts.isnull().sum()"
      ],
      "execution_count": null,
      "outputs": [
        {
          "output_type": "execute_result",
          "data": {
            "text/plain": [
              "PRODUCTID       0\n",
              "LANGUAGE        0\n",
              "SHORT_DESCR     0\n",
              "MEDIUM_DESCR    8\n",
              "dtype: int64"
            ]
          },
          "metadata": {},
          "execution_count": 88
        }
      ]
    },
    {
      "cell_type": "markdown",
      "source": [
        "Now, we fill the medium desription's mising values with short description."
      ],
      "metadata": {
        "id": "8xVdBWPH0JFr"
      }
    },
    {
      "cell_type": "code",
      "metadata": {
        "colab": {
          "base_uri": "https://localhost:8080/"
        },
        "id": "VRL-_8nrs4B5",
        "outputId": "fabcdb5e-421a-40a9-a466-1729417dc297"
      },
      "source": [
        "Product_texts['MEDIUM_DESCR'].fillna(Product_texts['SHORT_DESCR'],inplace=True)\n",
        "Product_texts['MEDIUM_DESCR'][1:5]"
      ],
      "execution_count": null,
      "outputs": [
        {
          "output_type": "execute_result",
          "data": {
            "text/plain": [
              "1          Roady-1002\n",
              "2          Roady-1003\n",
              "3    BMX-Vintage-1011\n",
              "4       BMX-Jump-1012\n",
              "Name: MEDIUM_DESCR, dtype: object"
            ]
          },
          "metadata": {},
          "execution_count": 89
        }
      ]
    },
    {
      "cell_type": "code",
      "metadata": {
        "colab": {
          "base_uri": "https://localhost:8080/"
        },
        "id": "ajW11tyLv1ro",
        "outputId": "f6fee57c-7865-41dc-97a6-f6bd3dc4cc3e"
      },
      "source": [
        "Product_texts.isnull().sum().sum()"
      ],
      "execution_count": null,
      "outputs": [
        {
          "output_type": "execute_result",
          "data": {
            "text/plain": [
              "0"
            ]
          },
          "metadata": {},
          "execution_count": 90
        }
      ]
    },
    {
      "cell_type": "markdown",
      "metadata": {
        "id": "R0LKqwOKwHdk"
      },
      "source": [
        "\n",
        "**Data Formatting**<a id='df_pt'></a>\n",
        "\n",
        "Short and medium description values are not in same format. To keep them in format, we remove dash from observations from these columns."
      ]
    },
    {
      "cell_type": "code",
      "metadata": {
        "colab": {
          "base_uri": "https://localhost:8080/",
          "height": 206
        },
        "id": "8VVxqqcVwJ3z",
        "outputId": "50cf078c-8060-4d50-99ad-fa150c514c1e"
      },
      "source": [
        "Product_texts[\"SHORT_DESCR\"] = Product_texts[\"SHORT_DESCR\"].str.replace(\"-\",\" \")\n",
        "Product_texts[\"MEDIUM_DESCR\"] = Product_texts[\"MEDIUM_DESCR\"].str.replace(\"-\",\" \")\n",
        "Product_texts.head()"
      ],
      "execution_count": null,
      "outputs": [
        {
          "output_type": "execute_result",
          "data": {
            "text/html": [
              "<div>\n",
              "<style scoped>\n",
              "    .dataframe tbody tr th:only-of-type {\n",
              "        vertical-align: middle;\n",
              "    }\n",
              "\n",
              "    .dataframe tbody tr th {\n",
              "        vertical-align: top;\n",
              "    }\n",
              "\n",
              "    .dataframe thead th {\n",
              "        text-align: right;\n",
              "    }\n",
              "</style>\n",
              "<table border=\"1\" class=\"dataframe\">\n",
              "  <thead>\n",
              "    <tr style=\"text-align: right;\">\n",
              "      <th></th>\n",
              "      <th>PRODUCTID</th>\n",
              "      <th>LANGUAGE</th>\n",
              "      <th>SHORT_DESCR</th>\n",
              "      <th>MEDIUM_DESCR</th>\n",
              "    </tr>\n",
              "  </thead>\n",
              "  <tbody>\n",
              "    <tr>\n",
              "      <th>0</th>\n",
              "      <td>RO-1001</td>\n",
              "      <td>EN</td>\n",
              "      <td>Roady 1001</td>\n",
              "      <td>Roady 1001</td>\n",
              "    </tr>\n",
              "    <tr>\n",
              "      <th>1</th>\n",
              "      <td>RO-1002</td>\n",
              "      <td>EN</td>\n",
              "      <td>Roady 1002</td>\n",
              "      <td>Roady 1002</td>\n",
              "    </tr>\n",
              "    <tr>\n",
              "      <th>2</th>\n",
              "      <td>RO-1003</td>\n",
              "      <td>EN</td>\n",
              "      <td>Roady 1003</td>\n",
              "      <td>Roady 1003</td>\n",
              "    </tr>\n",
              "    <tr>\n",
              "      <th>3</th>\n",
              "      <td>BX-1011</td>\n",
              "      <td>EN</td>\n",
              "      <td>BMX Vintage 1011</td>\n",
              "      <td>BMX Vintage 1011</td>\n",
              "    </tr>\n",
              "    <tr>\n",
              "      <th>4</th>\n",
              "      <td>BX-1012</td>\n",
              "      <td>EN</td>\n",
              "      <td>BMX Jump 1012</td>\n",
              "      <td>BMX Jump 1012</td>\n",
              "    </tr>\n",
              "  </tbody>\n",
              "</table>\n",
              "</div>"
            ],
            "text/plain": [
              "  PRODUCTID LANGUAGE       SHORT_DESCR      MEDIUM_DESCR\n",
              "0   RO-1001       EN        Roady 1001        Roady 1001\n",
              "1   RO-1002       EN        Roady 1002        Roady 1002\n",
              "2   RO-1003       EN        Roady 1003        Roady 1003\n",
              "3   BX-1011       EN  BMX Vintage 1011  BMX Vintage 1011\n",
              "4   BX-1012       EN     BMX Jump 1012     BMX Jump 1012"
            ]
          },
          "metadata": {},
          "execution_count": 91
        }
      ]
    },
    {
      "cell_type": "code",
      "metadata": {
        "colab": {
          "base_uri": "https://localhost:8080/"
        },
        "id": "Lvm21jYOzE52",
        "outputId": "8f19a7ef-7586-4a5b-c9dc-a1ed2c9f758c"
      },
      "source": [
        "print(\"Number of rows after cleaning:\", len(Product_texts))\n",
        "print(\"Number of columns after cleaning:\", len(Product_texts.columns))"
      ],
      "execution_count": null,
      "outputs": [
        {
          "output_type": "stream",
          "name": "stdout",
          "text": [
            "Number of rows after cleaning: 44\n",
            "Number of columns after cleaning: 4\n"
          ]
        }
      ]
    },
    {
      "cell_type": "markdown",
      "metadata": {
        "id": "Rs1Px59Lpm0w"
      },
      "source": [
        "# Products <a id='p'></a>"
      ]
    },
    {
      "cell_type": "code",
      "metadata": {
        "colab": {
          "base_uri": "https://localhost:8080/",
          "height": 522
        },
        "id": "g8sfMH6qptqo",
        "outputId": "10f0d7f1-bf2b-4fe9-cda1-a89248b1be7f"
      },
      "source": [
        "data_info(Products)"
      ],
      "execution_count": null,
      "outputs": [
        {
          "output_type": "stream",
          "name": "stdout",
          "text": [
            "Number of rows in dataset: 42\n",
            "Number of columns in dataset: 19\n",
            "Columns in dataset:\n",
            "Index(['PRODUCTID', 'TYPECODE', 'PRODCATEGORYID', 'CREATEDBY', 'CREATEDAT',\n",
            "       'CHANGEDBY', 'CHANGEDAT', 'SUPPLIER_PARTNERID', 'TAXTARIFFCODE',\n",
            "       'QUANTITYUNIT', 'WEIGHTMEASURE', 'WEIGHTUNIT', 'CURRENCY', 'PRICE',\n",
            "       'WIDTH', 'DEPTH', 'HEIGHT', 'DIMENSIONUNIT', 'PRODUCTPICURL'],\n",
            "      dtype='object')\n"
          ]
        },
        {
          "output_type": "execute_result",
          "data": {
            "text/html": [
              "<div>\n",
              "<style scoped>\n",
              "    .dataframe tbody tr th:only-of-type {\n",
              "        vertical-align: middle;\n",
              "    }\n",
              "\n",
              "    .dataframe tbody tr th {\n",
              "        vertical-align: top;\n",
              "    }\n",
              "\n",
              "    .dataframe thead th {\n",
              "        text-align: right;\n",
              "    }\n",
              "</style>\n",
              "<table border=\"1\" class=\"dataframe\">\n",
              "  <thead>\n",
              "    <tr style=\"text-align: right;\">\n",
              "      <th></th>\n",
              "      <th>PRODUCTID</th>\n",
              "      <th>TYPECODE</th>\n",
              "      <th>PRODCATEGORYID</th>\n",
              "      <th>CREATEDBY</th>\n",
              "      <th>CREATEDAT</th>\n",
              "      <th>CHANGEDBY</th>\n",
              "      <th>CHANGEDAT</th>\n",
              "      <th>SUPPLIER_PARTNERID</th>\n",
              "      <th>TAXTARIFFCODE</th>\n",
              "      <th>QUANTITYUNIT</th>\n",
              "      <th>WEIGHTMEASURE</th>\n",
              "      <th>WEIGHTUNIT</th>\n",
              "      <th>CURRENCY</th>\n",
              "      <th>PRICE</th>\n",
              "      <th>WIDTH</th>\n",
              "      <th>DEPTH</th>\n",
              "      <th>HEIGHT</th>\n",
              "      <th>DIMENSIONUNIT</th>\n",
              "      <th>PRODUCTPICURL</th>\n",
              "    </tr>\n",
              "  </thead>\n",
              "  <tbody>\n",
              "    <tr>\n",
              "      <th>0</th>\n",
              "      <td>RO-1001</td>\n",
              "      <td>PR</td>\n",
              "      <td>RO</td>\n",
              "      <td>9</td>\n",
              "      <td>20181003</td>\n",
              "      <td>9</td>\n",
              "      <td>20181003</td>\n",
              "      <td>100000000</td>\n",
              "      <td>1</td>\n",
              "      <td>EA</td>\n",
              "      <td>7.7</td>\n",
              "      <td>KG</td>\n",
              "      <td>USD</td>\n",
              "      <td>525</td>\n",
              "      <td>NaN</td>\n",
              "      <td>NaN</td>\n",
              "      <td>NaN</td>\n",
              "      <td>NaN</td>\n",
              "      <td>NaN</td>\n",
              "    </tr>\n",
              "    <tr>\n",
              "      <th>1</th>\n",
              "      <td>RO-1002</td>\n",
              "      <td>PR</td>\n",
              "      <td>RO</td>\n",
              "      <td>9</td>\n",
              "      <td>20181003</td>\n",
              "      <td>9</td>\n",
              "      <td>20181003</td>\n",
              "      <td>100000001</td>\n",
              "      <td>1</td>\n",
              "      <td>EA</td>\n",
              "      <td>8.0</td>\n",
              "      <td>KG</td>\n",
              "      <td>USD</td>\n",
              "      <td>689</td>\n",
              "      <td>NaN</td>\n",
              "      <td>NaN</td>\n",
              "      <td>NaN</td>\n",
              "      <td>NaN</td>\n",
              "      <td>NaN</td>\n",
              "    </tr>\n",
              "    <tr>\n",
              "      <th>2</th>\n",
              "      <td>RO-1003</td>\n",
              "      <td>PR</td>\n",
              "      <td>RO</td>\n",
              "      <td>12</td>\n",
              "      <td>20181003</td>\n",
              "      <td>12</td>\n",
              "      <td>20181003</td>\n",
              "      <td>100000002</td>\n",
              "      <td>1</td>\n",
              "      <td>EA</td>\n",
              "      <td>9.1</td>\n",
              "      <td>KG</td>\n",
              "      <td>USD</td>\n",
              "      <td>721</td>\n",
              "      <td>NaN</td>\n",
              "      <td>NaN</td>\n",
              "      <td>NaN</td>\n",
              "      <td>NaN</td>\n",
              "      <td>NaN</td>\n",
              "    </tr>\n",
              "    <tr>\n",
              "      <th>3</th>\n",
              "      <td>BX-1011</td>\n",
              "      <td>PR</td>\n",
              "      <td>BX</td>\n",
              "      <td>9</td>\n",
              "      <td>20181003</td>\n",
              "      <td>9</td>\n",
              "      <td>20181003</td>\n",
              "      <td>100000003</td>\n",
              "      <td>1</td>\n",
              "      <td>EA</td>\n",
              "      <td>11.1</td>\n",
              "      <td>KG</td>\n",
              "      <td>USD</td>\n",
              "      <td>249</td>\n",
              "      <td>NaN</td>\n",
              "      <td>NaN</td>\n",
              "      <td>NaN</td>\n",
              "      <td>NaN</td>\n",
              "      <td>NaN</td>\n",
              "    </tr>\n",
              "    <tr>\n",
              "      <th>4</th>\n",
              "      <td>BX-1012</td>\n",
              "      <td>PR</td>\n",
              "      <td>BX</td>\n",
              "      <td>6</td>\n",
              "      <td>20181003</td>\n",
              "      <td>6</td>\n",
              "      <td>20181003</td>\n",
              "      <td>100000004</td>\n",
              "      <td>1</td>\n",
              "      <td>EA</td>\n",
              "      <td>12.0</td>\n",
              "      <td>KG</td>\n",
              "      <td>USD</td>\n",
              "      <td>399</td>\n",
              "      <td>NaN</td>\n",
              "      <td>NaN</td>\n",
              "      <td>NaN</td>\n",
              "      <td>NaN</td>\n",
              "      <td>NaN</td>\n",
              "    </tr>\n",
              "    <tr>\n",
              "      <th>5</th>\n",
              "      <td>BX-1013</td>\n",
              "      <td>PR</td>\n",
              "      <td>BX</td>\n",
              "      <td>7</td>\n",
              "      <td>20181003</td>\n",
              "      <td>7</td>\n",
              "      <td>20181003</td>\n",
              "      <td>100000005</td>\n",
              "      <td>1</td>\n",
              "      <td>EA</td>\n",
              "      <td>13.1</td>\n",
              "      <td>KG</td>\n",
              "      <td>USD</td>\n",
              "      <td>449</td>\n",
              "      <td>NaN</td>\n",
              "      <td>NaN</td>\n",
              "      <td>NaN</td>\n",
              "      <td>NaN</td>\n",
              "      <td>NaN</td>\n",
              "    </tr>\n",
              "    <tr>\n",
              "      <th>6</th>\n",
              "      <td>BX-1014</td>\n",
              "      <td>PR</td>\n",
              "      <td>BX</td>\n",
              "      <td>11</td>\n",
              "      <td>20181003</td>\n",
              "      <td>11</td>\n",
              "      <td>20181003</td>\n",
              "      <td>100000006</td>\n",
              "      <td>1</td>\n",
              "      <td>EA</td>\n",
              "      <td>11.8</td>\n",
              "      <td>KG</td>\n",
              "      <td>USD</td>\n",
              "      <td>799</td>\n",
              "      <td>NaN</td>\n",
              "      <td>NaN</td>\n",
              "      <td>NaN</td>\n",
              "      <td>NaN</td>\n",
              "      <td>NaN</td>\n",
              "    </tr>\n",
              "    <tr>\n",
              "      <th>7</th>\n",
              "      <td>BX-1015</td>\n",
              "      <td>PR</td>\n",
              "      <td>BX</td>\n",
              "      <td>8</td>\n",
              "      <td>20181003</td>\n",
              "      <td>8</td>\n",
              "      <td>20181003</td>\n",
              "      <td>100000007</td>\n",
              "      <td>1</td>\n",
              "      <td>EA</td>\n",
              "      <td>12.5</td>\n",
              "      <td>KG</td>\n",
              "      <td>USD</td>\n",
              "      <td>299</td>\n",
              "      <td>NaN</td>\n",
              "      <td>NaN</td>\n",
              "      <td>NaN</td>\n",
              "      <td>NaN</td>\n",
              "      <td>NaN</td>\n",
              "    </tr>\n",
              "    <tr>\n",
              "      <th>8</th>\n",
              "      <td>BX-1016</td>\n",
              "      <td>PR</td>\n",
              "      <td>BX</td>\n",
              "      <td>11</td>\n",
              "      <td>20181003</td>\n",
              "      <td>11</td>\n",
              "      <td>20181003</td>\n",
              "      <td>100000008</td>\n",
              "      <td>1</td>\n",
              "      <td>EA</td>\n",
              "      <td>12.8</td>\n",
              "      <td>KG</td>\n",
              "      <td>USD</td>\n",
              "      <td>319</td>\n",
              "      <td>NaN</td>\n",
              "      <td>NaN</td>\n",
              "      <td>NaN</td>\n",
              "      <td>NaN</td>\n",
              "      <td>NaN</td>\n",
              "    </tr>\n",
              "    <tr>\n",
              "      <th>9</th>\n",
              "      <td>CC-1021</td>\n",
              "      <td>PR</td>\n",
              "      <td>CC</td>\n",
              "      <td>10</td>\n",
              "      <td>20181003</td>\n",
              "      <td>10</td>\n",
              "      <td>20181003</td>\n",
              "      <td>100000009</td>\n",
              "      <td>1</td>\n",
              "      <td>EA</td>\n",
              "      <td>8.1</td>\n",
              "      <td>KG</td>\n",
              "      <td>USD</td>\n",
              "      <td>1144</td>\n",
              "      <td>NaN</td>\n",
              "      <td>NaN</td>\n",
              "      <td>NaN</td>\n",
              "      <td>NaN</td>\n",
              "      <td>NaN</td>\n",
              "    </tr>\n",
              "  </tbody>\n",
              "</table>\n",
              "</div>"
            ],
            "text/plain": [
              "  PRODUCTID TYPECODE PRODCATEGORYID  ...  HEIGHT  DIMENSIONUNIT  PRODUCTPICURL\n",
              "0   RO-1001       PR             RO  ...     NaN            NaN            NaN\n",
              "1   RO-1002       PR             RO  ...     NaN            NaN            NaN\n",
              "2   RO-1003       PR             RO  ...     NaN            NaN            NaN\n",
              "3   BX-1011       PR             BX  ...     NaN            NaN            NaN\n",
              "4   BX-1012       PR             BX  ...     NaN            NaN            NaN\n",
              "5   BX-1013       PR             BX  ...     NaN            NaN            NaN\n",
              "6   BX-1014       PR             BX  ...     NaN            NaN            NaN\n",
              "7   BX-1015       PR             BX  ...     NaN            NaN            NaN\n",
              "8   BX-1016       PR             BX  ...     NaN            NaN            NaN\n",
              "9   CC-1021       PR             CC  ...     NaN            NaN            NaN\n",
              "\n",
              "[10 rows x 19 columns]"
            ]
          },
          "metadata": {},
          "execution_count": 93
        }
      ]
    },
    {
      "cell_type": "code",
      "source": [
        "col_info(Products)"
      ],
      "metadata": {
        "colab": {
          "base_uri": "https://localhost:8080/"
        },
        "id": "-c7cK5nsaSzl",
        "outputId": "2db21402-f588-4dc3-8185-ecfc9bdef138"
      },
      "execution_count": null,
      "outputs": [
        {
          "output_type": "stream",
          "name": "stdout",
          "text": [
            "\u001b[1m PRODUCTID \u001b[0m: object : 42 levels\n",
            "['RO-1001', 'RO-1002', 'RO-1003', 'BX-1011', 'BX-1012', 'BX-1013', 'BX-1014'] ...\n",
            "\n",
            "\u001b[1m TYPECODE \u001b[0m: object : 1 level\n",
            "['PR'] \n",
            "\n",
            "\u001b[1m PRODCATEGORYID \u001b[0m: object : 9 levels\n",
            "['RO', 'BX', 'CC', 'MB', 'RC', 'DB', 'EB', 'CB', 'HB'] \n",
            "\n",
            "\u001b[1m CREATEDBY \u001b[0m: int64 : 14 levels\n",
            "[9, 12, 6, 7, 11, 8, 10, 13, 2, 1, 5, 3] ...\n",
            "\n",
            "\u001b[1m CREATEDAT \u001b[0m: int64 : 1 level\n",
            "[20181003] \n",
            "\n",
            "\u001b[1m CHANGEDBY \u001b[0m: int64 : 14 levels\n",
            "[9, 12, 6, 7, 11, 8, 10, 13, 2, 1, 5, 3] ...\n",
            "\n",
            "\u001b[1m CHANGEDAT \u001b[0m: int64 : 1 level\n",
            "[20181003] \n",
            "\n",
            "\u001b[1m SUPPLIER_PARTNERID \u001b[0m: int64 : 42 levels\n",
            "[100000000, 100000001, 100000002, 100000003, 100000004] ...\n",
            "\n",
            "\u001b[1m TAXTARIFFCODE \u001b[0m: int64 : 1 level\n",
            "[1] \n",
            "\n",
            "\u001b[1m QUANTITYUNIT \u001b[0m: object : 1 level\n",
            "['EA'] \n",
            "\n",
            "\u001b[1m WEIGHTMEASURE \u001b[0m: float64 : 36 levels\n",
            "[7.7, 8.0, 9.1, 11.1, 12.0, 13.1, 11.8, 12.5, 12.8, 8.1, 8.6, 12.7] ...\n",
            "\n",
            "\u001b[1m WEIGHTUNIT \u001b[0m: object : 1 level\n",
            "['KG'] \n",
            "\n",
            "\u001b[1m CURRENCY \u001b[0m: object : 1 level\n",
            "['USD'] \n",
            "\n",
            "\u001b[1m PRICE \u001b[0m: int64 : 35 levels\n",
            "[525, 689, 721, 249, 399, 449, 799, 299, 319, 1144, 1200, 1361] ...\n",
            "\n",
            "\u001b[1m WIDTH \u001b[0m: float64 : 1 level\n",
            "[nan] \n",
            "\n",
            "\u001b[1m DEPTH \u001b[0m: float64 : 1 level\n",
            "[nan] \n",
            "\n",
            "\u001b[1m HEIGHT \u001b[0m: float64 : 1 level\n",
            "[nan] \n",
            "\n",
            "\u001b[1m DIMENSIONUNIT \u001b[0m: float64 : 1 level\n",
            "[nan] \n",
            "\n",
            "\u001b[1m PRODUCTPICURL \u001b[0m: float64 : 1 level\n",
            "[nan] \n",
            "\n"
          ]
        }
      ]
    },
    {
      "cell_type": "markdown",
      "metadata": {
        "id": "F2UDL3dXz7NI"
      },
      "source": [
        "**Data Selection** <a id='ds_p'></a>\n",
        "\n",
        "Some of the columns are unimportant for our analysis, so, we drop them."
      ]
    },
    {
      "cell_type": "code",
      "metadata": {
        "id": "jgCjsnZUz-Jv"
      },
      "source": [
        "cols_to_drop=['PRODUCTPICURL','WIDTH','DEPTH','HEIGHT','DIMENSIONUNIT','TAXTARIFFCODE']\n",
        "Products.drop(cols_to_drop,axis=1,inplace=True)"
      ],
      "execution_count": null,
      "outputs": []
    },
    {
      "cell_type": "code",
      "metadata": {
        "colab": {
          "base_uri": "https://localhost:8080/"
        },
        "id": "sLjw6-LHzQW1",
        "outputId": "2f3e139d-f5ad-415a-a18d-60bd6763f2ea"
      },
      "source": [
        "Products.columns"
      ],
      "execution_count": null,
      "outputs": [
        {
          "output_type": "execute_result",
          "data": {
            "text/plain": [
              "Index(['PRODUCTID', 'TYPECODE', 'PRODCATEGORYID', 'CREATEDBY', 'CREATEDAT',\n",
              "       'CHANGEDBY', 'CHANGEDAT', 'SUPPLIER_PARTNERID', 'QUANTITYUNIT',\n",
              "       'WEIGHTMEASURE', 'WEIGHTUNIT', 'CURRENCY', 'PRICE'],\n",
              "      dtype='object')"
            ]
          },
          "metadata": {},
          "execution_count": 96
        }
      ]
    },
    {
      "cell_type": "markdown",
      "metadata": {
        "id": "LUAoAlsX1m8M"
      },
      "source": [
        "**Data Cleaning**<a id='dc_p'></a>\n",
        "\n",
        "***Missing Data***"
      ]
    },
    {
      "cell_type": "code",
      "metadata": {
        "colab": {
          "base_uri": "https://localhost:8080/"
        },
        "id": "W_iedpeZzQZw",
        "outputId": "3d98fb61-da2b-4f05-916b-5c74751d94b8"
      },
      "source": [
        "Products.isnull().sum()"
      ],
      "execution_count": null,
      "outputs": [
        {
          "output_type": "execute_result",
          "data": {
            "text/plain": [
              "PRODUCTID             0\n",
              "TYPECODE              0\n",
              "PRODCATEGORYID        0\n",
              "CREATEDBY             0\n",
              "CREATEDAT             0\n",
              "CHANGEDBY             0\n",
              "CHANGEDAT             0\n",
              "SUPPLIER_PARTNERID    0\n",
              "QUANTITYUNIT          0\n",
              "WEIGHTMEASURE         0\n",
              "WEIGHTUNIT            0\n",
              "CURRENCY              0\n",
              "PRICE                 0\n",
              "dtype: int64"
            ]
          },
          "metadata": {},
          "execution_count": 97
        }
      ]
    },
    {
      "cell_type": "markdown",
      "source": [
        "We have no missing values for this dataset."
      ],
      "metadata": {
        "id": "4EG7j5LabH7i"
      }
    },
    {
      "cell_type": "markdown",
      "metadata": {
        "id": "z2fuUPHU2ovL"
      },
      "source": [
        "**Data formatting**<a id='df_p'></a>\n",
        "\n",
        "Colyumns with Dates are not in correct format. To convert them into correct Date format, the following code is being used:"
      ]
    },
    {
      "cell_type": "code",
      "metadata": {
        "id": "bV6OrvcD2o84"
      },
      "source": [
        "Products['CREATEDAT']=Products['CREATEDAT'].apply(lambda x: datetime.datetime.strptime(str(x), '%Y%m%d'))\n",
        "Products['CHANGEDAT']=Products['CHANGEDAT'].apply(lambda x: datetime.datetime.strptime(str(x), '%Y%m%d'))"
      ],
      "execution_count": null,
      "outputs": []
    },
    {
      "cell_type": "code",
      "metadata": {
        "colab": {
          "base_uri": "https://localhost:8080/",
          "height": 206
        },
        "id": "njKGHRe1379t",
        "outputId": "0bd42a0f-1227-4db7-8f06-85c784d52697"
      },
      "source": [
        "Products.head()"
      ],
      "execution_count": null,
      "outputs": [
        {
          "output_type": "execute_result",
          "data": {
            "text/html": [
              "<div>\n",
              "<style scoped>\n",
              "    .dataframe tbody tr th:only-of-type {\n",
              "        vertical-align: middle;\n",
              "    }\n",
              "\n",
              "    .dataframe tbody tr th {\n",
              "        vertical-align: top;\n",
              "    }\n",
              "\n",
              "    .dataframe thead th {\n",
              "        text-align: right;\n",
              "    }\n",
              "</style>\n",
              "<table border=\"1\" class=\"dataframe\">\n",
              "  <thead>\n",
              "    <tr style=\"text-align: right;\">\n",
              "      <th></th>\n",
              "      <th>PRODUCTID</th>\n",
              "      <th>TYPECODE</th>\n",
              "      <th>PRODCATEGORYID</th>\n",
              "      <th>CREATEDBY</th>\n",
              "      <th>CREATEDAT</th>\n",
              "      <th>CHANGEDBY</th>\n",
              "      <th>CHANGEDAT</th>\n",
              "      <th>SUPPLIER_PARTNERID</th>\n",
              "      <th>QUANTITYUNIT</th>\n",
              "      <th>WEIGHTMEASURE</th>\n",
              "      <th>WEIGHTUNIT</th>\n",
              "      <th>CURRENCY</th>\n",
              "      <th>PRICE</th>\n",
              "    </tr>\n",
              "  </thead>\n",
              "  <tbody>\n",
              "    <tr>\n",
              "      <th>0</th>\n",
              "      <td>RO-1001</td>\n",
              "      <td>PR</td>\n",
              "      <td>RO</td>\n",
              "      <td>9</td>\n",
              "      <td>2018-10-03</td>\n",
              "      <td>9</td>\n",
              "      <td>2018-10-03</td>\n",
              "      <td>100000000</td>\n",
              "      <td>EA</td>\n",
              "      <td>7.7</td>\n",
              "      <td>KG</td>\n",
              "      <td>USD</td>\n",
              "      <td>525</td>\n",
              "    </tr>\n",
              "    <tr>\n",
              "      <th>1</th>\n",
              "      <td>RO-1002</td>\n",
              "      <td>PR</td>\n",
              "      <td>RO</td>\n",
              "      <td>9</td>\n",
              "      <td>2018-10-03</td>\n",
              "      <td>9</td>\n",
              "      <td>2018-10-03</td>\n",
              "      <td>100000001</td>\n",
              "      <td>EA</td>\n",
              "      <td>8.0</td>\n",
              "      <td>KG</td>\n",
              "      <td>USD</td>\n",
              "      <td>689</td>\n",
              "    </tr>\n",
              "    <tr>\n",
              "      <th>2</th>\n",
              "      <td>RO-1003</td>\n",
              "      <td>PR</td>\n",
              "      <td>RO</td>\n",
              "      <td>12</td>\n",
              "      <td>2018-10-03</td>\n",
              "      <td>12</td>\n",
              "      <td>2018-10-03</td>\n",
              "      <td>100000002</td>\n",
              "      <td>EA</td>\n",
              "      <td>9.1</td>\n",
              "      <td>KG</td>\n",
              "      <td>USD</td>\n",
              "      <td>721</td>\n",
              "    </tr>\n",
              "    <tr>\n",
              "      <th>3</th>\n",
              "      <td>BX-1011</td>\n",
              "      <td>PR</td>\n",
              "      <td>BX</td>\n",
              "      <td>9</td>\n",
              "      <td>2018-10-03</td>\n",
              "      <td>9</td>\n",
              "      <td>2018-10-03</td>\n",
              "      <td>100000003</td>\n",
              "      <td>EA</td>\n",
              "      <td>11.1</td>\n",
              "      <td>KG</td>\n",
              "      <td>USD</td>\n",
              "      <td>249</td>\n",
              "    </tr>\n",
              "    <tr>\n",
              "      <th>4</th>\n",
              "      <td>BX-1012</td>\n",
              "      <td>PR</td>\n",
              "      <td>BX</td>\n",
              "      <td>6</td>\n",
              "      <td>2018-10-03</td>\n",
              "      <td>6</td>\n",
              "      <td>2018-10-03</td>\n",
              "      <td>100000004</td>\n",
              "      <td>EA</td>\n",
              "      <td>12.0</td>\n",
              "      <td>KG</td>\n",
              "      <td>USD</td>\n",
              "      <td>399</td>\n",
              "    </tr>\n",
              "  </tbody>\n",
              "</table>\n",
              "</div>"
            ],
            "text/plain": [
              "  PRODUCTID TYPECODE PRODCATEGORYID  ...  WEIGHTUNIT CURRENCY  PRICE\n",
              "0   RO-1001       PR             RO  ...          KG      USD    525\n",
              "1   RO-1002       PR             RO  ...          KG      USD    689\n",
              "2   RO-1003       PR             RO  ...          KG      USD    721\n",
              "3   BX-1011       PR             BX  ...          KG      USD    249\n",
              "4   BX-1012       PR             BX  ...          KG      USD    399\n",
              "\n",
              "[5 rows x 13 columns]"
            ]
          },
          "metadata": {},
          "execution_count": 99
        }
      ]
    },
    {
      "cell_type": "markdown",
      "metadata": {
        "id": "s8djEVtmq5ja"
      },
      "source": [
        "# Product category text<a id='pct'></a>"
      ]
    },
    {
      "cell_type": "code",
      "metadata": {
        "colab": {
          "base_uri": "https://localhost:8080/",
          "height": 436
        },
        "id": "grMQGeHArAld",
        "outputId": "0ce2db38-53b4-4b30-b698-5a2e6491e86b"
      },
      "source": [
        "data_info(Product_category_text)"
      ],
      "execution_count": null,
      "outputs": [
        {
          "output_type": "stream",
          "name": "stdout",
          "text": [
            "Number of rows in dataset: 9\n",
            "Number of columns in dataset: 5\n",
            "Columns in dataset:\n",
            "Index(['PRODCATEGORYID', 'LANGUAGE', 'SHORT_DESCR', 'MEDIUM_DESCR',\n",
            "       'LONG_DESCR'],\n",
            "      dtype='object')\n"
          ]
        },
        {
          "output_type": "execute_result",
          "data": {
            "text/html": [
              "<div>\n",
              "<style scoped>\n",
              "    .dataframe tbody tr th:only-of-type {\n",
              "        vertical-align: middle;\n",
              "    }\n",
              "\n",
              "    .dataframe tbody tr th {\n",
              "        vertical-align: top;\n",
              "    }\n",
              "\n",
              "    .dataframe thead th {\n",
              "        text-align: right;\n",
              "    }\n",
              "</style>\n",
              "<table border=\"1\" class=\"dataframe\">\n",
              "  <thead>\n",
              "    <tr style=\"text-align: right;\">\n",
              "      <th></th>\n",
              "      <th>PRODCATEGORYID</th>\n",
              "      <th>LANGUAGE</th>\n",
              "      <th>SHORT_DESCR</th>\n",
              "      <th>MEDIUM_DESCR</th>\n",
              "      <th>LONG_DESCR</th>\n",
              "    </tr>\n",
              "  </thead>\n",
              "  <tbody>\n",
              "    <tr>\n",
              "      <th>0</th>\n",
              "      <td>RO</td>\n",
              "      <td>EN</td>\n",
              "      <td>Road Bike</td>\n",
              "      <td>NaN</td>\n",
              "      <td>NaN</td>\n",
              "    </tr>\n",
              "    <tr>\n",
              "      <th>1</th>\n",
              "      <td>BX</td>\n",
              "      <td>EN</td>\n",
              "      <td>BMX</td>\n",
              "      <td>NaN</td>\n",
              "      <td>NaN</td>\n",
              "    </tr>\n",
              "    <tr>\n",
              "      <th>2</th>\n",
              "      <td>CC</td>\n",
              "      <td>EN</td>\n",
              "      <td>Cyclo-cross Bike</td>\n",
              "      <td>NaN</td>\n",
              "      <td>NaN</td>\n",
              "    </tr>\n",
              "    <tr>\n",
              "      <th>3</th>\n",
              "      <td>MB</td>\n",
              "      <td>EN</td>\n",
              "      <td>Mountain Bike</td>\n",
              "      <td>NaN</td>\n",
              "      <td>NaN</td>\n",
              "    </tr>\n",
              "    <tr>\n",
              "      <th>4</th>\n",
              "      <td>RC</td>\n",
              "      <td>EN</td>\n",
              "      <td>Racing Bike</td>\n",
              "      <td>NaN</td>\n",
              "      <td>NaN</td>\n",
              "    </tr>\n",
              "    <tr>\n",
              "      <th>5</th>\n",
              "      <td>DB</td>\n",
              "      <td>EN</td>\n",
              "      <td>Downhill Bike</td>\n",
              "      <td>NaN</td>\n",
              "      <td>NaN</td>\n",
              "    </tr>\n",
              "    <tr>\n",
              "      <th>6</th>\n",
              "      <td>EB</td>\n",
              "      <td>EN</td>\n",
              "      <td>eBike</td>\n",
              "      <td>NaN</td>\n",
              "      <td>NaN</td>\n",
              "    </tr>\n",
              "    <tr>\n",
              "      <th>7</th>\n",
              "      <td>CB</td>\n",
              "      <td>EN</td>\n",
              "      <td>Cruiser</td>\n",
              "      <td>NaN</td>\n",
              "      <td>NaN</td>\n",
              "    </tr>\n",
              "    <tr>\n",
              "      <th>8</th>\n",
              "      <td>HB</td>\n",
              "      <td>EN</td>\n",
              "      <td>Hybrid Bike</td>\n",
              "      <td>NaN</td>\n",
              "      <td>NaN</td>\n",
              "    </tr>\n",
              "  </tbody>\n",
              "</table>\n",
              "</div>"
            ],
            "text/plain": [
              "  PRODCATEGORYID LANGUAGE       SHORT_DESCR  MEDIUM_DESCR  LONG_DESCR\n",
              "0             RO       EN         Road Bike           NaN         NaN\n",
              "1             BX       EN               BMX           NaN         NaN\n",
              "2             CC       EN  Cyclo-cross Bike           NaN         NaN\n",
              "3             MB       EN     Mountain Bike           NaN         NaN\n",
              "4             RC       EN       Racing Bike           NaN         NaN\n",
              "5             DB       EN     Downhill Bike           NaN         NaN\n",
              "6             EB       EN             eBike           NaN         NaN\n",
              "7             CB       EN           Cruiser           NaN         NaN\n",
              "8             HB       EN       Hybrid Bike           NaN         NaN"
            ]
          },
          "metadata": {},
          "execution_count": 100
        }
      ]
    },
    {
      "cell_type": "code",
      "source": [
        "col_info(Product_category_text)"
      ],
      "metadata": {
        "colab": {
          "base_uri": "https://localhost:8080/"
        },
        "id": "hIdayaJzbzPf",
        "outputId": "d5971bdc-1f98-42d8-e3af-c1ac474d323c"
      },
      "execution_count": null,
      "outputs": [
        {
          "output_type": "stream",
          "name": "stdout",
          "text": [
            "\u001b[1m PRODCATEGORYID \u001b[0m: object : 9 levels\n",
            "['RO', 'BX', 'CC', 'MB', 'RC', 'DB', 'EB', 'CB', 'HB'] \n",
            "\n",
            "\u001b[1m LANGUAGE \u001b[0m: object : 1 level\n",
            "['EN'] \n",
            "\n",
            "\u001b[1m SHORT_DESCR \u001b[0m: object : 9 levels\n",
            "['Road Bike', 'BMX', 'Cyclo-cross Bike', 'Mountain Bike'] ...\n",
            "\n",
            "\u001b[1m MEDIUM_DESCR \u001b[0m: float64 : 1 level\n",
            "[nan] \n",
            "\n",
            "\u001b[1m LONG_DESCR \u001b[0m: float64 : 1 level\n",
            "[nan] \n",
            "\n"
          ]
        }
      ]
    },
    {
      "cell_type": "markdown",
      "metadata": {
        "id": "q5h7Y1gj4J2y"
      },
      "source": [
        "**Data Selection**<a id='ds_pct'></a>"
      ]
    },
    {
      "cell_type": "markdown",
      "metadata": {
        "id": "QRdXKWLR4yaB"
      },
      "source": [
        "\n",
        "\n",
        "Some columns are dropped that are considered unimportant for our analysis:"
      ]
    },
    {
      "cell_type": "code",
      "source": [
        "cols_to_drop=['MEDIUM_DESCR','LONG_DESCR']\n",
        "Product_category_text.drop(cols_to_drop,axis=1,inplace=True)"
      ],
      "metadata": {
        "id": "apDB9Y5qb9u-"
      },
      "execution_count": null,
      "outputs": []
    },
    {
      "cell_type": "markdown",
      "source": [
        "**Data Cleaning**<a id='dc_pct'></a>\n",
        "\n",
        "**Missing Data**"
      ],
      "metadata": {
        "id": "f-LGgzh-cLCB"
      }
    },
    {
      "cell_type": "code",
      "metadata": {
        "colab": {
          "base_uri": "https://localhost:8080/"
        },
        "id": "7XYgnDdW4_e-",
        "outputId": "0a1e4c4c-2df3-459c-c4d1-f12ce94d9a69"
      },
      "source": [
        "Product_category_text.isnull().sum()"
      ],
      "execution_count": null,
      "outputs": [
        {
          "output_type": "execute_result",
          "data": {
            "text/plain": [
              "PRODCATEGORYID    0\n",
              "LANGUAGE          0\n",
              "SHORT_DESCR       0\n",
              "dtype: int64"
            ]
          },
          "metadata": {},
          "execution_count": 103
        }
      ]
    },
    {
      "cell_type": "markdown",
      "source": [
        "No data is missing from this dataset."
      ],
      "metadata": {
        "id": "oQHlK1RHcWg1"
      }
    },
    {
      "cell_type": "markdown",
      "metadata": {
        "id": "EVzDk_1O7zcj"
      },
      "source": [
        "**Data Formatting**<a id='df_pct'></a>\n",
        "\n",
        "The description of products given in column 'SHORT_DESCR' is not in same format. To keep them in a consistent format, we replace the dashes with spaces."
      ]
    },
    {
      "cell_type": "code",
      "metadata": {
        "colab": {
          "base_uri": "https://localhost:8080/",
          "height": 206
        },
        "id": "71RvrImD71Wb",
        "outputId": "4b65eeef-fedc-42f6-bb1a-5ed96a5aa093"
      },
      "source": [
        "Product_category_text[\"SHORT_DESCR\"] = Product_category_text[\"SHORT_DESCR\"].str.replace(\"-\",\" \")\n",
        "Product_category_text.head()"
      ],
      "execution_count": null,
      "outputs": [
        {
          "output_type": "execute_result",
          "data": {
            "text/html": [
              "<div>\n",
              "<style scoped>\n",
              "    .dataframe tbody tr th:only-of-type {\n",
              "        vertical-align: middle;\n",
              "    }\n",
              "\n",
              "    .dataframe tbody tr th {\n",
              "        vertical-align: top;\n",
              "    }\n",
              "\n",
              "    .dataframe thead th {\n",
              "        text-align: right;\n",
              "    }\n",
              "</style>\n",
              "<table border=\"1\" class=\"dataframe\">\n",
              "  <thead>\n",
              "    <tr style=\"text-align: right;\">\n",
              "      <th></th>\n",
              "      <th>PRODCATEGORYID</th>\n",
              "      <th>LANGUAGE</th>\n",
              "      <th>SHORT_DESCR</th>\n",
              "    </tr>\n",
              "  </thead>\n",
              "  <tbody>\n",
              "    <tr>\n",
              "      <th>0</th>\n",
              "      <td>RO</td>\n",
              "      <td>EN</td>\n",
              "      <td>Road Bike</td>\n",
              "    </tr>\n",
              "    <tr>\n",
              "      <th>1</th>\n",
              "      <td>BX</td>\n",
              "      <td>EN</td>\n",
              "      <td>BMX</td>\n",
              "    </tr>\n",
              "    <tr>\n",
              "      <th>2</th>\n",
              "      <td>CC</td>\n",
              "      <td>EN</td>\n",
              "      <td>Cyclo cross Bike</td>\n",
              "    </tr>\n",
              "    <tr>\n",
              "      <th>3</th>\n",
              "      <td>MB</td>\n",
              "      <td>EN</td>\n",
              "      <td>Mountain Bike</td>\n",
              "    </tr>\n",
              "    <tr>\n",
              "      <th>4</th>\n",
              "      <td>RC</td>\n",
              "      <td>EN</td>\n",
              "      <td>Racing Bike</td>\n",
              "    </tr>\n",
              "  </tbody>\n",
              "</table>\n",
              "</div>"
            ],
            "text/plain": [
              "  PRODCATEGORYID LANGUAGE       SHORT_DESCR\n",
              "0             RO       EN         Road Bike\n",
              "1             BX       EN               BMX\n",
              "2             CC       EN  Cyclo cross Bike\n",
              "3             MB       EN     Mountain Bike\n",
              "4             RC       EN       Racing Bike"
            ]
          },
          "metadata": {},
          "execution_count": 104
        }
      ]
    },
    {
      "cell_type": "code",
      "metadata": {
        "colab": {
          "base_uri": "https://localhost:8080/"
        },
        "id": "NfQ4hwFE8IaN",
        "outputId": "9bdfc78f-503b-4926-fc1b-1f0b8b2bb067"
      },
      "source": [
        "print(\"Number of rows after cleaning:\", len(Product_category_text))\n",
        "print(\"Number of columns after cleaning:\", len(Product_category_text.columns))"
      ],
      "execution_count": null,
      "outputs": [
        {
          "output_type": "stream",
          "name": "stdout",
          "text": [
            "Number of rows after cleaning: 9\n",
            "Number of columns after cleaning: 3\n"
          ]
        }
      ]
    },
    {
      "cell_type": "markdown",
      "metadata": {
        "id": "jR6NmzvOrJ6J"
      },
      "source": [
        "# Product Categories<a id='pc'></a>"
      ]
    },
    {
      "cell_type": "code",
      "metadata": {
        "colab": {
          "base_uri": "https://localhost:8080/",
          "height": 401
        },
        "id": "zE_f1cpkrOkd",
        "outputId": "30e1070f-23c2-434c-9031-2804504d3386"
      },
      "source": [
        "data_info(Product_category)"
      ],
      "execution_count": null,
      "outputs": [
        {
          "output_type": "stream",
          "name": "stdout",
          "text": [
            "Number of rows in dataset: 9\n",
            "Number of columns in dataset: 3\n",
            "Columns in dataset:\n",
            "Index(['PRODCATEGORYID', 'CREATEDBY', 'CREATEDAT'], dtype='object')\n"
          ]
        },
        {
          "output_type": "execute_result",
          "data": {
            "text/html": [
              "<div>\n",
              "<style scoped>\n",
              "    .dataframe tbody tr th:only-of-type {\n",
              "        vertical-align: middle;\n",
              "    }\n",
              "\n",
              "    .dataframe tbody tr th {\n",
              "        vertical-align: top;\n",
              "    }\n",
              "\n",
              "    .dataframe thead th {\n",
              "        text-align: right;\n",
              "    }\n",
              "</style>\n",
              "<table border=\"1\" class=\"dataframe\">\n",
              "  <thead>\n",
              "    <tr style=\"text-align: right;\">\n",
              "      <th></th>\n",
              "      <th>PRODCATEGORYID</th>\n",
              "      <th>CREATEDBY</th>\n",
              "      <th>CREATEDAT</th>\n",
              "    </tr>\n",
              "  </thead>\n",
              "  <tbody>\n",
              "    <tr>\n",
              "      <th>0</th>\n",
              "      <td>RO</td>\n",
              "      <td>12</td>\n",
              "      <td>20181003</td>\n",
              "    </tr>\n",
              "    <tr>\n",
              "      <th>1</th>\n",
              "      <td>BX</td>\n",
              "      <td>4</td>\n",
              "      <td>20181003</td>\n",
              "    </tr>\n",
              "    <tr>\n",
              "      <th>2</th>\n",
              "      <td>CC</td>\n",
              "      <td>7</td>\n",
              "      <td>20181003</td>\n",
              "    </tr>\n",
              "    <tr>\n",
              "      <th>3</th>\n",
              "      <td>MB</td>\n",
              "      <td>11</td>\n",
              "      <td>20181003</td>\n",
              "    </tr>\n",
              "    <tr>\n",
              "      <th>4</th>\n",
              "      <td>RC</td>\n",
              "      <td>9</td>\n",
              "      <td>20181003</td>\n",
              "    </tr>\n",
              "    <tr>\n",
              "      <th>5</th>\n",
              "      <td>DB</td>\n",
              "      <td>8</td>\n",
              "      <td>20181003</td>\n",
              "    </tr>\n",
              "    <tr>\n",
              "      <th>6</th>\n",
              "      <td>EB</td>\n",
              "      <td>11</td>\n",
              "      <td>20181003</td>\n",
              "    </tr>\n",
              "    <tr>\n",
              "      <th>7</th>\n",
              "      <td>CB</td>\n",
              "      <td>10</td>\n",
              "      <td>20181003</td>\n",
              "    </tr>\n",
              "    <tr>\n",
              "      <th>8</th>\n",
              "      <td>HB</td>\n",
              "      <td>6</td>\n",
              "      <td>20181003</td>\n",
              "    </tr>\n",
              "  </tbody>\n",
              "</table>\n",
              "</div>"
            ],
            "text/plain": [
              "  PRODCATEGORYID  CREATEDBY  CREATEDAT\n",
              "0             RO         12   20181003\n",
              "1             BX          4   20181003\n",
              "2             CC          7   20181003\n",
              "3             MB         11   20181003\n",
              "4             RC          9   20181003\n",
              "5             DB          8   20181003\n",
              "6             EB         11   20181003\n",
              "7             CB         10   20181003\n",
              "8             HB          6   20181003"
            ]
          },
          "metadata": {},
          "execution_count": 106
        }
      ]
    },
    {
      "cell_type": "code",
      "source": [
        "col_info(Product_category)"
      ],
      "metadata": {
        "colab": {
          "base_uri": "https://localhost:8080/"
        },
        "id": "ahSizP0sc7yZ",
        "outputId": "d6482efc-e15e-458a-cc1f-e64426493738"
      },
      "execution_count": null,
      "outputs": [
        {
          "output_type": "stream",
          "name": "stdout",
          "text": [
            "\u001b[1m PRODCATEGORYID \u001b[0m: object : 9 levels\n",
            "['RO', 'BX', 'CC', 'MB', 'RC', 'DB', 'EB', 'CB', 'HB'] \n",
            "\n",
            "\u001b[1m CREATEDBY \u001b[0m: int64 : 8 levels\n",
            "[12, 4, 7, 11, 9, 8, 10, 6] \n",
            "\n",
            "\u001b[1m CREATEDAT \u001b[0m: int64 : 1 level\n",
            "[20181003] \n",
            "\n"
          ]
        }
      ]
    },
    {
      "cell_type": "markdown",
      "metadata": {
        "id": "-yJwAPhW8tBM"
      },
      "source": [
        "**Data Selection**<a id='ds_pc'></a>\n",
        "\n",
        "All columns seem useful. So, we do not drop any column from this dataset."
      ]
    },
    {
      "cell_type": "markdown",
      "metadata": {
        "id": "4EwgQ01w8qmD"
      },
      "source": [
        "**Data Cleaning**<a id='dc_pc'></a>\n",
        "\n",
        "***Missing Data***"
      ]
    },
    {
      "cell_type": "code",
      "metadata": {
        "colab": {
          "base_uri": "https://localhost:8080/"
        },
        "id": "C64KSxGx9BFx",
        "outputId": "ea2c0cf7-e640-4a0c-d220-85e3afcd30fc"
      },
      "source": [
        "Product_category.isnull().sum()"
      ],
      "execution_count": null,
      "outputs": [
        {
          "output_type": "execute_result",
          "data": {
            "text/plain": [
              "PRODCATEGORYID    0\n",
              "CREATEDBY         0\n",
              "CREATEDAT         0\n",
              "dtype: int64"
            ]
          },
          "metadata": {},
          "execution_count": 108
        }
      ]
    },
    {
      "cell_type": "markdown",
      "source": [
        "There is no missing value in this dataset."
      ],
      "metadata": {
        "id": "0OVDp4czdUo6"
      }
    },
    {
      "cell_type": "markdown",
      "metadata": {
        "id": "atoQxrpu9Q05"
      },
      "source": [
        "**Data Formatting**<a id='df_pc'></a>"
      ]
    },
    {
      "cell_type": "code",
      "metadata": {
        "colab": {
          "base_uri": "https://localhost:8080/",
          "height": 143
        },
        "id": "fHkj0i7k9We2",
        "outputId": "bf19f8ce-5c1c-47f8-8806-ab85ca65057a"
      },
      "source": [
        "Product_category.head(3)"
      ],
      "execution_count": null,
      "outputs": [
        {
          "output_type": "execute_result",
          "data": {
            "text/html": [
              "<div>\n",
              "<style scoped>\n",
              "    .dataframe tbody tr th:only-of-type {\n",
              "        vertical-align: middle;\n",
              "    }\n",
              "\n",
              "    .dataframe tbody tr th {\n",
              "        vertical-align: top;\n",
              "    }\n",
              "\n",
              "    .dataframe thead th {\n",
              "        text-align: right;\n",
              "    }\n",
              "</style>\n",
              "<table border=\"1\" class=\"dataframe\">\n",
              "  <thead>\n",
              "    <tr style=\"text-align: right;\">\n",
              "      <th></th>\n",
              "      <th>PRODCATEGORYID</th>\n",
              "      <th>CREATEDBY</th>\n",
              "      <th>CREATEDAT</th>\n",
              "    </tr>\n",
              "  </thead>\n",
              "  <tbody>\n",
              "    <tr>\n",
              "      <th>0</th>\n",
              "      <td>RO</td>\n",
              "      <td>12</td>\n",
              "      <td>20181003</td>\n",
              "    </tr>\n",
              "    <tr>\n",
              "      <th>1</th>\n",
              "      <td>BX</td>\n",
              "      <td>4</td>\n",
              "      <td>20181003</td>\n",
              "    </tr>\n",
              "    <tr>\n",
              "      <th>2</th>\n",
              "      <td>CC</td>\n",
              "      <td>7</td>\n",
              "      <td>20181003</td>\n",
              "    </tr>\n",
              "  </tbody>\n",
              "</table>\n",
              "</div>"
            ],
            "text/plain": [
              "  PRODCATEGORYID  CREATEDBY  CREATEDAT\n",
              "0             RO         12   20181003\n",
              "1             BX          4   20181003\n",
              "2             CC          7   20181003"
            ]
          },
          "metadata": {},
          "execution_count": 109
        }
      ]
    },
    {
      "cell_type": "code",
      "source": [
        "Product_category[['CREATEDAT']].dtypes"
      ],
      "metadata": {
        "colab": {
          "base_uri": "https://localhost:8080/"
        },
        "id": "a36KBOGOdr9L",
        "outputId": "5371e713-8102-47d2-b367-9f4fb0553f29"
      },
      "execution_count": null,
      "outputs": [
        {
          "output_type": "execute_result",
          "data": {
            "text/plain": [
              "CREATEDAT    int64\n",
              "dtype: object"
            ]
          },
          "metadata": {},
          "execution_count": 110
        }
      ]
    },
    {
      "cell_type": "markdown",
      "source": [
        "So, we convert the column 'CREATEAT' into Date format."
      ],
      "metadata": {
        "id": "7xxrdHs-d4uM"
      }
    },
    {
      "cell_type": "code",
      "metadata": {
        "id": "Rv-K57GG9BS4"
      },
      "source": [
        "Product_category['CREATEDAT']=Product_category['CREATEDAT'].apply(lambda x: datetime.datetime.strptime(str(x), '%Y%m%d'))\n"
      ],
      "execution_count": null,
      "outputs": []
    },
    {
      "cell_type": "code",
      "metadata": {
        "colab": {
          "base_uri": "https://localhost:8080/"
        },
        "id": "X4iGraOn9cPL",
        "outputId": "cc27ee53-a1b3-4b5a-a480-ef6fa0d25fff"
      },
      "source": [
        "Product_category[['CREATEDAT']].dtypes"
      ],
      "execution_count": null,
      "outputs": [
        {
          "output_type": "execute_result",
          "data": {
            "text/plain": [
              "CREATEDAT    datetime64[ns]\n",
              "dtype: object"
            ]
          },
          "metadata": {},
          "execution_count": 112
        }
      ]
    },
    {
      "cell_type": "markdown",
      "metadata": {
        "id": "fTji69BO3ckG"
      },
      "source": [
        "\n",
        "# Merging dataframes<a id='merge'></a>\n"
      ]
    },
    {
      "cell_type": "markdown",
      "metadata": {
        "id": "vWpFfFB01LYl"
      },
      "source": [
        "**Checking Primary Keys**"
      ]
    },
    {
      "cell_type": "markdown",
      "metadata": {
        "id": "6xRRXMEx1PV0"
      },
      "source": [
        "So far, We've cleaned multiple datasets that are useful for us. In this part we will merge them in a meaningful way to reduce the confusion of dealing with 9 different datasets.\n",
        "\n",
        "Before combining the datasets, we will look for unique column than can act as primary key.\n",
        "\n",
        "We discovered a possibly unique key in the previous section, so we'll double-check it before merging the tables."
      ]
    },
    {
      "cell_type": "code",
      "metadata": {
        "id": "943ezBXh0rpN"
      },
      "source": [
        "def can_serve_as_key(df, col_name):\n",
        "    nb_rows = df.shape[0]\n",
        "    nb_unique_values = df[col_name].nunique()\n",
        "    if nb_unique_values == nb_rows:\n",
        "        print(\"YES:\", nb_unique_values, \"unique\", col_name, \"values,\", nb_rows, \"rows\",\"\\n\")\n",
        "    else:\n",
        "        print(\"NO:\", nb_unique_values, \"unique\", col_name, \"values,\", nb_rows, \"rows\", \"\\n\")"
      ],
      "execution_count": null,
      "outputs": []
    },
    {
      "cell_type": "code",
      "metadata": {
        "colab": {
          "base_uri": "https://localhost:8080/"
        },
        "id": "bOC-RgJj1avc",
        "outputId": "0eeda160-4701-4125-ab17-38bc8828363c"
      },
      "source": [
        "sales_list=['SALESORDERID','PARTNERID']\n",
        "for i in sales_list:\n",
        "  can_serve_as_key(sales_orders,i)\n",
        "# Checking for sales_order_items\n",
        "sales_order_list=['SALESORDERID','PRODUCTID']\n",
        "for i in sales_order_list:\n",
        "  can_serve_as_key(sales_order_Item,i) \n",
        "# Checking for Employees\n",
        "employees_list = ['EMPLOYEEID','ADDRESSID']\n",
        "for i in employees_list:\n",
        "  can_serve_as_key(Employees,i)\n",
        "# Checking for Business partner\n",
        "business_list = ['PARTNERID']\n",
        "for i in business_list:\n",
        "  can_serve_as_key(B_Partners,i)\n",
        "# Checking for Address\n",
        "address_list = ['ADDRESSID']\n",
        "for i in address_list:\n",
        "  can_serve_as_key(Address,i)\n",
        "# Checking for product text\n",
        "product_text_list = ['PRODUCTID']\n",
        "for i in product_text_list:\n",
        "  can_serve_as_key(Product_texts,i)\n",
        "# Checking for products\n",
        "products_list =['PRODUCTID','PRODCATEGORYID'] \n",
        "for i in products_list:\n",
        "  can_serve_as_key(Products,i)\n",
        "# Checking for products category text\n",
        "product_category_list =['PRODCATEGORYID']\n",
        "for i in product_category_list:\n",
        "  can_serve_as_key(Product_category_text,i)\n",
        "# Checking for products category\n",
        "product_category_list =['PRODCATEGORYID']\n",
        "for i in product_category_list:\n",
        "  can_serve_as_key(Product_category,i)"
      ],
      "execution_count": null,
      "outputs": [
        {
          "output_type": "stream",
          "name": "stdout",
          "text": [
            "YES: 334 unique SALESORDERID values, 334 rows \n",
            "\n",
            "NO: 40 unique PARTNERID values, 334 rows \n",
            "\n",
            "NO: 334 unique SALESORDERID values, 1930 rows \n",
            "\n",
            "NO: 42 unique PRODUCTID values, 1930 rows \n",
            "\n",
            "YES: 14 unique EMPLOYEEID values, 14 rows \n",
            "\n",
            "YES: 14 unique ADDRESSID values, 14 rows \n",
            "\n",
            "YES: 40 unique PARTNERID values, 40 rows \n",
            "\n",
            "YES: 54 unique ADDRESSID values, 54 rows \n",
            "\n",
            "NO: 42 unique PRODUCTID values, 44 rows \n",
            "\n",
            "YES: 42 unique PRODUCTID values, 42 rows \n",
            "\n",
            "NO: 9 unique PRODCATEGORYID values, 42 rows \n",
            "\n",
            "YES: 9 unique PRODCATEGORYID values, 9 rows \n",
            "\n",
            "YES: 9 unique PRODCATEGORYID values, 9 rows \n",
            "\n"
          ]
        }
      ]
    },
    {
      "cell_type": "markdown",
      "metadata": {
        "id": "xK2YejiNqeOO"
      },
      "source": [
        "We will merge\n",
        "- sales_orders\n",
        "- sales_order_Item\n",
        "\n",
        "as one dataframe called \"sales_all\" on \"SALESORDERID\".\n",
        "\n",
        "- Product_texts\n",
        "- Products\n",
        "\n",
        "as one dataframe and we call it \"Products_all\" on \"PRODUCTID\".\n",
        "- Product_category_text\n",
        "- Product_category\n",
        "\n",
        "as another dataframe called \"Product_category_all\" on \"PRODCATEGORYID\".\n",
        "\n",
        "Then we will merge Products_all and Product_category_all into one master dataframe called \"Products_master\" on \"PRODCATEGORYID\".\n",
        "\n",
        "Then we will merge Products_master and sales_all into one master dataframe called \"Products_sales_master\" on \"PRODUCTID\".\n",
        "\n",
        "- B_Partners\n",
        "- Address \n",
        "\n",
        "Two dataframes above will create another dataframe called BusinessPartners.\n",
        "\n",
        "\n",
        "And then we will use Employees and Address dataframes to create a thorough file for employees and name it \"Employee_master\"."
      ]
    },
    {
      "cell_type": "code",
      "metadata": {
        "colab": {
          "base_uri": "https://localhost:8080/",
          "height": 313
        },
        "id": "vguyKy1qewk_",
        "outputId": "086f6697-bbc6-4b30-c6e8-e81be82c3bce"
      },
      "source": [
        "#merging sales_orders and sales_order_Item\n",
        "sales_all=pd.merge(sales_orders,sales_order_Item, on='SALESORDERID')\n",
        "sales_all.head(5)"
      ],
      "execution_count": null,
      "outputs": [
        {
          "output_type": "execute_result",
          "data": {
            "text/html": [
              "<div>\n",
              "<style scoped>\n",
              "    .dataframe tbody tr th:only-of-type {\n",
              "        vertical-align: middle;\n",
              "    }\n",
              "\n",
              "    .dataframe tbody tr th {\n",
              "        vertical-align: top;\n",
              "    }\n",
              "\n",
              "    .dataframe thead th {\n",
              "        text-align: right;\n",
              "    }\n",
              "</style>\n",
              "<table border=\"1\" class=\"dataframe\">\n",
              "  <thead>\n",
              "    <tr style=\"text-align: right;\">\n",
              "      <th></th>\n",
              "      <th>SALESORDERID</th>\n",
              "      <th>CREATEDBY</th>\n",
              "      <th>CREATEDAT</th>\n",
              "      <th>CHANGEDBY</th>\n",
              "      <th>CHANGEDAT</th>\n",
              "      <th>PARTNERID</th>\n",
              "      <th>SALESORG</th>\n",
              "      <th>CURRENCY_x</th>\n",
              "      <th>GROSSAMOUNT_x</th>\n",
              "      <th>NETAMOUNT_x</th>\n",
              "      <th>TAXAMOUNT_x</th>\n",
              "      <th>SALESORDERITEM</th>\n",
              "      <th>PRODUCTID</th>\n",
              "      <th>CURRENCY_y</th>\n",
              "      <th>GROSSAMOUNT_y</th>\n",
              "      <th>NETAMOUNT_y</th>\n",
              "      <th>TAXAMOUNT_y</th>\n",
              "      <th>ITEMATPSTATUS</th>\n",
              "      <th>QUANTITY</th>\n",
              "      <th>QUANTITYUNIT</th>\n",
              "      <th>DELIVERYDATE</th>\n",
              "    </tr>\n",
              "  </thead>\n",
              "  <tbody>\n",
              "    <tr>\n",
              "      <th>0</th>\n",
              "      <td>500000049</td>\n",
              "      <td>8</td>\n",
              "      <td>2018-03-21</td>\n",
              "      <td>8</td>\n",
              "      <td>2018-03-25</td>\n",
              "      <td>100000009</td>\n",
              "      <td>EMEA</td>\n",
              "      <td>USD</td>\n",
              "      <td>75646.0</td>\n",
              "      <td>66190.25</td>\n",
              "      <td>9455.75</td>\n",
              "      <td>10</td>\n",
              "      <td>CB-1161</td>\n",
              "      <td>USD</td>\n",
              "      <td>399.0</td>\n",
              "      <td>349.125</td>\n",
              "      <td>49.875</td>\n",
              "      <td>I</td>\n",
              "      <td>8</td>\n",
              "      <td>EA</td>\n",
              "      <td>1970-01-01 00:00:00.020180518</td>\n",
              "    </tr>\n",
              "    <tr>\n",
              "      <th>1</th>\n",
              "      <td>500000049</td>\n",
              "      <td>8</td>\n",
              "      <td>2018-03-21</td>\n",
              "      <td>8</td>\n",
              "      <td>2018-03-25</td>\n",
              "      <td>100000009</td>\n",
              "      <td>EMEA</td>\n",
              "      <td>USD</td>\n",
              "      <td>75646.0</td>\n",
              "      <td>66190.25</td>\n",
              "      <td>9455.75</td>\n",
              "      <td>20</td>\n",
              "      <td>BX-1011</td>\n",
              "      <td>USD</td>\n",
              "      <td>249.0</td>\n",
              "      <td>217.875</td>\n",
              "      <td>31.125</td>\n",
              "      <td>I</td>\n",
              "      <td>1</td>\n",
              "      <td>EA</td>\n",
              "      <td>1970-01-01 00:00:00.020180518</td>\n",
              "    </tr>\n",
              "    <tr>\n",
              "      <th>2</th>\n",
              "      <td>500000049</td>\n",
              "      <td>8</td>\n",
              "      <td>2018-03-21</td>\n",
              "      <td>8</td>\n",
              "      <td>2018-03-25</td>\n",
              "      <td>100000009</td>\n",
              "      <td>EMEA</td>\n",
              "      <td>USD</td>\n",
              "      <td>75646.0</td>\n",
              "      <td>66190.25</td>\n",
              "      <td>9455.75</td>\n",
              "      <td>30</td>\n",
              "      <td>HB-1172</td>\n",
              "      <td>USD</td>\n",
              "      <td>799.0</td>\n",
              "      <td>699.125</td>\n",
              "      <td>99.875</td>\n",
              "      <td>I</td>\n",
              "      <td>9</td>\n",
              "      <td>EA</td>\n",
              "      <td>1970-01-01 00:00:00.020180518</td>\n",
              "    </tr>\n",
              "    <tr>\n",
              "      <th>3</th>\n",
              "      <td>500000049</td>\n",
              "      <td>8</td>\n",
              "      <td>2018-03-21</td>\n",
              "      <td>8</td>\n",
              "      <td>2018-03-25</td>\n",
              "      <td>100000009</td>\n",
              "      <td>EMEA</td>\n",
              "      <td>USD</td>\n",
              "      <td>75646.0</td>\n",
              "      <td>66190.25</td>\n",
              "      <td>9455.75</td>\n",
              "      <td>40</td>\n",
              "      <td>BX-1011</td>\n",
              "      <td>USD</td>\n",
              "      <td>249.0</td>\n",
              "      <td>217.875</td>\n",
              "      <td>31.125</td>\n",
              "      <td>I</td>\n",
              "      <td>3</td>\n",
              "      <td>EA</td>\n",
              "      <td>1970-01-01 00:00:00.020180518</td>\n",
              "    </tr>\n",
              "    <tr>\n",
              "      <th>4</th>\n",
              "      <td>500000049</td>\n",
              "      <td>8</td>\n",
              "      <td>2018-03-21</td>\n",
              "      <td>8</td>\n",
              "      <td>2018-03-25</td>\n",
              "      <td>100000009</td>\n",
              "      <td>EMEA</td>\n",
              "      <td>USD</td>\n",
              "      <td>75646.0</td>\n",
              "      <td>66190.25</td>\n",
              "      <td>9455.75</td>\n",
              "      <td>50</td>\n",
              "      <td>DB-1081</td>\n",
              "      <td>USD</td>\n",
              "      <td>1499.0</td>\n",
              "      <td>1311.625</td>\n",
              "      <td>187.375</td>\n",
              "      <td>I</td>\n",
              "      <td>8</td>\n",
              "      <td>EA</td>\n",
              "      <td>1970-01-01 00:00:00.020180518</td>\n",
              "    </tr>\n",
              "  </tbody>\n",
              "</table>\n",
              "</div>"
            ],
            "text/plain": [
              "   SALESORDERID  CREATEDBY  ... QUANTITYUNIT                  DELIVERYDATE\n",
              "0     500000049          8  ...           EA 1970-01-01 00:00:00.020180518\n",
              "1     500000049          8  ...           EA 1970-01-01 00:00:00.020180518\n",
              "2     500000049          8  ...           EA 1970-01-01 00:00:00.020180518\n",
              "3     500000049          8  ...           EA 1970-01-01 00:00:00.020180518\n",
              "4     500000049          8  ...           EA 1970-01-01 00:00:00.020180518\n",
              "\n",
              "[5 rows x 21 columns]"
            ]
          },
          "metadata": {},
          "execution_count": 115
        }
      ]
    },
    {
      "cell_type": "code",
      "source": [
        "# Renaming columns\n",
        "sales_all = sales_all.rename({'CURRENCY_x': 'CURRENCY_OVERALL', 'GROSSAMOUNT_x': 'GROSSAMOUNT_OVERALL','NETAMOUNT_x':'NETAMOUNT_OVERALL','TAXAMOUNT_x':'TAXAMOUNT_OVERALL',\n",
        "                              'CURRENCY_y': 'CURRENCY_IND', 'GROSSAMOUNT_y': 'GROSSAMOUNT_IND','NETAMOUNT_y':'NETAMOUNT_IND','TAXAMOUNT_y':'TAXAMOUNT_IND'}, axis=1)"
      ],
      "metadata": {
        "id": "3VLEQK7RMBVu"
      },
      "execution_count": null,
      "outputs": []
    },
    {
      "cell_type": "code",
      "metadata": {
        "colab": {
          "base_uri": "https://localhost:8080/",
          "height": 313
        },
        "id": "lIeK3oQjf1N2",
        "outputId": "067284b9-c08f-48c6-c8b7-f3730c038cef"
      },
      "source": [
        "#merging products and product_text\n",
        "Products_all=pd.merge(Products,Product_texts,on='PRODUCTID')\n",
        "Products_all.head(5)"
      ],
      "execution_count": null,
      "outputs": [
        {
          "output_type": "execute_result",
          "data": {
            "text/html": [
              "<div>\n",
              "<style scoped>\n",
              "    .dataframe tbody tr th:only-of-type {\n",
              "        vertical-align: middle;\n",
              "    }\n",
              "\n",
              "    .dataframe tbody tr th {\n",
              "        vertical-align: top;\n",
              "    }\n",
              "\n",
              "    .dataframe thead th {\n",
              "        text-align: right;\n",
              "    }\n",
              "</style>\n",
              "<table border=\"1\" class=\"dataframe\">\n",
              "  <thead>\n",
              "    <tr style=\"text-align: right;\">\n",
              "      <th></th>\n",
              "      <th>PRODUCTID</th>\n",
              "      <th>TYPECODE</th>\n",
              "      <th>PRODCATEGORYID</th>\n",
              "      <th>CREATEDBY</th>\n",
              "      <th>CREATEDAT</th>\n",
              "      <th>CHANGEDBY</th>\n",
              "      <th>CHANGEDAT</th>\n",
              "      <th>SUPPLIER_PARTNERID</th>\n",
              "      <th>QUANTITYUNIT</th>\n",
              "      <th>WEIGHTMEASURE</th>\n",
              "      <th>WEIGHTUNIT</th>\n",
              "      <th>CURRENCY</th>\n",
              "      <th>PRICE</th>\n",
              "      <th>LANGUAGE</th>\n",
              "      <th>SHORT_DESCR</th>\n",
              "      <th>MEDIUM_DESCR</th>\n",
              "    </tr>\n",
              "  </thead>\n",
              "  <tbody>\n",
              "    <tr>\n",
              "      <th>0</th>\n",
              "      <td>RO-1001</td>\n",
              "      <td>PR</td>\n",
              "      <td>RO</td>\n",
              "      <td>9</td>\n",
              "      <td>2018-10-03</td>\n",
              "      <td>9</td>\n",
              "      <td>2018-10-03</td>\n",
              "      <td>100000000</td>\n",
              "      <td>EA</td>\n",
              "      <td>7.7</td>\n",
              "      <td>KG</td>\n",
              "      <td>USD</td>\n",
              "      <td>525</td>\n",
              "      <td>EN</td>\n",
              "      <td>Roady 1001</td>\n",
              "      <td>Roady 1001</td>\n",
              "    </tr>\n",
              "    <tr>\n",
              "      <th>1</th>\n",
              "      <td>RO-1002</td>\n",
              "      <td>PR</td>\n",
              "      <td>RO</td>\n",
              "      <td>9</td>\n",
              "      <td>2018-10-03</td>\n",
              "      <td>9</td>\n",
              "      <td>2018-10-03</td>\n",
              "      <td>100000001</td>\n",
              "      <td>EA</td>\n",
              "      <td>8.0</td>\n",
              "      <td>KG</td>\n",
              "      <td>USD</td>\n",
              "      <td>689</td>\n",
              "      <td>EN</td>\n",
              "      <td>Roady 1002</td>\n",
              "      <td>Roady 1002</td>\n",
              "    </tr>\n",
              "    <tr>\n",
              "      <th>2</th>\n",
              "      <td>RO-1003</td>\n",
              "      <td>PR</td>\n",
              "      <td>RO</td>\n",
              "      <td>12</td>\n",
              "      <td>2018-10-03</td>\n",
              "      <td>12</td>\n",
              "      <td>2018-10-03</td>\n",
              "      <td>100000002</td>\n",
              "      <td>EA</td>\n",
              "      <td>9.1</td>\n",
              "      <td>KG</td>\n",
              "      <td>USD</td>\n",
              "      <td>721</td>\n",
              "      <td>EN</td>\n",
              "      <td>Roady 1003</td>\n",
              "      <td>Roady 1003</td>\n",
              "    </tr>\n",
              "    <tr>\n",
              "      <th>3</th>\n",
              "      <td>BX-1011</td>\n",
              "      <td>PR</td>\n",
              "      <td>BX</td>\n",
              "      <td>9</td>\n",
              "      <td>2018-10-03</td>\n",
              "      <td>9</td>\n",
              "      <td>2018-10-03</td>\n",
              "      <td>100000003</td>\n",
              "      <td>EA</td>\n",
              "      <td>11.1</td>\n",
              "      <td>KG</td>\n",
              "      <td>USD</td>\n",
              "      <td>249</td>\n",
              "      <td>EN</td>\n",
              "      <td>BMX Vintage 1011</td>\n",
              "      <td>BMX Vintage 1011</td>\n",
              "    </tr>\n",
              "    <tr>\n",
              "      <th>4</th>\n",
              "      <td>BX-1012</td>\n",
              "      <td>PR</td>\n",
              "      <td>BX</td>\n",
              "      <td>6</td>\n",
              "      <td>2018-10-03</td>\n",
              "      <td>6</td>\n",
              "      <td>2018-10-03</td>\n",
              "      <td>100000004</td>\n",
              "      <td>EA</td>\n",
              "      <td>12.0</td>\n",
              "      <td>KG</td>\n",
              "      <td>USD</td>\n",
              "      <td>399</td>\n",
              "      <td>EN</td>\n",
              "      <td>BMX Jump 1012</td>\n",
              "      <td>BMX Jump 1012</td>\n",
              "    </tr>\n",
              "  </tbody>\n",
              "</table>\n",
              "</div>"
            ],
            "text/plain": [
              "  PRODUCTID TYPECODE  ...       SHORT_DESCR      MEDIUM_DESCR\n",
              "0   RO-1001       PR  ...        Roady 1001        Roady 1001\n",
              "1   RO-1002       PR  ...        Roady 1002        Roady 1002\n",
              "2   RO-1003       PR  ...        Roady 1003        Roady 1003\n",
              "3   BX-1011       PR  ...  BMX Vintage 1011  BMX Vintage 1011\n",
              "4   BX-1012       PR  ...     BMX Jump 1012     BMX Jump 1012\n",
              "\n",
              "[5 rows x 16 columns]"
            ]
          },
          "metadata": {},
          "execution_count": 117
        }
      ]
    },
    {
      "cell_type": "code",
      "metadata": {
        "colab": {
          "base_uri": "https://localhost:8080/",
          "height": 206
        },
        "id": "XY8_Rb8W3atU",
        "outputId": "49f565b6-4d42-479e-a632-df3717e7e6cf"
      },
      "source": [
        "#merging Product_category and product_category\n",
        "Product_category_all=pd.merge(Product_category,Product_category_text,on='PRODCATEGORYID')\n",
        "Product_category_all.head(5)"
      ],
      "execution_count": null,
      "outputs": [
        {
          "output_type": "execute_result",
          "data": {
            "text/html": [
              "<div>\n",
              "<style scoped>\n",
              "    .dataframe tbody tr th:only-of-type {\n",
              "        vertical-align: middle;\n",
              "    }\n",
              "\n",
              "    .dataframe tbody tr th {\n",
              "        vertical-align: top;\n",
              "    }\n",
              "\n",
              "    .dataframe thead th {\n",
              "        text-align: right;\n",
              "    }\n",
              "</style>\n",
              "<table border=\"1\" class=\"dataframe\">\n",
              "  <thead>\n",
              "    <tr style=\"text-align: right;\">\n",
              "      <th></th>\n",
              "      <th>PRODCATEGORYID</th>\n",
              "      <th>CREATEDBY</th>\n",
              "      <th>CREATEDAT</th>\n",
              "      <th>LANGUAGE</th>\n",
              "      <th>SHORT_DESCR</th>\n",
              "    </tr>\n",
              "  </thead>\n",
              "  <tbody>\n",
              "    <tr>\n",
              "      <th>0</th>\n",
              "      <td>RO</td>\n",
              "      <td>12</td>\n",
              "      <td>2018-10-03</td>\n",
              "      <td>EN</td>\n",
              "      <td>Road Bike</td>\n",
              "    </tr>\n",
              "    <tr>\n",
              "      <th>1</th>\n",
              "      <td>BX</td>\n",
              "      <td>4</td>\n",
              "      <td>2018-10-03</td>\n",
              "      <td>EN</td>\n",
              "      <td>BMX</td>\n",
              "    </tr>\n",
              "    <tr>\n",
              "      <th>2</th>\n",
              "      <td>CC</td>\n",
              "      <td>7</td>\n",
              "      <td>2018-10-03</td>\n",
              "      <td>EN</td>\n",
              "      <td>Cyclo cross Bike</td>\n",
              "    </tr>\n",
              "    <tr>\n",
              "      <th>3</th>\n",
              "      <td>MB</td>\n",
              "      <td>11</td>\n",
              "      <td>2018-10-03</td>\n",
              "      <td>EN</td>\n",
              "      <td>Mountain Bike</td>\n",
              "    </tr>\n",
              "    <tr>\n",
              "      <th>4</th>\n",
              "      <td>RC</td>\n",
              "      <td>9</td>\n",
              "      <td>2018-10-03</td>\n",
              "      <td>EN</td>\n",
              "      <td>Racing Bike</td>\n",
              "    </tr>\n",
              "  </tbody>\n",
              "</table>\n",
              "</div>"
            ],
            "text/plain": [
              "  PRODCATEGORYID  CREATEDBY  CREATEDAT LANGUAGE       SHORT_DESCR\n",
              "0             RO         12 2018-10-03       EN         Road Bike\n",
              "1             BX          4 2018-10-03       EN               BMX\n",
              "2             CC          7 2018-10-03       EN  Cyclo cross Bike\n",
              "3             MB         11 2018-10-03       EN     Mountain Bike\n",
              "4             RC          9 2018-10-03       EN       Racing Bike"
            ]
          },
          "metadata": {},
          "execution_count": 118
        }
      ]
    },
    {
      "cell_type": "code",
      "metadata": {
        "id": "kOLUqtL29PD5",
        "colab": {
          "base_uri": "https://localhost:8080/",
          "height": 313
        },
        "outputId": "645d7a48-fbba-4d8f-e345-29c0565f8f19"
      },
      "source": [
        "#merging products_all and product_category_all\n",
        "Products_master=pd.merge(Products_all,Product_category_all,on='PRODCATEGORYID')\n",
        "Products_master.head(5)"
      ],
      "execution_count": null,
      "outputs": [
        {
          "output_type": "execute_result",
          "data": {
            "text/html": [
              "<div>\n",
              "<style scoped>\n",
              "    .dataframe tbody tr th:only-of-type {\n",
              "        vertical-align: middle;\n",
              "    }\n",
              "\n",
              "    .dataframe tbody tr th {\n",
              "        vertical-align: top;\n",
              "    }\n",
              "\n",
              "    .dataframe thead th {\n",
              "        text-align: right;\n",
              "    }\n",
              "</style>\n",
              "<table border=\"1\" class=\"dataframe\">\n",
              "  <thead>\n",
              "    <tr style=\"text-align: right;\">\n",
              "      <th></th>\n",
              "      <th>PRODUCTID</th>\n",
              "      <th>TYPECODE</th>\n",
              "      <th>PRODCATEGORYID</th>\n",
              "      <th>CREATEDBY_x</th>\n",
              "      <th>CREATEDAT_x</th>\n",
              "      <th>CHANGEDBY</th>\n",
              "      <th>CHANGEDAT</th>\n",
              "      <th>SUPPLIER_PARTNERID</th>\n",
              "      <th>QUANTITYUNIT</th>\n",
              "      <th>WEIGHTMEASURE</th>\n",
              "      <th>WEIGHTUNIT</th>\n",
              "      <th>CURRENCY</th>\n",
              "      <th>PRICE</th>\n",
              "      <th>LANGUAGE_x</th>\n",
              "      <th>SHORT_DESCR_x</th>\n",
              "      <th>MEDIUM_DESCR</th>\n",
              "      <th>CREATEDBY_y</th>\n",
              "      <th>CREATEDAT_y</th>\n",
              "      <th>LANGUAGE_y</th>\n",
              "      <th>SHORT_DESCR_y</th>\n",
              "    </tr>\n",
              "  </thead>\n",
              "  <tbody>\n",
              "    <tr>\n",
              "      <th>0</th>\n",
              "      <td>RO-1001</td>\n",
              "      <td>PR</td>\n",
              "      <td>RO</td>\n",
              "      <td>9</td>\n",
              "      <td>2018-10-03</td>\n",
              "      <td>9</td>\n",
              "      <td>2018-10-03</td>\n",
              "      <td>100000000</td>\n",
              "      <td>EA</td>\n",
              "      <td>7.7</td>\n",
              "      <td>KG</td>\n",
              "      <td>USD</td>\n",
              "      <td>525</td>\n",
              "      <td>EN</td>\n",
              "      <td>Roady 1001</td>\n",
              "      <td>Roady 1001</td>\n",
              "      <td>12</td>\n",
              "      <td>2018-10-03</td>\n",
              "      <td>EN</td>\n",
              "      <td>Road Bike</td>\n",
              "    </tr>\n",
              "    <tr>\n",
              "      <th>1</th>\n",
              "      <td>RO-1002</td>\n",
              "      <td>PR</td>\n",
              "      <td>RO</td>\n",
              "      <td>9</td>\n",
              "      <td>2018-10-03</td>\n",
              "      <td>9</td>\n",
              "      <td>2018-10-03</td>\n",
              "      <td>100000001</td>\n",
              "      <td>EA</td>\n",
              "      <td>8.0</td>\n",
              "      <td>KG</td>\n",
              "      <td>USD</td>\n",
              "      <td>689</td>\n",
              "      <td>EN</td>\n",
              "      <td>Roady 1002</td>\n",
              "      <td>Roady 1002</td>\n",
              "      <td>12</td>\n",
              "      <td>2018-10-03</td>\n",
              "      <td>EN</td>\n",
              "      <td>Road Bike</td>\n",
              "    </tr>\n",
              "    <tr>\n",
              "      <th>2</th>\n",
              "      <td>RO-1003</td>\n",
              "      <td>PR</td>\n",
              "      <td>RO</td>\n",
              "      <td>12</td>\n",
              "      <td>2018-10-03</td>\n",
              "      <td>12</td>\n",
              "      <td>2018-10-03</td>\n",
              "      <td>100000002</td>\n",
              "      <td>EA</td>\n",
              "      <td>9.1</td>\n",
              "      <td>KG</td>\n",
              "      <td>USD</td>\n",
              "      <td>721</td>\n",
              "      <td>EN</td>\n",
              "      <td>Roady 1003</td>\n",
              "      <td>Roady 1003</td>\n",
              "      <td>12</td>\n",
              "      <td>2018-10-03</td>\n",
              "      <td>EN</td>\n",
              "      <td>Road Bike</td>\n",
              "    </tr>\n",
              "    <tr>\n",
              "      <th>3</th>\n",
              "      <td>BX-1011</td>\n",
              "      <td>PR</td>\n",
              "      <td>BX</td>\n",
              "      <td>9</td>\n",
              "      <td>2018-10-03</td>\n",
              "      <td>9</td>\n",
              "      <td>2018-10-03</td>\n",
              "      <td>100000003</td>\n",
              "      <td>EA</td>\n",
              "      <td>11.1</td>\n",
              "      <td>KG</td>\n",
              "      <td>USD</td>\n",
              "      <td>249</td>\n",
              "      <td>EN</td>\n",
              "      <td>BMX Vintage 1011</td>\n",
              "      <td>BMX Vintage 1011</td>\n",
              "      <td>4</td>\n",
              "      <td>2018-10-03</td>\n",
              "      <td>EN</td>\n",
              "      <td>BMX</td>\n",
              "    </tr>\n",
              "    <tr>\n",
              "      <th>4</th>\n",
              "      <td>BX-1012</td>\n",
              "      <td>PR</td>\n",
              "      <td>BX</td>\n",
              "      <td>6</td>\n",
              "      <td>2018-10-03</td>\n",
              "      <td>6</td>\n",
              "      <td>2018-10-03</td>\n",
              "      <td>100000004</td>\n",
              "      <td>EA</td>\n",
              "      <td>12.0</td>\n",
              "      <td>KG</td>\n",
              "      <td>USD</td>\n",
              "      <td>399</td>\n",
              "      <td>EN</td>\n",
              "      <td>BMX Jump 1012</td>\n",
              "      <td>BMX Jump 1012</td>\n",
              "      <td>4</td>\n",
              "      <td>2018-10-03</td>\n",
              "      <td>EN</td>\n",
              "      <td>BMX</td>\n",
              "    </tr>\n",
              "  </tbody>\n",
              "</table>\n",
              "</div>"
            ],
            "text/plain": [
              "  PRODUCTID TYPECODE PRODCATEGORYID  ...  CREATEDAT_y LANGUAGE_y  SHORT_DESCR_y\n",
              "0   RO-1001       PR             RO  ...   2018-10-03         EN      Road Bike\n",
              "1   RO-1002       PR             RO  ...   2018-10-03         EN      Road Bike\n",
              "2   RO-1003       PR             RO  ...   2018-10-03         EN      Road Bike\n",
              "3   BX-1011       PR             BX  ...   2018-10-03         EN            BMX\n",
              "4   BX-1012       PR             BX  ...   2018-10-03         EN            BMX\n",
              "\n",
              "[5 rows x 20 columns]"
            ]
          },
          "metadata": {},
          "execution_count": 119
        }
      ]
    },
    {
      "cell_type": "code",
      "source": [
        "cols_to_drop=['CREATEDAT_y','LANGUAGE_y','MEDIUM_DESCR','WEIGHTUNIT']\n",
        "Products_master.drop(cols_to_drop,axis=1,inplace=True)"
      ],
      "metadata": {
        "id": "vfdsMF_J1RQ2"
      },
      "execution_count": null,
      "outputs": []
    },
    {
      "cell_type": "code",
      "source": [
        "# Renaming columns\n",
        "Products_master = Products_master.rename({'CREATEDBY_x': 'CREATEDBY_PDT', 'CREATEDAT_x': 'CREATEDAT_PDT','LANGUAGE_x':'LANGUAGE_PDT','SHORT_DESCR_x':'SHORT_DESCR_PDT',\n",
        "                              'CREATEDBY_y': 'CREATEDBY_CAT','SHORT_DESCR_y':'SHORT_DESCR_CAT',}, axis=1)"
      ],
      "metadata": {
        "id": "DGvLPngi0HM-"
      },
      "execution_count": null,
      "outputs": []
    },
    {
      "cell_type": "code",
      "metadata": {
        "colab": {
          "base_uri": "https://localhost:8080/",
          "height": 313
        },
        "id": "amaSDFHA-Z_M",
        "outputId": "c58472c2-f2e2-468f-bbbb-f08d50df0916"
      },
      "source": [
        "# merging Products_master and sales_all\n",
        "Products_sales_master=pd.merge(Products_master,sales_all,on='PRODUCTID')\n",
        "Products_sales_master.head(5)"
      ],
      "execution_count": null,
      "outputs": [
        {
          "output_type": "execute_result",
          "data": {
            "text/html": [
              "<div>\n",
              "<style scoped>\n",
              "    .dataframe tbody tr th:only-of-type {\n",
              "        vertical-align: middle;\n",
              "    }\n",
              "\n",
              "    .dataframe tbody tr th {\n",
              "        vertical-align: top;\n",
              "    }\n",
              "\n",
              "    .dataframe thead th {\n",
              "        text-align: right;\n",
              "    }\n",
              "</style>\n",
              "<table border=\"1\" class=\"dataframe\">\n",
              "  <thead>\n",
              "    <tr style=\"text-align: right;\">\n",
              "      <th></th>\n",
              "      <th>PRODUCTID</th>\n",
              "      <th>TYPECODE</th>\n",
              "      <th>PRODCATEGORYID</th>\n",
              "      <th>CREATEDBY_PDT</th>\n",
              "      <th>CREATEDAT_PDT</th>\n",
              "      <th>CHANGEDBY_x</th>\n",
              "      <th>CHANGEDAT_x</th>\n",
              "      <th>SUPPLIER_PARTNERID</th>\n",
              "      <th>QUANTITYUNIT_x</th>\n",
              "      <th>WEIGHTMEASURE</th>\n",
              "      <th>CURRENCY</th>\n",
              "      <th>PRICE</th>\n",
              "      <th>LANGUAGE_PDT</th>\n",
              "      <th>SHORT_DESCR_PDT</th>\n",
              "      <th>CREATEDBY_CAT</th>\n",
              "      <th>SHORT_DESCR_CAT</th>\n",
              "      <th>SALESORDERID</th>\n",
              "      <th>CREATEDBY</th>\n",
              "      <th>CREATEDAT</th>\n",
              "      <th>CHANGEDBY_y</th>\n",
              "      <th>CHANGEDAT_y</th>\n",
              "      <th>PARTNERID</th>\n",
              "      <th>SALESORG</th>\n",
              "      <th>CURRENCY_OVERALL</th>\n",
              "      <th>GROSSAMOUNT_OVERALL</th>\n",
              "      <th>NETAMOUNT_OVERALL</th>\n",
              "      <th>TAXAMOUNT_OVERALL</th>\n",
              "      <th>SALESORDERITEM</th>\n",
              "      <th>CURRENCY_IND</th>\n",
              "      <th>GROSSAMOUNT_IND</th>\n",
              "      <th>NETAMOUNT_IND</th>\n",
              "      <th>TAXAMOUNT_IND</th>\n",
              "      <th>ITEMATPSTATUS</th>\n",
              "      <th>QUANTITY</th>\n",
              "      <th>QUANTITYUNIT_y</th>\n",
              "      <th>DELIVERYDATE</th>\n",
              "    </tr>\n",
              "  </thead>\n",
              "  <tbody>\n",
              "    <tr>\n",
              "      <th>0</th>\n",
              "      <td>RO-1001</td>\n",
              "      <td>PR</td>\n",
              "      <td>RO</td>\n",
              "      <td>9</td>\n",
              "      <td>2018-10-03</td>\n",
              "      <td>9</td>\n",
              "      <td>2018-10-03</td>\n",
              "      <td>100000000</td>\n",
              "      <td>EA</td>\n",
              "      <td>7.7</td>\n",
              "      <td>USD</td>\n",
              "      <td>525</td>\n",
              "      <td>EN</td>\n",
              "      <td>Roady 1001</td>\n",
              "      <td>12</td>\n",
              "      <td>Road Bike</td>\n",
              "      <td>500000187</td>\n",
              "      <td>3</td>\n",
              "      <td>2018-11-02</td>\n",
              "      <td>3</td>\n",
              "      <td>2018-11-07</td>\n",
              "      <td>100000008</td>\n",
              "      <td>EMEA</td>\n",
              "      <td>USD</td>\n",
              "      <td>6951.0</td>\n",
              "      <td>6082.125</td>\n",
              "      <td>868.875</td>\n",
              "      <td>20</td>\n",
              "      <td>USD</td>\n",
              "      <td>525.0</td>\n",
              "      <td>459.375</td>\n",
              "      <td>65.625</td>\n",
              "      <td>I</td>\n",
              "      <td>5</td>\n",
              "      <td>EA</td>\n",
              "      <td>1970-01-01 00:00:00.020190102</td>\n",
              "    </tr>\n",
              "    <tr>\n",
              "      <th>1</th>\n",
              "      <td>RO-1001</td>\n",
              "      <td>PR</td>\n",
              "      <td>RO</td>\n",
              "      <td>9</td>\n",
              "      <td>2018-10-03</td>\n",
              "      <td>9</td>\n",
              "      <td>2018-10-03</td>\n",
              "      <td>100000000</td>\n",
              "      <td>EA</td>\n",
              "      <td>7.7</td>\n",
              "      <td>USD</td>\n",
              "      <td>525</td>\n",
              "      <td>EN</td>\n",
              "      <td>Roady 1001</td>\n",
              "      <td>12</td>\n",
              "      <td>Road Bike</td>\n",
              "      <td>500000257</td>\n",
              "      <td>8</td>\n",
              "      <td>2019-02-10</td>\n",
              "      <td>8</td>\n",
              "      <td>2019-02-11</td>\n",
              "      <td>100000035</td>\n",
              "      <td>EMEA</td>\n",
              "      <td>USD</td>\n",
              "      <td>8266.0</td>\n",
              "      <td>7232.750</td>\n",
              "      <td>1033.250</td>\n",
              "      <td>10</td>\n",
              "      <td>USD</td>\n",
              "      <td>525.0</td>\n",
              "      <td>459.375</td>\n",
              "      <td>65.625</td>\n",
              "      <td>I</td>\n",
              "      <td>3</td>\n",
              "      <td>EA</td>\n",
              "      <td>1970-01-01 00:00:00.020190315</td>\n",
              "    </tr>\n",
              "    <tr>\n",
              "      <th>2</th>\n",
              "      <td>RO-1001</td>\n",
              "      <td>PR</td>\n",
              "      <td>RO</td>\n",
              "      <td>9</td>\n",
              "      <td>2018-10-03</td>\n",
              "      <td>9</td>\n",
              "      <td>2018-10-03</td>\n",
              "      <td>100000000</td>\n",
              "      <td>EA</td>\n",
              "      <td>7.7</td>\n",
              "      <td>USD</td>\n",
              "      <td>525</td>\n",
              "      <td>EN</td>\n",
              "      <td>Roady 1001</td>\n",
              "      <td>12</td>\n",
              "      <td>Road Bike</td>\n",
              "      <td>500000086</td>\n",
              "      <td>14</td>\n",
              "      <td>2018-05-23</td>\n",
              "      <td>14</td>\n",
              "      <td>2018-05-24</td>\n",
              "      <td>100000004</td>\n",
              "      <td>AMER</td>\n",
              "      <td>USD</td>\n",
              "      <td>21695.0</td>\n",
              "      <td>18983.125</td>\n",
              "      <td>2711.875</td>\n",
              "      <td>20</td>\n",
              "      <td>USD</td>\n",
              "      <td>525.0</td>\n",
              "      <td>459.375</td>\n",
              "      <td>65.625</td>\n",
              "      <td>I</td>\n",
              "      <td>10</td>\n",
              "      <td>EA</td>\n",
              "      <td>1970-01-01 00:00:00.020180715</td>\n",
              "    </tr>\n",
              "    <tr>\n",
              "      <th>3</th>\n",
              "      <td>RO-1001</td>\n",
              "      <td>PR</td>\n",
              "      <td>RO</td>\n",
              "      <td>9</td>\n",
              "      <td>2018-10-03</td>\n",
              "      <td>9</td>\n",
              "      <td>2018-10-03</td>\n",
              "      <td>100000000</td>\n",
              "      <td>EA</td>\n",
              "      <td>7.7</td>\n",
              "      <td>USD</td>\n",
              "      <td>525</td>\n",
              "      <td>EN</td>\n",
              "      <td>Roady 1001</td>\n",
              "      <td>12</td>\n",
              "      <td>Road Bike</td>\n",
              "      <td>500000143</td>\n",
              "      <td>5</td>\n",
              "      <td>2018-08-29</td>\n",
              "      <td>5</td>\n",
              "      <td>2018-09-01</td>\n",
              "      <td>100000020</td>\n",
              "      <td>APJ</td>\n",
              "      <td>USD</td>\n",
              "      <td>21862.0</td>\n",
              "      <td>19129.250</td>\n",
              "      <td>2732.750</td>\n",
              "      <td>10</td>\n",
              "      <td>USD</td>\n",
              "      <td>525.0</td>\n",
              "      <td>459.375</td>\n",
              "      <td>65.625</td>\n",
              "      <td>I</td>\n",
              "      <td>6</td>\n",
              "      <td>EA</td>\n",
              "      <td>1970-01-01 00:00:00.020181103</td>\n",
              "    </tr>\n",
              "    <tr>\n",
              "      <th>4</th>\n",
              "      <td>RO-1001</td>\n",
              "      <td>PR</td>\n",
              "      <td>RO</td>\n",
              "      <td>9</td>\n",
              "      <td>2018-10-03</td>\n",
              "      <td>9</td>\n",
              "      <td>2018-10-03</td>\n",
              "      <td>100000000</td>\n",
              "      <td>EA</td>\n",
              "      <td>7.7</td>\n",
              "      <td>USD</td>\n",
              "      <td>525</td>\n",
              "      <td>EN</td>\n",
              "      <td>Roady 1001</td>\n",
              "      <td>12</td>\n",
              "      <td>Road Bike</td>\n",
              "      <td>500000019</td>\n",
              "      <td>12</td>\n",
              "      <td>2018-02-07</td>\n",
              "      <td>12</td>\n",
              "      <td>2018-02-10</td>\n",
              "      <td>100000034</td>\n",
              "      <td>AMER</td>\n",
              "      <td>USD</td>\n",
              "      <td>27515.0</td>\n",
              "      <td>24075.625</td>\n",
              "      <td>3439.375</td>\n",
              "      <td>20</td>\n",
              "      <td>USD</td>\n",
              "      <td>525.0</td>\n",
              "      <td>459.375</td>\n",
              "      <td>65.625</td>\n",
              "      <td>I</td>\n",
              "      <td>5</td>\n",
              "      <td>EA</td>\n",
              "      <td>1970-01-01 00:00:00.020180401</td>\n",
              "    </tr>\n",
              "  </tbody>\n",
              "</table>\n",
              "</div>"
            ],
            "text/plain": [
              "  PRODUCTID TYPECODE  ... QUANTITYUNIT_y                  DELIVERYDATE\n",
              "0   RO-1001       PR  ...             EA 1970-01-01 00:00:00.020190102\n",
              "1   RO-1001       PR  ...             EA 1970-01-01 00:00:00.020190315\n",
              "2   RO-1001       PR  ...             EA 1970-01-01 00:00:00.020180715\n",
              "3   RO-1001       PR  ...             EA 1970-01-01 00:00:00.020181103\n",
              "4   RO-1001       PR  ...             EA 1970-01-01 00:00:00.020180401\n",
              "\n",
              "[5 rows x 36 columns]"
            ]
          },
          "metadata": {},
          "execution_count": 122
        }
      ]
    },
    {
      "cell_type": "code",
      "metadata": {
        "colab": {
          "base_uri": "https://localhost:8080/",
          "height": 313
        },
        "id": "G6mcd5QBjdxJ",
        "outputId": "7afbb34b-efce-4cc1-8fa9-633475fa3ec6"
      },
      "source": [
        "#merging business partner and address\n",
        "BusinessPartners=pd.merge(B_Partners,Address,on='ADDRESSID')\n",
        "BusinessPartners.head(5)"
      ],
      "execution_count": null,
      "outputs": [
        {
          "output_type": "execute_result",
          "data": {
            "text/html": [
              "<div>\n",
              "<style scoped>\n",
              "    .dataframe tbody tr th:only-of-type {\n",
              "        vertical-align: middle;\n",
              "    }\n",
              "\n",
              "    .dataframe tbody tr th {\n",
              "        vertical-align: top;\n",
              "    }\n",
              "\n",
              "    .dataframe thead th {\n",
              "        text-align: right;\n",
              "    }\n",
              "</style>\n",
              "<table border=\"1\" class=\"dataframe\">\n",
              "  <thead>\n",
              "    <tr style=\"text-align: right;\">\n",
              "      <th></th>\n",
              "      <th>PARTNERID</th>\n",
              "      <th>PARTNERROLE</th>\n",
              "      <th>EMAILADDRESS</th>\n",
              "      <th>PHONENUMBER</th>\n",
              "      <th>WEBADDRESS</th>\n",
              "      <th>ADDRESSID</th>\n",
              "      <th>COMPANYNAME</th>\n",
              "      <th>LEGALFORM</th>\n",
              "      <th>CREATEDBY</th>\n",
              "      <th>CREATEDAT</th>\n",
              "      <th>CURRENCY</th>\n",
              "      <th>CITY</th>\n",
              "      <th>POSTALCODE</th>\n",
              "      <th>STREET</th>\n",
              "      <th>BUILDING</th>\n",
              "      <th>COUNTRY</th>\n",
              "      <th>REGION</th>\n",
              "      <th>ADDRESSTYPE</th>\n",
              "      <th>LATITUDE</th>\n",
              "      <th>LONGITUDE</th>\n",
              "    </tr>\n",
              "  </thead>\n",
              "  <tbody>\n",
              "    <tr>\n",
              "      <th>0</th>\n",
              "      <td>100000000</td>\n",
              "      <td>2</td>\n",
              "      <td>maria.brown@all4bikes.com</td>\n",
              "      <td>62-273-4567</td>\n",
              "      <td>http://www.all4bikes.com</td>\n",
              "      <td>1000000034</td>\n",
              "      <td>All For Bikes</td>\n",
              "      <td>Inc.</td>\n",
              "      <td>10</td>\n",
              "      <td>20181003</td>\n",
              "      <td>USD</td>\n",
              "      <td>West Nyack</td>\n",
              "      <td>10994</td>\n",
              "      <td>Settlers Lane</td>\n",
              "      <td>5027.0</td>\n",
              "      <td>US</td>\n",
              "      <td>AMER</td>\n",
              "      <td>2</td>\n",
              "      <td>41.100057</td>\n",
              "      <td>-73.973562</td>\n",
              "    </tr>\n",
              "    <tr>\n",
              "      <th>1</th>\n",
              "      <td>100000001</td>\n",
              "      <td>2</td>\n",
              "      <td>bob.buyer@amazebikes.com</td>\n",
              "      <td>308-8530</td>\n",
              "      <td>http://www.amazebikes.com</td>\n",
              "      <td>1000000035</td>\n",
              "      <td>Amaze Bikes Inc</td>\n",
              "      <td>Inc.</td>\n",
              "      <td>13</td>\n",
              "      <td>20181003</td>\n",
              "      <td>USD</td>\n",
              "      <td>Fair Oaks</td>\n",
              "      <td>95628</td>\n",
              "      <td>Woodland Terrace</td>\n",
              "      <td>4467.0</td>\n",
              "      <td>US</td>\n",
              "      <td>AMER</td>\n",
              "      <td>2</td>\n",
              "      <td>38.638355</td>\n",
              "      <td>-121.286683</td>\n",
              "    </tr>\n",
              "    <tr>\n",
              "      <th>2</th>\n",
              "      <td>100000002</td>\n",
              "      <td>2</td>\n",
              "      <td>victor.sanchez@arenasportusa.com</td>\n",
              "      <td>302-335-2668</td>\n",
              "      <td>http://www.arenasportusa.com</td>\n",
              "      <td>1000000036</td>\n",
              "      <td>Arena Sports Inc</td>\n",
              "      <td>Inc.</td>\n",
              "      <td>14</td>\n",
              "      <td>20181003</td>\n",
              "      <td>USD</td>\n",
              "      <td>Dunn</td>\n",
              "      <td>28334</td>\n",
              "      <td>Layman Avenue</td>\n",
              "      <td>2250.0</td>\n",
              "      <td>US</td>\n",
              "      <td>AMER</td>\n",
              "      <td>2</td>\n",
              "      <td>35.312013</td>\n",
              "      <td>-78.60995</td>\n",
              "    </tr>\n",
              "    <tr>\n",
              "      <th>3</th>\n",
              "      <td>100000003</td>\n",
              "      <td>2</td>\n",
              "      <td>franklin.jones@atlantausa.com</td>\n",
              "      <td>51-140-3266</td>\n",
              "      <td>http://www.atlantausa.com</td>\n",
              "      <td>1000000037</td>\n",
              "      <td>Atlanta Corp Inc</td>\n",
              "      <td>Inc.</td>\n",
              "      <td>10</td>\n",
              "      <td>20181003</td>\n",
              "      <td>USD</td>\n",
              "      <td>Chicago</td>\n",
              "      <td>60605</td>\n",
              "      <td>University Drive</td>\n",
              "      <td>4697.0</td>\n",
              "      <td>US</td>\n",
              "      <td>AMER</td>\n",
              "      <td>2</td>\n",
              "      <td>41.874591</td>\n",
              "      <td>-87.627303</td>\n",
              "    </tr>\n",
              "    <tr>\n",
              "      <th>4</th>\n",
              "      <td>100000004</td>\n",
              "      <td>2</td>\n",
              "      <td>robert_brown@bikeworlds.com</td>\n",
              "      <td>224-466-8800</td>\n",
              "      <td>http://www.bikeworlds.com</td>\n",
              "      <td>1000000038</td>\n",
              "      <td>Bike World Inc</td>\n",
              "      <td>Inc.</td>\n",
              "      <td>4</td>\n",
              "      <td>20181003</td>\n",
              "      <td>USD</td>\n",
              "      <td>Ocala</td>\n",
              "      <td>34471</td>\n",
              "      <td>Bagwell Avenue</td>\n",
              "      <td>1565.0</td>\n",
              "      <td>US</td>\n",
              "      <td>AMER</td>\n",
              "      <td>2</td>\n",
              "      <td>29.183977</td>\n",
              "      <td>-82.118413</td>\n",
              "    </tr>\n",
              "  </tbody>\n",
              "</table>\n",
              "</div>"
            ],
            "text/plain": [
              "   PARTNERID  PARTNERROLE  ...   LATITUDE    LONGITUDE\n",
              "0  100000000            2  ...  41.100057   -73.973562\n",
              "1  100000001            2  ...  38.638355  -121.286683\n",
              "2  100000002            2  ...  35.312013    -78.60995\n",
              "3  100000003            2  ...  41.874591   -87.627303\n",
              "4  100000004            2  ...  29.183977   -82.118413\n",
              "\n",
              "[5 rows x 20 columns]"
            ]
          },
          "metadata": {},
          "execution_count": 123
        }
      ]
    },
    {
      "cell_type": "code",
      "metadata": {
        "colab": {
          "base_uri": "https://localhost:8080/",
          "height": 313
        },
        "id": "GfdKEbZGj50_",
        "outputId": "f3add518-ae03-4fbc-a72a-0d4b36205dca"
      },
      "source": [
        "#merging employees and address\n",
        "Employee_master=pd.merge(Employees,Address,on='ADDRESSID')\n",
        "Employee_master.head(5)"
      ],
      "execution_count": null,
      "outputs": [
        {
          "output_type": "execute_result",
          "data": {
            "text/html": [
              "<div>\n",
              "<style scoped>\n",
              "    .dataframe tbody tr th:only-of-type {\n",
              "        vertical-align: middle;\n",
              "    }\n",
              "\n",
              "    .dataframe tbody tr th {\n",
              "        vertical-align: top;\n",
              "    }\n",
              "\n",
              "    .dataframe thead th {\n",
              "        text-align: right;\n",
              "    }\n",
              "</style>\n",
              "<table border=\"1\" class=\"dataframe\">\n",
              "  <thead>\n",
              "    <tr style=\"text-align: right;\">\n",
              "      <th></th>\n",
              "      <th>EMPLOYEEID</th>\n",
              "      <th>NAME_FIRST</th>\n",
              "      <th>NAME_MIDDLE</th>\n",
              "      <th>NAME_LAST</th>\n",
              "      <th>SEX</th>\n",
              "      <th>PHONENUMBER</th>\n",
              "      <th>EMAILADDRESS</th>\n",
              "      <th>LOGINNAME</th>\n",
              "      <th>ADDRESSID</th>\n",
              "      <th>CITY</th>\n",
              "      <th>POSTALCODE</th>\n",
              "      <th>STREET</th>\n",
              "      <th>BUILDING</th>\n",
              "      <th>COUNTRY</th>\n",
              "      <th>REGION</th>\n",
              "      <th>ADDRESSTYPE</th>\n",
              "      <th>LATITUDE</th>\n",
              "      <th>LONGITUDE</th>\n",
              "    </tr>\n",
              "  </thead>\n",
              "  <tbody>\n",
              "    <tr>\n",
              "      <th>0</th>\n",
              "      <td>1</td>\n",
              "      <td>Derrick</td>\n",
              "      <td>L</td>\n",
              "      <td>Magill</td>\n",
              "      <td>M</td>\n",
              "      <td>630-374-0306</td>\n",
              "      <td>derrick.magill@itelo.info</td>\n",
              "      <td>derrickm</td>\n",
              "      <td>1000000001</td>\n",
              "      <td>Burr Ridge</td>\n",
              "      <td>60527</td>\n",
              "      <td>Fraggle Drive</td>\n",
              "      <td>996.0</td>\n",
              "      <td>US</td>\n",
              "      <td>AMER</td>\n",
              "      <td>1</td>\n",
              "      <td>41.74849</td>\n",
              "      <td>-87.918277</td>\n",
              "    </tr>\n",
              "    <tr>\n",
              "      <th>1</th>\n",
              "      <td>2</td>\n",
              "      <td>Philipp</td>\n",
              "      <td>T</td>\n",
              "      <td>Egger</td>\n",
              "      <td>M</td>\n",
              "      <td>960-361-2464</td>\n",
              "      <td>philipp.egger@itelo.info</td>\n",
              "      <td>philippm</td>\n",
              "      <td>1000000002</td>\n",
              "      <td>Floß</td>\n",
              "      <td>92683</td>\n",
              "      <td>Borstelmannsweg</td>\n",
              "      <td>57.0</td>\n",
              "      <td>DE</td>\n",
              "      <td>EMEA</td>\n",
              "      <td>1</td>\n",
              "      <td>53.550141</td>\n",
              "      <td>10.052733</td>\n",
              "    </tr>\n",
              "    <tr>\n",
              "      <th>2</th>\n",
              "      <td>3</td>\n",
              "      <td>Ellis</td>\n",
              "      <td>K</td>\n",
              "      <td>Robertson</td>\n",
              "      <td>M</td>\n",
              "      <td>708-691-2288</td>\n",
              "      <td>ellis.robertson@itelo.info</td>\n",
              "      <td>ellism</td>\n",
              "      <td>1000000003</td>\n",
              "      <td>High Halden</td>\n",
              "      <td>TN26 7GJ</td>\n",
              "      <td>Nenthead Road</td>\n",
              "      <td>126.0</td>\n",
              "      <td>GB</td>\n",
              "      <td>EMEA</td>\n",
              "      <td>1</td>\n",
              "      <td>51.101237</td>\n",
              "      <td>0.698829</td>\n",
              "    </tr>\n",
              "    <tr>\n",
              "      <th>3</th>\n",
              "      <td>4</td>\n",
              "      <td>William</td>\n",
              "      <td>M</td>\n",
              "      <td>Mussen</td>\n",
              "      <td>M</td>\n",
              "      <td>26-734-4556</td>\n",
              "      <td>william.mussen@itelo.info</td>\n",
              "      <td>williamm</td>\n",
              "      <td>1000000004</td>\n",
              "      <td>Sleepy Hollow</td>\n",
              "      <td>2483</td>\n",
              "      <td>Chester Street</td>\n",
              "      <td>48.0</td>\n",
              "      <td>AU</td>\n",
              "      <td>APJ</td>\n",
              "      <td>1</td>\n",
              "      <td>-28.420591</td>\n",
              "      <td>153.524102</td>\n",
              "    </tr>\n",
              "    <tr>\n",
              "      <th>4</th>\n",
              "      <td>5</td>\n",
              "      <td>Javas</td>\n",
              "      <td>NA</td>\n",
              "      <td>Hegde</td>\n",
              "      <td>M</td>\n",
              "      <td>222-413-5120</td>\n",
              "      <td>javas.hegde@itelo.info</td>\n",
              "      <td>javasm</td>\n",
              "      <td>1000000005</td>\n",
              "      <td>Mumbai</td>\n",
              "      <td>400015</td>\n",
              "      <td>T.k.indui Estate</td>\n",
              "      <td>11.0</td>\n",
              "      <td>IN</td>\n",
              "      <td>APJ</td>\n",
              "      <td>1</td>\n",
              "      <td>19.175001</td>\n",
              "      <td>72.850043</td>\n",
              "    </tr>\n",
              "  </tbody>\n",
              "</table>\n",
              "</div>"
            ],
            "text/plain": [
              "   EMPLOYEEID NAME_FIRST NAME_MIDDLE  ... ADDRESSTYPE    LATITUDE   LONGITUDE\n",
              "0           1    Derrick           L  ...           1    41.74849  -87.918277\n",
              "1           2    Philipp           T  ...           1   53.550141   10.052733\n",
              "2           3      Ellis           K  ...           1   51.101237    0.698829\n",
              "3           4    William           M  ...           1  -28.420591  153.524102\n",
              "4           5      Javas          NA  ...           1   19.175001   72.850043\n",
              "\n",
              "[5 rows x 18 columns]"
            ]
          },
          "metadata": {},
          "execution_count": 124
        }
      ]
    },
    {
      "cell_type": "markdown",
      "metadata": {
        "id": "7vu9lo2i9hoD"
      },
      "source": [
        "# Descriptive Analysis<a id='descriptive'></a>"
      ]
    },
    {
      "cell_type": "markdown",
      "source": [
        "**Location Of Business Partner**"
      ],
      "metadata": {
        "id": "_iaQNv5dtyrw"
      }
    },
    {
      "cell_type": "code",
      "source": [
        "import plotly.express as px\n",
        "fig = px.scatter_geo(BusinessPartners,lat='LATITUDE',lon='LONGITUDE', hover_name=\"CITY\", color='CITY', height=600)\n",
        "fig.update_layout(title = 'Business Partners worldwide', title_x=0.5)\n",
        "fig.show()"
      ],
      "metadata": {
        "colab": {
          "base_uri": "https://localhost:8080/",
          "height": 617
        },
        "id": "JIpyCQ-Yt4Ux",
        "outputId": "309dd0c7-f7d5-48d5-d37f-0d1db941317c"
      },
      "execution_count": null,
      "outputs": [
        {
          "output_type": "display_data",
          "data": {
            "text/html": [
              "<html>\n",
              "<head><meta charset=\"utf-8\" /></head>\n",
              "<body>\n",
              "    <div>\n",
              "            <script src=\"https://cdnjs.cloudflare.com/ajax/libs/mathjax/2.7.5/MathJax.js?config=TeX-AMS-MML_SVG\"></script><script type=\"text/javascript\">if (window.MathJax) {MathJax.Hub.Config({SVG: {font: \"STIX-Web\"}});}</script>\n",
              "                <script type=\"text/javascript\">window.PlotlyConfig = {MathJaxConfig: 'local'};</script>\n",
              "        <script src=\"https://cdn.plot.ly/plotly-latest.min.js\"></script>    \n",
              "            <div id=\"1840fe4e-b70f-4f96-bb3b-5377cc16c840\" class=\"plotly-graph-div\" style=\"height:600px; width:100%;\"></div>\n",
              "            <script type=\"text/javascript\">\n",
              "                \n",
              "                    window.PLOTLYENV=window.PLOTLYENV || {};\n",
              "                    \n",
              "                if (document.getElementById(\"1840fe4e-b70f-4f96-bb3b-5377cc16c840\")) {\n",
              "                    Plotly.newPlot(\n",
              "                        '1840fe4e-b70f-4f96-bb3b-5377cc16c840',\n",
              "                        [{\"geo\": \"geo\", \"hoverlabel\": {\"namelength\": 0}, \"hovertemplate\": \"<b>%{hovertext}</b><br><br>CITY=West Nyack<br>LATITUDE=%{lat}<br>LONGITUDE=%{lon}\", \"hovertext\": [\"West Nyack\"], \"lat\": [\"41.100057\"], \"legendgroup\": \"CITY=West Nyack\", \"lon\": [\"-73.973562\"], \"marker\": {\"color\": \"#636efa\"}, \"name\": \"CITY=West Nyack\", \"showlegend\": true, \"type\": \"scattergeo\"}, {\"geo\": \"geo\", \"hoverlabel\": {\"namelength\": 0}, \"hovertemplate\": \"<b>%{hovertext}</b><br><br>CITY=Fair Oaks<br>LATITUDE=%{lat}<br>LONGITUDE=%{lon}\", \"hovertext\": [\"Fair Oaks\"], \"lat\": [\"38.638355\"], \"legendgroup\": \"CITY=Fair Oaks\", \"lon\": [\"-121.286683\"], \"marker\": {\"color\": \"#EF553B\"}, \"name\": \"CITY=Fair Oaks\", \"showlegend\": true, \"type\": \"scattergeo\"}, {\"geo\": \"geo\", \"hoverlabel\": {\"namelength\": 0}, \"hovertemplate\": \"<b>%{hovertext}</b><br><br>CITY=Dunn<br>LATITUDE=%{lat}<br>LONGITUDE=%{lon}\", \"hovertext\": [\"Dunn\"], \"lat\": [\"35.312013\"], \"legendgroup\": \"CITY=Dunn\", \"lon\": [\"-78.60995\"], \"marker\": {\"color\": \"#00cc96\"}, \"name\": \"CITY=Dunn\", \"showlegend\": true, \"type\": \"scattergeo\"}, {\"geo\": \"geo\", \"hoverlabel\": {\"namelength\": 0}, \"hovertemplate\": \"<b>%{hovertext}</b><br><br>CITY=Chicago<br>LATITUDE=%{lat}<br>LONGITUDE=%{lon}\", \"hovertext\": [\"Chicago\"], \"lat\": [\"41.874591\"], \"legendgroup\": \"CITY=Chicago\", \"lon\": [\"-87.627303\"], \"marker\": {\"color\": \"#ab63fa\"}, \"name\": \"CITY=Chicago\", \"showlegend\": true, \"type\": \"scattergeo\"}, {\"geo\": \"geo\", \"hoverlabel\": {\"namelength\": 0}, \"hovertemplate\": \"<b>%{hovertext}</b><br><br>CITY=Ocala<br>LATITUDE=%{lat}<br>LONGITUDE=%{lon}\", \"hovertext\": [\"Ocala\"], \"lat\": [\"29.183977\"], \"legendgroup\": \"CITY=Ocala\", \"lon\": [\"-82.118413\"], \"marker\": {\"color\": \"#FFA15A\"}, \"name\": \"CITY=Ocala\", \"showlegend\": true, \"type\": \"scattergeo\"}, {\"geo\": \"geo\", \"hoverlabel\": {\"namelength\": 0}, \"hovertemplate\": \"<b>%{hovertext}</b><br><br>CITY=Callenberg<br>LATITUDE=%{lat}<br>LONGITUDE=%{lon}\", \"hovertext\": [\"Callenberg\"], \"lat\": [\"51.096588\"], \"legendgroup\": \"CITY=Callenberg\", \"lon\": [\"14.433772\"], \"marker\": {\"color\": \"#19d3f3\"}, \"name\": \"CITY=Callenberg\", \"showlegend\": true, \"type\": \"scattergeo\"}, {\"geo\": \"geo\", \"hoverlabel\": {\"namelength\": 0}, \"hovertemplate\": \"<b>%{hovertext}</b><br><br>CITY=Trimport<br>LATITUDE=%{lat}<br>LONGITUDE=%{lon}\", \"hovertext\": [\"Trimport\"], \"lat\": [\"49.908759\"], \"legendgroup\": \"CITY=Trimport\", \"lon\": [\"6.578609\"], \"marker\": {\"color\": \"#FF6692\"}, \"name\": \"CITY=Trimport\", \"showlegend\": true, \"type\": \"scattergeo\"}, {\"geo\": \"geo\", \"hoverlabel\": {\"namelength\": 0}, \"hovertemplate\": \"<b>%{hovertext}</b><br><br>CITY=Berlin Mariendorf<br>LATITUDE=%{lat}<br>LONGITUDE=%{lon}\", \"hovertext\": [\"Berlin Mariendorf\"], \"lat\": [\"52.492245\"], \"legendgroup\": \"CITY=Berlin Mariendorf\", \"lon\": [\"13.310903\"], \"marker\": {\"color\": \"#B6E880\"}, \"name\": \"CITY=Berlin Mariendorf\", \"showlegend\": true, \"type\": \"scattergeo\"}, {\"geo\": \"geo\", \"hoverlabel\": {\"namelength\": 0}, \"hovertemplate\": \"<b>%{hovertext}</b><br><br>CITY=Marne<br>LATITUDE=%{lat}<br>LONGITUDE=%{lon}\", \"hovertext\": [\"Marne\"], \"lat\": [\"53.952609\"], \"legendgroup\": \"CITY=Marne\", \"lon\": [\"9.018139\"], \"marker\": {\"color\": \"#FF97FF\"}, \"name\": \"CITY=Marne\", \"showlegend\": true, \"type\": \"scattergeo\"}, {\"geo\": \"geo\", \"hoverlabel\": {\"namelength\": 0}, \"hovertemplate\": \"<b>%{hovertext}</b><br><br>CITY=Augsburg<br>LATITUDE=%{lat}<br>LONGITUDE=%{lon}\", \"hovertext\": [\"Augsburg\"], \"lat\": [\"48.370625\"], \"legendgroup\": \"CITY=Augsburg\", \"lon\": [\"10.893961\"], \"marker\": {\"color\": \"#FECB52\"}, \"name\": \"CITY=Augsburg\", \"showlegend\": true, \"type\": \"scattergeo\"}, {\"geo\": \"geo\", \"hoverlabel\": {\"namelength\": 0}, \"hovertemplate\": \"<b>%{hovertext}</b><br><br>CITY=Glyntaff<br>LATITUDE=%{lat}<br>LONGITUDE=%{lon}\", \"hovertext\": [\"Glyntaff\"], \"lat\": [\"51.597073\"], \"legendgroup\": \"CITY=Glyntaff\", \"lon\": [\"-3.32135\"], \"marker\": {\"color\": \"#636efa\"}, \"name\": \"CITY=Glyntaff\", \"showlegend\": true, \"type\": \"scattergeo\"}, {\"geo\": \"geo\", \"hoverlabel\": {\"namelength\": 0}, \"hovertemplate\": \"<b>%{hovertext}</b><br><br>CITY=Stanton Wick<br>LATITUDE=%{lat}<br>LONGITUDE=%{lon}\", \"hovertext\": [\"Stanton Wick\"], \"lat\": [\"51.355959\"], \"legendgroup\": \"CITY=Stanton Wick\", \"lon\": [\"-2.557565\"], \"marker\": {\"color\": \"#EF553B\"}, \"name\": \"CITY=Stanton Wick\", \"showlegend\": true, \"type\": \"scattergeo\"}, {\"geo\": \"geo\", \"hoverlabel\": {\"namelength\": 0}, \"hovertemplate\": \"<b>%{hovertext}</b><br><br>CITY=Talgarth<br>LATITUDE=%{lat}<br>LONGITUDE=%{lon}\", \"hovertext\": [\"Talgarth\"], \"lat\": [\"51.995666\"], \"legendgroup\": \"CITY=Talgarth\", \"lon\": [\"-3.230553\"], \"marker\": {\"color\": \"#00cc96\"}, \"name\": \"CITY=Talgarth\", \"showlegend\": true, \"type\": \"scattergeo\"}, {\"geo\": \"geo\", \"hoverlabel\": {\"namelength\": 0}, \"hovertemplate\": \"<b>%{hovertext}</b><br><br>CITY=Stonestreet Green<br>LATITUDE=%{lat}<br>LONGITUDE=%{lon}\", \"hovertext\": [\"Stonestreet Green\"], \"lat\": [\"51.098513\"], \"legendgroup\": \"CITY=Stonestreet Green\", \"lon\": [\"0.950137\"], \"marker\": {\"color\": \"#ab63fa\"}, \"name\": \"CITY=Stonestreet Green\", \"showlegend\": true, \"type\": \"scattergeo\"}, {\"geo\": \"geo\", \"hoverlabel\": {\"namelength\": 0}, \"hovertemplate\": \"<b>%{hovertext}</b><br><br>CITY=London<br>LATITUDE=%{lat}<br>LONGITUDE=%{lon}\", \"hovertext\": [\"London\"], \"lat\": [\"51.515982\"], \"legendgroup\": \"CITY=London\", \"lon\": [\"-0.091245\"], \"marker\": {\"color\": \"#FFA15A\"}, \"name\": \"CITY=London\", \"showlegend\": true, \"type\": \"scattergeo\"}, {\"geo\": \"geo\", \"hoverlabel\": {\"namelength\": 0}, \"hovertemplate\": \"<b>%{hovertext}</b><br><br>CITY=Kitoba<br>LATITUDE=%{lat}<br>LONGITUDE=%{lon}\", \"hovertext\": [\"Kitoba\"], \"lat\": [\"-26.073321\"], \"legendgroup\": \"CITY=Kitoba\", \"lon\": [\"151.859836\"], \"marker\": {\"color\": \"#19d3f3\"}, \"name\": \"CITY=Kitoba\", \"showlegend\": true, \"type\": \"scattergeo\"}, {\"geo\": \"geo\", \"hoverlabel\": {\"namelength\": 0}, \"hovertemplate\": \"<b>%{hovertext}</b><br><br>CITY=Meadow Heights<br>LATITUDE=%{lat}<br>LONGITUDE=%{lon}\", \"hovertext\": [\"Meadow Heights\"], \"lat\": [\"-37.651278\"], \"legendgroup\": \"CITY=Meadow Heights\", \"lon\": [\"144.923051\"], \"marker\": {\"color\": \"#FF6692\"}, \"name\": \"CITY=Meadow Heights\", \"showlegend\": true, \"type\": \"scattergeo\"}, {\"geo\": \"geo\", \"hoverlabel\": {\"namelength\": 0}, \"hovertemplate\": \"<b>%{hovertext}</b><br><br>CITY=Kununurra<br>LATITUDE=%{lat}<br>LONGITUDE=%{lon}\", \"hovertext\": [\"Kununurra\"], \"lat\": [\"-15.802511\"], \"legendgroup\": \"CITY=Kununurra\", \"lon\": [\"128.746775\"], \"marker\": {\"color\": \"#B6E880\"}, \"name\": \"CITY=Kununurra\", \"showlegend\": true, \"type\": \"scattergeo\"}, {\"geo\": \"geo\", \"hoverlabel\": {\"namelength\": 0}, \"hovertemplate\": \"<b>%{hovertext}</b><br><br>CITY=Canberra<br>LATITUDE=%{lat}<br>LONGITUDE=%{lon}\", \"hovertext\": [\"Canberra\", \"Canberra\"], \"lat\": [\"-35.279663\", \"-35.278051\"], \"legendgroup\": \"CITY=Canberra\", \"lon\": [\"149.126715\", \"149.124245\"], \"marker\": {\"color\": \"#FF97FF\"}, \"name\": \"CITY=Canberra\", \"showlegend\": true, \"type\": \"scattergeo\"}, {\"geo\": \"geo\", \"hoverlabel\": {\"namelength\": 0}, \"hovertemplate\": \"<b>%{hovertext}</b><br><br>CITY=Mumbai<br>LATITUDE=%{lat}<br>LONGITUDE=%{lon}\", \"hovertext\": [\"Mumbai\", \"Mumbai\", \"Mumbai\"], \"lat\": [\"19.31394\", \"19.046575\", \"19.073197\"], \"legendgroup\": \"CITY=Mumbai\", \"lon\": [\"72.857565\", \"72.864262\", \"72.826831\"], \"marker\": {\"color\": \"#FECB52\"}, \"name\": \"CITY=Mumbai\", \"showlegend\": true, \"type\": \"scattergeo\"}, {\"geo\": \"geo\", \"hoverlabel\": {\"namelength\": 0}, \"hovertemplate\": \"<b>%{hovertext}</b><br><br>CITY=Hyderabad<br>LATITUDE=%{lat}<br>LONGITUDE=%{lon}\", \"hovertext\": [\"Hyderabad\"], \"lat\": [\"17.385758\"], \"legendgroup\": \"CITY=Hyderabad\", \"lon\": [\"78.467547\"], \"marker\": {\"color\": \"#636efa\"}, \"name\": \"CITY=Hyderabad\", \"showlegend\": true, \"type\": \"scattergeo\"}, {\"geo\": \"geo\", \"hoverlabel\": {\"namelength\": 0}, \"hovertemplate\": \"<b>%{hovertext}</b><br><br>CITY=Delhi<br>LATITUDE=%{lat}<br>LONGITUDE=%{lon}\", \"hovertext\": [\"Delhi\"], \"lat\": [\"28.650563\"], \"legendgroup\": \"CITY=Delhi\", \"lon\": [\"77.200575\"], \"marker\": {\"color\": \"#EF553B\"}, \"name\": \"CITY=Delhi\", \"showlegend\": true, \"type\": \"scattergeo\"}, {\"geo\": \"geo\", \"hoverlabel\": {\"namelength\": 0}, \"hovertemplate\": \"<b>%{hovertext}</b><br><br>CITY=Jebel Ali Free Zone<br>LATITUDE=%{lat}<br>LONGITUDE=%{lon}\", \"hovertext\": [\"Jebel Ali Free Zone\", \"Jebel Ali Free Zone\"], \"lat\": [\"25.006517\", \"24.963277\"], \"legendgroup\": \"CITY=Jebel Ali Free Zone\", \"lon\": [\"55.065244\", \"55.053726\"], \"marker\": {\"color\": \"#00cc96\"}, \"name\": \"CITY=Jebel Ali Free Zone\", \"showlegend\": true, \"type\": \"scattergeo\"}, {\"geo\": \"geo\", \"hoverlabel\": {\"namelength\": 0}, \"hovertemplate\": \"<b>%{hovertext}</b><br><br>CITY=Dubai<br>LATITUDE=%{lat}<br>LONGITUDE=%{lon}\", \"hovertext\": [\"Dubai\", \"Dubai\", \"Dubai\"], \"lat\": [\"25.013792\", \"24.960345\", \"24.956728\"], \"legendgroup\": \"CITY=Dubai\", \"lon\": [\"55.131876\", \"55.124104\", \"55.120386\"], \"marker\": {\"color\": \"#ab63fa\"}, \"name\": \"CITY=Dubai\", \"showlegend\": true, \"type\": \"scattergeo\"}, {\"geo\": \"geo\", \"hoverlabel\": {\"namelength\": 0}, \"hovertemplate\": \"<b>%{hovertext}</b><br><br>CITY=Borden<br>LATITUDE=%{lat}<br>LONGITUDE=%{lon}\", \"hovertext\": [\"Borden\"], \"lat\": [\"47.595469\"], \"legendgroup\": \"CITY=Borden\", \"lon\": [\"-52.703448\"], \"marker\": {\"color\": \"#FFA15A\"}, \"name\": \"CITY=Borden\", \"showlegend\": true, \"type\": \"scattergeo\"}, {\"geo\": \"geo\", \"hoverlabel\": {\"namelength\": 0}, \"hovertemplate\": \"<b>%{hovertext}</b><br><br>CITY=Cooksville<br>LATITUDE=%{lat}<br>LONGITUDE=%{lon}\", \"hovertext\": [\"Cooksville\"], \"lat\": [\"43.570089\"], \"legendgroup\": \"CITY=Cooksville\", \"lon\": [\"-79.609911\"], \"marker\": {\"color\": \"#19d3f3\"}, \"name\": \"CITY=Cooksville\", \"showlegend\": true, \"type\": \"scattergeo\"}, {\"geo\": \"geo\", \"hoverlabel\": {\"namelength\": 0}, \"hovertemplate\": \"<b>%{hovertext}</b><br><br>CITY=Iroquois<br>LATITUDE=%{lat}<br>LONGITUDE=%{lon}\", \"hovertext\": [\"Iroquois\"], \"lat\": [\"44.845124\"], \"legendgroup\": \"CITY=Iroquois\", \"lon\": [\"-75.31828\"], \"marker\": {\"color\": \"#FF6692\"}, \"name\": \"CITY=Iroquois\", \"showlegend\": true, \"type\": \"scattergeo\"}, {\"geo\": \"geo\", \"hoverlabel\": {\"namelength\": 0}, \"hovertemplate\": \"<b>%{hovertext}</b><br><br>CITY=Schefferville<br>LATITUDE=%{lat}<br>LONGITUDE=%{lon}\", \"hovertext\": [\"Schefferville\"], \"lat\": [\"54.809261\"], \"legendgroup\": \"CITY=Schefferville\", \"lon\": [\"-66.815519\"], \"marker\": {\"color\": \"#B6E880\"}, \"name\": \"CITY=Schefferville\", \"showlegend\": true, \"type\": \"scattergeo\"}, {\"geo\": \"geo\", \"hoverlabel\": {\"namelength\": 0}, \"hovertemplate\": \"<b>%{hovertext}</b><br><br>CITY=Toronto<br>LATITUDE=%{lat}<br>LONGITUDE=%{lon}\", \"hovertext\": [\"Toronto\"], \"lat\": [\"43.647763\"], \"legendgroup\": \"CITY=Toronto\", \"lon\": [\"-79.391022\"], \"marker\": {\"color\": \"#FF97FF\"}, \"name\": \"CITY=Toronto\", \"showlegend\": true, \"type\": \"scattergeo\"}, {\"geo\": \"geo\", \"hoverlabel\": {\"namelength\": 0}, \"hovertemplate\": \"<b>%{hovertext}</b><br><br>CITY=Chelles<br>LATITUDE=%{lat}<br>LONGITUDE=%{lon}\", \"hovertext\": [\"Chelles\"], \"lat\": [\"48.878471\"], \"legendgroup\": \"CITY=Chelles\", \"lon\": [\"2.58987\"], \"marker\": {\"color\": \"#FECB52\"}, \"name\": \"CITY=Chelles\", \"showlegend\": true, \"type\": \"scattergeo\"}, {\"geo\": \"geo\", \"hoverlabel\": {\"namelength\": 0}, \"hovertemplate\": \"<b>%{hovertext}</b><br><br>CITY=Laon<br>LATITUDE=%{lat}<br>LONGITUDE=%{lon}\", \"hovertext\": [\"Laon\"], \"lat\": [\"49.553186\"], \"legendgroup\": \"CITY=Laon\", \"lon\": [\"3.627835\"], \"marker\": {\"color\": \"#636efa\"}, \"name\": \"CITY=Laon\", \"showlegend\": true, \"type\": \"scattergeo\"}, {\"geo\": \"geo\", \"hoverlabel\": {\"namelength\": 0}, \"hovertemplate\": \"<b>%{hovertext}</b><br><br>CITY=Besanon<br>LATITUDE=%{lat}<br>LONGITUDE=%{lon}\", \"hovertext\": [\"Besanon\"], \"lat\": [\"47.242859\"], \"legendgroup\": \"CITY=Besanon\", \"lon\": [\"6.035751\"], \"marker\": {\"color\": \"#EF553B\"}, \"name\": \"CITY=Besanon\", \"showlegend\": true, \"type\": \"scattergeo\"}, {\"geo\": \"geo\", \"hoverlabel\": {\"namelength\": 0}, \"hovertemplate\": \"<b>%{hovertext}</b><br><br>CITY=Athis-Mons<br>LATITUDE=%{lat}<br>LONGITUDE=%{lon}\", \"hovertext\": [\"Athis-Mons\"], \"lat\": [\"48.705235\"], \"legendgroup\": \"CITY=Athis-Mons\", \"lon\": [\"2.375049\"], \"marker\": {\"color\": \"#00cc96\"}, \"name\": \"CITY=Athis-Mons\", \"showlegend\": true, \"type\": \"scattergeo\"}, {\"geo\": \"geo\", \"hoverlabel\": {\"namelength\": 0}, \"hovertemplate\": \"<b>%{hovertext}</b><br><br>CITY=Paris<br>LATITUDE=%{lat}<br>LONGITUDE=%{lon}\", \"hovertext\": [\"Paris\"], \"lat\": [\"48.827364\"], \"legendgroup\": \"CITY=Paris\", \"lon\": [\"2.366021\"], \"marker\": {\"color\": \"#ab63fa\"}, \"name\": \"CITY=Paris\", \"showlegend\": true, \"type\": \"scattergeo\"}],\n",
              "                        {\"geo\": {\"center\": {}, \"domain\": {\"x\": [0.0, 1.0], \"y\": [0.0, 1.0]}}, \"height\": 600, \"legend\": {\"tracegroupgap\": 0}, \"margin\": {\"t\": 60}, \"template\": {\"data\": {\"bar\": [{\"error_x\": {\"color\": \"#2a3f5f\"}, \"error_y\": {\"color\": \"#2a3f5f\"}, \"marker\": {\"line\": {\"color\": \"#E5ECF6\", \"width\": 0.5}}, \"type\": \"bar\"}], \"barpolar\": [{\"marker\": {\"line\": {\"color\": \"#E5ECF6\", \"width\": 0.5}}, \"type\": \"barpolar\"}], \"carpet\": [{\"aaxis\": {\"endlinecolor\": \"#2a3f5f\", \"gridcolor\": \"white\", \"linecolor\": \"white\", \"minorgridcolor\": \"white\", \"startlinecolor\": \"#2a3f5f\"}, \"baxis\": {\"endlinecolor\": \"#2a3f5f\", \"gridcolor\": \"white\", \"linecolor\": \"white\", \"minorgridcolor\": \"white\", \"startlinecolor\": \"#2a3f5f\"}, \"type\": \"carpet\"}], \"choropleth\": [{\"colorbar\": {\"outlinewidth\": 0, \"ticks\": \"\"}, \"type\": \"choropleth\"}], \"contour\": [{\"colorbar\": {\"outlinewidth\": 0, \"ticks\": \"\"}, \"colorscale\": [[0.0, \"#0d0887\"], [0.1111111111111111, \"#46039f\"], [0.2222222222222222, \"#7201a8\"], [0.3333333333333333, \"#9c179e\"], [0.4444444444444444, \"#bd3786\"], [0.5555555555555556, \"#d8576b\"], [0.6666666666666666, \"#ed7953\"], [0.7777777777777778, \"#fb9f3a\"], [0.8888888888888888, \"#fdca26\"], [1.0, \"#f0f921\"]], \"type\": \"contour\"}], \"contourcarpet\": [{\"colorbar\": {\"outlinewidth\": 0, \"ticks\": \"\"}, \"type\": \"contourcarpet\"}], \"heatmap\": [{\"colorbar\": {\"outlinewidth\": 0, \"ticks\": \"\"}, \"colorscale\": [[0.0, \"#0d0887\"], [0.1111111111111111, \"#46039f\"], [0.2222222222222222, \"#7201a8\"], [0.3333333333333333, \"#9c179e\"], [0.4444444444444444, \"#bd3786\"], [0.5555555555555556, \"#d8576b\"], [0.6666666666666666, \"#ed7953\"], [0.7777777777777778, \"#fb9f3a\"], [0.8888888888888888, \"#fdca26\"], [1.0, \"#f0f921\"]], \"type\": \"heatmap\"}], \"heatmapgl\": [{\"colorbar\": {\"outlinewidth\": 0, \"ticks\": \"\"}, \"colorscale\": [[0.0, \"#0d0887\"], [0.1111111111111111, \"#46039f\"], [0.2222222222222222, \"#7201a8\"], [0.3333333333333333, \"#9c179e\"], [0.4444444444444444, \"#bd3786\"], [0.5555555555555556, \"#d8576b\"], [0.6666666666666666, \"#ed7953\"], [0.7777777777777778, \"#fb9f3a\"], [0.8888888888888888, \"#fdca26\"], [1.0, \"#f0f921\"]], \"type\": \"heatmapgl\"}], \"histogram\": [{\"marker\": {\"colorbar\": {\"outlinewidth\": 0, \"ticks\": \"\"}}, \"type\": \"histogram\"}], \"histogram2d\": [{\"colorbar\": {\"outlinewidth\": 0, \"ticks\": \"\"}, \"colorscale\": [[0.0, \"#0d0887\"], [0.1111111111111111, \"#46039f\"], [0.2222222222222222, \"#7201a8\"], [0.3333333333333333, \"#9c179e\"], [0.4444444444444444, \"#bd3786\"], [0.5555555555555556, \"#d8576b\"], [0.6666666666666666, \"#ed7953\"], [0.7777777777777778, \"#fb9f3a\"], [0.8888888888888888, \"#fdca26\"], [1.0, \"#f0f921\"]], \"type\": \"histogram2d\"}], \"histogram2dcontour\": [{\"colorbar\": {\"outlinewidth\": 0, \"ticks\": \"\"}, \"colorscale\": [[0.0, \"#0d0887\"], [0.1111111111111111, \"#46039f\"], [0.2222222222222222, \"#7201a8\"], [0.3333333333333333, \"#9c179e\"], [0.4444444444444444, \"#bd3786\"], [0.5555555555555556, \"#d8576b\"], [0.6666666666666666, \"#ed7953\"], [0.7777777777777778, \"#fb9f3a\"], [0.8888888888888888, \"#fdca26\"], [1.0, \"#f0f921\"]], \"type\": \"histogram2dcontour\"}], \"mesh3d\": [{\"colorbar\": {\"outlinewidth\": 0, \"ticks\": \"\"}, \"type\": \"mesh3d\"}], \"parcoords\": [{\"line\": {\"colorbar\": {\"outlinewidth\": 0, \"ticks\": \"\"}}, \"type\": \"parcoords\"}], \"pie\": [{\"automargin\": true, \"type\": \"pie\"}], \"scatter\": [{\"marker\": {\"colorbar\": {\"outlinewidth\": 0, \"ticks\": \"\"}}, \"type\": \"scatter\"}], \"scatter3d\": [{\"line\": {\"colorbar\": {\"outlinewidth\": 0, \"ticks\": \"\"}}, \"marker\": {\"colorbar\": {\"outlinewidth\": 0, \"ticks\": \"\"}}, \"type\": \"scatter3d\"}], \"scattercarpet\": [{\"marker\": {\"colorbar\": {\"outlinewidth\": 0, \"ticks\": \"\"}}, \"type\": \"scattercarpet\"}], \"scattergeo\": [{\"marker\": {\"colorbar\": {\"outlinewidth\": 0, \"ticks\": \"\"}}, \"type\": \"scattergeo\"}], \"scattergl\": [{\"marker\": {\"colorbar\": {\"outlinewidth\": 0, \"ticks\": \"\"}}, \"type\": \"scattergl\"}], \"scattermapbox\": [{\"marker\": {\"colorbar\": {\"outlinewidth\": 0, \"ticks\": \"\"}}, \"type\": \"scattermapbox\"}], \"scatterpolar\": [{\"marker\": {\"colorbar\": {\"outlinewidth\": 0, \"ticks\": \"\"}}, \"type\": \"scatterpolar\"}], \"scatterpolargl\": [{\"marker\": {\"colorbar\": {\"outlinewidth\": 0, \"ticks\": \"\"}}, \"type\": \"scatterpolargl\"}], \"scatterternary\": [{\"marker\": {\"colorbar\": {\"outlinewidth\": 0, \"ticks\": \"\"}}, \"type\": \"scatterternary\"}], \"surface\": [{\"colorbar\": {\"outlinewidth\": 0, \"ticks\": \"\"}, \"colorscale\": [[0.0, \"#0d0887\"], [0.1111111111111111, \"#46039f\"], [0.2222222222222222, \"#7201a8\"], [0.3333333333333333, \"#9c179e\"], [0.4444444444444444, \"#bd3786\"], [0.5555555555555556, \"#d8576b\"], [0.6666666666666666, \"#ed7953\"], [0.7777777777777778, \"#fb9f3a\"], [0.8888888888888888, \"#fdca26\"], [1.0, \"#f0f921\"]], \"type\": \"surface\"}], \"table\": [{\"cells\": {\"fill\": {\"color\": \"#EBF0F8\"}, \"line\": {\"color\": \"white\"}}, \"header\": {\"fill\": {\"color\": \"#C8D4E3\"}, \"line\": {\"color\": \"white\"}}, \"type\": \"table\"}]}, \"layout\": {\"annotationdefaults\": {\"arrowcolor\": \"#2a3f5f\", \"arrowhead\": 0, \"arrowwidth\": 1}, \"coloraxis\": {\"colorbar\": {\"outlinewidth\": 0, \"ticks\": \"\"}}, \"colorscale\": {\"diverging\": [[0, \"#8e0152\"], [0.1, \"#c51b7d\"], [0.2, \"#de77ae\"], [0.3, \"#f1b6da\"], [0.4, \"#fde0ef\"], [0.5, \"#f7f7f7\"], [0.6, \"#e6f5d0\"], [0.7, \"#b8e186\"], [0.8, \"#7fbc41\"], [0.9, \"#4d9221\"], [1, \"#276419\"]], \"sequential\": [[0.0, \"#0d0887\"], [0.1111111111111111, \"#46039f\"], [0.2222222222222222, \"#7201a8\"], [0.3333333333333333, \"#9c179e\"], [0.4444444444444444, \"#bd3786\"], [0.5555555555555556, \"#d8576b\"], [0.6666666666666666, \"#ed7953\"], [0.7777777777777778, \"#fb9f3a\"], [0.8888888888888888, \"#fdca26\"], [1.0, \"#f0f921\"]], \"sequentialminus\": [[0.0, \"#0d0887\"], [0.1111111111111111, \"#46039f\"], [0.2222222222222222, \"#7201a8\"], [0.3333333333333333, \"#9c179e\"], [0.4444444444444444, \"#bd3786\"], [0.5555555555555556, \"#d8576b\"], [0.6666666666666666, \"#ed7953\"], [0.7777777777777778, \"#fb9f3a\"], [0.8888888888888888, \"#fdca26\"], [1.0, \"#f0f921\"]]}, \"colorway\": [\"#636efa\", \"#EF553B\", \"#00cc96\", \"#ab63fa\", \"#FFA15A\", \"#19d3f3\", \"#FF6692\", \"#B6E880\", \"#FF97FF\", \"#FECB52\"], \"font\": {\"color\": \"#2a3f5f\"}, \"geo\": {\"bgcolor\": \"white\", \"lakecolor\": \"white\", \"landcolor\": \"#E5ECF6\", \"showlakes\": true, \"showland\": true, \"subunitcolor\": \"white\"}, \"hoverlabel\": {\"align\": \"left\"}, \"hovermode\": \"closest\", \"mapbox\": {\"style\": \"light\"}, \"paper_bgcolor\": \"white\", \"plot_bgcolor\": \"#E5ECF6\", \"polar\": {\"angularaxis\": {\"gridcolor\": \"white\", \"linecolor\": \"white\", \"ticks\": \"\"}, \"bgcolor\": \"#E5ECF6\", \"radialaxis\": {\"gridcolor\": \"white\", \"linecolor\": \"white\", \"ticks\": \"\"}}, \"scene\": {\"xaxis\": {\"backgroundcolor\": \"#E5ECF6\", \"gridcolor\": \"white\", \"gridwidth\": 2, \"linecolor\": \"white\", \"showbackground\": true, \"ticks\": \"\", \"zerolinecolor\": \"white\"}, \"yaxis\": {\"backgroundcolor\": \"#E5ECF6\", \"gridcolor\": \"white\", \"gridwidth\": 2, \"linecolor\": \"white\", \"showbackground\": true, \"ticks\": \"\", \"zerolinecolor\": \"white\"}, \"zaxis\": {\"backgroundcolor\": \"#E5ECF6\", \"gridcolor\": \"white\", \"gridwidth\": 2, \"linecolor\": \"white\", \"showbackground\": true, \"ticks\": \"\", \"zerolinecolor\": \"white\"}}, \"shapedefaults\": {\"line\": {\"color\": \"#2a3f5f\"}}, \"ternary\": {\"aaxis\": {\"gridcolor\": \"white\", \"linecolor\": \"white\", \"ticks\": \"\"}, \"baxis\": {\"gridcolor\": \"white\", \"linecolor\": \"white\", \"ticks\": \"\"}, \"bgcolor\": \"#E5ECF6\", \"caxis\": {\"gridcolor\": \"white\", \"linecolor\": \"white\", \"ticks\": \"\"}}, \"title\": {\"x\": 0.05}, \"xaxis\": {\"automargin\": true, \"gridcolor\": \"white\", \"linecolor\": \"white\", \"ticks\": \"\", \"title\": {\"standoff\": 15}, \"zerolinecolor\": \"white\", \"zerolinewidth\": 2}, \"yaxis\": {\"automargin\": true, \"gridcolor\": \"white\", \"linecolor\": \"white\", \"ticks\": \"\", \"title\": {\"standoff\": 15}, \"zerolinecolor\": \"white\", \"zerolinewidth\": 2}}}, \"title\": {\"text\": \"Business Partners worldwide\", \"x\": 0.5}},\n",
              "                        {\"responsive\": true}\n",
              "                    ).then(function(){\n",
              "                            \n",
              "var gd = document.getElementById('1840fe4e-b70f-4f96-bb3b-5377cc16c840');\n",
              "var x = new MutationObserver(function (mutations, observer) {{\n",
              "        var display = window.getComputedStyle(gd).display;\n",
              "        if (!display || display === 'none') {{\n",
              "            console.log([gd, 'removed!']);\n",
              "            Plotly.purge(gd);\n",
              "            observer.disconnect();\n",
              "        }}\n",
              "}});\n",
              "\n",
              "// Listen for the removal of the full notebook cells\n",
              "var notebookContainer = gd.closest('#notebook-container');\n",
              "if (notebookContainer) {{\n",
              "    x.observe(notebookContainer, {childList: true});\n",
              "}}\n",
              "\n",
              "// Listen for the clearing of the current output cell\n",
              "var outputEl = gd.closest('.output');\n",
              "if (outputEl) {{\n",
              "    x.observe(outputEl, {childList: true});\n",
              "}}\n",
              "\n",
              "                        })\n",
              "                };\n",
              "                \n",
              "            </script>\n",
              "        </div>\n",
              "</body>\n",
              "</html>"
            ]
          },
          "metadata": {}
        }
      ]
    },
    {
      "cell_type": "markdown",
      "metadata": {
        "id": "QxpOBnN793BP"
      },
      "source": [
        "**Finding sales per organization**\n",
        "\n",
        "As there are 3 sales organizations, we will find the total sales per organization, to find which sales organization contributed the most.\n"
      ]
    },
    {
      "cell_type": "code",
      "metadata": {
        "colab": {
          "base_uri": "https://localhost:8080/"
        },
        "id": "0Q-sNQFcAmoi",
        "outputId": "84fcb6bc-7795-4482-eb98-40b92fee1814"
      },
      "source": [
        "total_sales = Products_sales_master.groupby('SALESORG')['GROSSAMOUNT_OVERALL'].sum()\n",
        "total_sales\n"
      ],
      "execution_count": null,
      "outputs": [
        {
          "output_type": "execute_result",
          "data": {
            "text/plain": [
              "SALESORG\n",
              "AMER    42131345.0\n",
              "APJ     43698151.0\n",
              "EMEA    66211970.0\n",
              "Name: GROSSAMOUNT_OVERALL, dtype: float64"
            ]
          },
          "metadata": {},
          "execution_count": 126
        }
      ]
    },
    {
      "cell_type": "markdown",
      "source": [
        "Now, we plot the above analysis on pie chart."
      ],
      "metadata": {
        "id": "D9mg2c6ie-Ip"
      }
    },
    {
      "cell_type": "code",
      "metadata": {
        "colab": {
          "base_uri": "https://localhost:8080/",
          "height": 297
        },
        "id": "VqxFZqQSB8Jb",
        "outputId": "d4115745-d9c9-4ed6-e51e-e7089634d10f"
      },
      "source": [
        "total_sales.plot.pie(y=Products_sales_master.index,\n",
        "           shadow=False,\n",
        "           explode=(0, 0, 0.15),\n",
        "           startangle=90,\n",
        "           autopct='%1.1f%%')\n",
        "\n",
        "plt.axis('equal')\n",
        "plt.tight_layout()\n",
        "plt.show()"
      ],
      "execution_count": null,
      "outputs": [
        {
          "output_type": "display_data",
          "data": {
            "image/png": "[encoded data removed]",
            "text/plain": [
              "<Figure size 432x288 with 1 Axes>"
            ]
          },
          "metadata": {}
        }
      ]
    },
    {
      "cell_type": "markdown",
      "source": [
        "From above pie chart, it is clear that EMEA organization has contributed the most sales."
      ],
      "metadata": {
        "id": "xZeqK8YGfDzT"
      }
    },
    {
      "cell_type": "markdown",
      "source": [
        "**Finding sales per product**\n",
        "\n",
        "There are bikes of different models and categories. To find the bike model that sold out the most, we use the following code:"
      ],
      "metadata": {
        "id": "GRNiKg-1tyI3"
      }
    },
    {
      "cell_type": "code",
      "metadata": {
        "colab": {
          "base_uri": "https://localhost:8080/",
          "height": 433
        },
        "id": "bbmgzeAILd_O",
        "outputId": "819b75c1-a000-46c0-9fe0-c93353cd5c94"
      },
      "source": [
        "product_sales = Products_sales_master.groupby('PRODUCTID')['GROSSAMOUNT_OVERALL'].sum().sort_values(ascending = False).head(10)\n",
        "product_sales.plot(kind='bar',figsize=(10,6));\n"
      ],
      "execution_count": null,
      "outputs": [
        {
          "output_type": "display_data",
          "data": {
            "image/png": "[encoded data removed]",
            "text/plain": [
              "<Figure size 720x432 with 1 Axes>"
            ]
          },
          "metadata": {
            "needs_background": "light"
          }
        }
      ]
    },
    {
      "cell_type": "markdown",
      "source": [
        "From above bar graph, the top 10 bike models that sold the most were represented. Also, we can observe that bike RC-1055, which is racing bike, model - Veloflash, was most in demand."
      ],
      "metadata": {
        "id": "V614I00VfaxY"
      }
    },
    {
      "cell_type": "markdown",
      "source": [
        "**Which Employee contributed the most to the sales?**"
      ],
      "metadata": {
        "id": "qM5t7dnPt_el"
      }
    },
    {
      "cell_type": "code",
      "source": [
        "reward=pd.merge(Employee_master[[\"NAME_FIRST\",\"NAME_LAST\",\"EMPLOYEEID\"]],sales_all[[\"GROSSAMOUNT_OVERALL\",\"CREATEDBY\"]], left_on='EMPLOYEEID', right_on='CREATEDBY' )\n",
        "reward[\"Full Name\"]= reward[\"NAME_FIRST\"]+[\" \"]+reward[\"NAME_LAST\"]\n",
        "reward_2=reward.groupby([\"Full Name\"]).mean()\n",
        "reward_2[reward_2[\"GROSSAMOUNT_OVERALL\"]==reward_2[\"GROSSAMOUNT_OVERALL\"].max()][[\"GROSSAMOUNT_OVERALL\"]]\n"
      ],
      "metadata": {
        "colab": {
          "base_uri": "https://localhost:8080/",
          "height": 112
        },
        "id": "DKKdseUvt_s-",
        "outputId": "24368e69-ba62-40f2-8bc2-97754b0aced4"
      },
      "execution_count": null,
      "outputs": [
        {
          "output_type": "execute_result",
          "data": {
            "text/html": [
              "<div>\n",
              "<style scoped>\n",
              "    .dataframe tbody tr th:only-of-type {\n",
              "        vertical-align: middle;\n",
              "    }\n",
              "\n",
              "    .dataframe tbody tr th {\n",
              "        vertical-align: top;\n",
              "    }\n",
              "\n",
              "    .dataframe thead th {\n",
              "        text-align: right;\n",
              "    }\n",
              "</style>\n",
              "<table border=\"1\" class=\"dataframe\">\n",
              "  <thead>\n",
              "    <tr style=\"text-align: right;\">\n",
              "      <th></th>\n",
              "      <th>GROSSAMOUNT_OVERALL</th>\n",
              "    </tr>\n",
              "    <tr>\n",
              "      <th>Full Name</th>\n",
              "      <th></th>\n",
              "    </tr>\n",
              "  </thead>\n",
              "  <tbody>\n",
              "    <tr>\n",
              "      <th>Kenneth Weise</th>\n",
              "      <td>92178.964286</td>\n",
              "    </tr>\n",
              "  </tbody>\n",
              "</table>\n",
              "</div>"
            ],
            "text/plain": [
              "               GROSSAMOUNT_OVERALL\n",
              "Full Name                         \n",
              "Kenneth Weise         92178.964286"
            ]
          },
          "metadata": {},
          "execution_count": 129
        }
      ]
    },
    {
      "cell_type": "markdown",
      "source": [
        "So, **Kenneth Weise was the top employee**, who contributed the most in the gross amount.\n",
        "\n",
        "To check the performance of all employees, following bar graph is made."
      ],
      "metadata": {
        "id": "EGqi2Clqh-Ko"
      }
    },
    {
      "cell_type": "code",
      "source": [
        "reward_2 = reward_2.reset_index()\n",
        "reward_2 = reward_2.sort_values(by=['GROSSAMOUNT_OVERALL'],ascending=False)\n",
        "fig = px.bar(reward_2, x='Full Name', y='GROSSAMOUNT_OVERALL')\n",
        "fig.show()\n"
      ],
      "metadata": {
        "colab": {
          "base_uri": "https://localhost:8080/",
          "height": 542
        },
        "id": "adD0xx9MutoC",
        "outputId": "8c0c9a1d-39a4-4183-c4de-7e415987a4f6"
      },
      "execution_count": null,
      "outputs": [
        {
          "output_type": "display_data",
          "data": {
            "text/html": [
              "<html>\n",
              "<head><meta charset=\"utf-8\" /></head>\n",
              "<body>\n",
              "    <div>\n",
              "            <script src=\"https://cdnjs.cloudflare.com/ajax/libs/mathjax/2.7.5/MathJax.js?config=TeX-AMS-MML_SVG\"></script><script type=\"text/javascript\">if (window.MathJax) {MathJax.Hub.Config({SVG: {font: \"STIX-Web\"}});}</script>\n",
              "                <script type=\"text/javascript\">window.PlotlyConfig = {MathJaxConfig: 'local'};</script>\n",
              "        <script src=\"https://cdn.plot.ly/plotly-latest.min.js\"></script>    \n",
              "            <div id=\"18d38ee9-d2e9-457c-afac-2c5f06af4d1f\" class=\"plotly-graph-div\" style=\"height:525px; width:100%;\"></div>\n",
              "            <script type=\"text/javascript\">\n",
              "                \n",
              "                    window.PLOTLYENV=window.PLOTLYENV || {};\n",
              "                    \n",
              "                if (document.getElementById(\"18d38ee9-d2e9-457c-afac-2c5f06af4d1f\")) {\n",
              "                    Plotly.newPlot(\n",
              "                        '18d38ee9-d2e9-457c-afac-2c5f06af4d1f',\n",
              "                        [{\"alignmentgroup\": \"True\", \"hoverlabel\": {\"namelength\": 0}, \"hovertemplate\": \"Full Name=%{x}<br>GROSSAMOUNT_OVERALL=%{y}\", \"legendgroup\": \"\", \"marker\": {\"color\": \"#636efa\"}, \"name\": \"\", \"offsetgroup\": \"\", \"orientation\": \"v\", \"showlegend\": false, \"textposition\": \"auto\", \"type\": \"bar\", \"x\": [\"Kenneth Weise\", \"Kirk Lee\", \"Ellis Robertson\", \"Carroll Pewitt\", \"Roberta Holloway\", \"Javas Hegde\", \"Willard Chatman\", \"William Mussen\", \"Nelson Wilkens\", \"P\\u00e9n\\u00e9lope Duperr\\u00e9\", \"Philipp Egger\", \"Haseena\\u00a0al Yousuf\", \"Janet Gray\", \"Derrick Magill\"], \"xaxis\": \"x\", \"y\": [92178.96428571429, 89984.22018348624, 88028.47727272728, 84528.06578947368, 83002.73684210527, 82217.8828125, 72561.109375, 72408.82332155477, 72245.01408450704, 69614.83116883117, 69214.3046875, 68029.69268292683, 63154.4126984127, 53981.08108108108], \"yaxis\": \"y\"}],\n",
              "                        {\"barmode\": \"relative\", \"legend\": {\"tracegroupgap\": 0}, \"margin\": {\"t\": 60}, \"template\": {\"data\": {\"bar\": [{\"error_x\": {\"color\": \"#2a3f5f\"}, \"error_y\": {\"color\": \"#2a3f5f\"}, \"marker\": {\"line\": {\"color\": \"#E5ECF6\", \"width\": 0.5}}, \"type\": \"bar\"}], \"barpolar\": [{\"marker\": {\"line\": {\"color\": \"#E5ECF6\", \"width\": 0.5}}, \"type\": \"barpolar\"}], \"carpet\": [{\"aaxis\": {\"endlinecolor\": \"#2a3f5f\", \"gridcolor\": \"white\", \"linecolor\": \"white\", \"minorgridcolor\": \"white\", \"startlinecolor\": \"#2a3f5f\"}, \"baxis\": {\"endlinecolor\": \"#2a3f5f\", \"gridcolor\": \"white\", \"linecolor\": \"white\", \"minorgridcolor\": \"white\", \"startlinecolor\": \"#2a3f5f\"}, \"type\": \"carpet\"}], \"choropleth\": [{\"colorbar\": {\"outlinewidth\": 0, \"ticks\": \"\"}, \"type\": \"choropleth\"}], \"contour\": [{\"colorbar\": {\"outlinewidth\": 0, \"ticks\": \"\"}, \"colorscale\": [[0.0, \"#0d0887\"], [0.1111111111111111, \"#46039f\"], [0.2222222222222222, \"#7201a8\"], [0.3333333333333333, \"#9c179e\"], [0.4444444444444444, \"#bd3786\"], [0.5555555555555556, \"#d8576b\"], [0.6666666666666666, \"#ed7953\"], [0.7777777777777778, \"#fb9f3a\"], [0.8888888888888888, \"#fdca26\"], [1.0, \"#f0f921\"]], \"type\": \"contour\"}], \"contourcarpet\": [{\"colorbar\": {\"outlinewidth\": 0, \"ticks\": \"\"}, \"type\": \"contourcarpet\"}], \"heatmap\": [{\"colorbar\": {\"outlinewidth\": 0, \"ticks\": \"\"}, \"colorscale\": [[0.0, \"#0d0887\"], [0.1111111111111111, \"#46039f\"], [0.2222222222222222, \"#7201a8\"], [0.3333333333333333, \"#9c179e\"], [0.4444444444444444, \"#bd3786\"], [0.5555555555555556, \"#d8576b\"], [0.6666666666666666, \"#ed7953\"], [0.7777777777777778, \"#fb9f3a\"], [0.8888888888888888, \"#fdca26\"], [1.0, \"#f0f921\"]], \"type\": \"heatmap\"}], \"heatmapgl\": [{\"colorbar\": {\"outlinewidth\": 0, \"ticks\": \"\"}, \"colorscale\": [[0.0, \"#0d0887\"], [0.1111111111111111, \"#46039f\"], [0.2222222222222222, \"#7201a8\"], [0.3333333333333333, \"#9c179e\"], [0.4444444444444444, \"#bd3786\"], [0.5555555555555556, \"#d8576b\"], [0.6666666666666666, \"#ed7953\"], [0.7777777777777778, \"#fb9f3a\"], [0.8888888888888888, \"#fdca26\"], [1.0, \"#f0f921\"]], \"type\": \"heatmapgl\"}], \"histogram\": [{\"marker\": {\"colorbar\": {\"outlinewidth\": 0, \"ticks\": \"\"}}, \"type\": \"histogram\"}], \"histogram2d\": [{\"colorbar\": {\"outlinewidth\": 0, \"ticks\": \"\"}, \"colorscale\": [[0.0, \"#0d0887\"], [0.1111111111111111, \"#46039f\"], [0.2222222222222222, \"#7201a8\"], [0.3333333333333333, \"#9c179e\"], [0.4444444444444444, \"#bd3786\"], [0.5555555555555556, \"#d8576b\"], [0.6666666666666666, \"#ed7953\"], [0.7777777777777778, \"#fb9f3a\"], [0.8888888888888888, \"#fdca26\"], [1.0, \"#f0f921\"]], \"type\": \"histogram2d\"}], \"histogram2dcontour\": [{\"colorbar\": {\"outlinewidth\": 0, \"ticks\": \"\"}, \"colorscale\": [[0.0, \"#0d0887\"], [0.1111111111111111, \"#46039f\"], [0.2222222222222222, \"#7201a8\"], [0.3333333333333333, \"#9c179e\"], [0.4444444444444444, \"#bd3786\"], [0.5555555555555556, \"#d8576b\"], [0.6666666666666666, \"#ed7953\"], [0.7777777777777778, \"#fb9f3a\"], [0.8888888888888888, \"#fdca26\"], [1.0, \"#f0f921\"]], \"type\": \"histogram2dcontour\"}], \"mesh3d\": [{\"colorbar\": {\"outlinewidth\": 0, \"ticks\": \"\"}, \"type\": \"mesh3d\"}], \"parcoords\": [{\"line\": {\"colorbar\": {\"outlinewidth\": 0, \"ticks\": \"\"}}, \"type\": \"parcoords\"}], \"pie\": [{\"automargin\": true, \"type\": \"pie\"}], \"scatter\": [{\"marker\": {\"colorbar\": {\"outlinewidth\": 0, \"ticks\": \"\"}}, \"type\": \"scatter\"}], \"scatter3d\": [{\"line\": {\"colorbar\": {\"outlinewidth\": 0, \"ticks\": \"\"}}, \"marker\": {\"colorbar\": {\"outlinewidth\": 0, \"ticks\": \"\"}}, \"type\": \"scatter3d\"}], \"scattercarpet\": [{\"marker\": {\"colorbar\": {\"outlinewidth\": 0, \"ticks\": \"\"}}, \"type\": \"scattercarpet\"}], \"scattergeo\": [{\"marker\": {\"colorbar\": {\"outlinewidth\": 0, \"ticks\": \"\"}}, \"type\": \"scattergeo\"}], \"scattergl\": [{\"marker\": {\"colorbar\": {\"outlinewidth\": 0, \"ticks\": \"\"}}, \"type\": \"scattergl\"}], \"scattermapbox\": [{\"marker\": {\"colorbar\": {\"outlinewidth\": 0, \"ticks\": \"\"}}, \"type\": \"scattermapbox\"}], \"scatterpolar\": [{\"marker\": {\"colorbar\": {\"outlinewidth\": 0, \"ticks\": \"\"}}, \"type\": \"scatterpolar\"}], \"scatterpolargl\": [{\"marker\": {\"colorbar\": {\"outlinewidth\": 0, \"ticks\": \"\"}}, \"type\": \"scatterpolargl\"}], \"scatterternary\": [{\"marker\": {\"colorbar\": {\"outlinewidth\": 0, \"ticks\": \"\"}}, \"type\": \"scatterternary\"}], \"surface\": [{\"colorbar\": {\"outlinewidth\": 0, \"ticks\": \"\"}, \"colorscale\": [[0.0, \"#0d0887\"], [0.1111111111111111, \"#46039f\"], [0.2222222222222222, \"#7201a8\"], [0.3333333333333333, \"#9c179e\"], [0.4444444444444444, \"#bd3786\"], [0.5555555555555556, \"#d8576b\"], [0.6666666666666666, \"#ed7953\"], [0.7777777777777778, \"#fb9f3a\"], [0.8888888888888888, \"#fdca26\"], [1.0, \"#f0f921\"]], \"type\": \"surface\"}], \"table\": [{\"cells\": {\"fill\": {\"color\": \"#EBF0F8\"}, \"line\": {\"color\": \"white\"}}, \"header\": {\"fill\": {\"color\": \"#C8D4E3\"}, \"line\": {\"color\": \"white\"}}, \"type\": \"table\"}]}, \"layout\": {\"annotationdefaults\": {\"arrowcolor\": \"#2a3f5f\", \"arrowhead\": 0, \"arrowwidth\": 1}, \"coloraxis\": {\"colorbar\": {\"outlinewidth\": 0, \"ticks\": \"\"}}, \"colorscale\": {\"diverging\": [[0, \"#8e0152\"], [0.1, \"#c51b7d\"], [0.2, \"#de77ae\"], [0.3, \"#f1b6da\"], [0.4, \"#fde0ef\"], [0.5, \"#f7f7f7\"], [0.6, \"#e6f5d0\"], [0.7, \"#b8e186\"], [0.8, \"#7fbc41\"], [0.9, \"#4d9221\"], [1, \"#276419\"]], \"sequential\": [[0.0, \"#0d0887\"], [0.1111111111111111, \"#46039f\"], [0.2222222222222222, \"#7201a8\"], [0.3333333333333333, \"#9c179e\"], [0.4444444444444444, \"#bd3786\"], [0.5555555555555556, \"#d8576b\"], [0.6666666666666666, \"#ed7953\"], [0.7777777777777778, \"#fb9f3a\"], [0.8888888888888888, \"#fdca26\"], [1.0, \"#f0f921\"]], \"sequentialminus\": [[0.0, \"#0d0887\"], [0.1111111111111111, \"#46039f\"], [0.2222222222222222, \"#7201a8\"], [0.3333333333333333, \"#9c179e\"], [0.4444444444444444, \"#bd3786\"], [0.5555555555555556, \"#d8576b\"], [0.6666666666666666, \"#ed7953\"], [0.7777777777777778, \"#fb9f3a\"], [0.8888888888888888, \"#fdca26\"], [1.0, \"#f0f921\"]]}, \"colorway\": [\"#636efa\", \"#EF553B\", \"#00cc96\", \"#ab63fa\", \"#FFA15A\", \"#19d3f3\", \"#FF6692\", \"#B6E880\", \"#FF97FF\", \"#FECB52\"], \"font\": {\"color\": \"#2a3f5f\"}, \"geo\": {\"bgcolor\": \"white\", \"lakecolor\": \"white\", \"landcolor\": \"#E5ECF6\", \"showlakes\": true, \"showland\": true, \"subunitcolor\": \"white\"}, \"hoverlabel\": {\"align\": \"left\"}, \"hovermode\": \"closest\", \"mapbox\": {\"style\": \"light\"}, \"paper_bgcolor\": \"white\", \"plot_bgcolor\": \"#E5ECF6\", \"polar\": {\"angularaxis\": {\"gridcolor\": \"white\", \"linecolor\": \"white\", \"ticks\": \"\"}, \"bgcolor\": \"#E5ECF6\", \"radialaxis\": {\"gridcolor\": \"white\", \"linecolor\": \"white\", \"ticks\": \"\"}}, \"scene\": {\"xaxis\": {\"backgroundcolor\": \"#E5ECF6\", \"gridcolor\": \"white\", \"gridwidth\": 2, \"linecolor\": \"white\", \"showbackground\": true, \"ticks\": \"\", \"zerolinecolor\": \"white\"}, \"yaxis\": {\"backgroundcolor\": \"#E5ECF6\", \"gridcolor\": \"white\", \"gridwidth\": 2, \"linecolor\": \"white\", \"showbackground\": true, \"ticks\": \"\", \"zerolinecolor\": \"white\"}, \"zaxis\": {\"backgroundcolor\": \"#E5ECF6\", \"gridcolor\": \"white\", \"gridwidth\": 2, \"linecolor\": \"white\", \"showbackground\": true, \"ticks\": \"\", \"zerolinecolor\": \"white\"}}, \"shapedefaults\": {\"line\": {\"color\": \"#2a3f5f\"}}, \"ternary\": {\"aaxis\": {\"gridcolor\": \"white\", \"linecolor\": \"white\", \"ticks\": \"\"}, \"baxis\": {\"gridcolor\": \"white\", \"linecolor\": \"white\", \"ticks\": \"\"}, \"bgcolor\": \"#E5ECF6\", \"caxis\": {\"gridcolor\": \"white\", \"linecolor\": \"white\", \"ticks\": \"\"}}, \"title\": {\"x\": 0.05}, \"xaxis\": {\"automargin\": true, \"gridcolor\": \"white\", \"linecolor\": \"white\", \"ticks\": \"\", \"title\": {\"standoff\": 15}, \"zerolinecolor\": \"white\", \"zerolinewidth\": 2}, \"yaxis\": {\"automargin\": true, \"gridcolor\": \"white\", \"linecolor\": \"white\", \"ticks\": \"\", \"title\": {\"standoff\": 15}, \"zerolinecolor\": \"white\", \"zerolinewidth\": 2}}}, \"xaxis\": {\"anchor\": \"y\", \"domain\": [0.0, 1.0], \"title\": {\"text\": \"Full Name\"}}, \"yaxis\": {\"anchor\": \"x\", \"domain\": [0.0, 1.0], \"title\": {\"text\": \"GROSSAMOUNT_OVERALL\"}}},\n",
              "                        {\"responsive\": true}\n",
              "                    ).then(function(){\n",
              "                            \n",
              "var gd = document.getElementById('18d38ee9-d2e9-457c-afac-2c5f06af4d1f');\n",
              "var x = new MutationObserver(function (mutations, observer) {{\n",
              "        var display = window.getComputedStyle(gd).display;\n",
              "        if (!display || display === 'none') {{\n",
              "            console.log([gd, 'removed!']);\n",
              "            Plotly.purge(gd);\n",
              "            observer.disconnect();\n",
              "        }}\n",
              "}});\n",
              "\n",
              "// Listen for the removal of the full notebook cells\n",
              "var notebookContainer = gd.closest('#notebook-container');\n",
              "if (notebookContainer) {{\n",
              "    x.observe(notebookContainer, {childList: true});\n",
              "}}\n",
              "\n",
              "// Listen for the clearing of the current output cell\n",
              "var outputEl = gd.closest('.output');\n",
              "if (outputEl) {{\n",
              "    x.observe(outputEl, {childList: true});\n",
              "}}\n",
              "\n",
              "                        })\n",
              "                };\n",
              "                \n",
              "            </script>\n",
              "        </div>\n",
              "</body>\n",
              "</html>"
            ]
          },
          "metadata": {}
        }
      ]
    },
    {
      "cell_type": "markdown",
      "source": [
        "**What category of bikes were sold out the most?**\n",
        "\n",
        "\n",
        "Among 9 product category, we need to find which bike category was in demand."
      ],
      "metadata": {
        "id": "frCIBs6zHA4x"
      }
    },
    {
      "cell_type": "code",
      "source": [
        "most_sel=pd.merge(Products_master[[\"SHORT_DESCR_CAT\",\"PRODUCTID\",'PRODCATEGORYID' ]],sales_all[[\"QUANTITY\",'PRODUCTID']] ,on='PRODUCTID')\n",
        "most_sel.head(5)\n",
        "most_sel2=most_sel.pivot_table(index=['SHORT_DESCR_CAT'],aggfunc=sum)\n",
        "most_sel2.reindex(most_sel2['QUANTITY'].sort_values(ascending=False).index)\n",
        "most_sel2 = most_sel2.reset_index()\n",
        "most_sel2 = most_sel2.sort_values(by=['QUANTITY'],ascending=False)\n",
        "most_sel2"
      ],
      "metadata": {
        "colab": {
          "base_uri": "https://localhost:8080/",
          "height": 332
        },
        "id": "hKi2lqfHHO-R",
        "outputId": "15f21ae4-fcbe-49b4-e7d8-e96e1f426f95"
      },
      "execution_count": null,
      "outputs": [
        {
          "output_type": "execute_result",
          "data": {
            "text/html": [
              "<div>\n",
              "<style scoped>\n",
              "    .dataframe tbody tr th:only-of-type {\n",
              "        vertical-align: middle;\n",
              "    }\n",
              "\n",
              "    .dataframe tbody tr th {\n",
              "        vertical-align: top;\n",
              "    }\n",
              "\n",
              "    .dataframe thead th {\n",
              "        text-align: right;\n",
              "    }\n",
              "</style>\n",
              "<table border=\"1\" class=\"dataframe\">\n",
              "  <thead>\n",
              "    <tr style=\"text-align: right;\">\n",
              "      <th></th>\n",
              "      <th>SHORT_DESCR_CAT</th>\n",
              "      <th>QUANTITY</th>\n",
              "    </tr>\n",
              "  </thead>\n",
              "  <tbody>\n",
              "    <tr>\n",
              "      <th>6</th>\n",
              "      <td>Racing Bike</td>\n",
              "      <td>2279</td>\n",
              "    </tr>\n",
              "    <tr>\n",
              "      <th>8</th>\n",
              "      <td>eBike</td>\n",
              "      <td>1825</td>\n",
              "    </tr>\n",
              "    <tr>\n",
              "      <th>0</th>\n",
              "      <td>BMX</td>\n",
              "      <td>1701</td>\n",
              "    </tr>\n",
              "    <tr>\n",
              "      <th>4</th>\n",
              "      <td>Hybrid Bike</td>\n",
              "      <td>1288</td>\n",
              "    </tr>\n",
              "    <tr>\n",
              "      <th>5</th>\n",
              "      <td>Mountain Bike</td>\n",
              "      <td>953</td>\n",
              "    </tr>\n",
              "    <tr>\n",
              "      <th>2</th>\n",
              "      <td>Cyclo cross Bike</td>\n",
              "      <td>871</td>\n",
              "    </tr>\n",
              "    <tr>\n",
              "      <th>1</th>\n",
              "      <td>Cruiser</td>\n",
              "      <td>843</td>\n",
              "    </tr>\n",
              "    <tr>\n",
              "      <th>3</th>\n",
              "      <td>Downhill Bike</td>\n",
              "      <td>802</td>\n",
              "    </tr>\n",
              "    <tr>\n",
              "      <th>7</th>\n",
              "      <td>Road Bike</td>\n",
              "      <td>658</td>\n",
              "    </tr>\n",
              "  </tbody>\n",
              "</table>\n",
              "</div>"
            ],
            "text/plain": [
              "    SHORT_DESCR_CAT  QUANTITY\n",
              "6       Racing Bike      2279\n",
              "8             eBike      1825\n",
              "0               BMX      1701\n",
              "4       Hybrid Bike      1288\n",
              "5     Mountain Bike       953\n",
              "2  Cyclo cross Bike       871\n",
              "1           Cruiser       843\n",
              "3     Downhill Bike       802\n",
              "7         Road Bike       658"
            ]
          },
          "metadata": {},
          "execution_count": 131
        }
      ]
    },
    {
      "cell_type": "code",
      "source": [
        "import plotly.express as px\n",
        "fig = px.bar(most_sel2, x='SHORT_DESCR_CAT', y='QUANTITY')\n",
        "fig.show()"
      ],
      "metadata": {
        "colab": {
          "base_uri": "https://localhost:8080/",
          "height": 542
        },
        "id": "RAldNwfTHoJL",
        "outputId": "61c5a1b7-9d21-4bbc-e3b2-e92387fa8a60"
      },
      "execution_count": null,
      "outputs": [
        {
          "output_type": "display_data",
          "data": {
            "text/html": [
              "<html>\n",
              "<head><meta charset=\"utf-8\" /></head>\n",
              "<body>\n",
              "    <div>\n",
              "            <script src=\"https://cdnjs.cloudflare.com/ajax/libs/mathjax/2.7.5/MathJax.js?config=TeX-AMS-MML_SVG\"></script><script type=\"text/javascript\">if (window.MathJax) {MathJax.Hub.Config({SVG: {font: \"STIX-Web\"}});}</script>\n",
              "                <script type=\"text/javascript\">window.PlotlyConfig = {MathJaxConfig: 'local'};</script>\n",
              "        <script src=\"https://cdn.plot.ly/plotly-latest.min.js\"></script>    \n",
              "            <div id=\"65102791-bc41-4b1e-aeae-2d282874f826\" class=\"plotly-graph-div\" style=\"height:525px; width:100%;\"></div>\n",
              "            <script type=\"text/javascript\">\n",
              "                \n",
              "                    window.PLOTLYENV=window.PLOTLYENV || {};\n",
              "                    \n",
              "                if (document.getElementById(\"65102791-bc41-4b1e-aeae-2d282874f826\")) {\n",
              "                    Plotly.newPlot(\n",
              "                        '65102791-bc41-4b1e-aeae-2d282874f826',\n",
              "                        [{\"alignmentgroup\": \"True\", \"hoverlabel\": {\"namelength\": 0}, \"hovertemplate\": \"SHORT_DESCR_CAT=%{x}<br>QUANTITY=%{y}\", \"legendgroup\": \"\", \"marker\": {\"color\": \"#636efa\"}, \"name\": \"\", \"offsetgroup\": \"\", \"orientation\": \"v\", \"showlegend\": false, \"textposition\": \"auto\", \"type\": \"bar\", \"x\": [\"Racing Bike\", \"eBike\", \"BMX\", \"Hybrid Bike\", \"Mountain Bike\", \"Cyclo cross Bike\", \"Cruiser\", \"Downhill Bike\", \"Road Bike\"], \"xaxis\": \"x\", \"y\": [2279, 1825, 1701, 1288, 953, 871, 843, 802, 658], \"yaxis\": \"y\"}],\n",
              "                        {\"barmode\": \"relative\", \"legend\": {\"tracegroupgap\": 0}, \"margin\": {\"t\": 60}, \"template\": {\"data\": {\"bar\": [{\"error_x\": {\"color\": \"#2a3f5f\"}, \"error_y\": {\"color\": \"#2a3f5f\"}, \"marker\": {\"line\": {\"color\": \"#E5ECF6\", \"width\": 0.5}}, \"type\": \"bar\"}], \"barpolar\": [{\"marker\": {\"line\": {\"color\": \"#E5ECF6\", \"width\": 0.5}}, \"type\": \"barpolar\"}], \"carpet\": [{\"aaxis\": {\"endlinecolor\": \"#2a3f5f\", \"gridcolor\": \"white\", \"linecolor\": \"white\", \"minorgridcolor\": \"white\", \"startlinecolor\": \"#2a3f5f\"}, \"baxis\": {\"endlinecolor\": \"#2a3f5f\", \"gridcolor\": \"white\", \"linecolor\": \"white\", \"minorgridcolor\": \"white\", \"startlinecolor\": \"#2a3f5f\"}, \"type\": \"carpet\"}], \"choropleth\": [{\"colorbar\": {\"outlinewidth\": 0, \"ticks\": \"\"}, \"type\": \"choropleth\"}], \"contour\": [{\"colorbar\": {\"outlinewidth\": 0, \"ticks\": \"\"}, \"colorscale\": [[0.0, \"#0d0887\"], [0.1111111111111111, \"#46039f\"], [0.2222222222222222, \"#7201a8\"], [0.3333333333333333, \"#9c179e\"], [0.4444444444444444, \"#bd3786\"], [0.5555555555555556, \"#d8576b\"], [0.6666666666666666, \"#ed7953\"], [0.7777777777777778, \"#fb9f3a\"], [0.8888888888888888, \"#fdca26\"], [1.0, \"#f0f921\"]], \"type\": \"contour\"}], \"contourcarpet\": [{\"colorbar\": {\"outlinewidth\": 0, \"ticks\": \"\"}, \"type\": \"contourcarpet\"}], \"heatmap\": [{\"colorbar\": {\"outlinewidth\": 0, \"ticks\": \"\"}, \"colorscale\": [[0.0, \"#0d0887\"], [0.1111111111111111, \"#46039f\"], [0.2222222222222222, \"#7201a8\"], [0.3333333333333333, \"#9c179e\"], [0.4444444444444444, \"#bd3786\"], [0.5555555555555556, \"#d8576b\"], [0.6666666666666666, \"#ed7953\"], [0.7777777777777778, \"#fb9f3a\"], [0.8888888888888888, \"#fdca26\"], [1.0, \"#f0f921\"]], \"type\": \"heatmap\"}], \"heatmapgl\": [{\"colorbar\": {\"outlinewidth\": 0, \"ticks\": \"\"}, \"colorscale\": [[0.0, \"#0d0887\"], [0.1111111111111111, \"#46039f\"], [0.2222222222222222, \"#7201a8\"], [0.3333333333333333, \"#9c179e\"], [0.4444444444444444, \"#bd3786\"], [0.5555555555555556, \"#d8576b\"], [0.6666666666666666, \"#ed7953\"], [0.7777777777777778, \"#fb9f3a\"], [0.8888888888888888, \"#fdca26\"], [1.0, \"#f0f921\"]], \"type\": \"heatmapgl\"}], \"histogram\": [{\"marker\": {\"colorbar\": {\"outlinewidth\": 0, \"ticks\": \"\"}}, \"type\": \"histogram\"}], \"histogram2d\": [{\"colorbar\": {\"outlinewidth\": 0, \"ticks\": \"\"}, \"colorscale\": [[0.0, \"#0d0887\"], [0.1111111111111111, \"#46039f\"], [0.2222222222222222, \"#7201a8\"], [0.3333333333333333, \"#9c179e\"], [0.4444444444444444, \"#bd3786\"], [0.5555555555555556, \"#d8576b\"], [0.6666666666666666, \"#ed7953\"], [0.7777777777777778, \"#fb9f3a\"], [0.8888888888888888, \"#fdca26\"], [1.0, \"#f0f921\"]], \"type\": \"histogram2d\"}], \"histogram2dcontour\": [{\"colorbar\": {\"outlinewidth\": 0, \"ticks\": \"\"}, \"colorscale\": [[0.0, \"#0d0887\"], [0.1111111111111111, \"#46039f\"], [0.2222222222222222, \"#7201a8\"], [0.3333333333333333, \"#9c179e\"], [0.4444444444444444, \"#bd3786\"], [0.5555555555555556, \"#d8576b\"], [0.6666666666666666, \"#ed7953\"], [0.7777777777777778, \"#fb9f3a\"], [0.8888888888888888, \"#fdca26\"], [1.0, \"#f0f921\"]], \"type\": \"histogram2dcontour\"}], \"mesh3d\": [{\"colorbar\": {\"outlinewidth\": 0, \"ticks\": \"\"}, \"type\": \"mesh3d\"}], \"parcoords\": [{\"line\": {\"colorbar\": {\"outlinewidth\": 0, \"ticks\": \"\"}}, \"type\": \"parcoords\"}], \"pie\": [{\"automargin\": true, \"type\": \"pie\"}], \"scatter\": [{\"marker\": {\"colorbar\": {\"outlinewidth\": 0, \"ticks\": \"\"}}, \"type\": \"scatter\"}], \"scatter3d\": [{\"line\": {\"colorbar\": {\"outlinewidth\": 0, \"ticks\": \"\"}}, \"marker\": {\"colorbar\": {\"outlinewidth\": 0, \"ticks\": \"\"}}, \"type\": \"scatter3d\"}], \"scattercarpet\": [{\"marker\": {\"colorbar\": {\"outlinewidth\": 0, \"ticks\": \"\"}}, \"type\": \"scattercarpet\"}], \"scattergeo\": [{\"marker\": {\"colorbar\": {\"outlinewidth\": 0, \"ticks\": \"\"}}, \"type\": \"scattergeo\"}], \"scattergl\": [{\"marker\": {\"colorbar\": {\"outlinewidth\": 0, \"ticks\": \"\"}}, \"type\": \"scattergl\"}], \"scattermapbox\": [{\"marker\": {\"colorbar\": {\"outlinewidth\": 0, \"ticks\": \"\"}}, \"type\": \"scattermapbox\"}], \"scatterpolar\": [{\"marker\": {\"colorbar\": {\"outlinewidth\": 0, \"ticks\": \"\"}}, \"type\": \"scatterpolar\"}], \"scatterpolargl\": [{\"marker\": {\"colorbar\": {\"outlinewidth\": 0, \"ticks\": \"\"}}, \"type\": \"scatterpolargl\"}], \"scatterternary\": [{\"marker\": {\"colorbar\": {\"outlinewidth\": 0, \"ticks\": \"\"}}, \"type\": \"scatterternary\"}], \"surface\": [{\"colorbar\": {\"outlinewidth\": 0, \"ticks\": \"\"}, \"colorscale\": [[0.0, \"#0d0887\"], [0.1111111111111111, \"#46039f\"], [0.2222222222222222, \"#7201a8\"], [0.3333333333333333, \"#9c179e\"], [0.4444444444444444, \"#bd3786\"], [0.5555555555555556, \"#d8576b\"], [0.6666666666666666, \"#ed7953\"], [0.7777777777777778, \"#fb9f3a\"], [0.8888888888888888, \"#fdca26\"], [1.0, \"#f0f921\"]], \"type\": \"surface\"}], \"table\": [{\"cells\": {\"fill\": {\"color\": \"#EBF0F8\"}, \"line\": {\"color\": \"white\"}}, \"header\": {\"fill\": {\"color\": \"#C8D4E3\"}, \"line\": {\"color\": \"white\"}}, \"type\": \"table\"}]}, \"layout\": {\"annotationdefaults\": {\"arrowcolor\": \"#2a3f5f\", \"arrowhead\": 0, \"arrowwidth\": 1}, \"coloraxis\": {\"colorbar\": {\"outlinewidth\": 0, \"ticks\": \"\"}}, \"colorscale\": {\"diverging\": [[0, \"#8e0152\"], [0.1, \"#c51b7d\"], [0.2, \"#de77ae\"], [0.3, \"#f1b6da\"], [0.4, \"#fde0ef\"], [0.5, \"#f7f7f7\"], [0.6, \"#e6f5d0\"], [0.7, \"#b8e186\"], [0.8, \"#7fbc41\"], [0.9, \"#4d9221\"], [1, \"#276419\"]], \"sequential\": [[0.0, \"#0d0887\"], [0.1111111111111111, \"#46039f\"], [0.2222222222222222, \"#7201a8\"], [0.3333333333333333, \"#9c179e\"], [0.4444444444444444, \"#bd3786\"], [0.5555555555555556, \"#d8576b\"], [0.6666666666666666, \"#ed7953\"], [0.7777777777777778, \"#fb9f3a\"], [0.8888888888888888, \"#fdca26\"], [1.0, \"#f0f921\"]], \"sequentialminus\": [[0.0, \"#0d0887\"], [0.1111111111111111, \"#46039f\"], [0.2222222222222222, \"#7201a8\"], [0.3333333333333333, \"#9c179e\"], [0.4444444444444444, \"#bd3786\"], [0.5555555555555556, \"#d8576b\"], [0.6666666666666666, \"#ed7953\"], [0.7777777777777778, \"#fb9f3a\"], [0.8888888888888888, \"#fdca26\"], [1.0, \"#f0f921\"]]}, \"colorway\": [\"#636efa\", \"#EF553B\", \"#00cc96\", \"#ab63fa\", \"#FFA15A\", \"#19d3f3\", \"#FF6692\", \"#B6E880\", \"#FF97FF\", \"#FECB52\"], \"font\": {\"color\": \"#2a3f5f\"}, \"geo\": {\"bgcolor\": \"white\", \"lakecolor\": \"white\", \"landcolor\": \"#E5ECF6\", \"showlakes\": true, \"showland\": true, \"subunitcolor\": \"white\"}, \"hoverlabel\": {\"align\": \"left\"}, \"hovermode\": \"closest\", \"mapbox\": {\"style\": \"light\"}, \"paper_bgcolor\": \"white\", \"plot_bgcolor\": \"#E5ECF6\", \"polar\": {\"angularaxis\": {\"gridcolor\": \"white\", \"linecolor\": \"white\", \"ticks\": \"\"}, \"bgcolor\": \"#E5ECF6\", \"radialaxis\": {\"gridcolor\": \"white\", \"linecolor\": \"white\", \"ticks\": \"\"}}, \"scene\": {\"xaxis\": {\"backgroundcolor\": \"#E5ECF6\", \"gridcolor\": \"white\", \"gridwidth\": 2, \"linecolor\": \"white\", \"showbackground\": true, \"ticks\": \"\", \"zerolinecolor\": \"white\"}, \"yaxis\": {\"backgroundcolor\": \"#E5ECF6\", \"gridcolor\": \"white\", \"gridwidth\": 2, \"linecolor\": \"white\", \"showbackground\": true, \"ticks\": \"\", \"zerolinecolor\": \"white\"}, \"zaxis\": {\"backgroundcolor\": \"#E5ECF6\", \"gridcolor\": \"white\", \"gridwidth\": 2, \"linecolor\": \"white\", \"showbackground\": true, \"ticks\": \"\", \"zerolinecolor\": \"white\"}}, \"shapedefaults\": {\"line\": {\"color\": \"#2a3f5f\"}}, \"ternary\": {\"aaxis\": {\"gridcolor\": \"white\", \"linecolor\": \"white\", \"ticks\": \"\"}, \"baxis\": {\"gridcolor\": \"white\", \"linecolor\": \"white\", \"ticks\": \"\"}, \"bgcolor\": \"#E5ECF6\", \"caxis\": {\"gridcolor\": \"white\", \"linecolor\": \"white\", \"ticks\": \"\"}}, \"title\": {\"x\": 0.05}, \"xaxis\": {\"automargin\": true, \"gridcolor\": \"white\", \"linecolor\": \"white\", \"ticks\": \"\", \"title\": {\"standoff\": 15}, \"zerolinecolor\": \"white\", \"zerolinewidth\": 2}, \"yaxis\": {\"automargin\": true, \"gridcolor\": \"white\", \"linecolor\": \"white\", \"ticks\": \"\", \"title\": {\"standoff\": 15}, \"zerolinecolor\": \"white\", \"zerolinewidth\": 2}}}, \"xaxis\": {\"anchor\": \"y\", \"domain\": [0.0, 1.0], \"title\": {\"text\": \"SHORT_DESCR_CAT\"}}, \"yaxis\": {\"anchor\": \"x\", \"domain\": [0.0, 1.0], \"title\": {\"text\": \"QUANTITY\"}}},\n",
              "                        {\"responsive\": true}\n",
              "                    ).then(function(){\n",
              "                            \n",
              "var gd = document.getElementById('65102791-bc41-4b1e-aeae-2d282874f826');\n",
              "var x = new MutationObserver(function (mutations, observer) {{\n",
              "        var display = window.getComputedStyle(gd).display;\n",
              "        if (!display || display === 'none') {{\n",
              "            console.log([gd, 'removed!']);\n",
              "            Plotly.purge(gd);\n",
              "            observer.disconnect();\n",
              "        }}\n",
              "}});\n",
              "\n",
              "// Listen for the removal of the full notebook cells\n",
              "var notebookContainer = gd.closest('#notebook-container');\n",
              "if (notebookContainer) {{\n",
              "    x.observe(notebookContainer, {childList: true});\n",
              "}}\n",
              "\n",
              "// Listen for the clearing of the current output cell\n",
              "var outputEl = gd.closest('.output');\n",
              "if (outputEl) {{\n",
              "    x.observe(outputEl, {childList: true});\n",
              "}}\n",
              "\n",
              "                        })\n",
              "                };\n",
              "                \n",
              "            </script>\n",
              "        </div>\n",
              "</body>\n",
              "</html>"
            ]
          },
          "metadata": {}
        }
      ]
    },
    {
      "cell_type": "markdown",
      "source": [
        "From above bar graph, we observe that racing bikes were in demand, while road bikes were not purchased by many. Also, ebikes and BMX were also sold out in large quantity."
      ],
      "metadata": {
        "id": "-kBEVsBSg-7A"
      }
    },
    {
      "cell_type": "markdown",
      "source": [
        "**When is the best time of the year to sell bikes?** \n",
        "\n",
        "Now, we analyze the trend of the quantity of bikes sold in each month, to find the best time of the year to sell bikes."
      ],
      "metadata": {
        "id": "bunY9nVUJ5mq"
      }
    },
    {
      "cell_type": "code",
      "source": [
        "best_month=sales_all[[\"QUANTITY\",\"CREATEDAT\"]]\n",
        "mon=pd.DatetimeIndex(sales_all[\"CREATEDAT\"]).month\n",
        "res=best_month.groupby(mon).sum().reset_index()\n",
        "res"
      ],
      "metadata": {
        "colab": {
          "base_uri": "https://localhost:8080/",
          "height": 426
        },
        "id": "XkMqyXLLMltv",
        "outputId": "6c8a7384-cebb-4aba-9280-f9e50b9a2572"
      },
      "execution_count": null,
      "outputs": [
        {
          "output_type": "execute_result",
          "data": {
            "text/html": [
              "<div>\n",
              "<style scoped>\n",
              "    .dataframe tbody tr th:only-of-type {\n",
              "        vertical-align: middle;\n",
              "    }\n",
              "\n",
              "    .dataframe tbody tr th {\n",
              "        vertical-align: top;\n",
              "    }\n",
              "\n",
              "    .dataframe thead th {\n",
              "        text-align: right;\n",
              "    }\n",
              "</style>\n",
              "<table border=\"1\" class=\"dataframe\">\n",
              "  <thead>\n",
              "    <tr style=\"text-align: right;\">\n",
              "      <th></th>\n",
              "      <th>CREATEDAT</th>\n",
              "      <th>QUANTITY</th>\n",
              "    </tr>\n",
              "  </thead>\n",
              "  <tbody>\n",
              "    <tr>\n",
              "      <th>0</th>\n",
              "      <td>1</td>\n",
              "      <td>974</td>\n",
              "    </tr>\n",
              "    <tr>\n",
              "      <th>1</th>\n",
              "      <td>2</td>\n",
              "      <td>1264</td>\n",
              "    </tr>\n",
              "    <tr>\n",
              "      <th>2</th>\n",
              "      <td>3</td>\n",
              "      <td>953</td>\n",
              "    </tr>\n",
              "    <tr>\n",
              "      <th>3</th>\n",
              "      <td>4</td>\n",
              "      <td>1198</td>\n",
              "    </tr>\n",
              "    <tr>\n",
              "      <th>4</th>\n",
              "      <td>5</td>\n",
              "      <td>1146</td>\n",
              "    </tr>\n",
              "    <tr>\n",
              "      <th>5</th>\n",
              "      <td>6</td>\n",
              "      <td>1068</td>\n",
              "    </tr>\n",
              "    <tr>\n",
              "      <th>6</th>\n",
              "      <td>7</td>\n",
              "      <td>719</td>\n",
              "    </tr>\n",
              "    <tr>\n",
              "      <th>7</th>\n",
              "      <td>8</td>\n",
              "      <td>472</td>\n",
              "    </tr>\n",
              "    <tr>\n",
              "      <th>8</th>\n",
              "      <td>9</td>\n",
              "      <td>796</td>\n",
              "    </tr>\n",
              "    <tr>\n",
              "      <th>9</th>\n",
              "      <td>10</td>\n",
              "      <td>684</td>\n",
              "    </tr>\n",
              "    <tr>\n",
              "      <th>10</th>\n",
              "      <td>11</td>\n",
              "      <td>778</td>\n",
              "    </tr>\n",
              "    <tr>\n",
              "      <th>11</th>\n",
              "      <td>12</td>\n",
              "      <td>611</td>\n",
              "    </tr>\n",
              "  </tbody>\n",
              "</table>\n",
              "</div>"
            ],
            "text/plain": [
              "    CREATEDAT  QUANTITY\n",
              "0           1       974\n",
              "1           2      1264\n",
              "2           3       953\n",
              "3           4      1198\n",
              "4           5      1146\n",
              "5           6      1068\n",
              "6           7       719\n",
              "7           8       472\n",
              "8           9       796\n",
              "9          10       684\n",
              "10         11       778\n",
              "11         12       611"
            ]
          },
          "metadata": {},
          "execution_count": 133
        }
      ]
    },
    {
      "cell_type": "code",
      "source": [
        "plt.figure(figsize = (12, 10))\n",
        "plt.grid(True)\n",
        "plt.ylabel(\"Quantity\",fontsize=15)\n",
        "plt.xlabel(\"Month\",fontsize=15)\n",
        "plt.xticks([i for i in range(13)])\n",
        "plt.title(\"In which month do we sell the most products?\",fontsize=18)\n",
        "plt.plot(res[\"CREATEDAT\"], res[\"QUANTITY\"],linestyle='dashed',marker='o',color='k')\n",
        "plt.show()"
      ],
      "metadata": {
        "colab": {
          "base_uri": "https://localhost:8080/",
          "height": 630
        },
        "id": "zqPz4IsKM5w3",
        "outputId": "f0441686-9e39-4c6e-ace6-d81acea33884"
      },
      "execution_count": null,
      "outputs": [
        {
          "output_type": "display_data",
          "data": {
            "image/png": "[encoded data removed]",
            "text/plain": [
              "<Figure size 864x720 with 1 Axes>"
            ]
          },
          "metadata": {
            "needs_background": "light"
          }
        }
      ]
    },
    {
      "cell_type": "markdown",
      "source": [
        "We can observe from above plot that February was the best month, when maximum number of bikes were sold out."
      ],
      "metadata": {
        "id": "-9UkI9r1i6sP"
      }
    },
    {
      "cell_type": "markdown",
      "source": [
        "#CORRELATION<a id='correlation'></a>"
      ],
      "metadata": {
        "id": "JQ-5n10ACVeZ"
      }
    },
    {
      "cell_type": "markdown",
      "metadata": {
        "id": "7m04gY7ZLa4y"
      },
      "source": [
        "**Correlation**\n",
        "\n",
        "In our datset, we have both categorical and numerical variables. But to check their correlation, we have two tests: Pearson and Spearmann. For checking correaltion between numerical variables, we use Paerson, while for checkng correlation between numercal and ordinal (categorical), we use Spearmann. So, first we check the type of columns we are interseted in:"
      ]
    },
    {
      "cell_type": "code",
      "source": [
        "col_to_int = ['PRODUCTID',\"PRODCATEGORYID\",\"SALESORG\",\"SUPPLIER_PARTNERID\",\"QUANTITY\",\"GROSSAMOUNT_OVERALL\",\"SALESORDERID\"]\n",
        "Products_sales_master[col_to_int].dtypes"
      ],
      "metadata": {
        "colab": {
          "base_uri": "https://localhost:8080/"
        },
        "id": "VezhkADFxNyU",
        "outputId": "bd413677-5c67-4618-c965-84eb930d01ea"
      },
      "execution_count": null,
      "outputs": [
        {
          "output_type": "execute_result",
          "data": {
            "text/plain": [
              "PRODUCTID               object\n",
              "PRODCATEGORYID          object\n",
              "SALESORG                object\n",
              "SUPPLIER_PARTNERID       int64\n",
              "QUANTITY                 int64\n",
              "GROSSAMOUNT_OVERALL    float64\n",
              "SALESORDERID             int64\n",
              "dtype: object"
            ]
          },
          "metadata": {},
          "execution_count": 135
        }
      ]
    },
    {
      "cell_type": "code",
      "source": [
        "master = Products_sales_master[col_to_int]\n",
        "master.head()\n"
      ],
      "metadata": {
        "id": "r5J9ajF12WKb",
        "colab": {
          "base_uri": "https://localhost:8080/",
          "height": 206
        },
        "outputId": "cbeac9a6-63f7-4b13-8307-9142601191ff"
      },
      "execution_count": null,
      "outputs": [
        {
          "output_type": "execute_result",
          "data": {
            "text/html": [
              "<div>\n",
              "<style scoped>\n",
              "    .dataframe tbody tr th:only-of-type {\n",
              "        vertical-align: middle;\n",
              "    }\n",
              "\n",
              "    .dataframe tbody tr th {\n",
              "        vertical-align: top;\n",
              "    }\n",
              "\n",
              "    .dataframe thead th {\n",
              "        text-align: right;\n",
              "    }\n",
              "</style>\n",
              "<table border=\"1\" class=\"dataframe\">\n",
              "  <thead>\n",
              "    <tr style=\"text-align: right;\">\n",
              "      <th></th>\n",
              "      <th>PRODUCTID</th>\n",
              "      <th>PRODCATEGORYID</th>\n",
              "      <th>SALESORG</th>\n",
              "      <th>SUPPLIER_PARTNERID</th>\n",
              "      <th>QUANTITY</th>\n",
              "      <th>GROSSAMOUNT_OVERALL</th>\n",
              "      <th>SALESORDERID</th>\n",
              "    </tr>\n",
              "  </thead>\n",
              "  <tbody>\n",
              "    <tr>\n",
              "      <th>0</th>\n",
              "      <td>RO-1001</td>\n",
              "      <td>RO</td>\n",
              "      <td>EMEA</td>\n",
              "      <td>100000000</td>\n",
              "      <td>5</td>\n",
              "      <td>6951.0</td>\n",
              "      <td>500000187</td>\n",
              "    </tr>\n",
              "    <tr>\n",
              "      <th>1</th>\n",
              "      <td>RO-1001</td>\n",
              "      <td>RO</td>\n",
              "      <td>EMEA</td>\n",
              "      <td>100000000</td>\n",
              "      <td>3</td>\n",
              "      <td>8266.0</td>\n",
              "      <td>500000257</td>\n",
              "    </tr>\n",
              "    <tr>\n",
              "      <th>2</th>\n",
              "      <td>RO-1001</td>\n",
              "      <td>RO</td>\n",
              "      <td>AMER</td>\n",
              "      <td>100000000</td>\n",
              "      <td>10</td>\n",
              "      <td>21695.0</td>\n",
              "      <td>500000086</td>\n",
              "    </tr>\n",
              "    <tr>\n",
              "      <th>3</th>\n",
              "      <td>RO-1001</td>\n",
              "      <td>RO</td>\n",
              "      <td>APJ</td>\n",
              "      <td>100000000</td>\n",
              "      <td>6</td>\n",
              "      <td>21862.0</td>\n",
              "      <td>500000143</td>\n",
              "    </tr>\n",
              "    <tr>\n",
              "      <th>4</th>\n",
              "      <td>RO-1001</td>\n",
              "      <td>RO</td>\n",
              "      <td>AMER</td>\n",
              "      <td>100000000</td>\n",
              "      <td>5</td>\n",
              "      <td>27515.0</td>\n",
              "      <td>500000019</td>\n",
              "    </tr>\n",
              "  </tbody>\n",
              "</table>\n",
              "</div>"
            ],
            "text/plain": [
              "  PRODUCTID PRODCATEGORYID  ... GROSSAMOUNT_OVERALL  SALESORDERID\n",
              "0   RO-1001             RO  ...              6951.0     500000187\n",
              "1   RO-1001             RO  ...              8266.0     500000257\n",
              "2   RO-1001             RO  ...             21695.0     500000086\n",
              "3   RO-1001             RO  ...             21862.0     500000143\n",
              "4   RO-1001             RO  ...             27515.0     500000019\n",
              "\n",
              "[5 rows x 7 columns]"
            ]
          },
          "metadata": {},
          "execution_count": 136
        }
      ]
    },
    {
      "cell_type": "markdown",
      "source": [
        "Now, we convert 3 categorical variables 'PRODUCTID', \"PRODCATEGORYID\", \"SALESORG\" into ordinal by using the following code:"
      ],
      "metadata": {
        "id": "-iDlW9-x6ghG"
      }
    },
    {
      "cell_type": "code",
      "source": [
        "pdt_id = pd.unique(Products_master['PRODUCTID'].values.ravel()).tolist()\n",
        "len(pdt_id)\n",
        "pdt_dict = {}\n",
        "count = 0\n",
        "for i in pdt_id:\n",
        "  count = count+1\n",
        "  pdt_dict[i]= count\n",
        "pdt_dict\n"
      ],
      "metadata": {
        "id": "xKeiUe4X5vq3",
        "colab": {
          "base_uri": "https://localhost:8080/"
        },
        "outputId": "a9ace012-badc-4469-b43d-f12d73d42a1e"
      },
      "execution_count": null,
      "outputs": [
        {
          "output_type": "execute_result",
          "data": {
            "text/plain": [
              "{'BX-1011': 4,\n",
              " 'BX-1012': 5,\n",
              " 'BX-1013': 6,\n",
              " 'BX-1014': 7,\n",
              " 'BX-1015': 8,\n",
              " 'BX-1016': 9,\n",
              " 'CB-1161': 34,\n",
              " 'CB-1162': 35,\n",
              " 'CB-1163': 36,\n",
              " 'CC-1021': 10,\n",
              " 'CC-1022': 11,\n",
              " 'CC-1023': 12,\n",
              " 'DB-1081': 24,\n",
              " 'DB-1082': 25,\n",
              " 'DB-1083': 26,\n",
              " 'EB-1131': 27,\n",
              " 'EB-1132': 28,\n",
              " 'EB-1133': 29,\n",
              " 'EB-1134': 30,\n",
              " 'EB-1135': 31,\n",
              " 'EB-1136': 32,\n",
              " 'EB-1137': 33,\n",
              " 'HB-1171': 37,\n",
              " 'HB-1172': 38,\n",
              " 'HB-1173': 39,\n",
              " 'HB-1174': 40,\n",
              " 'HB-1175': 41,\n",
              " 'HB-1176': 42,\n",
              " 'MB-1031': 13,\n",
              " 'MB-1032': 14,\n",
              " 'MB-1033': 15,\n",
              " 'MB-1034': 16,\n",
              " 'RC-1051': 17,\n",
              " 'RC-1052': 18,\n",
              " 'RC-1053': 19,\n",
              " 'RC-1054': 20,\n",
              " 'RC-1055': 21,\n",
              " 'RC-1056': 22,\n",
              " 'RC-1057': 23,\n",
              " 'RO-1001': 1,\n",
              " 'RO-1002': 2,\n",
              " 'RO-1003': 3}"
            ]
          },
          "metadata": {},
          "execution_count": 137
        }
      ]
    },
    {
      "cell_type": "code",
      "source": [
        "cat_id = pd.unique(Products_sales_master['PRODCATEGORYID'].values.ravel()).tolist()\n",
        "len(cat_id)\n",
        "cat_dict = {}\n",
        "count = 0\n",
        "for i in cat_id:\n",
        "  count = count+1\n",
        "  cat_dict[i]= count\n",
        "cat_dict"
      ],
      "metadata": {
        "id": "oGshD7k-9XwS",
        "colab": {
          "base_uri": "https://localhost:8080/"
        },
        "outputId": "9e93b813-1394-4c38-e0a2-7c00b0d9e108"
      },
      "execution_count": null,
      "outputs": [
        {
          "output_type": "execute_result",
          "data": {
            "text/plain": [
              "{'BX': 2,\n",
              " 'CB': 8,\n",
              " 'CC': 3,\n",
              " 'DB': 6,\n",
              " 'EB': 7,\n",
              " 'HB': 9,\n",
              " 'MB': 4,\n",
              " 'RC': 5,\n",
              " 'RO': 1}"
            ]
          },
          "metadata": {},
          "execution_count": 138
        }
      ]
    },
    {
      "cell_type": "code",
      "source": [
        "org_id = pd.unique(Products_sales_master['SALESORG'].values.ravel()).tolist()\n",
        "len(org_id)\n",
        "org_dict = {}\n",
        "count = 0\n",
        "for i in org_id:\n",
        "  count = count+1\n",
        "  org_dict[i]= count\n",
        "org_dict"
      ],
      "metadata": {
        "id": "RDtm_NuV93Lv",
        "colab": {
          "base_uri": "https://localhost:8080/"
        },
        "outputId": "2caf9d6d-e0e6-4858-9287-934eb732fe16"
      },
      "execution_count": null,
      "outputs": [
        {
          "output_type": "execute_result",
          "data": {
            "text/plain": [
              "{'AMER': 2, 'APJ': 3, 'EMEA': 1}"
            ]
          },
          "metadata": {},
          "execution_count": 139
        }
      ]
    },
    {
      "cell_type": "code",
      "source": [
        "Products_sales_master['PRODUCTID'] = Products_sales_master['PRODUCTID'].replace(pdt_dict)\n",
        "Products_sales_master['PRODCATEGORYID'] = Products_sales_master['PRODCATEGORYID'].replace(cat_dict)\n",
        "Products_sales_master['SALESORG'] = Products_sales_master['SALESORG'].replace(org_dict)\n",
        "\n",
        "Products_sales_master.head()"
      ],
      "metadata": {
        "id": "DwKhOGHt9P5A",
        "colab": {
          "base_uri": "https://localhost:8080/",
          "height": 313
        },
        "outputId": "538437ef-d60c-4df9-cf4d-596ad1e88c8a"
      },
      "execution_count": null,
      "outputs": [
        {
          "output_type": "execute_result",
          "data": {
            "text/html": [
              "<div>\n",
              "<style scoped>\n",
              "    .dataframe tbody tr th:only-of-type {\n",
              "        vertical-align: middle;\n",
              "    }\n",
              "\n",
              "    .dataframe tbody tr th {\n",
              "        vertical-align: top;\n",
              "    }\n",
              "\n",
              "    .dataframe thead th {\n",
              "        text-align: right;\n",
              "    }\n",
              "</style>\n",
              "<table border=\"1\" class=\"dataframe\">\n",
              "  <thead>\n",
              "    <tr style=\"text-align: right;\">\n",
              "      <th></th>\n",
              "      <th>PRODUCTID</th>\n",
              "      <th>TYPECODE</th>\n",
              "      <th>PRODCATEGORYID</th>\n",
              "      <th>CREATEDBY_PDT</th>\n",
              "      <th>CREATEDAT_PDT</th>\n",
              "      <th>CHANGEDBY_x</th>\n",
              "      <th>CHANGEDAT_x</th>\n",
              "      <th>SUPPLIER_PARTNERID</th>\n",
              "      <th>QUANTITYUNIT_x</th>\n",
              "      <th>WEIGHTMEASURE</th>\n",
              "      <th>CURRENCY</th>\n",
              "      <th>PRICE</th>\n",
              "      <th>LANGUAGE_PDT</th>\n",
              "      <th>SHORT_DESCR_PDT</th>\n",
              "      <th>CREATEDBY_CAT</th>\n",
              "      <th>SHORT_DESCR_CAT</th>\n",
              "      <th>SALESORDERID</th>\n",
              "      <th>CREATEDBY</th>\n",
              "      <th>CREATEDAT</th>\n",
              "      <th>CHANGEDBY_y</th>\n",
              "      <th>CHANGEDAT_y</th>\n",
              "      <th>PARTNERID</th>\n",
              "      <th>SALESORG</th>\n",
              "      <th>CURRENCY_OVERALL</th>\n",
              "      <th>GROSSAMOUNT_OVERALL</th>\n",
              "      <th>NETAMOUNT_OVERALL</th>\n",
              "      <th>TAXAMOUNT_OVERALL</th>\n",
              "      <th>SALESORDERITEM</th>\n",
              "      <th>CURRENCY_IND</th>\n",
              "      <th>GROSSAMOUNT_IND</th>\n",
              "      <th>NETAMOUNT_IND</th>\n",
              "      <th>TAXAMOUNT_IND</th>\n",
              "      <th>ITEMATPSTATUS</th>\n",
              "      <th>QUANTITY</th>\n",
              "      <th>QUANTITYUNIT_y</th>\n",
              "      <th>DELIVERYDATE</th>\n",
              "    </tr>\n",
              "  </thead>\n",
              "  <tbody>\n",
              "    <tr>\n",
              "      <th>0</th>\n",
              "      <td>1</td>\n",
              "      <td>PR</td>\n",
              "      <td>1</td>\n",
              "      <td>9</td>\n",
              "      <td>2018-10-03</td>\n",
              "      <td>9</td>\n",
              "      <td>2018-10-03</td>\n",
              "      <td>100000000</td>\n",
              "      <td>EA</td>\n",
              "      <td>7.7</td>\n",
              "      <td>USD</td>\n",
              "      <td>525</td>\n",
              "      <td>EN</td>\n",
              "      <td>Roady 1001</td>\n",
              "      <td>12</td>\n",
              "      <td>Road Bike</td>\n",
              "      <td>500000187</td>\n",
              "      <td>3</td>\n",
              "      <td>2018-11-02</td>\n",
              "      <td>3</td>\n",
              "      <td>2018-11-07</td>\n",
              "      <td>100000008</td>\n",
              "      <td>1</td>\n",
              "      <td>USD</td>\n",
              "      <td>6951.0</td>\n",
              "      <td>6082.125</td>\n",
              "      <td>868.875</td>\n",
              "      <td>20</td>\n",
              "      <td>USD</td>\n",
              "      <td>525.0</td>\n",
              "      <td>459.375</td>\n",
              "      <td>65.625</td>\n",
              "      <td>I</td>\n",
              "      <td>5</td>\n",
              "      <td>EA</td>\n",
              "      <td>1970-01-01 00:00:00.020190102</td>\n",
              "    </tr>\n",
              "    <tr>\n",
              "      <th>1</th>\n",
              "      <td>1</td>\n",
              "      <td>PR</td>\n",
              "      <td>1</td>\n",
              "      <td>9</td>\n",
              "      <td>2018-10-03</td>\n",
              "      <td>9</td>\n",
              "      <td>2018-10-03</td>\n",
              "      <td>100000000</td>\n",
              "      <td>EA</td>\n",
              "      <td>7.7</td>\n",
              "      <td>USD</td>\n",
              "      <td>525</td>\n",
              "      <td>EN</td>\n",
              "      <td>Roady 1001</td>\n",
              "      <td>12</td>\n",
              "      <td>Road Bike</td>\n",
              "      <td>500000257</td>\n",
              "      <td>8</td>\n",
              "      <td>2019-02-10</td>\n",
              "      <td>8</td>\n",
              "      <td>2019-02-11</td>\n",
              "      <td>100000035</td>\n",
              "      <td>1</td>\n",
              "      <td>USD</td>\n",
              "      <td>8266.0</td>\n",
              "      <td>7232.750</td>\n",
              "      <td>1033.250</td>\n",
              "      <td>10</td>\n",
              "      <td>USD</td>\n",
              "      <td>525.0</td>\n",
              "      <td>459.375</td>\n",
              "      <td>65.625</td>\n",
              "      <td>I</td>\n",
              "      <td>3</td>\n",
              "      <td>EA</td>\n",
              "      <td>1970-01-01 00:00:00.020190315</td>\n",
              "    </tr>\n",
              "    <tr>\n",
              "      <th>2</th>\n",
              "      <td>1</td>\n",
              "      <td>PR</td>\n",
              "      <td>1</td>\n",
              "      <td>9</td>\n",
              "      <td>2018-10-03</td>\n",
              "      <td>9</td>\n",
              "      <td>2018-10-03</td>\n",
              "      <td>100000000</td>\n",
              "      <td>EA</td>\n",
              "      <td>7.7</td>\n",
              "      <td>USD</td>\n",
              "      <td>525</td>\n",
              "      <td>EN</td>\n",
              "      <td>Roady 1001</td>\n",
              "      <td>12</td>\n",
              "      <td>Road Bike</td>\n",
              "      <td>500000086</td>\n",
              "      <td>14</td>\n",
              "      <td>2018-05-23</td>\n",
              "      <td>14</td>\n",
              "      <td>2018-05-24</td>\n",
              "      <td>100000004</td>\n",
              "      <td>2</td>\n",
              "      <td>USD</td>\n",
              "      <td>21695.0</td>\n",
              "      <td>18983.125</td>\n",
              "      <td>2711.875</td>\n",
              "      <td>20</td>\n",
              "      <td>USD</td>\n",
              "      <td>525.0</td>\n",
              "      <td>459.375</td>\n",
              "      <td>65.625</td>\n",
              "      <td>I</td>\n",
              "      <td>10</td>\n",
              "      <td>EA</td>\n",
              "      <td>1970-01-01 00:00:00.020180715</td>\n",
              "    </tr>\n",
              "    <tr>\n",
              "      <th>3</th>\n",
              "      <td>1</td>\n",
              "      <td>PR</td>\n",
              "      <td>1</td>\n",
              "      <td>9</td>\n",
              "      <td>2018-10-03</td>\n",
              "      <td>9</td>\n",
              "      <td>2018-10-03</td>\n",
              "      <td>100000000</td>\n",
              "      <td>EA</td>\n",
              "      <td>7.7</td>\n",
              "      <td>USD</td>\n",
              "      <td>525</td>\n",
              "      <td>EN</td>\n",
              "      <td>Roady 1001</td>\n",
              "      <td>12</td>\n",
              "      <td>Road Bike</td>\n",
              "      <td>500000143</td>\n",
              "      <td>5</td>\n",
              "      <td>2018-08-29</td>\n",
              "      <td>5</td>\n",
              "      <td>2018-09-01</td>\n",
              "      <td>100000020</td>\n",
              "      <td>3</td>\n",
              "      <td>USD</td>\n",
              "      <td>21862.0</td>\n",
              "      <td>19129.250</td>\n",
              "      <td>2732.750</td>\n",
              "      <td>10</td>\n",
              "      <td>USD</td>\n",
              "      <td>525.0</td>\n",
              "      <td>459.375</td>\n",
              "      <td>65.625</td>\n",
              "      <td>I</td>\n",
              "      <td>6</td>\n",
              "      <td>EA</td>\n",
              "      <td>1970-01-01 00:00:00.020181103</td>\n",
              "    </tr>\n",
              "    <tr>\n",
              "      <th>4</th>\n",
              "      <td>1</td>\n",
              "      <td>PR</td>\n",
              "      <td>1</td>\n",
              "      <td>9</td>\n",
              "      <td>2018-10-03</td>\n",
              "      <td>9</td>\n",
              "      <td>2018-10-03</td>\n",
              "      <td>100000000</td>\n",
              "      <td>EA</td>\n",
              "      <td>7.7</td>\n",
              "      <td>USD</td>\n",
              "      <td>525</td>\n",
              "      <td>EN</td>\n",
              "      <td>Roady 1001</td>\n",
              "      <td>12</td>\n",
              "      <td>Road Bike</td>\n",
              "      <td>500000019</td>\n",
              "      <td>12</td>\n",
              "      <td>2018-02-07</td>\n",
              "      <td>12</td>\n",
              "      <td>2018-02-10</td>\n",
              "      <td>100000034</td>\n",
              "      <td>2</td>\n",
              "      <td>USD</td>\n",
              "      <td>27515.0</td>\n",
              "      <td>24075.625</td>\n",
              "      <td>3439.375</td>\n",
              "      <td>20</td>\n",
              "      <td>USD</td>\n",
              "      <td>525.0</td>\n",
              "      <td>459.375</td>\n",
              "      <td>65.625</td>\n",
              "      <td>I</td>\n",
              "      <td>5</td>\n",
              "      <td>EA</td>\n",
              "      <td>1970-01-01 00:00:00.020180401</td>\n",
              "    </tr>\n",
              "  </tbody>\n",
              "</table>\n",
              "</div>"
            ],
            "text/plain": [
              "   PRODUCTID TYPECODE  ...  QUANTITYUNIT_y                  DELIVERYDATE\n",
              "0          1       PR  ...              EA 1970-01-01 00:00:00.020190102\n",
              "1          1       PR  ...              EA 1970-01-01 00:00:00.020190315\n",
              "2          1       PR  ...              EA 1970-01-01 00:00:00.020180715\n",
              "3          1       PR  ...              EA 1970-01-01 00:00:00.020181103\n",
              "4          1       PR  ...              EA 1970-01-01 00:00:00.020180401\n",
              "\n",
              "[5 rows x 36 columns]"
            ]
          },
          "metadata": {},
          "execution_count": 140
        }
      ]
    },
    {
      "cell_type": "markdown",
      "source": [
        "After converting numerical into ordinal, we run spaermann test to check correlation between following variables:"
      ],
      "metadata": {
        "id": "V9w3Rgji61uC"
      }
    },
    {
      "cell_type": "code",
      "metadata": {
        "id": "ipZrDQ_REO9q",
        "colab": {
          "base_uri": "https://localhost:8080/",
          "height": 175
        },
        "outputId": "0c8440e5-b16f-4d7a-d075-2e6497b197b9"
      },
      "source": [
        "For_Corr_spear=Products_sales_master[['PRODUCTID',\"PRODCATEGORYID\",\"SALESORG\",\"GROSSAMOUNT_OVERALL\"]]\n",
        "corr_spear=For_Corr_spear.corr(method=\"spearman\")\n",
        "corr_spear.style.background_gradient(cmap='coolwarm')\n"
      ],
      "execution_count": null,
      "outputs": [
        {
          "output_type": "execute_result",
          "data": {
            "text/html": [
              "<style  type=\"text/css\" >\n",
              "#T_6cbc6c84_58b3_11ec_a6d4_0242ac1c0002row0_col0,#T_6cbc6c84_58b3_11ec_a6d4_0242ac1c0002row1_col1,#T_6cbc6c84_58b3_11ec_a6d4_0242ac1c0002row2_col2,#T_6cbc6c84_58b3_11ec_a6d4_0242ac1c0002row3_col3{\n",
              "            background-color:  #b40426;\n",
              "            color:  #f1f1f1;\n",
              "        }#T_6cbc6c84_58b3_11ec_a6d4_0242ac1c0002row0_col1,#T_6cbc6c84_58b3_11ec_a6d4_0242ac1c0002row1_col0{\n",
              "            background-color:  #b70d28;\n",
              "            color:  #f1f1f1;\n",
              "        }#T_6cbc6c84_58b3_11ec_a6d4_0242ac1c0002row0_col2,#T_6cbc6c84_58b3_11ec_a6d4_0242ac1c0002row1_col2,#T_6cbc6c84_58b3_11ec_a6d4_0242ac1c0002row1_col3,#T_6cbc6c84_58b3_11ec_a6d4_0242ac1c0002row2_col0,#T_6cbc6c84_58b3_11ec_a6d4_0242ac1c0002row2_col1{\n",
              "            background-color:  #3b4cc0;\n",
              "            color:  #f1f1f1;\n",
              "        }#T_6cbc6c84_58b3_11ec_a6d4_0242ac1c0002row0_col3{\n",
              "            background-color:  #3c4ec2;\n",
              "            color:  #f1f1f1;\n",
              "        }#T_6cbc6c84_58b3_11ec_a6d4_0242ac1c0002row2_col3,#T_6cbc6c84_58b3_11ec_a6d4_0242ac1c0002row3_col1{\n",
              "            background-color:  #4055c8;\n",
              "            color:  #f1f1f1;\n",
              "        }#T_6cbc6c84_58b3_11ec_a6d4_0242ac1c0002row3_col0{\n",
              "            background-color:  #4257c9;\n",
              "            color:  #f1f1f1;\n",
              "        }#T_6cbc6c84_58b3_11ec_a6d4_0242ac1c0002row3_col2{\n",
              "            background-color:  #485fd1;\n",
              "            color:  #f1f1f1;\n",
              "        }</style><table id=\"T_6cbc6c84_58b3_11ec_a6d4_0242ac1c0002\" class=\"dataframe\"><thead>    <tr>        <th class=\"blank level0\" ></th>        <th class=\"col_heading level0 col0\" >PRODUCTID</th>        <th class=\"col_heading level0 col1\" >PRODCATEGORYID</th>        <th class=\"col_heading level0 col2\" >SALESORG</th>        <th class=\"col_heading level0 col3\" >GROSSAMOUNT_OVERALL</th>    </tr></thead><tbody>\n",
              "                <tr>\n",
              "                        <th id=\"T_6cbc6c84_58b3_11ec_a6d4_0242ac1c0002level0_row0\" class=\"row_heading level0 row0\" >PRODUCTID</th>\n",
              "                        <td id=\"T_6cbc6c84_58b3_11ec_a6d4_0242ac1c0002row0_col0\" class=\"data row0 col0\" >1.000000</td>\n",
              "                        <td id=\"T_6cbc6c84_58b3_11ec_a6d4_0242ac1c0002row0_col1\" class=\"data row0 col1\" >0.990447</td>\n",
              "                        <td id=\"T_6cbc6c84_58b3_11ec_a6d4_0242ac1c0002row0_col2\" class=\"data row0 col2\" >0.016094</td>\n",
              "                        <td id=\"T_6cbc6c84_58b3_11ec_a6d4_0242ac1c0002row0_col3\" class=\"data row0 col3\" >0.041084</td>\n",
              "            </tr>\n",
              "            <tr>\n",
              "                        <th id=\"T_6cbc6c84_58b3_11ec_a6d4_0242ac1c0002level0_row1\" class=\"row_heading level0 row1\" >PRODCATEGORYID</th>\n",
              "                        <td id=\"T_6cbc6c84_58b3_11ec_a6d4_0242ac1c0002row1_col0\" class=\"data row1 col0\" >0.990447</td>\n",
              "                        <td id=\"T_6cbc6c84_58b3_11ec_a6d4_0242ac1c0002row1_col1\" class=\"data row1 col1\" >1.000000</td>\n",
              "                        <td id=\"T_6cbc6c84_58b3_11ec_a6d4_0242ac1c0002row1_col2\" class=\"data row1 col2\" >0.013921</td>\n",
              "                        <td id=\"T_6cbc6c84_58b3_11ec_a6d4_0242ac1c0002row1_col3\" class=\"data row1 col3\" >0.033986</td>\n",
              "            </tr>\n",
              "            <tr>\n",
              "                        <th id=\"T_6cbc6c84_58b3_11ec_a6d4_0242ac1c0002level0_row2\" class=\"row_heading level0 row2\" >SALESORG</th>\n",
              "                        <td id=\"T_6cbc6c84_58b3_11ec_a6d4_0242ac1c0002row2_col0\" class=\"data row2 col0\" >0.016094</td>\n",
              "                        <td id=\"T_6cbc6c84_58b3_11ec_a6d4_0242ac1c0002row2_col1\" class=\"data row2 col1\" >0.013921</td>\n",
              "                        <td id=\"T_6cbc6c84_58b3_11ec_a6d4_0242ac1c0002row2_col2\" class=\"data row2 col2\" >1.000000</td>\n",
              "                        <td id=\"T_6cbc6c84_58b3_11ec_a6d4_0242ac1c0002row2_col3\" class=\"data row2 col3\" >0.056293</td>\n",
              "            </tr>\n",
              "            <tr>\n",
              "                        <th id=\"T_6cbc6c84_58b3_11ec_a6d4_0242ac1c0002level0_row3\" class=\"row_heading level0 row3\" >GROSSAMOUNT_OVERALL</th>\n",
              "                        <td id=\"T_6cbc6c84_58b3_11ec_a6d4_0242ac1c0002row3_col0\" class=\"data row3 col0\" >0.041084</td>\n",
              "                        <td id=\"T_6cbc6c84_58b3_11ec_a6d4_0242ac1c0002row3_col1\" class=\"data row3 col1\" >0.033986</td>\n",
              "                        <td id=\"T_6cbc6c84_58b3_11ec_a6d4_0242ac1c0002row3_col2\" class=\"data row3 col2\" >0.056293</td>\n",
              "                        <td id=\"T_6cbc6c84_58b3_11ec_a6d4_0242ac1c0002row3_col3\" class=\"data row3 col3\" >1.000000</td>\n",
              "            </tr>\n",
              "    </tbody></table>"
            ],
            "text/plain": [
              "<pandas.io.formats.style.Styler at 0x7fd27e911f50>"
            ]
          },
          "metadata": {},
          "execution_count": 141
        }
      ]
    },
    {
      "cell_type": "markdown",
      "source": [
        "From above heatmap, we can see that product id and product category id has strong positive linear relation. It is because product id involves the models and categories of bikes and product category id involves the bikes categories.Except that, we did not find any particular relation between variables."
      ],
      "metadata": {
        "id": "POjmq0Iz7Afb"
      }
    },
    {
      "cell_type": "markdown",
      "source": [
        "Now, we run pearson test to check correlation between numerical variables:"
      ],
      "metadata": {
        "id": "lg8svU1P7hZz"
      }
    },
    {
      "cell_type": "code",
      "source": [
        "For_Corr_pearson=Products_sales_master[[\"SUPPLIER_PARTNERID\",\"QUANTITY\",\"GROSSAMOUNT_OVERALL\",\"SALESORDERID\"]]\n",
        "corr_pearson=For_Corr_pearson.corr(method=\"pearson\")\n",
        "corr_pearson.style.background_gradient(cmap='coolwarm')"
      ],
      "metadata": {
        "colab": {
          "base_uri": "https://localhost:8080/",
          "height": 175
        },
        "id": "MASdjUxV4rGZ",
        "outputId": "9da23061-621f-401e-c58f-2e6ef3574476"
      },
      "execution_count": null,
      "outputs": [
        {
          "output_type": "execute_result",
          "data": {
            "text/html": [
              "<style  type=\"text/css\" >\n",
              "#T_6cc12ae4_58b3_11ec_a6d4_0242ac1c0002row0_col0,#T_6cc12ae4_58b3_11ec_a6d4_0242ac1c0002row1_col1,#T_6cc12ae4_58b3_11ec_a6d4_0242ac1c0002row2_col2,#T_6cc12ae4_58b3_11ec_a6d4_0242ac1c0002row3_col3{\n",
              "            background-color:  #b40426;\n",
              "            color:  #f1f1f1;\n",
              "        }#T_6cc12ae4_58b3_11ec_a6d4_0242ac1c0002row0_col1,#T_6cc12ae4_58b3_11ec_a6d4_0242ac1c0002row0_col2,#T_6cc12ae4_58b3_11ec_a6d4_0242ac1c0002row0_col3,#T_6cc12ae4_58b3_11ec_a6d4_0242ac1c0002row3_col0{\n",
              "            background-color:  #3b4cc0;\n",
              "            color:  #f1f1f1;\n",
              "        }#T_6cc12ae4_58b3_11ec_a6d4_0242ac1c0002row1_col0{\n",
              "            background-color:  #3c4ec2;\n",
              "            color:  #f1f1f1;\n",
              "        }#T_6cc12ae4_58b3_11ec_a6d4_0242ac1c0002row1_col2{\n",
              "            background-color:  #516ddb;\n",
              "            color:  #000000;\n",
              "        }#T_6cc12ae4_58b3_11ec_a6d4_0242ac1c0002row1_col3{\n",
              "            background-color:  #455cce;\n",
              "            color:  #f1f1f1;\n",
              "        }#T_6cc12ae4_58b3_11ec_a6d4_0242ac1c0002row2_col0{\n",
              "            background-color:  #4c66d6;\n",
              "            color:  #000000;\n",
              "        }#T_6cc12ae4_58b3_11ec_a6d4_0242ac1c0002row2_col1{\n",
              "            background-color:  #6282ea;\n",
              "            color:  #000000;\n",
              "        }#T_6cc12ae4_58b3_11ec_a6d4_0242ac1c0002row2_col3{\n",
              "            background-color:  #6b8df0;\n",
              "            color:  #000000;\n",
              "        }#T_6cc12ae4_58b3_11ec_a6d4_0242ac1c0002row3_col1{\n",
              "            background-color:  #445acc;\n",
              "            color:  #f1f1f1;\n",
              "        }#T_6cc12ae4_58b3_11ec_a6d4_0242ac1c0002row3_col2{\n",
              "            background-color:  #5977e3;\n",
              "            color:  #000000;\n",
              "        }</style><table id=\"T_6cc12ae4_58b3_11ec_a6d4_0242ac1c0002\" class=\"dataframe\"><thead>    <tr>        <th class=\"blank level0\" ></th>        <th class=\"col_heading level0 col0\" >SUPPLIER_PARTNERID</th>        <th class=\"col_heading level0 col1\" >QUANTITY</th>        <th class=\"col_heading level0 col2\" >GROSSAMOUNT_OVERALL</th>        <th class=\"col_heading level0 col3\" >SALESORDERID</th>    </tr></thead><tbody>\n",
              "                <tr>\n",
              "                        <th id=\"T_6cc12ae4_58b3_11ec_a6d4_0242ac1c0002level0_row0\" class=\"row_heading level0 row0\" >SUPPLIER_PARTNERID</th>\n",
              "                        <td id=\"T_6cc12ae4_58b3_11ec_a6d4_0242ac1c0002row0_col0\" class=\"data row0 col0\" >1.000000</td>\n",
              "                        <td id=\"T_6cc12ae4_58b3_11ec_a6d4_0242ac1c0002row0_col1\" class=\"data row0 col1\" >-0.012089</td>\n",
              "                        <td id=\"T_6cc12ae4_58b3_11ec_a6d4_0242ac1c0002row0_col2\" class=\"data row0 col2\" >0.043357</td>\n",
              "                        <td id=\"T_6cc12ae4_58b3_11ec_a6d4_0242ac1c0002row0_col3\" class=\"data row0 col3\" >-0.017359</td>\n",
              "            </tr>\n",
              "            <tr>\n",
              "                        <th id=\"T_6cc12ae4_58b3_11ec_a6d4_0242ac1c0002level0_row1\" class=\"row_heading level0 row1\" >QUANTITY</th>\n",
              "                        <td id=\"T_6cc12ae4_58b3_11ec_a6d4_0242ac1c0002row1_col0\" class=\"data row1 col0\" >-0.012089</td>\n",
              "                        <td id=\"T_6cc12ae4_58b3_11ec_a6d4_0242ac1c0002row1_col1\" class=\"data row1 col1\" >1.000000</td>\n",
              "                        <td id=\"T_6cc12ae4_58b3_11ec_a6d4_0242ac1c0002row1_col2\" class=\"data row1 col2\" >0.115095</td>\n",
              "                        <td id=\"T_6cc12ae4_58b3_11ec_a6d4_0242ac1c0002row1_col3\" class=\"data row1 col3\" >0.020182</td>\n",
              "            </tr>\n",
              "            <tr>\n",
              "                        <th id=\"T_6cc12ae4_58b3_11ec_a6d4_0242ac1c0002level0_row2\" class=\"row_heading level0 row2\" >GROSSAMOUNT_OVERALL</th>\n",
              "                        <td id=\"T_6cc12ae4_58b3_11ec_a6d4_0242ac1c0002row2_col0\" class=\"data row2 col0\" >0.043357</td>\n",
              "                        <td id=\"T_6cc12ae4_58b3_11ec_a6d4_0242ac1c0002row2_col1\" class=\"data row2 col1\" >0.115095</td>\n",
              "                        <td id=\"T_6cc12ae4_58b3_11ec_a6d4_0242ac1c0002row2_col2\" class=\"data row2 col2\" >1.000000</td>\n",
              "                        <td id=\"T_6cc12ae4_58b3_11ec_a6d4_0242ac1c0002row2_col3\" class=\"data row2 col3\" >0.139779</td>\n",
              "            </tr>\n",
              "            <tr>\n",
              "                        <th id=\"T_6cc12ae4_58b3_11ec_a6d4_0242ac1c0002level0_row3\" class=\"row_heading level0 row3\" >SALESORDERID</th>\n",
              "                        <td id=\"T_6cc12ae4_58b3_11ec_a6d4_0242ac1c0002row3_col0\" class=\"data row3 col0\" >-0.017359</td>\n",
              "                        <td id=\"T_6cc12ae4_58b3_11ec_a6d4_0242ac1c0002row3_col1\" class=\"data row3 col1\" >0.020182</td>\n",
              "                        <td id=\"T_6cc12ae4_58b3_11ec_a6d4_0242ac1c0002row3_col2\" class=\"data row3 col2\" >0.139779</td>\n",
              "                        <td id=\"T_6cc12ae4_58b3_11ec_a6d4_0242ac1c0002row3_col3\" class=\"data row3 col3\" >1.000000</td>\n",
              "            </tr>\n",
              "    </tbody></table>"
            ],
            "text/plain": [
              "<pandas.io.formats.style.Styler at 0x7fd288b24990>"
            ]
          },
          "metadata": {},
          "execution_count": 142
        }
      ]
    },
    {
      "cell_type": "markdown",
      "source": [
        "From above heatmap, we found that 'SALESORDERID' and 'GROSSAMOUNT_OVERALL' has weak positive correlation. "
      ],
      "metadata": {
        "id": "3jAKAJcT7yxi"
      }
    },
    {
      "cell_type": "markdown",
      "source": [
        "# Summary<a id='summary'></a>"
      ],
      "metadata": {
        "id": "Vne_6dLRzE90"
      }
    },
    {
      "cell_type": "markdown",
      "source": [
        "* From our analysis, we have 3 sales organizations: AMER, APJ and EMEA. Among them, maximum sales (43.5%) has been done by EMEA, while APJ and AMER has contributed 28.7% and 27.7% in sales respectively.\n",
        "* Among all product categories, racing bikes were the most liked and sold one. While, ebikes and BMX places second and third position respectively. So, organization should focus on advertising other category of bikes, which are less sold and provide offers on it.\n",
        "* Among all racing bikes' products, RC-1055 (Racing bike- Veloflash) has been sold the most. Organization should showcase their star product to attract buyers.\n",
        "* Maximum number of bikes were sold in the month of February with more than 1250 products being sold out. While, in August, less than 500 bikes were sold. So, company can provide some discounts during those months when sale is less.\n",
        "* Kenneth Weise, Kirk Lee, and Ellis Robertson were the 3 top employees who contributed the most in the sales of products. To boost the performance of other employees, organization can provide some certificates, gifts or trophies to the top 3 employees.\n"
      ],
      "metadata": {
        "id": "ab9RgjtUNpeY"
      }
    },
    {
      "cell_type": "code",
      "source": [],
      "metadata": {
        "id": "mnOj3B2GXxp-"
      },
      "execution_count": null,
      "outputs": []
    }
  ]
}